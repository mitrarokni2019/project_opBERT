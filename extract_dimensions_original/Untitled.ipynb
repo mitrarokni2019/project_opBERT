{
 "cells": [
  {
   "cell_type": "code",
   "execution_count": 1,
   "id": "5c9f9927",
   "metadata": {},
   "outputs": [
    {
     "name": "stderr",
     "output_type": "stream",
     "text": [
      "[nltk_data] Downloading package punkt to\n",
      "[nltk_data]     C:\\Users\\mitra\\AppData\\Roaming\\nltk_data...\n",
      "[nltk_data]   Package punkt is already up-to-date!\n"
     ]
    },
    {
     "name": "stdout",
     "output_type": "stream",
     "text": [
      "Loaded word embeddings from ./embeddings\\glove/glove.42B.300d.wv!\n",
      "Vocab size: 1917494\n",
      "Loaded word embeddings from ./embeddings\\word2vec/GoogleNews-vectors-negative300.wv!\n",
      "Vocab size: 3000000\n",
      "Loaded word embeddings from ./embeddings\\fasttext/wiki-news-300d-1M-subword.wv!\n",
      "Vocab size: 999994\n",
      "Torch version: 2.2.2+cpu\n",
      "Torch CUDA available : False\n",
      "Cuda not available. Instantiated the TenDimensionsClassifier with CUDA=False\n",
      "['support', 'knowledge', 'conflict', 'power', 'similarity', 'fun', 'status', 'trust', 'identity', 'romance']\n",
      "Only a fully trained Jedi Knight, with The Force as his ally, will conquer Vader and his Emperor. If you end your training now, if you choose the quick and easy path, as Vader did, you will become an agent of evil -- knowledge=0.99\n",
      "Only a fully trained Jedi Knight, with The Force as his ally, will conquer Vader and his Emperor. If you end your training now, if you choose the quick and easy path, as Vader did, you will become an agent of evil -- knowledge=(0.988128125667572, 0.988128125667572, 0.988128125667572, 0.0)\n",
      "support\n",
      "total time = 0.16257238388061523 (0.0060211994029857495 per entry)\n",
      "knowledge\n",
      "total time = 0.1761622428894043 (0.006524527514422381 per entry)\n",
      "conflict\n",
      "total time = 0.21622967720031738 (0.008008506562974717 per entry)\n",
      "power\n",
      "total time = 0.1327519416809082 (0.004916738580774378 per entry)\n",
      "similarity\n",
      "total time = 0.17147445678710938 (0.006350905806929977 per entry)\n",
      "fun\n",
      "total time = 0.14929938316345215 (0.005529606783831561 per entry)\n",
      "status\n",
      "total time = 0.14112401008605957 (0.005226815188372576 per entry)\n",
      "trust\n",
      "total time = 0.14570856094360352 (0.0053966133682816116 per entry)\n",
      "identity\n",
      "total time = 0.14240050315856934 (0.005274092709576642 per entry)\n",
      "romance\n",
      "total time = 0.1308305263519287 (0.0048455750500714335 per entry)\n"
     ]
    }
   ],
   "source": [
    "import time\n",
    "import numpy as np\n",
    "import pandas as pd\n",
    "\n",
    "import tendims\n",
    "\n",
    "# load the model\n",
    "model = tendims.TenDimensionsClassifier(is_cuda=True, models_dir = './models/lstm_trained_models', embeddings_dir='./embeddings')\n",
    "# print the list of dimensions\n",
    "dimensions = model.dimensions_list\n",
    "print(dimensions)\n",
    "\n",
    "#### test the classifier on a single sentence\n",
    "\n",
    "# one example sentence\n",
    "sentences = [\"Only a fully trained Jedi Knight, with The Force as his ally, will conquer Vader and his Emperor. If you end your training now, if you choose the quick and easy path, as Vader did, you will become an agent of evil\"]\n",
    "\n",
    "# compute overall score and per-sentence scores\n",
    "for s in sentences:\n",
    "\tdim = 'knowledge'\n",
    "\tscore = model.compute_score(s, dim)\n",
    "\tscore_split = model.compute_score_split(s, dim)\n",
    "\tprint (f'{s} -- {dim}={score:.2f}')\n",
    "\tprint (f'{s} -- {dim}={score_split}')\n",
    "\n",
    "\n",
    "#### test the classifier on a larger dataset\n",
    "\n",
    "# load a pandas dataframe\n",
    "df = pd.read_csv(f'example.csv', sep='\\t', encoding='utf-8')\n",
    "\n",
    "# apply the classifier to the text column of the dataframe\n",
    "for dim in dimensions:\n",
    "    print(dim)\n",
    "    start_time = time.time()\n",
    "    f = lambda x : pd.Series(model.compute_score_split(x, dim))\n",
    "    df[[f'{dim}_mean' , f'{dim}_max', f'{dim}_min', f'{dim}_std']] = df['text'].apply(f)\n",
    "    end_time = time.time()\n",
    "    print(f'total time = {end_time-start_time} ({(end_time-start_time)/len(df)} per entry)')\n",
    "\n",
    "# binarization by quantile thresholding on the maximum value\n",
    "quantile = 0.85\n",
    "for dim in dimensions:\n",
    "    quantile_thresh = np.quantile(df[f'{dim}_max'].dropna().values, quantile)\n",
    "    df[f'{dim}_binary_quantile_{quantile}'] = df[f'{dim}_max'].apply(lambda x : 0 if x < quantile_thresh else 1)\n",
    "\n",
    "# binarization by fixed thresholding on the maximum value\n",
    "threshold = 0.80\n",
    "for dim in dimensions:\n",
    "    df[f'{dim}_binary_threshold_{threshold}'] = df[f'{dim}_max'].apply(lambda x : 0 if x < threshold else 1)\n",
    "\n",
    "# save results to file\n",
    "df.to_csv('example_dimensions.csv', sep=',', index=False)"
   ]
  },
  {
   "cell_type": "code",
   "execution_count": null,
   "id": "bb2bb4f7",
   "metadata": {},
   "outputs": [],
   "source": []
  }
 ],
 "metadata": {
  "kernelspec": {
   "display_name": "Python 3 (ipykernel)",
   "language": "python",
   "name": "python3"
  },
  "language_info": {
   "codemirror_mode": {
    "name": "ipython",
    "version": 3
   },
   "file_extension": ".py",
   "mimetype": "text/x-python",
   "name": "python",
   "nbconvert_exporter": "python",
   "pygments_lexer": "ipython3",
   "version": "3.10.9"
  }
 },
 "nbformat": 4,
 "nbformat_minor": 5
}
