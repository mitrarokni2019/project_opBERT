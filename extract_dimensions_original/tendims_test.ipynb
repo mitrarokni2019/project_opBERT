{
 "cells": [
  {
   "cell_type": "code",
   "execution_count": 1,
   "metadata": {
    "scrolled": true
   },
   "outputs": [
    {
     "name": "stderr",
     "output_type": "stream",
     "text": [
      "[nltk_data] Downloading package punkt to\n",
      "[nltk_data]     C:\\Users\\mitra\\AppData\\Roaming\\nltk_data...\n",
      "[nltk_data]   Package punkt is already up-to-date!\n"
     ]
    }
   ],
   "source": [
    "import tendims"
   ]
  },
  {
   "cell_type": "code",
   "execution_count": 2,
   "metadata": {},
   "outputs": [],
   "source": [
    "import gensim"
   ]
  },
  {
   "cell_type": "code",
   "execution_count": 3,
   "metadata": {
    "scrolled": false
   },
   "outputs": [
    {
     "name": "stdout",
     "output_type": "stream",
     "text": [
      "Loaded word embeddings from ./embeddings\\glove/glove.42B.300d.wv!\n",
      "Vocab size: 1917494\n",
      "Loaded word embeddings from ./embeddings\\word2vec/GoogleNews-vectors-negative300.wv!\n",
      "Vocab size: 3000000\n",
      "Loaded word embeddings from ./embeddings\\fasttext/wiki-news-300d-1M-subword.wv!\n",
      "Vocab size: 999994\n",
      "Torch version: 2.2.2+cpu\n",
      "Torch CUDA available : False\n",
      "Cuda not available. Instantiated the TenDimensionsClassifier with CUDA=False\n",
      "['support', 'knowledge', 'conflict', 'power', 'similarity', 'fun', 'status', 'trust', 'identity', 'romance']\n"
     ]
    }
   ],
   "source": [
    "model = tendims.TenDimensionsClassifier(is_cuda=True, models_dir = './models/lstm_trained_models', \n",
    "                                        embeddings_dir='./embeddings')\n",
    "dimensions = model.dimensions_list\n",
    "print(dimensions)"
   ]
  },
  {
   "cell_type": "code",
   "execution_count": 4,
   "metadata": {},
   "outputs": [
    {
     "data": {
      "text/plain": [
       "(0.9167402982711792, 0.9167402982711792, 0.9167402982711792, 0.0)"
      ]
     },
     "execution_count": 4,
     "metadata": {},
     "output_type": "execute_result"
    }
   ],
   "source": [
    "model.compute_score_split('Hello, my name is Mike. I am willing to help you, whatever you need.', 'support')"
   ]
  },
  {
   "cell_type": "code",
   "execution_count": 5,
   "metadata": {},
   "outputs": [],
   "source": [
    "sentences = {\n",
    "'knowledge' : [\n",
    "    \"Only a fully trained Jedi Knight, with The Force as his ally, will conquer Vader and his Emperor. If you end your training now, if you choose the quick and easy path, as Vader did, you will become an agent of evil\",\n",
    "    \"Well, in layman's terms, you use a rotating magnetic field to focus a narrow beam of gravitons; these in turn fold space-time consistent with Weyl tensor dynamics until the space-time curvature becomes infinitely large and you have a singularity\",\n",
    "    \"Since positronic signatures have only been known to emanate from androids such as myself, it is logical to theorize that there is an android such as myself on Kolarus III\",\n",
    "],\n",
    "\n",
    "'power' : [\n",
    "    \"Now if you don't want to be the fifth person ever to die in meta-shock from a planar rift, I suggest you get down behind that desk and don't move until we give you the signal\",\n",
    "    \"You can ask any price you want, but you must give me those letters \",\n",
    "    \"Right now you're in no position to ask questions! And your snide remarks...\"\n",
    "],\n",
    "\n",
    "'status' : [\n",
    "    \"I want to thank you, sir, for giving me the opportunity to work\",\n",
    "    \"Frankie, you're a good old man, and you've been loyal to my Father for years...so I hope you can explain what you mean\",\n",
    "    \"And we drink to her, and we all congratulate her on her wonderful accomplishment during this last year...her great success in A Doll's House!\"\n",
    "],\n",
    "\n",
    "'trust' : [\n",
    "    \"I'm trying to tell you – and this is where you have to trust me – but, I think your life might be in real danger\",\n",
    "    \"Mr. Lebowski is prepared to make a generous offer to you to act as courier once we get instructions for the money\",\n",
    "    \"Take the Holy Gospels in your hand and swear to tell the whole truth concerning everything you will be asked\"\n",
    "],\n",
    "\n",
    "'support' : [\n",
    "    \"I'm sorry, I just feel like... I know I shouldn't ask, I just need some kind of help, I just, I have a deadline tomorrow\",\n",
    "    \"Look, Dave, I know that you're sincere and that you're trying to do a competent job, and that you're trying to be helpful, but I can assure the problem is with the AO-units, and with your test gear\",\n",
    "    \"Well... listen, if you need any help, you know, back up, call me, OK?\"\n",
    "],\n",
    "\n",
    "'romance' : [\n",
    "    \"I'm going to marry the woman I love\",\n",
    "    \"If you are truly wild at heart, you'll fight for your dreams... Don’t turn away from love, Sailor \",\n",
    "    \"You admit to me you do not love your fiance?\"\n",
    "],\n",
    "\n",
    "'identity' : [\n",
    "    \"Hey, I know what I'm talkin' about, black women ain't the same as white women \",\n",
    "    \"That's how it was in the old world, Pop, but this is not Sicily\",\n",
    "    \"But, as you are so fond of observing, Doctor, I'm not human\"\n",
    "],\n",
    "\n",
    "'fun' : [\n",
    "    \"It’s just funny...who needs a serial psycho in the woods with a chainsaw when we have ourselves\",\n",
    "    \"I do enjoy playing bingo, if you'd like to join me for a game tomorrow night at church you’re welcome to\",\n",
    "    \"Oh, I'm sure it’s a lot of fun, 'cause the Incas did it, you know, and-and they-they-they were a million laughs\"\n",
    "],\n",
    "\n",
    "'conflict' : [\n",
    "    \"Forgive me for askin', son, and I don’t mean to belabor the obvious, but why is it that you’ve got your head so far up your own ass?\",\n",
    "    \"If you're lying to me you poor excuse for a human being, I'm gonna blow your brains all over this car\",\n",
    "    \"I couldn't give a shit if you believe me or not, and frankly I'm too tired to prove it to you\"\n",
    "]}"
   ]
  },
  {
   "cell_type": "code",
   "execution_count": 6,
   "metadata": {
    "scrolled": true
   },
   "outputs": [
    {
     "name": "stdout",
     "output_type": "stream",
     "text": [
      " === KNOWLEDGE ===\n",
      "Only a fully trained Jedi Knight, with The Force as his ally, will conquer Vader and his Emperor. If you end your training now, if you choose the quick and easy path, as Vader did, you will become an agent of evil -- knowledge=0.99\n",
      "Well, in layman's terms, you use a rotating magnetic field to focus a narrow beam of gravitons; these in turn fold space-time consistent with Weyl tensor dynamics until the space-time curvature becomes infinitely large and you have a singularity -- knowledge=0.99\n",
      "Since positronic signatures have only been known to emanate from androids such as myself, it is logical to theorize that there is an android such as myself on Kolarus III -- knowledge=0.98\n",
      " === POWER ===\n",
      "Now if you don't want to be the fifth person ever to die in meta-shock from a planar rift, I suggest you get down behind that desk and don't move until we give you the signal -- power=0.95\n",
      "You can ask any price you want, but you must give me those letters  -- power=0.80\n",
      "Right now you're in no position to ask questions! And your snide remarks... -- power=0.89\n",
      " === STATUS ===\n",
      "I want to thank you, sir, for giving me the opportunity to work -- status=0.95\n",
      "Frankie, you're a good old man, and you've been loyal to my Father for years...so I hope you can explain what you mean -- status=0.95\n",
      "And we drink to her, and we all congratulate her on her wonderful accomplishment during this last year...her great success in A Doll's House! -- status=0.95\n",
      " === TRUST ===\n",
      "I'm trying to tell you – and this is where you have to trust me – but, I think your life might be in real danger -- trust=1.00\n",
      "Mr. Lebowski is prepared to make a generous offer to you to act as courier once we get instructions for the money -- trust=0.94\n",
      "Take the Holy Gospels in your hand and swear to tell the whole truth concerning everything you will be asked -- trust=0.95\n",
      " === SUPPORT ===\n",
      "I'm sorry, I just feel like... I know I shouldn't ask, I just need some kind of help, I just, I have a deadline tomorrow -- support=0.96\n",
      "Look, Dave, I know that you're sincere and that you're trying to do a competent job, and that you're trying to be helpful, but I can assure the problem is with the AO-units, and with your test gear -- support=0.94\n",
      "Well... listen, if you need any help, you know, back up, call me, OK? -- support=0.96\n",
      " === ROMANCE ===\n",
      "I'm going to marry the woman I love -- romance=0.93\n",
      "If you are truly wild at heart, you'll fight for your dreams... Don’t turn away from love, Sailor  -- romance=0.87\n",
      "You admit to me you do not love your fiance? -- romance=1.00\n",
      " === IDENTITY ===\n",
      "Hey, I know what I'm talkin' about, black women ain't the same as white women  -- identity=0.60\n",
      "That's how it was in the old world, Pop, but this is not Sicily -- identity=0.60\n",
      "But, as you are so fond of observing, Doctor, I'm not human -- identity=0.60\n",
      " === FUN ===\n",
      "It’s just funny...who needs a serial psycho in the woods with a chainsaw when we have ourselves -- fun=0.99\n",
      "I do enjoy playing bingo, if you'd like to join me for a game tomorrow night at church you’re welcome to -- fun=0.99\n",
      "Oh, I'm sure it’s a lot of fun, 'cause the Incas did it, you know, and-and they-they-they were a million laughs -- fun=0.79\n",
      " === CONFLICT ===\n",
      "Forgive me for askin', son, and I don’t mean to belabor the obvious, but why is it that you’ve got your head so far up your own ass? -- conflict=0.97\n",
      "If you're lying to me you poor excuse for a human being, I'm gonna blow your brains all over this car -- conflict=0.96\n",
      "I couldn't give a shit if you believe me or not, and frankly I'm too tired to prove it to you -- conflict=0.94\n"
     ]
    }
   ],
   "source": [
    "for dim in sentences:\n",
    "    print(f' === {dim.upper()} ===')\n",
    "    for s in sentences[dim]:\n",
    "        score = model.compute_score(s, dim)\n",
    "        print (f'{s} -- {dim}={score:.2f}')"
   ]
  },
  {
   "cell_type": "code",
   "execution_count": null,
   "metadata": {},
   "outputs": [],
   "source": []
  },
  {
   "cell_type": "code",
   "execution_count": null,
   "metadata": {
    "scrolled": true
   },
   "outputs": [],
   "source": []
  },
  {
   "cell_type": "code",
   "execution_count": null,
   "metadata": {},
   "outputs": [],
   "source": []
  }
 ],
 "metadata": {
  "kernelspec": {
   "display_name": "Python 3 (ipykernel)",
   "language": "python",
   "name": "python3"
  },
  "language_info": {
   "codemirror_mode": {
    "name": "ipython",
    "version": 3
   },
   "file_extension": ".py",
   "mimetype": "text/x-python",
   "name": "python",
   "nbconvert_exporter": "python",
   "pygments_lexer": "ipython3",
   "version": "3.10.9"
  },
  "toc": {
   "base_numbering": 1,
   "nav_menu": {},
   "number_sections": true,
   "sideBar": true,
   "skip_h1_title": false,
   "title_cell": "Table of Contents",
   "title_sidebar": "Contents",
   "toc_cell": false,
   "toc_position": {},
   "toc_section_display": true,
   "toc_window_display": false
  },
  "varInspector": {
   "cols": {
    "lenName": 16,
    "lenType": 16,
    "lenVar": 40
   },
   "kernels_config": {
    "python": {
     "delete_cmd_postfix": "",
     "delete_cmd_prefix": "del ",
     "library": "var_list.py",
     "varRefreshCmd": "print(var_dic_list())"
    },
    "r": {
     "delete_cmd_postfix": ") ",
     "delete_cmd_prefix": "rm(",
     "library": "var_list.r",
     "varRefreshCmd": "cat(var_dic_list()) "
    }
   },
   "types_to_exclude": [
    "module",
    "function",
    "builtin_function_or_method",
    "instance",
    "_Feature"
   ],
   "window_display": false
  }
 },
 "nbformat": 4,
 "nbformat_minor": 4
}
