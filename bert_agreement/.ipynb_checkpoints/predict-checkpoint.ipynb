{
 "cells": [
  {
   "cell_type": "code",
   "execution_count": 2,
   "id": "d45405e7",
   "metadata": {},
   "outputs": [
    {
     "name": "stderr",
     "output_type": "stream",
     "text": [
      "Be aware, overflowing tokens are not returned for the setting you have chosen, i.e. sequence pairs with the 'longest_first' truncation strategy. So the returned list will always be empty even if some tokens have been removed.\n"
     ]
    },
    {
     "name": "stdout",
     "output_type": "stream",
     "text": [
      "Predictions updated in ./test1.csv\n"
     ]
    }
   ],
   "source": [
    "import pandas as pd\n",
    "import torch\n",
    "from transformers import BertTokenizer, BertForSequenceClassification\n",
    "\n",
    "model_path = './bert_classification_model'\n",
    "tokenizer = BertTokenizer.from_pretrained(model_path)\n",
    "model = BertForSequenceClassification.from_pretrained(model_path)\n",
    "model.eval() \n",
    "\n",
    "def predict(post, comment):\n",
    "    inputs = tokenizer.encode_plus(\n",
    "        post,\n",
    "        comment,\n",
    "        add_special_tokens=True,\n",
    "        max_length=512,\n",
    "        padding='max_length',\n",
    "        truncation=True,\n",
    "        return_tensors=\"pt\"\n",
    "    )\n",
    "    with torch.no_grad():\n",
    "        outputs = model(**inputs)\n",
    "        logits = outputs.logits\n",
    "        predicted_class = torch.argmax(logits, dim=1).item()\n",
    "    return predicted_class\n",
    "\n",
    "input_csv = './test1.csv'  #input csv\n",
    "\n",
    "data = pd.read_csv(input_csv)\n",
    "\n",
    "label_mapping = {0: -1, 1: 0, 2: 1}\n",
    "\n",
    "for index, row in data.iterrows():\n",
    "    post = row['cleaned_text']\n",
    "    comment = row['cleaned_body']\n",
    "    predicted_class = predict(post, comment)\n",
    "    data.at[index, 'label_agreement'] = label_mapping[predicted_class]  \n",
    "\n",
    "data.to_csv(input_csv, index=False)  \n",
    "print(f\"Predictions updated in {input_csv}\")\n"
   ]
  },
  {
   "cell_type": "code",
   "execution_count": null,
   "id": "38e8d8c3",
   "metadata": {},
   "outputs": [],
   "source": []
  }
 ],
 "metadata": {
  "kernelspec": {
   "display_name": "Python 3 (ipykernel)",
   "language": "python",
   "name": "python3"
  },
  "language_info": {
   "codemirror_mode": {
    "name": "ipython",
    "version": 3
   },
   "file_extension": ".py",
   "mimetype": "text/x-python",
   "name": "python",
   "nbconvert_exporter": "python",
   "pygments_lexer": "ipython3",
   "version": "3.11.5"
  }
 },
 "nbformat": 4,
 "nbformat_minor": 5
}
