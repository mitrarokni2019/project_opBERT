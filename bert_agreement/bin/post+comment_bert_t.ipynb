{
  "cells": [
    {
      "cell_type": "markdown",
      "id": "M9biT5Oce5UM",
      "metadata": {
        "id": "M9biT5Oce5UM"
      },
      "source": []
    },
    {
      "cell_type": "markdown",
      "id": "D9u1N_i4e5d4",
      "metadata": {
        "id": "D9u1N_i4e5d4"
      },
      "source": []
    },
    {
      "cell_type": "code",
      "execution_count": null,
      "id": "Nz7Y-izfeejB",
      "metadata": {
        "colab": {
          "base_uri": "https://localhost:8080/",
          "height": 106
        },
        "id": "Nz7Y-izfeejB",
        "outputId": "c851c240-d784-40d6-97e8-84125f10e8fb"
      },
      "outputs": [
        {
          "ename": "SyntaxError",
          "evalue": "invalid syntax. Perhaps you forgot a comma? (<ipython-input-3-13f9f3a20dbb>, line 84)",
          "output_type": "error",
          "traceback": [
            "\u001b[0;36m  File \u001b[0;32m\"<ipython-input-3-13f9f3a20dbb>\"\u001b[0;36m, line \u001b[0;32m84\u001b[0m\n\u001b[0;31m    [... rest of your code ...]\u001b[0m\n\u001b[0m     ^\u001b[0m\n\u001b[0;31mSyntaxError\u001b[0m\u001b[0;31m:\u001b[0m invalid syntax. Perhaps you forgot a comma?\n"
          ]
        }
      ],
      "source": []
    },
    {
      "cell_type": "code",
      "execution_count": null,
      "id": "9Htbfzl9OUJX",
      "metadata": {
        "id": "9Htbfzl9OUJX"
      },
      "outputs": [],
      "source": []
    },
    {
      "cell_type": "code",
      "execution_count": null,
      "id": "mecPfhbkeem6",
      "metadata": {
        "colab": {
          "base_uri": "https://localhost:8080/"
        },
        "id": "mecPfhbkeem6",
        "outputId": "2813f192-8266-4baf-d9da-d0808adda552"
      },
      "outputs": [
        {
          "name": "stdout",
          "output_type": "stream",
          "text": [
            "GPU is available\n"
          ]
        }
      ],
      "source": [
        "import tensorflow as tf\n",
        "# Check if a GPU is available.\n",
        "print(\"GPU is\", \"available\" if tf.config.list_physical_devices('GPU') else \"NOT AVAILABLE\")"
      ]
    },
    {
      "cell_type": "code",
      "execution_count": null,
      "id": "kA812LTqeouX",
      "metadata": {
        "colab": {
          "base_uri": "https://localhost:8080/"
        },
        "id": "kA812LTqeouX",
        "outputId": "6d96e5e3-a111-4d93-c95d-d1151b4f76e0"
      },
      "outputs": [
        {
          "name": "stdout",
          "output_type": "stream",
          "text": [
            "Wed Dec 25 11:03:59 2024       \n",
            "+---------------------------------------------------------------------------------------+\n",
            "| NVIDIA-SMI 535.104.05             Driver Version: 535.104.05   CUDA Version: 12.2     |\n",
            "|-----------------------------------------+----------------------+----------------------+\n",
            "| GPU  Name                 Persistence-M | Bus-Id        Disp.A | Volatile Uncorr. ECC |\n",
            "| Fan  Temp   Perf          Pwr:Usage/Cap |         Memory-Usage | GPU-Util  Compute M. |\n",
            "|                                         |                      |               MIG M. |\n",
            "|=========================================+======================+======================|\n",
            "|   0  Tesla T4                       Off | 00000000:00:04.0 Off |                    0 |\n",
            "| N/A   31C    P8               9W /  70W |      3MiB / 15360MiB |      0%      Default |\n",
            "|                                         |                      |                  N/A |\n",
            "+-----------------------------------------+----------------------+----------------------+\n",
            "                                                                                         \n",
            "+---------------------------------------------------------------------------------------+\n",
            "| Processes:                                                                            |\n",
            "|  GPU   GI   CI        PID   Type   Process name                            GPU Memory |\n",
            "|        ID   ID                                                             Usage      |\n",
            "|=======================================================================================|\n",
            "|  No running processes found                                                           |\n",
            "+---------------------------------------------------------------------------------------+\n"
          ]
        }
      ],
      "source": [
        "gpu_info = !nvidia-smi\n",
        "gpu_info = '\\n'.join(gpu_info)\n",
        "if gpu_info.find('failed') >= 0:\n",
        "  print('Not connected to a GPU')\n",
        "else:\n",
        "  print(gpu_info)"
      ]
    },
    {
      "cell_type": "code",
      "execution_count": null,
      "id": "dyclGsp8eoxB",
      "metadata": {
        "colab": {
          "base_uri": "https://localhost:8080/"
        },
        "id": "dyclGsp8eoxB",
        "outputId": "34105891-dea1-47c4-a9dd-94b72d77b7f1"
      },
      "outputs": [
        {
          "name": "stdout",
          "output_type": "stream",
          "text": [
            "Your runtime has 13.6 gigabytes of available RAM\n",
            "\n",
            "Not using a high-RAM runtime\n"
          ]
        }
      ],
      "source": [
        "from psutil import virtual_memory\n",
        "ram_gb = virtual_memory().total / 1e9\n",
        "print('Your runtime has {:.1f} gigabytes of available RAM\\n'.format(ram_gb))\n",
        "\n",
        "if ram_gb < 20:\n",
        "  print('Not using a high-RAM runtime')\n",
        "else:\n",
        "  print('You are using a high-RAM runtime!')"
      ]
    },
    {
      "cell_type": "code",
      "execution_count": null,
      "id": "jG1zbDu8ewQn",
      "metadata": {
        "colab": {
          "base_uri": "https://localhost:8080/"
        },
        "id": "jG1zbDu8ewQn",
        "outputId": "3ac9d70b-d2b0-466c-9543-ad25e9667e08"
      },
      "outputs": [
        {
          "name": "stdout",
          "output_type": "stream",
          "text": [
            "Found GPU at: /device:GPU:0\n"
          ]
        }
      ],
      "source": [
        "import tensorflow as tf\n",
        "\n",
        "# Get the GPU device name.\n",
        "device_name = tf.test.gpu_device_name()\n",
        "\n",
        "# The device name should look like the following:\n",
        "if device_name == '/device:GPU:0':\n",
        "    print('Found GPU at: {}'.format(device_name))\n",
        "else:\n",
        "    raise SystemError('GPU device not found')"
      ]
    },
    {
      "cell_type": "code",
      "execution_count": null,
      "id": "1NnrBeGuewS8",
      "metadata": {
        "colab": {
          "base_uri": "https://localhost:8080/"
        },
        "id": "1NnrBeGuewS8",
        "outputId": "ac836828-4af8-4d56-9ebc-7874afe9ab3e"
      },
      "outputs": [
        {
          "name": "stdout",
          "output_type": "stream",
          "text": [
            "There are 1 GPU(s) available.\n",
            "We will use the GPU: Tesla T4\n"
          ]
        }
      ],
      "source": [
        "import torch\n",
        "\n",
        "# If there's a GPU available...\n",
        "if torch.cuda.is_available():\n",
        "\n",
        "    # Tell PyTorch to use the GPU.\n",
        "    device = torch.device(\"cuda\")\n",
        "\n",
        "    print('There are %d GPU(s) available.' % torch.cuda.device_count())\n",
        "\n",
        "    print('We will use the GPU:', torch.cuda.get_device_name(0))\n",
        "\n",
        "# If not...\n",
        "else:\n",
        "    print('No GPU available, using the CPU instead.')\n",
        "    device = torch.device(\"cpu\")"
      ]
    },
    {
      "cell_type": "code",
      "execution_count": null,
      "id": "JhpOruS-OjEe",
      "metadata": {
        "colab": {
          "base_uri": "https://localhost:8080/",
          "height": 1000,
          "referenced_widgets": [
            "71b9e911673641e7a8105c3ed4b6c7df",
            "2085549ed0224e1a921f584a035ce668",
            "4241766b8593426288c773c363bd6f94",
            "fc9e2b256bd94ec08043a0fc542da753",
            "fd15dac0332c443fa52f8c250de8ca3d",
            "25c9745023e44a0688636e11c2a9c3c7",
            "065c3021543149aca49cbcae2f82924a",
            "02921970662a412691cd219ffe245575",
            "9b602c3dbb804ab2ad2ffdaac83d3af5",
            "f5a211b5fa0a423e954db7952891e8f0",
            "c835d004f6de4a9685150565487e4f2e",
            "7902bfce9f734377af69dbdd641cc3a2",
            "e7a46b983d1d426da517c850aa315618",
            "e9f42738ef094cf2b605931c3e06b1b0",
            "9b8d9a5449c44aaabe612d9ee6b6caf2",
            "9225ddee8c9344c8b849481278ea93b9",
            "408ca91f09904972b7a0d141ebf06799",
            "372c12c82a1c4d9da150f6b49ee6116a",
            "23fbc7dbff22468b87c98a28758b4cd0",
            "67a54010640c437f9bbca08a30793d6a",
            "8620e453d5394c099e1d733bb55b2f81",
            "919f1a0990f04ea4ac9dfa5e6e6be897",
            "fd573bb411804ccca393f24d5d314727",
            "f50c6fe22abe4ab7ad87a1f6de547f07",
            "cfd294d9e7894517b5fd17de53a6b895",
            "3e740ee3aeaf4ba89d4332a4f06f65e1",
            "fd7ae23947d04334b9bcf8bae347d4bc",
            "8624f38fd61644f3a82db0a3e36ba92f",
            "cda5a66454cc4460865156e6fde2357c",
            "7acfe6b716ae4e4da253ca224f0da58b",
            "bc812a126dae4f7c99bccdf0e682daba",
            "fbbc1af1b90042f3b335b866ed9e7e59",
            "4deba12781624c668440c146cfcacb36",
            "9dd01ec139b44258be3c99c95faa8cf0",
            "747006deebf84b948cd24e60420de49e",
            "7299b9974b344d5493471be9393f0acc",
            "23be7d7936f343e189ef8158dbc1e757",
            "c201241efb1146998f20dd9a2c20e199",
            "eb629f75b0ae404ab693bc40ab2d98dc",
            "b56c8568ab4a4239a77abfbfe1631a68",
            "8def3fa1590e4fa38b7e6f063665b24b",
            "13f1e095639549c3929b2d71e55c0ed4",
            "31e23c10861d46a9b87689455d59620f",
            "aa0e0b4b40de43c393018343a14b73ec"
          ]
        },
        "id": "JhpOruS-OjEe",
        "outputId": "4d30abc1-5d4a-4e1a-fe27-297b3369526f"
      },
      "outputs": [
        {
          "name": "stdout",
          "output_type": "stream",
          "text": [
            "Using device: cuda\n",
            "Downloading...\n",
            "From: https://drive.google.com/uc?id=1PS8MS_0DVu6Qj3eozRr8Hkmj-3KC4T23\n",
            "To: /content/6000labeled_sample_data_all.csv\n",
            "100% 65.2M/65.2M [00:00<00:00, 168MB/s]\n",
            "\n",
            "=== Loading Dataset ===\n",
            "Dataset size: 6000 rows\n",
            "\n",
            "Checking for NaN values:\n",
            "level_0                       0\n",
            "index                         0\n",
            "post_id                       0\n",
            "link_id                       0\n",
            "subreddit                     0\n",
            "parent_id                     0\n",
            "redditor_id                   0\n",
            "created_at                    0\n",
            "body                          0\n",
            "score                         0\n",
            "edited                        0\n",
            "parent_id_clean               0\n",
            "has_delta                     0\n",
            "title                         0\n",
            "text                          0\n",
            "permalink                     0\n",
            "post_id_parent                1\n",
            "redditor_id_parent            1\n",
            "body_clean                    0\n",
            "knowledge_mean                0\n",
            "knowledge_max                 0\n",
            "knowledge_min                 0\n",
            "knowledge_std                 0\n",
            "similarity_mean               0\n",
            "similarity_max                0\n",
            "similarity_min                0\n",
            "similarity_std                0\n",
            "trust_mean                    0\n",
            "trust_max                     0\n",
            "trust_min                     0\n",
            "trust_std                     0\n",
            "dominant_dimension_low_std    0\n",
            "summarized_body_clean         0\n",
            "cleaned_text                  0\n",
            "cleaned_body                  0\n",
            "is_climate_related            0\n",
            "num_sentences_cleaned_body    0\n",
            "num_sentences_cleaned_text    0\n",
            "num_sentences_body            0\n",
            "num_sentences_text            0\n",
            "word_count_text               0\n",
            "token_count_text              0\n",
            "word_count_body               0\n",
            "token_count_body              0\n",
            "summarized_cleaned_bod        0\n",
            "summarized_cleaned_text       0\n",
            "original_index                0\n",
            "label_agreement               0\n",
            "explanation                   0\n",
            "dtype: int64\n",
            "\n",
            "Dataset size after removing NaN: 6000 rows\n",
            "\n",
            "Label distribution:\n",
            "0    2847\n",
            "1    2044\n",
            "2    1109\n",
            "Name: count, dtype: int64\n",
            "\n",
            "=== Initializing Tokenizer ===\n"
          ]
        },
        {
          "name": "stderr",
          "output_type": "stream",
          "text": [
            "/usr/local/lib/python3.10/dist-packages/huggingface_hub/utils/_auth.py:94: UserWarning: \n",
            "The secret `HF_TOKEN` does not exist in your Colab secrets.\n",
            "To authenticate with the Hugging Face Hub, create a token in your settings tab (https://huggingface.co/settings/tokens), set it as secret in your Google Colab and restart your session.\n",
            "You will be able to reuse this secret in all of your notebooks.\n",
            "Please note that authentication is recommended but still optional to access public models or datasets.\n",
            "  warnings.warn(\n"
          ]
        },
        {
          "data": {
            "application/vnd.jupyter.widget-view+json": {
              "model_id": "71b9e911673641e7a8105c3ed4b6c7df",
              "version_major": 2,
              "version_minor": 0
            },
            "text/plain": [
              "tokenizer_config.json:   0%|          | 0.00/48.0 [00:00<?, ?B/s]"
            ]
          },
          "metadata": {},
          "output_type": "display_data"
        },
        {
          "data": {
            "application/vnd.jupyter.widget-view+json": {
              "model_id": "7902bfce9f734377af69dbdd641cc3a2",
              "version_major": 2,
              "version_minor": 0
            },
            "text/plain": [
              "vocab.txt:   0%|          | 0.00/232k [00:00<?, ?B/s]"
            ]
          },
          "metadata": {},
          "output_type": "display_data"
        },
        {
          "data": {
            "application/vnd.jupyter.widget-view+json": {
              "model_id": "fd573bb411804ccca393f24d5d314727",
              "version_major": 2,
              "version_minor": 0
            },
            "text/plain": [
              "tokenizer.json:   0%|          | 0.00/466k [00:00<?, ?B/s]"
            ]
          },
          "metadata": {},
          "output_type": "display_data"
        },
        {
          "data": {
            "application/vnd.jupyter.widget-view+json": {
              "model_id": "9dd01ec139b44258be3c99c95faa8cf0",
              "version_major": 2,
              "version_minor": 0
            },
            "text/plain": [
              "config.json:   0%|          | 0.00/570 [00:00<?, ?B/s]"
            ]
          },
          "metadata": {},
          "output_type": "display_data"
        },
        {
          "name": "stderr",
          "output_type": "stream",
          "text": [
            "Token indices sequence length is longer than the specified maximum sequence length for this model (1687 > 512). Running this sequence through the model will result in indexing errors\n"
          ]
        },
        {
          "name": "stdout",
          "output_type": "stream",
          "text": [
            "\n",
            "=== Analyzing Token Lengths ===\n",
            "\n",
            "Detailed analysis of 5 random samples:\n",
            "\n",
            "Sample 860:\n",
            "Post length: 1687 tokens\n",
            "Comment length: 52 tokens\n",
            "Combined length: 1738 tokens\n",
            "Label: 0\n",
            "\n",
            "Sample 5390:\n",
            "Post length: 292 tokens\n",
            "Comment length: 49 tokens\n",
            "Combined length: 340 tokens\n",
            "Label: 0\n",
            "\n",
            "Sample 5226:\n",
            "Post length: 192 tokens\n",
            "Comment length: 24 tokens\n",
            "Combined length: 215 tokens\n",
            "Label: 1\n",
            "\n",
            "Sample 5191:\n",
            "Post length: 137 tokens\n",
            "Comment length: 68 tokens\n",
            "Combined length: 204 tokens\n",
            "Label: 0\n",
            "\n",
            "Sample 3772:\n",
            "Post length: 1687 tokens\n",
            "Comment length: 285 tokens\n",
            "Combined length: 1971 tokens\n",
            "Label: 0\n",
            "\n",
            "Token length statistics:\n",
            "Average post length: 799.0 tokens\n",
            "Average comment length: 95.6 tokens\n",
            "Average combined length: 893.6 tokens\n"
          ]
        }
      ],
      "source": [
        "import pandas as pd\n",
        "import numpy as np\n",
        "import torch\n",
        "from torch.utils.data import Dataset, DataLoader\n",
        "from transformers import BertTokenizer, BertForSequenceClassification, AdamW\n",
        "from sklearn.model_selection import train_test_split\n",
        "from sklearn.metrics import accuracy_score, precision_score, recall_score, f1_score\n",
        "from tqdm import tqdm\n",
        "import logging\n",
        "import matplotlib.pyplot as plt\n",
        "import seaborn as sns\n",
        "import os\n",
        "#import warnings\n",
        "#warnings.filterwarnings(\"ignore\")\n",
        "\n",
        "# Memory cleanup and optimization\n",
        "import gc\n",
        "\n",
        "\n",
        "\n",
        "# Check GPU\n",
        "device = torch.device('cuda' if torch.cuda.is_available() else 'cpu')\n",
        "print(f\"Using device: {device}\")\n",
        "\n",
        "# Load dataset\n",
        "#print(\"\\n=== Loading Dataset ===\")\n",
        "#!gdown \"https://drive.google.com/uc?id=10E9RV2p0XREskcaDeJMvQ430tgGDgq1Z\"\n",
        "#data = pd.read_csv('labeled_sample_data.csv')\n",
        "\n",
        "# 3. Load and prepare data\n",
        "#url for 6000= https://drive.google.com/file/d/1PS8MS_0DVu6Qj3eozRr8Hkmj-3KC4T23/view?usp=drive_link\n",
        "!gdown \"https://drive.google.com/uc?id=1PS8MS_0DVu6Qj3eozRr8Hkmj-3KC4T23\"\n",
        "print(\"\\n=== Loading Dataset ===\")\n",
        "data = pd.read_csv('6000labeled_sample_data_all.csv', encoding='ISO-8859-1')\n",
        "print(f\"Dataset size: {len(data)} rows\")\n",
        "\n",
        "# Check for NaN values\n",
        "print(\"\\nChecking for NaN values:\")\n",
        "print(data.isnull().sum())\n",
        "\n",
        "# Remove rows with NaN values\n",
        "data = data.dropna(subset=['cleaned_text', 'cleaned_body', 'label_agreement'])\n",
        "print(f\"\\nDataset size after removing NaN: {len(data)} rows\")\n",
        "\n",
        "# Prepare data\n",
        "posts = data['cleaned_text'].tolist()\n",
        "comments = data['cleaned_body'].tolist()\n",
        "labels = data['label_agreement'].map({-1: 0, 0: 1, 1: 2}).tolist()\n",
        "\n",
        "# Print label distribution\n",
        "label_dist = pd.Series(labels).value_counts()\n",
        "print(\"\\nLabel distribution:\")\n",
        "print(label_dist)\n",
        "\n",
        "# Initialize tokenizer\n",
        "print(\"\\n=== Initializing Tokenizer ===\")\n",
        "tokenizer = BertTokenizer.from_pretrained('bert-base-uncased')\n",
        "\n",
        "# Analyze token lengths\n",
        "print(\"\\n=== Analyzing Token Lengths ===\")\n",
        "post_lengths = []\n",
        "comment_lengths = []\n",
        "combined_lengths = []\n",
        "\n",
        "# Sample 5 random pairs for detailed analysis\n",
        "print(\"\\nDetailed analysis of 5 random samples:\")\n",
        "np.random.seed(42)  # for reproducibility\n",
        "for i in np.random.randint(0, len(posts), 5):\n",
        "    # Tokenize post\n",
        "    post_tokens = tokenizer.encode(posts[i], add_special_tokens=True)\n",
        "    post_lengths.append(len(post_tokens))\n",
        "\n",
        "    # Tokenize comment\n",
        "    comment_tokens = tokenizer.encode(comments[i], add_special_tokens=True)\n",
        "    comment_lengths.append(len(comment_tokens))\n",
        "\n",
        "    # Tokenize combined\n",
        "    combined = f\"{posts[i]} [SEP] {comments[i]}\"\n",
        "    combined_tokens = tokenizer.encode(combined, add_special_tokens=True)\n",
        "    combined_lengths.append(len(combined_tokens))\n",
        "\n",
        "    print(f\"\\nSample {i}:\")\n",
        "    print(f\"Post length: {len(post_tokens)} tokens\")\n",
        "    print(f\"Comment length: {len(comment_tokens)} tokens\")\n",
        "    print(f\"Combined length: {len(combined_tokens)} tokens\")\n",
        "    print(f\"Label: {labels[i]}\")\n",
        "\n",
        "print(\"\\nToken length statistics:\")\n",
        "print(f\"Average post length: {np.mean(post_lengths):.1f} tokens\")\n",
        "print(f\"Average comment length: {np.mean(comment_lengths):.1f} tokens\")\n",
        "print(f\"Average combined length: {np.mean(combined_lengths):.1f} tokens\")\n",
        "\n",
        "\n"
      ]
    },
    {
      "cell_type": "code",
      "execution_count": null,
      "id": "A7DPFZfRPnWG",
      "metadata": {
        "id": "A7DPFZfRPnWG"
      },
      "outputs": [],
      "source": [
        "# Smart tokenization function\n",
        "def smart_truncate_and_tokenize(posts, comments, max_length=512):\n",
        "    \"\"\"\n",
        "    Smartly truncates and tokenizes posts and comments with more tokens allocated to posts\n",
        "\n",
        "    Args:\n",
        "        posts: List of post texts\n",
        "        comments: List of comment texts\n",
        "        max_length: Maximum sequence length\n",
        "\n",
        "    Returns:\n",
        "        tokens: Dictionary containing input_ids, attention_mask, and other tokenizer outputs\n",
        "    \"\"\"\n",
        "    # Allocate more tokens to posts (70-30 split)\n",
        "    post_max_length = int(max_length * 0.7)\n",
        "    comment_max_length = max_length - post_max_length - 3  # Account for special tokens\n",
        "\n",
        "    truncated_pairs = []\n",
        "    for post, comment in zip(posts, comments):\n",
        "        # Tokenize post and comment separately\n",
        "        post_tokens = tokenizer.encode(\n",
        "            post,\n",
        "            add_special_tokens=False,\n",
        "            truncation=True,\n",
        "            max_length=post_max_length\n",
        "        )\n",
        "\n",
        "        comment_tokens = tokenizer.encode(\n",
        "            comment,\n",
        "            add_special_tokens=False,\n",
        "            truncation=True,\n",
        "            max_length=comment_max_length\n",
        "        )\n",
        "\n",
        "        # Combine with special tokens\n",
        "        combined_tokens = [tokenizer.cls_token_id] + post_tokens + [tokenizer.sep_token_id] + comment_tokens + [tokenizer.sep_token_id]\n",
        "        truncated_pairs.append(combined_tokens)\n",
        "\n",
        "    # Pad sequences\n",
        "    padded_pairs = torch.nn.utils.rnn.pad_sequence(\n",
        "        [torch.tensor(x) for x in truncated_pairs],\n",
        "        batch_first=True,\n",
        "        padding_value=tokenizer.pad_token_id\n",
        "    )\n",
        "\n",
        "    # Create attention masks\n",
        "    attention_masks = (padded_pairs != tokenizer.pad_token_id).long()\n",
        "\n",
        "    return {\n",
        "        'input_ids': padded_pairs,\n",
        "        'attention_mask': attention_masks\n",
        "    }\n"
      ]
    },
    {
      "cell_type": "code",
      "execution_count": null,
      "id": "07jTlJ-2eZtv",
      "metadata": {
        "id": "07jTlJ-2eZtv"
      },
      "outputs": [],
      "source": [
        "# just for test how it works and for debugging\n",
        "\n",
        "\n",
        "logging.basicConfig(level=logging.INFO)\n",
        "logger = logging.getLogger(__name__)\n",
        "\n",
        "def smart_truncate_and_tokenize_with_logging(posts, comments, max_length=512):\n",
        "    post_max_length = int(max_length * 0.7)\n",
        "    comment_max_length = max_length - post_max_length - 3  # Special tokens\n",
        "    truncated_pairs = []\n",
        "\n",
        "    for i, (post, comment) in enumerate(zip(posts, comments)):\n",
        "        post_tokens = tokenizer.encode(post, add_special_tokens=False, truncation=True, max_length=post_max_length)\n",
        "        comment_tokens = tokenizer.encode(comment, add_special_tokens=False, truncation=True, max_length=comment_max_length)\n",
        "        combined_tokens = [tokenizer.cls_token_id] + post_tokens + [tokenizer.sep_token_id] + comment_tokens + [tokenizer.sep_token_id]\n",
        "        truncated_pairs.append(combined_tokens)\n",
        "\n",
        "        logger.info(f\"Sample {i}: Post Tokens = {len(post_tokens)}, Comment Tokens = {len(comment_tokens)}, Combined = {len(combined_tokens)}\")\n",
        "\n",
        "    padded_pairs = torch.nn.utils.rnn.pad_sequence(\n",
        "        [torch.tensor(x) for x in truncated_pairs],\n",
        "        batch_first=True,\n",
        "        padding_value=tokenizer.pad_token_id\n",
        "    )\n",
        "\n",
        "    attention_masks = (padded_pairs != tokenizer.pad_token_id).long()\n",
        "\n",
        "    return {\n",
        "        'input_ids': padded_pairs,\n",
        "        'attention_mask': attention_masks\n",
        "    }\n"
      ]
    },
    {
      "cell_type": "code",
      "execution_count": null,
      "id": "zXySMxJLeLU_",
      "metadata": {
        "colab": {
          "base_uri": "https://localhost:8080/"
        },
        "id": "zXySMxJLeLU_",
        "outputId": "b1438d35-7adf-45eb-ee36-a8a2c07cc56e"
      },
      "outputs": [
        {
          "name": "stdout",
          "output_type": "stream",
          "text": [
            "Input IDs: tensor([[  101,  2023,  2003,  1037,  2200,  2146,  2742,  2695,  2008, 23651,\n",
            "          1996, 19204,  5787,  1012,   102,  2023,  2003,  1037,  2460,  7615,\n",
            "          1012,  2005,  2122, 13467, 19204,  2015,  2057,  2342,  2000,  5587,\n",
            "          2070,  4084,  1012,   102,     0,     0,     0,     0,     0,     0,\n",
            "             0,     0,     0,     0,     0,     0,     0,     0,     0,     0,\n",
            "             0,     0,     0,     0,     0,     0,     0,     0,     0,     0,\n",
            "             0,     0,     0,     0],\n",
            "        [  101,  2178,  2742,  1997,  1037,  2695,  2007,  2062,  4180,  1012,\n",
            "           102,  2178,  2460,  7928, 14406,  2015,  2008,  2488,  4180,  2003,\n",
            "          1996,  2146,  3924,  1012,   102,     0,     0,     0,     0,     0,\n",
            "             0,     0,     0,     0,     0,     0,     0,     0,     0,     0,\n",
            "             0,     0,     0,     0,     0,     0,     0,     0,     0,     0,\n",
            "             0,     0,     0,     0,     0,     0,     0,     0,     0,     0,\n",
            "             0,     0,     0,     0],\n",
            "        [  101,  1996,  2023,  2695,  2064,  2022,  2000,  2146,  1998,  5236,\n",
            "          1010,  2021,  1045,  2066,  2000,  5587,  2023,  4045,  2477,  2182,\n",
            "          2000,  5254,  2008,  2070,  2801,  2064,  2022,  6742,  2174, 10021,\n",
            "          1998,  5448,  5278,  1012,   102,  1045,  2079,  2025, 19337,  3512,\n",
            "          2009,  2012,  2035,  2022, 10841, 11022,  2043,  1045,  2001,  2402,\n",
            "          1045,  2295,  2714,  1010,  2021,  2113,  1045, 19337, 18697,  5236,\n",
            "          2003,  5236,  1012,   102]])\n",
            "Attention Masks: tensor([[1, 1, 1, 1, 1, 1, 1, 1, 1, 1, 1, 1, 1, 1, 1, 1, 1, 1, 1, 1, 1, 1, 1, 1,\n",
            "         1, 1, 1, 1, 1, 1, 1, 1, 1, 1, 0, 0, 0, 0, 0, 0, 0, 0, 0, 0, 0, 0, 0, 0,\n",
            "         0, 0, 0, 0, 0, 0, 0, 0, 0, 0, 0, 0, 0, 0, 0, 0],\n",
            "        [1, 1, 1, 1, 1, 1, 1, 1, 1, 1, 1, 1, 1, 1, 1, 1, 1, 1, 1, 1, 1, 1, 1, 1,\n",
            "         1, 0, 0, 0, 0, 0, 0, 0, 0, 0, 0, 0, 0, 0, 0, 0, 0, 0, 0, 0, 0, 0, 0, 0,\n",
            "         0, 0, 0, 0, 0, 0, 0, 0, 0, 0, 0, 0, 0, 0, 0, 0],\n",
            "        [1, 1, 1, 1, 1, 1, 1, 1, 1, 1, 1, 1, 1, 1, 1, 1, 1, 1, 1, 1, 1, 1, 1, 1,\n",
            "         1, 1, 1, 1, 1, 1, 1, 1, 1, 1, 1, 1, 1, 1, 1, 1, 1, 1, 1, 1, 1, 1, 1, 1,\n",
            "         1, 1, 1, 1, 1, 1, 1, 1, 1, 1, 1, 1, 1, 1, 1, 1]])\n",
            "---------------------------------------------------------------\n",
            "Input IDs: [101, 2023, 2003, 1037, 2200, 2146, 2742, 2695, 2008, 23651, 1996, 19204, 5787, 1012, 102, 2023, 2003, 1037, 2460, 7615, 1012, 2005, 2122, 13467, 19204, 2015, 2057, 2342, 2000, 5587, 2070, 4084, 1012, 102, 0, 0, 0, 0, 0, 0, 0, 0, 0, 0, 0, 0, 0, 0, 0, 0, 0, 0, 0, 0, 0, 0, 0, 0, 0, 0, 0, 0, 0, 0] [101, 2178, 2742, 1997, 1037, 2695, 2007, 2062, 4180, 1012, 102, 2178, 2460, 7928, 14406, 2015, 2008, 2488, 4180, 2003, 1996, 2146, 3924, 1012, 102, 0, 0, 0, 0, 0, 0, 0, 0, 0, 0, 0, 0, 0, 0, 0, 0, 0, 0, 0, 0, 0, 0, 0, 0, 0, 0, 0, 0, 0, 0, 0, 0, 0, 0, 0, 0, 0, 0, 0] [101, 1996, 2023, 2695, 2064, 2022, 2000, 2146, 1998, 5236, 1010, 2021, 1045, 2066, 2000, 5587, 2023, 4045, 2477, 2182, 2000, 5254, 2008, 2070, 2801, 2064, 2022, 6742, 2174, 10021, 1998, 5448, 5278, 1012, 102, 1045, 2079, 2025, 19337, 3512, 2009, 2012, 2035, 2022, 10841, 11022, 2043, 1045, 2001, 2402, 1045, 2295, 2714, 1010, 2021, 2113, 1045, 19337, 18697, 5236, 2003, 5236, 1012, 102]\n",
            "Attention Masks: [1, 1, 1, 1, 1, 1, 1, 1, 1, 1, 1, 1, 1, 1, 1, 1, 1, 1, 1, 1, 1, 1, 1, 1, 1, 1, 1, 1, 1, 1, 1, 1, 1, 1, 0, 0, 0, 0, 0, 0, 0, 0, 0, 0, 0, 0, 0, 0, 0, 0, 0, 0, 0, 0, 0, 0, 0, 0, 0, 0, 0, 0, 0, 0] [1, 1, 1, 1, 1, 1, 1, 1, 1, 1, 1, 1, 1, 1, 1, 1, 1, 1, 1, 1, 1, 1, 1, 1, 1, 0, 0, 0, 0, 0, 0, 0, 0, 0, 0, 0, 0, 0, 0, 0, 0, 0, 0, 0, 0, 0, 0, 0, 0, 0, 0, 0, 0, 0, 0, 0, 0, 0, 0, 0, 0, 0, 0, 0] [1, 1, 1, 1, 1, 1, 1, 1, 1, 1, 1, 1, 1, 1, 1, 1, 1, 1, 1, 1, 1, 1, 1, 1, 1, 1, 1, 1, 1, 1, 1, 1, 1, 1, 1, 1, 1, 1, 1, 1, 1, 1, 1, 1, 1, 1, 1, 1, 1, 1, 1, 1, 1, 1, 1, 1, 1, 1, 1, 1, 1, 1, 1, 1]\n",
            "---------------------------------------------------------------\n",
            "Decoded Tokens (Sample 1): [CLS] this is a very long example post that exceeds the token limit. [SEP] this is a short comment. for these exceed tokens we need to add some steps. [SEP] [PAD] [PAD] [PAD] [PAD] [PAD] [PAD] [PAD] [PAD] [PAD] [PAD] [PAD] [PAD] [PAD] [PAD] [PAD] [PAD] [PAD] [PAD] [PAD] [PAD] [PAD] [PAD] [PAD] [PAD] [PAD] [PAD] [PAD] [PAD] [PAD] [PAD]\n",
            "******************************************************\n",
            "Decoded Tokens (Sample 2): [CLS] another example of a post with more content. [SEP] another short commentshows that better content is the long ones. [SEP] [PAD] [PAD] [PAD] [PAD] [PAD] [PAD] [PAD] [PAD] [PAD] [PAD] [PAD] [PAD] [PAD] [PAD] [PAD] [PAD] [PAD] [PAD] [PAD] [PAD] [PAD] [PAD] [PAD] [PAD] [PAD] [PAD] [PAD] [PAD] [PAD] [PAD] [PAD] [PAD] [PAD] [PAD] [PAD] [PAD] [PAD] [PAD] [PAD]\n",
            "******************************************************\n",
            "Decoded Tokens (Sample 3): [CLS] the this post can be to long and stupid, but i like to add this scientific things here to mention that some idea can be practical however silly and opinion changing. [SEP] i do not belive it at all becuase when i was young i though similar, but know i beleve stupid is stupid. [SEP]\n"
          ]
        }
      ],
      "source": [
        "# testing the dataset with the Example data as below:\n",
        "\n",
        "# Example data\n",
        "postsamp = [\n",
        "    \"This is a very long example post that exceeds the token limit.\",\n",
        "    \"Another example of a post with more content.\",\n",
        "    \"the this post can be to long and stupid, but i like to add this scientific things here to mention that some idea can be practical however silly and opinion changing.\"\n",
        "]\n",
        "commentsamp = [\n",
        "    \"This is a short comment. for these exceed tokens we need to add some steps.\",\n",
        "    \"Another short commentshows that better content is the long ones.\",\n",
        "    \"I do not belive it at all becuase when i was young I though similar, but know i beleve stupid is stupid.\"\n",
        "]\n",
        "labelsamp = [1, 2, 0]  # Ensure at least 2 samples per class\n",
        "\n",
        "# Test the function smart_truncate_and_tokenize_with_logging\n",
        "tokens = smart_truncate_and_tokenize(postsamp, commentsamp)\n",
        "\n",
        "# Inspect tokenized results 1\n",
        "print(\"Input IDs:\", tokens['input_ids'])\n",
        "print(\"Attention Masks:\", tokens['attention_mask'])\n",
        "print(\"---------------------------------------------------------------\")\n",
        "# print both sentences reuslt of tokenizing for 3\n",
        "\n",
        "print(\"Input IDs:\", tokens['input_ids'][0].tolist(), tokens['input_ids'][1].tolist(), tokens['input_ids'][2].tolist())\n",
        "print(\"Attention Masks:\", tokens['attention_mask'][0].tolist(), tokens['attention_mask'][1].tolist(), tokens['attention_mask'][2].tolist())\n",
        "print(\"---------------------------------------------------------------\")\n",
        "# Decode a sample\n",
        "decoded_text_1 = tokenizer.decode(tokens['input_ids'][0].tolist(), skip_special_tokens=False)\n",
        "print(\"Decoded Tokens (Sample 1):\", decoded_text_1)\n",
        "print(\"******************************************************\")\n",
        "\n",
        "decoded_text_2= tokenizer.decode(tokens['input_ids'][1].tolist(), skip_special_tokens=False)\n",
        "print(\"Decoded Tokens (Sample 2):\", decoded_text_2)\n",
        "print(\"******************************************************\")\n",
        "decoded_text_3= tokenizer.decode(tokens['input_ids'][2].tolist(), skip_special_tokens=False)\n",
        "print(\"Decoded Tokens (Sample 3):\", decoded_text_3)\n",
        "# Test the function smart_truncate_and_tokenize\n",
        "#tokens = smart_truncate_and_tokenize(postsamp, comments)\n",
        "\n",
        "# Inspect tokenized results\n",
        "#print(\"Input IDs:\", tokens['input_ids'])\n",
        "#print(\"Attention Masks:\", tokens['attention_mask'])\n",
        "\n",
        "# Decode a sample\n",
        "#decoded_text = tokenizer.decode(tokens['input_ids'][0].tolist(), skip_special_tokens=False)\n",
        "#print(\"Decoded Tokens (Sample 1):\", decoded_text)"
      ]
    },
    {
      "cell_type": "code",
      "execution_count": null,
      "id": "0hpzV5bUP3YV",
      "metadata": {
        "colab": {
          "base_uri": "https://localhost:8080/"
        },
        "id": "0hpzV5bUP3YV",
        "outputId": "f17c22c6-d7ab-4291-c1f4-2c993b1ec7a5"
      },
      "outputs": [
        {
          "name": "stdout",
          "output_type": "stream",
          "text": [
            "Length of posts: 6000\n",
            "Length of comments: 6000\n",
            "Length of labels: 6000\n"
          ]
        }
      ],
      "source": [
        "# Verify lengths\n",
        "print(f\"Length of posts: {len(posts)}\")\n",
        "print(f\"Length of comments: {len(comments)}\")\n",
        "print(f\"Length of labels: {len(labels)}\")"
      ]
    },
    {
      "cell_type": "code",
      "execution_count": null,
      "id": "Q656ZjhXPvIF",
      "metadata": {
        "colab": {
          "base_uri": "https://localhost:8080/"
        },
        "id": "Q656ZjhXPvIF",
        "outputId": "01feff1f-7fe5-410d-9328-2fa1adec4f90"
      },
      "outputs": [
        {
          "name": "stdout",
          "output_type": "stream",
          "text": [
            "\n",
            "=== Splitting Dataset ===\n",
            "Training set size: 4800\n",
            "Validation set size: 1200\n",
            "\n",
            "=== Tokenizing Data ===\n",
            "\n",
            "=== Example from Training Dataset ===\n",
            "input_ids: tensor([  101,  2026, 10100,  2005,  2026,  4366,  1024, 16204,  2003,  1037,\n",
            "         6134,  1045,  4758,  9415,  1999,  1996,  2142,  2163,  1997,  2637,\n",
            "         1012,  2023,  2965,  2008,  1999,  2151,  3295,  1999,  1996,  2142,\n",
            "         2163,  1996,  6664,  1997, 17985,  2003,  1037,  4126,  1012,  2009,\n",
            "         2515,  2025,  3043,  2065,  2017,  2444,  1999,  1037,  3423,  2110,\n",
            "         1010,  2107,  2004,  2026,  2188,  2110,  2047,  2259,  1012,  6664,\n",
            "         1997, 17985,  2003,  1037,  4126,  1012,  2065,  1037,  2110,  3423,\n",
            "        10057, 17985,  1010,  2023,  3432,  2965,  2008,  2110, 26246,  1998,\n",
            "         3164,  2610,  3685,  6545,  2017,  2005,  6664,  2065,  2017,  2024,\n",
            "         2538,  2030,  2058,  2007,  3056, 12546,  1012,  6516,  1010,  2009,\n",
            "         2003,  2139, 13743,  3423,  1999,  2008,  2110,  1012,  3720,  6819,\n",
            "         2930,  1016,  1997,  1996,  2149,  4552,  2003,  1996, 22006, 11075,\n",
            "         2008,  2163,  3056,  2976,  4490,  2202,  9470,  2058,  2151,  2110,\n",
            "         4490,  2008,  4736,  2007,  2976,  2375,  1012, 17985,  2069,  3464,\n",
            "         3423,  1999,  2122,  2163,  2138,  2023,  4736,  2003,  2747,  4895,\n",
            "        18598,  7770,  5999,  1999,  2457,  1012,  2065,  1996,  2976,  2231,\n",
            "         1010,  2005,  2151,  3114,  1010,  2787,  2000,  9790,  1037,  2110,\n",
            "         2231,  2005,  3423,  6026, 17985,  1010,  2009,  2052, 17319,  2203,\n",
            "         2039,  1999,  1996,  4259,  2457,  1998,  1996,  4259,  2457,  2052,\n",
            "         3202,  2217,  2007,  1996,  2976,  2231,  8951,  3720,  6819,  2930,\n",
            "         1016,  1997,  1996,  2149,  4552,  1012,  2004,  1037,  2765,  1997,\n",
            "         2023,  1010, 17985,  2052,  2128,  1011,  2468,  6206,  1999,  2035,\n",
            "         2753,  2163,  1012,  2065,  2107,  2019,  2724,  2052,  9099, 20781,\n",
            "         1010, 15768,  1999,  2137, 17985,  3316,  1998,  4487, 13102,  6132,\n",
            "         5649,  5661,  2052,  2468, 22692,  2004,  2027,  2052,  2022,  3202,\n",
            "         8532,  2011,  2610,  1012,  3568,  1010,  1996,  2783, 27722,  3247,\n",
            "         2000,  2025,  7323,  2023,  2003,  1996,  2069,  2518,  4363, 15768,\n",
            "         1999, 17985,  3316,  2030, 17985,  3136,  1999,  1996,  2142,  2163,\n",
            "         2013,  3352, 12580, 22692,  1012,  1996,  2783,  3447,  2003,  3811,\n",
            "         9832,  2000,  3423,  4697, 17985,  2030, 21825,  1996,  4758, 13978,\n",
            "         2552,  1012,  1996,  2279,  3447,  2003,  1006,  2004,  1997,  2085,\n",
            "         1007,  3497,  2000,  7141,  2000,  1996,  3951,  2283,  1010,  1996,\n",
            "         4132,  1997,  2029,  2515,  2025,  8752,  1996,  3423,  3989,  1997,\n",
            "        17985,  1012,  2138,  1997,  1996,  2682,  2685,  1010,  2026,  3193,\n",
            "         2003,  2008,  4518,  1999, 17985,  3316,  2003,  2019,  5186,  4895,\n",
            "        14244,  2146,  1011,  2744,  5211,  1999,  1996,  2783,  2576,   102,\n",
            "         2138,  1996,  2175,  2361, 10153,  2180,  2102,  3789,  2005,  2009,\n",
            "         1012,  1996,  2160,  2979,  6094,  1012,   102,     0,     0,     0,\n",
            "            0,     0,     0,     0,     0,     0,     0,     0,     0,     0,\n",
            "            0,     0,     0,     0,     0,     0,     0,     0,     0,     0,\n",
            "            0,     0,     0,     0,     0,     0,     0,     0,     0,     0,\n",
            "            0,     0,     0,     0,     0,     0,     0,     0,     0,     0,\n",
            "            0,     0,     0,     0,     0,     0,     0,     0,     0,     0,\n",
            "            0,     0,     0,     0,     0,     0,     0,     0,     0,     0,\n",
            "            0,     0,     0,     0,     0,     0,     0,     0,     0,     0,\n",
            "            0,     0,     0,     0,     0,     0,     0,     0,     0,     0,\n",
            "            0,     0,     0,     0,     0,     0,     0,     0,     0,     0,\n",
            "            0,     0,     0,     0,     0,     0,     0,     0,     0,     0,\n",
            "            0,     0,     0,     0,     0,     0,     0,     0,     0,     0,\n",
            "            0,     0,     0,     0,     0,     0,     0,     0,     0,     0,\n",
            "            0,     0,     0,     0,     0,     0,     0,     0,     0,     0,\n",
            "            0,     0])\n",
            "attention_mask: tensor([1, 1, 1, 1, 1, 1, 1, 1, 1, 1, 1, 1, 1, 1, 1, 1, 1, 1, 1, 1, 1, 1, 1, 1,\n",
            "        1, 1, 1, 1, 1, 1, 1, 1, 1, 1, 1, 1, 1, 1, 1, 1, 1, 1, 1, 1, 1, 1, 1, 1,\n",
            "        1, 1, 1, 1, 1, 1, 1, 1, 1, 1, 1, 1, 1, 1, 1, 1, 1, 1, 1, 1, 1, 1, 1, 1,\n",
            "        1, 1, 1, 1, 1, 1, 1, 1, 1, 1, 1, 1, 1, 1, 1, 1, 1, 1, 1, 1, 1, 1, 1, 1,\n",
            "        1, 1, 1, 1, 1, 1, 1, 1, 1, 1, 1, 1, 1, 1, 1, 1, 1, 1, 1, 1, 1, 1, 1, 1,\n",
            "        1, 1, 1, 1, 1, 1, 1, 1, 1, 1, 1, 1, 1, 1, 1, 1, 1, 1, 1, 1, 1, 1, 1, 1,\n",
            "        1, 1, 1, 1, 1, 1, 1, 1, 1, 1, 1, 1, 1, 1, 1, 1, 1, 1, 1, 1, 1, 1, 1, 1,\n",
            "        1, 1, 1, 1, 1, 1, 1, 1, 1, 1, 1, 1, 1, 1, 1, 1, 1, 1, 1, 1, 1, 1, 1, 1,\n",
            "        1, 1, 1, 1, 1, 1, 1, 1, 1, 1, 1, 1, 1, 1, 1, 1, 1, 1, 1, 1, 1, 1, 1, 1,\n",
            "        1, 1, 1, 1, 1, 1, 1, 1, 1, 1, 1, 1, 1, 1, 1, 1, 1, 1, 1, 1, 1, 1, 1, 1,\n",
            "        1, 1, 1, 1, 1, 1, 1, 1, 1, 1, 1, 1, 1, 1, 1, 1, 1, 1, 1, 1, 1, 1, 1, 1,\n",
            "        1, 1, 1, 1, 1, 1, 1, 1, 1, 1, 1, 1, 1, 1, 1, 1, 1, 1, 1, 1, 1, 1, 1, 1,\n",
            "        1, 1, 1, 1, 1, 1, 1, 1, 1, 1, 1, 1, 1, 1, 1, 1, 1, 1, 1, 1, 1, 1, 1, 1,\n",
            "        1, 1, 1, 1, 1, 1, 1, 1, 1, 1, 1, 1, 1, 1, 1, 1, 1, 1, 1, 1, 1, 1, 1, 1,\n",
            "        1, 1, 1, 1, 1, 1, 1, 1, 1, 1, 1, 1, 1, 1, 1, 1, 1, 1, 1, 1, 1, 1, 1, 1,\n",
            "        1, 1, 1, 1, 1, 1, 1, 1, 1, 1, 1, 1, 1, 1, 1, 1, 1, 0, 0, 0, 0, 0, 0, 0,\n",
            "        0, 0, 0, 0, 0, 0, 0, 0, 0, 0, 0, 0, 0, 0, 0, 0, 0, 0, 0, 0, 0, 0, 0, 0,\n",
            "        0, 0, 0, 0, 0, 0, 0, 0, 0, 0, 0, 0, 0, 0, 0, 0, 0, 0, 0, 0, 0, 0, 0, 0,\n",
            "        0, 0, 0, 0, 0, 0, 0, 0, 0, 0, 0, 0, 0, 0, 0, 0, 0, 0, 0, 0, 0, 0, 0, 0,\n",
            "        0, 0, 0, 0, 0, 0, 0, 0, 0, 0, 0, 0, 0, 0, 0, 0, 0, 0, 0, 0, 0, 0, 0, 0,\n",
            "        0, 0, 0, 0, 0, 0, 0, 0, 0, 0, 0, 0, 0, 0, 0, 0, 0, 0, 0, 0, 0, 0, 0, 0,\n",
            "        0, 0, 0, 0, 0, 0, 0, 0])\n",
            "labels: 0\n"
          ]
        }
      ],
      "source": [
        "# Split dataset\n",
        "print(\"\\n=== Splitting Dataset ===\")\n",
        "train_posts, val_posts, train_comments, val_comments, train_labels, val_labels = train_test_split(\n",
        "    posts, comments, labels, test_size=0.2, random_state=42, stratify=labels  # Stratify ensures balanced label distribution\n",
        ")\n",
        "print(f\"Training set size: {len(train_posts)}\")\n",
        "print(f\"Validation set size: {len(val_posts)}\")\n",
        "\n",
        "# Tokenize data\n",
        "print(\"\\n=== Tokenizing Data ===\")\n",
        "train_tokens = smart_truncate_and_tokenize(train_posts, train_comments)\n",
        "val_tokens = smart_truncate_and_tokenize(val_posts, val_comments)\n",
        "\n",
        "# Add labels to token dictionaries\n",
        "train_tokens['labels'] = torch.tensor(train_labels, dtype=torch.long)  # Ensure labels are of type `torch.long`\n",
        "val_tokens['labels'] = torch.tensor(val_labels, dtype=torch.long)\n",
        "\n",
        "# Dataset class\n",
        "class TextDataset(Dataset):\n",
        "    def __init__(self, tokens):\n",
        "        self.tokens = tokens\n",
        "\n",
        "    def __len__(self):\n",
        "        return len(self.tokens['labels'])  # Length is based on the number of labels\n",
        "\n",
        "    def __getitem__(self, idx):\n",
        "        # Return a dictionary of input_ids, attention_mask, and labels for the given index\n",
        "        return {key: val[idx] for key, val in self.tokens.items()}\n",
        "\n",
        "# Create datasets\n",
        "train_dataset = TextDataset(train_tokens)\n",
        "val_dataset = TextDataset(val_tokens)\n",
        "\n",
        "# Print example from the dataset\n",
        "print(\"\\n=== Example from Training Dataset ===\")\n",
        "example = train_dataset[0]\n",
        "for key, value in example.items():\n",
        "    print(f\"{key}: {value}\")\n"
      ]
    },
    {
      "cell_type": "code",
      "execution_count": null,
      "id": "cUlN15WNnOax",
      "metadata": {
        "colab": {
          "base_uri": "https://localhost:8080/"
        },
        "id": "cUlN15WNnOax",
        "outputId": "5d602f13-128a-4dd2-cf8a-d38487e342a6"
      },
      "outputs": [
        {
          "name": "stdout",
          "output_type": "stream",
          "text": [
            "Length of input_ids: 512\n",
            "Length of attention_mask: 512\n",
            "_______________________________________________________\n",
            "Decoded Text: my foundations for my claim : marijuana is a schedule i controlled substance in the united states of america. this means that in any location in the united states the possession of cannabis is a crime. it does not matter if you live in a legal state, such as my home state new york. possession of cannabis is a crime. if a state legalizes cannabis, this simply means that state troopers and regional police cannot arrest you for possession if you are 21 or over with certain limitations. hence, it is de facto legal in that state. article vi section 2 of the us constitution is the supremacy clause that states certain federal acts take priority over any state acts that conflict with federal law. cannabis only remains legal in these states because this conflict is currently unchallenged in court. if the federal government, for any reason, decided to sue a state government for legalizing cannabis, it would undoubtedly end up in the supreme court and the supreme court would immediately side with the federal government citing article vi section 2 of the us constitution. as a result of this, cannabis would re - become illegal in all 50 states. if such an event would transpire, stocks in american cannabis companies and dispensary businesses would become worthless as they would be immediately disbanded by police. therefore, the current administrations decision to not pursue this is the only thing keeping stocks in cannabis companies or cannabis operations in the united states from becoming utterly worthless. the current administration is highly unlikely to legalize cannabis or repeal the controlled substances act. the next administration is ( as of now ) likely to belong to the republican party, the platform of which does not accommodate the legalization of cannabis. because of the above points, my view is that stock in cannabis companies is an extremely unwise long - term investment in the current political because the gop senators wont vote for it. the house passed legislation.\n",
            "_______________________________________________________\n",
            "Training Label Distribution: Counter({0: 2278, 1: 1635, 2: 887})\n",
            "Validation Label Distribution: Counter({0: 569, 1: 409, 2: 222})\n"
          ]
        }
      ],
      "source": [
        "print(f\"Length of input_ids: {len(example['input_ids'])}\")\n",
        "print(f\"Length of attention_mask: {len(example['attention_mask'])}\")\n",
        "assert len(example['input_ids']) == len(example['attention_mask']), \"Mismatch in lengths!\"\n",
        "print(\"_______________________________________________________\")\n",
        "\n",
        "decoded_text = tokenizer.decode(example['input_ids'], skip_special_tokens=True)\n",
        "print(f\"Decoded Text: {decoded_text}\")\n",
        "print(\"_______________________________________________________\")\n",
        "\n",
        "from collections import Counter\n",
        "\n",
        "print(\"Training Label Distribution:\", Counter(train_labels))\n",
        "print(\"Validation Label Distribution:\", Counter(val_labels))\n",
        "\n"
      ]
    },
    {
      "cell_type": "code",
      "execution_count": null,
      "id": "2rN5Eb1boNeg",
      "metadata": {
        "colab": {
          "base_uri": "https://localhost:8080/"
        },
        "id": "2rN5Eb1boNeg",
        "outputId": "65109bba-30b5-4c0a-cabe-08e5a2d7478a"
      },
      "outputs": [
        {
          "name": "stdout",
          "output_type": "stream",
          "text": [
            "Padding Token ID: 0\n",
            "Padding in Input IDs: tensor([0, 0, 0, 0, 0, 0, 0, 0, 0, 0])\n"
          ]
        }
      ],
      "source": [
        "print(f\"Padding Token ID: {tokenizer.pad_token_id}\")\n",
        "print(f\"Padding in Input IDs: {example['input_ids'][-10:]}\")  # Last 10 tokens\n"
      ]
    },
    {
      "cell_type": "code",
      "execution_count": null,
      "id": "svKF_6sKj_-L",
      "metadata": {
        "id": "svKF_6sKj_-L"
      },
      "outputs": [],
      "source": []
    },
    {
      "cell_type": "code",
      "execution_count": null,
      "id": "OYSBw7J4fJRe",
      "metadata": {
        "colab": {
          "base_uri": "https://localhost:8080/"
        },
        "id": "OYSBw7J4fJRe",
        "outputId": "05e05ab8-026c-4721-9b17-38a105c93efa"
      },
      "outputs": [
        {
          "name": "stdout",
          "output_type": "stream",
          "text": [
            "\n",
            "=== Checking Data Split ===\n",
            "Total samples: 6000\n",
            "Training samples: 4800 (80.0%)\n",
            "Validation samples: 1200 (20.0%)\n",
            "\n",
            "=== Checking Label Distribution ===\n",
            "Original labels: Counter({0: 2847, 1: 2044, 2: 1109})\n",
            "Training labels: Counter({0: 2278, 1: 1635, 2: 887})\n",
            "Validation labels: Counter({0: 569, 1: 409, 2: 222})\n",
            "\n",
            "=== Checking Tokenization ===\n",
            "Token counts:\n",
            "Input IDs length: 512\n",
            "Attention mask length: 512\n",
            "Number of actual tokens (non-padding): 377\n",
            "\n",
            "=== Checking Token Decoding ===\n",
            "Original post: my foundations for my claim: marijuana is a schedule i controlled substance in the united states of ...\n",
            "Decoded text: my foundations for my claim : marijuana is a schedule i controlled substance in the united states of...\n",
            "\n",
            "=== Checking Tensor Shapes ===\n",
            "input_ids: torch.Size([512])\n",
            "attention_mask: torch.Size([512])\n",
            "labels: torch.Size([])\n"
          ]
        }
      ],
      "source": [
        "# 1. Check data split proportions\n",
        "print(\"\\n=== Checking Data Split ===\")\n",
        "print(f\"Total samples: {len(posts)}\")\n",
        "print(f\"Training samples: {len(train_posts)} ({len(train_posts)/len(posts)*100:.1f}%)\")\n",
        "print(f\"Validation samples: {len(val_posts)} ({len(val_posts)/len(posts)*100:.1f}%)\")\n",
        "\n",
        "# 2. Check label distribution\n",
        "print(\"\\n=== Checking Label Distribution ===\")\n",
        "from collections import Counter\n",
        "print(\"Original labels:\", Counter(labels))\n",
        "print(\"Training labels:\", Counter(train_labels))\n",
        "print(\"Validation labels:\", Counter(val_labels))\n",
        "\n",
        "# 3. Check tokenization\n",
        "print(\"\\n=== Checking Tokenization ===\")\n",
        "# Check first example\n",
        "example = train_dataset[0]\n",
        "print(\"Token counts:\")\n",
        "print(f\"Input IDs length: {len(example['input_ids'])}\")\n",
        "print(f\"Attention mask length: {len(example['attention_mask'])}\")\n",
        "print(f\"Number of actual tokens (non-padding): {sum(example['attention_mask'])}\")\n",
        "\n",
        "# 4. Decode an example to verify text\n",
        "print(\"\\n=== Checking Token Decoding ===\")\n",
        "decoded_text = tokenizer.decode(example['input_ids'], skip_special_tokens=True)\n",
        "print(f\"Original post: {train_posts[0][:100]}...\")\n",
        "print(f\"Decoded text: {decoded_text[:100]}...\")\n",
        "\n",
        "# 5. Check tensor shapes\n",
        "print(\"\\n=== Checking Tensor Shapes ===\")\n",
        "for key, value in example.items():\n",
        "    print(f\"{key}: {value.shape}\")\n",
        "\n"
      ]
    },
    {
      "cell_type": "code",
      "execution_count": null,
      "id": "B7ikfA-5o9DP",
      "metadata": {
        "colab": {
          "base_uri": "https://localhost:8080/"
        },
        "id": "B7ikfA-5o9DP",
        "outputId": "183fff17-90d8-40d9-87cc-81676428c25a"
      },
      "outputs": [
        {
          "name": "stdout",
          "output_type": "stream",
          "text": [
            "\n",
            "=== Splitting Dataset ===\n",
            "Training set size: 2\n",
            "Validation set size: 2\n",
            "\n",
            "=== Tokenizing Data ===\n",
            "\n",
            "=== Example from Training Dataset ===\n",
            "input_ids: tensor([  101,  2023,  2003,  2241,  2006,  2417, 23194,  1998,  2591,  2865,\n",
            "         1010,  3151,  2865,  1010,  1998,  3331,  2000,  2111,  1006,  2036,\n",
            "         2672,  1037,  4512,  2007,  2619,  2073,  2009,  3849,  2066,  2027,\n",
            "         2081,  1037,  2204,  2391,  1006,  2023,  2391,  1007,  1998,  1045,\n",
            "         2134,  2102,  2031,  2204,  4675,  9918,  2870,  1007,  1012,  1012,\n",
            "        10468,  7188,  2619,  2013,  1037,  6964,  2417,  2110,  7566,  2055,\n",
            "        11210,  2027,  2444,  1010,  2027,  2123,  2102, 17612,  2066,  2111,\n",
            "         2013,  2630,  2163,  2079,  1012,  2009,  3849,  2066,  2065,  2017,\n",
            "         2024,  1037,  7672,  2542,  1999,  1037,  7672,  2103,  1999,  1037,\n",
            "         2417,  2110,  1998,  2031,  1037,  7672,  2005,  2343,  1010,  2059,\n",
            "         2017,  2097,  2022,  3407,  1012,  2471,  2035, 13350,  2006,  2591,\n",
            "         2865,  1010,  2865,  1010,  1998,  1999,  2711,  2013,  3182,  2066,\n",
            "         8423,  1010,  5865,  1010,  5395,  1010,  5759,  1010,  2624,  4980,\n",
            "         1010, 10108,  1010, 22889,  2278,  1010, 23193,  1010,  5111,  2103,\n",
            "         1010,  5904,  1010, 10907,  1010,  4385,  1012,  1010,  2831,  2055,\n",
            "         2129,  6429,  2037,  3655,  2024,  1006,  1998,  2129,  4314,  2027,\n",
            "         2024,  1007,  1012,  2027,  2453, 17612,  2055,  3951, 11141,  2030,\n",
            "         2108,  1999,  1037,  3951,  2110,  1010,  2021,  7188,  1045,  2031,\n",
            "         2657,  9918,  2055,  2477,  1996,  3099,  2038,  2589, 19762, 12473,\n",
            "         1996,  2110,  1010,  1045,  2788,  2069,  2963,  2055,  2129,  2009,\n",
            "        19762, 13531,  1996,  2163,  3746,  1012,  1998,  2027,  4025,  2000,\n",
            "         2074, 17612,  2055,  1996,  2110,  2108,  3951,  2738,  2084,  2129,\n",
            "         2009, 13531,  2068,  1012,  1998,  2383,  1037,  3951,  3099,  2030,\n",
            "         2108,  1037,  2417,  2110,  2987,  2102,  4025,  2000,  2031,  2151,\n",
            "         4997,  7461,  2013,  1037,  4314,  7339,  2006,  3537,  1010,  2630,\n",
            "         3655,  1012,  1006,  4102,  2000,  4603,  2111,  1999,  2417,  2752,\n",
            "         1997,  2630,  2163,  2040,  7887, 17612,  2055,  2129,  6659,  2037,\n",
            "         2110,  2003,  1998,  2129,  2037,  4279,  2024,  2108,  3908,  2011,\n",
            "         3537,  6043,  1007,  1012,  1045,  6524,  2963, 10821,  2055,  3563,\n",
            "         3934,  1010,  2030,  3056,  6043,  2030,  3934,  2383,  1037,  4997,\n",
            "         4254,  2030,  2108,  2589,  9996,  1006,  2926,  1999,  1037,  5509,\n",
            "         2126,  1010,  2005,  2742,  1045,  2453,  2963,  2111, 17612,  2055,\n",
            "         1037,  3146, 11324,  2375,  1010,  2021,  1045,  2123,  2102,  2963,\n",
            "         2009, 10366,  2066,  3146,  2003,  9202,  2005,  2308,  2030,  3146,\n",
            "         2038,  9202, 15124,  4071,  1010,  2096,  1045,  2079,  2963,  1996,\n",
            "         4500,  2007,  2630,  2163,  1007,  1012,  1045,  2926,  2123,   102,\n",
            "          999,  1012,  2023,  2003,  3599,  1996,  3437,  1045,  2572,  2559,\n",
            "         2005,   999,  2624,  3799,  2003,  2025,  1996,  2353,  2088,  3109,\n",
            "        11484,  2008,  2017,  1005,  2310,  2042,  2409,  1010,  1042, 10139,\n",
            "         1012,  1045,  2481,  1005,  1056,  4392,  1996, 11112,  2300,  1999,\n",
            "         5395,  1012,  2009,  2001,  3756,  1010, 12595,  6881,  1998,  2001,\n",
            "         5681,  5621, 25135,  1012,  3071,  1045,  2354,  2069, 10749, 26071,\n",
            "         2300,  1012,  2026,  2300,  1999,  2624,  3799,  2003,  6429,  1012,\n",
            "         1045,  2123,  1005,  1056,  2130,  2342,  1037, 11307,  1012,  1045,\n",
            "         2147,  1999,  4200,  1010,  1998,  2009,  3084,  1037,  4121,  4489,\n",
            "         1996,  4423,  2740,  5427,  2008,  6526,  1012,  2624,  3799,  2038,\n",
            "         3471,  1010,  2021,  2027,  2024,  2025,  4788,  2084,  2151,  2502,\n",
            "         2103,  1012,  1045,  2467,  2963,  1996,  4500,  1006,  2748,  2019,\n",
            "         8586, 27364,  3973,  1010,  2061,  1045,  9120,  2023,  5448,  1997,\n",
            "         2619,  2040,  2038,  2973,  1999,  2119,  3182,   999,   999,   999,\n",
            "          102,     0,     0,     0,     0,     0,     0,     0,     0,     0,\n",
            "            0,     0])\n",
            "attention_mask: tensor([1, 1, 1, 1, 1, 1, 1, 1, 1, 1, 1, 1, 1, 1, 1, 1, 1, 1, 1, 1, 1, 1, 1, 1,\n",
            "        1, 1, 1, 1, 1, 1, 1, 1, 1, 1, 1, 1, 1, 1, 1, 1, 1, 1, 1, 1, 1, 1, 1, 1,\n",
            "        1, 1, 1, 1, 1, 1, 1, 1, 1, 1, 1, 1, 1, 1, 1, 1, 1, 1, 1, 1, 1, 1, 1, 1,\n",
            "        1, 1, 1, 1, 1, 1, 1, 1, 1, 1, 1, 1, 1, 1, 1, 1, 1, 1, 1, 1, 1, 1, 1, 1,\n",
            "        1, 1, 1, 1, 1, 1, 1, 1, 1, 1, 1, 1, 1, 1, 1, 1, 1, 1, 1, 1, 1, 1, 1, 1,\n",
            "        1, 1, 1, 1, 1, 1, 1, 1, 1, 1, 1, 1, 1, 1, 1, 1, 1, 1, 1, 1, 1, 1, 1, 1,\n",
            "        1, 1, 1, 1, 1, 1, 1, 1, 1, 1, 1, 1, 1, 1, 1, 1, 1, 1, 1, 1, 1, 1, 1, 1,\n",
            "        1, 1, 1, 1, 1, 1, 1, 1, 1, 1, 1, 1, 1, 1, 1, 1, 1, 1, 1, 1, 1, 1, 1, 1,\n",
            "        1, 1, 1, 1, 1, 1, 1, 1, 1, 1, 1, 1, 1, 1, 1, 1, 1, 1, 1, 1, 1, 1, 1, 1,\n",
            "        1, 1, 1, 1, 1, 1, 1, 1, 1, 1, 1, 1, 1, 1, 1, 1, 1, 1, 1, 1, 1, 1, 1, 1,\n",
            "        1, 1, 1, 1, 1, 1, 1, 1, 1, 1, 1, 1, 1, 1, 1, 1, 1, 1, 1, 1, 1, 1, 1, 1,\n",
            "        1, 1, 1, 1, 1, 1, 1, 1, 1, 1, 1, 1, 1, 1, 1, 1, 1, 1, 1, 1, 1, 1, 1, 1,\n",
            "        1, 1, 1, 1, 1, 1, 1, 1, 1, 1, 1, 1, 1, 1, 1, 1, 1, 1, 1, 1, 1, 1, 1, 1,\n",
            "        1, 1, 1, 1, 1, 1, 1, 1, 1, 1, 1, 1, 1, 1, 1, 1, 1, 1, 1, 1, 1, 1, 1, 1,\n",
            "        1, 1, 1, 1, 1, 1, 1, 1, 1, 1, 1, 1, 1, 1, 1, 1, 1, 1, 1, 1, 1, 1, 1, 1,\n",
            "        1, 1, 1, 1, 1, 1, 1, 1, 1, 1, 1, 1, 1, 1, 1, 1, 1, 1, 1, 1, 1, 1, 1, 1,\n",
            "        1, 1, 1, 1, 1, 1, 1, 1, 1, 1, 1, 1, 1, 1, 1, 1, 1, 1, 1, 1, 1, 1, 1, 1,\n",
            "        1, 1, 1, 1, 1, 1, 1, 1, 1, 1, 1, 1, 1, 1, 1, 1, 1, 1, 1, 1, 1, 1, 1, 1,\n",
            "        1, 1, 1, 1, 1, 1, 1, 1, 1, 1, 1, 1, 1, 1, 1, 1, 1, 1, 1, 1, 1, 1, 1, 1,\n",
            "        1, 1, 1, 1, 1, 1, 1, 1, 1, 1, 1, 1, 1, 1, 1, 1, 1, 1, 1, 1, 1, 1, 1, 1,\n",
            "        1, 1, 1, 1, 1, 1, 1, 1, 1, 1, 1, 1, 1, 1, 1, 1, 1, 1, 1, 1, 1, 0, 0, 0,\n",
            "        0, 0, 0, 0, 0, 0, 0, 0])\n",
            "labels: 0\n",
            "\n",
            "=== Example from Validation Dataset ===\n",
            "input_ids: tensor([  101,  2007,  2057,  1010,  1045,  2812,  1996,  2779,  2711,  2013,\n",
            "         2885,  2030,  2167,  2637,  1012,  5155,  4933,  1010,  2066,  2694,\n",
            "         2015,  1010,  3765,  2030, 26381,  2015,  2003,  1997,  2607, 15011,\n",
            "         2006,  1996,  4044,  1012,  2008,  5260,  2000,  1996,  2801,  2008,\n",
            "         2057,  2071,  5770,  2013,  1037,  2488,  4785,  1998,  2625, 18665,\n",
            "         1010,  2065,  2057,  4149,  2216,  2477,  1998,  2714,  1999,  1037,\n",
            "         2062,  8114,  2126,  1012,  2061,  1010,  2005,  2742,  9343,  1037,\n",
            "         2047,  3042,  2296,  2176,  2086,  2612,  1997,  2296,  2048,  2086,\n",
            "         1010,  9343,  1998,  5155,  6007,  2008,  2197,  2936,  2077,  2027,\n",
            "         3338,  1010,  5983,  2334,  2612,  1997, 12564, 10962,  2062,  2411,\n",
            "         1010,  9343,  1037, 12699,  3698,  2008,  2017,  1006,  2030,  1037,\n",
            "        15893,  1007,  2064,  2330,  2039,  1998,  7192,  1012,  1006,  7615,\n",
            "         2013,  2917,  1024,  2248,  7829,  1010,  3391,  1997, 10962,  1010,\n",
            "         2003,  2062,  2522,  2475,  8114,  2084,  2028,  2071,  2228,  1012,\n",
            "         1007,  1997,  2607,  3316,  2066,  2000,  5271,  4933,  1010,  2021,\n",
            "         1999,  1996,  2203,  4995,  2102,  3316,  2074, 14305,  1997, 10390,\n",
            "         1029,  2027,  2071,  2074,  5271,  1996,  4933,  2008,  3138,  2625,\n",
            "         4219,  2021,  9005,  1996,  2168,  3643,  1012,  1006,  1045,  2113,\n",
            "         3643,  2038,  1037,  3056,  3574,  1999,  5543,  1012,  1045,  2812,\n",
            "         2009,  1999,  1996,  3168,  1997,  3167,  4180,  2098,  2791,  1010,\n",
            "         8404,  1010,  2725,  2049,  3853,  1012,  1007,  1045,  2657,  2008,\n",
            "         9343,  2062,  4933,  2084,  2017,  2342,  2003,  4072,  2005,  1996,\n",
            "         4610,  2025,  2000,  7859,  1012,  1045,  2123,  2102,  3305,  2023,\n",
            "         1998,  1045,  2514,  2066,  2008,  2015,  9951,  1012,  2130,  2043,\n",
            "         2026,  4642,  2615,  2003,  6149,  2579,  6719,  1010,  1045,  2052,\n",
            "         2145,  2507,  2041,  7160,  2015,  2005,  4760,  2033,  2019,  7613,\n",
            "         2073,  1006,  2590, 10086,  1024,  1007,  2025,  9343,  2062,  4933,\n",
            "         2084,  4072,  7807,  1996,  4610,  2130,  2065,  2017,  3294, 27770,\n",
            "         2008, 10796,  2036,  7807,  1996,  4610,  1999,  1996,  2146,  2744,\n",
            "         1012,  1045,  2052,  2036,  2507,  2041,  7160,  2015,  2006,  2339,\n",
            "         2058,  8663, 17421, 16790,  2003,  4072,  1999,  1996,  2291,  1997,\n",
            "        16498,  1010,  2138,  1045,  2123,  2102,  2156,  2008,  2593,  1012,\n",
            "         1045,  2215,  2000,  4553,   999,  2043,  2023,  2052,  6611,  2000,\n",
            "         2248,  5543,  1010,  2339,  2987,  2102,  2009,  6611,  2503,  1997,\n",
            "         3316,  1029,  2009,  3849,  7078,  9951,  2005,  1037, 10095,  2194,\n",
            "         2000,  4965,  1037,  2047, 10095,  2612,  1997, 26296,  2019,   102,\n",
            "         2008,  1005,  1055,  2025,  2129,  2111,  4965,  5350,  1012,  6343,\n",
            "         2052,  2022,  9343,  2184,  2753, 18000,  2065,  2027,  2134,  1005,\n",
            "         1056,  5247,  3156,  2006,  2028,  5583,  1012,  1996,  5821,  9005,\n",
            "         2019, 10089,  2105,  5816,  7177,  1010,  2111,  4965,  1996,  4031,\n",
            "         1010,  1996,  2194,  3621,  2689,  1996,  4031,  2061,  2008,  1996,\n",
            "         2214,  2028,  2003,  2085,  2041,  1997,  4827,  1998,  5821,  2064,\n",
            "        28667, 29313,  1996,  2168, 10089,  1012,  2009,  5260,  2000,  5567,\n",
            "         8381,  1997,  3811,  2714,  3688,  2073,  2045,  2347,  1005,  1056,\n",
            "         1037,  8360,  2342,  1012,  5816,  7177,  3685,  2022,  4550,  2135,\n",
            "         5459,  2013,  3011,  1005,  1055,  4219,  1012,  2027,  1005,  2128,\n",
            "         4415,  6970, 16570,  4383,  1012,  2111,  7166,  2000,  9530, 10258,\n",
            "         3686,  1996,  2048,  1998,  2411,  2215,  2000,  5245,  2005,  6043,\n",
            "         2008, 12992,  2037,  5816,  3570,  2130,  2065,  2009,  3463,  1999,\n",
            "         7619,  7386,  2000,  1996,  4774,  1012,  1045,  2123,  1005,  1056,\n",
            "         2113,  2040,  2122,  2111,  2024,  2030,  2054,  6043,  2017,  1005,\n",
            "         2128,   102])\n",
            "attention_mask: tensor([1, 1, 1, 1, 1, 1, 1, 1, 1, 1, 1, 1, 1, 1, 1, 1, 1, 1, 1, 1, 1, 1, 1, 1,\n",
            "        1, 1, 1, 1, 1, 1, 1, 1, 1, 1, 1, 1, 1, 1, 1, 1, 1, 1, 1, 1, 1, 1, 1, 1,\n",
            "        1, 1, 1, 1, 1, 1, 1, 1, 1, 1, 1, 1, 1, 1, 1, 1, 1, 1, 1, 1, 1, 1, 1, 1,\n",
            "        1, 1, 1, 1, 1, 1, 1, 1, 1, 1, 1, 1, 1, 1, 1, 1, 1, 1, 1, 1, 1, 1, 1, 1,\n",
            "        1, 1, 1, 1, 1, 1, 1, 1, 1, 1, 1, 1, 1, 1, 1, 1, 1, 1, 1, 1, 1, 1, 1, 1,\n",
            "        1, 1, 1, 1, 1, 1, 1, 1, 1, 1, 1, 1, 1, 1, 1, 1, 1, 1, 1, 1, 1, 1, 1, 1,\n",
            "        1, 1, 1, 1, 1, 1, 1, 1, 1, 1, 1, 1, 1, 1, 1, 1, 1, 1, 1, 1, 1, 1, 1, 1,\n",
            "        1, 1, 1, 1, 1, 1, 1, 1, 1, 1, 1, 1, 1, 1, 1, 1, 1, 1, 1, 1, 1, 1, 1, 1,\n",
            "        1, 1, 1, 1, 1, 1, 1, 1, 1, 1, 1, 1, 1, 1, 1, 1, 1, 1, 1, 1, 1, 1, 1, 1,\n",
            "        1, 1, 1, 1, 1, 1, 1, 1, 1, 1, 1, 1, 1, 1, 1, 1, 1, 1, 1, 1, 1, 1, 1, 1,\n",
            "        1, 1, 1, 1, 1, 1, 1, 1, 1, 1, 1, 1, 1, 1, 1, 1, 1, 1, 1, 1, 1, 1, 1, 1,\n",
            "        1, 1, 1, 1, 1, 1, 1, 1, 1, 1, 1, 1, 1, 1, 1, 1, 1, 1, 1, 1, 1, 1, 1, 1,\n",
            "        1, 1, 1, 1, 1, 1, 1, 1, 1, 1, 1, 1, 1, 1, 1, 1, 1, 1, 1, 1, 1, 1, 1, 1,\n",
            "        1, 1, 1, 1, 1, 1, 1, 1, 1, 1, 1, 1, 1, 1, 1, 1, 1, 1, 1, 1, 1, 1, 1, 1,\n",
            "        1, 1, 1, 1, 1, 1, 1, 1, 1, 1, 1, 1, 1, 1, 1, 1, 1, 1, 1, 1, 1, 1, 1, 1,\n",
            "        1, 1, 1, 1, 1, 1, 1, 1, 1, 1, 1, 1, 1, 1, 1, 1, 1, 1, 1, 1, 1, 1, 1, 1,\n",
            "        1, 1, 1, 1, 1, 1, 1, 1, 1, 1, 1, 1, 1, 1, 1, 1, 1, 1, 1, 1, 1, 1, 1, 1,\n",
            "        1, 1, 1, 1, 1, 1, 1, 1, 1, 1, 1, 1, 1, 1, 1, 1, 1, 1, 1, 1, 1, 1, 1, 1,\n",
            "        1, 1, 1, 1, 1, 1, 1, 1, 1, 1, 1, 1, 1, 1, 1, 1, 1, 1, 1, 1, 1, 1, 1, 1,\n",
            "        1, 1, 1, 1, 1, 1, 1, 1, 1, 1, 1, 1, 1, 1, 1, 1, 1, 1, 1, 1, 1, 1, 1, 1,\n",
            "        1, 1, 1, 1, 1, 1, 1, 1, 1, 1, 1, 1, 1, 1, 1, 1, 1, 1, 1, 1, 1, 1, 1, 1,\n",
            "        1, 1, 1, 1, 1, 1, 1, 1])\n",
            "labels: 0\n"
          ]
        }
      ],
      "source": [
        "### testing\n",
        "\n",
        "\n",
        "'''\n",
        "from sklearn.model_selection import train_test_split\n",
        "from torch.utils.data import Dataset, DataLoader\n",
        "import torch\n",
        "\n",
        "postsamp = [\n",
        "    \"This is a very long example post that exceeds the token limit.\",\n",
        "    \"Another example of a post with more content.\",\n",
        "    \"A third example post.\",\n",
        "    \"A fourth example post with different content.\"\n",
        "]\n",
        "commentsamp = [\n",
        "    \"This is a short comment.\",\n",
        "    \"Another short comment.\",\n",
        "    \"A third short comment.\",\n",
        "    \"A fourth short comment.\"\n",
        "]\n",
        "labelsamp = [0, 1, 0, 1]  # Ensure at least 2 samples per class\n",
        "\n",
        "train_posts, val_posts, train_comments, val_comments, train_labels, val_labels = train_test_split(\n",
        "    postsamp, commentsamp, labelsamp, test_size=0.5, random_state=42, stratify=labelsamp\n",
        ")\n",
        "\n",
        "\n",
        "# Split dataset\n",
        "print(\"\\n=== Splitting Dataset ===\")\n",
        "train_posts, val_posts, train_comments, val_comments, train_labels, val_labels = train_test_split(\n",
        "    postsamp, commentsamp, labelsamp, test_size=0.5, random_state=42, stratify=labelsamp\n",
        ")\n",
        "print(f\"Training set size: {len(train_posts)}\")\n",
        "print(f\"Validation set size: {len(val_posts)}\")\n",
        "\n",
        "# Tokenize data\n",
        "print(\"\\n=== Tokenizing Data ===\")\n",
        "train_tokens = smart_truncate_and_tokenize(train_posts, train_comments)\n",
        "val_tokens = smart_truncate_and_tokenize(val_posts, val_comments)\n",
        "\n",
        "# Add labels to token dictionaries\n",
        "train_tokens['labels'] = torch.tensor(train_labels, dtype=torch.long)\n",
        "val_tokens['labels'] = torch.tensor(val_labels, dtype=torch.long)\n",
        "\n",
        "# Dataset class\n",
        "class TextDataset(Dataset):\n",
        "    def __init__(self, tokens):\n",
        "        self.tokens = tokens\n",
        "\n",
        "    def __len__(self):\n",
        "        return len(self.tokens['labels'])  # Length is based on the number of labels\n",
        "\n",
        "    def __getitem__(self, idx):\n",
        "        # Return a dictionary of input_ids, attention_mask, and labels for the given index\n",
        "        return {key: val[idx] for key, val in self.tokens.items()}\n",
        "\n",
        "# Create datasets\n",
        "train_dataset = TextDataset(train_tokens)\n",
        "val_dataset = TextDataset(val_tokens)\n",
        "\n",
        "# Print example from the dataset\n",
        "print(\"\\n=== Example from Training Dataset ===\")\n",
        "if len(train_dataset) > 0:\n",
        "    example = train_dataset[0]\n",
        "    for key, value in example.items():\n",
        "        print(f\"{key}: {value}\")\n",
        "\n",
        "print(\"\\n=== Example from Validation Dataset ===\")\n",
        "if len(val_dataset) > 0:\n",
        "    example = val_dataset[0]\n",
        "    for key, value in example.items():\n",
        "        print(f\"{key}: {value}\")\n",
        "'''"
      ]
    },
    {
      "cell_type": "code",
      "execution_count": null,
      "id": "H8zwoddhZ0gP",
      "metadata": {
        "colab": {
          "base_uri": "https://localhost:8080/"
        },
        "id": "H8zwoddhZ0gP",
        "outputId": "f7507fd5-cf3b-4af5-8ea3-f69a42a76731"
      },
      "outputs": [
        {
          "name": "stdout",
          "output_type": "stream",
          "text": [
            "\n",
            "Number of training batches: 300\n",
            "Number of validation batches: 75\n",
            "\n",
            "=== Checking Batch Structure ===\n",
            "input_ids shape: torch.Size([16, 512])\n",
            "attention_mask shape: torch.Size([16, 512])\n",
            "labels shape: torch.Size([16])\n",
            "\n",
            "=== Sample Batch Contents ===\n",
            "Batch size: 16\n",
            "Sequence length: 512\n",
            "Number of labels in batch: 16\n",
            "Labels in this batch: [1, 2, 0, 1, 1, 1, 0, 0, 2, 1, 2, 1, 1, 1, 0, 0]\n"
          ]
        }
      ],
      "source": [
        "# Create DataLoaders\n",
        "train_loader = DataLoader(\n",
        "    train_dataset,\n",
        "    batch_size=16,\n",
        "    shuffle=True,\n",
        "    pin_memory=True,\n",
        "    num_workers=2,\n",
        "    drop_last=True\n",
        ")\n",
        "\n",
        "val_loader = DataLoader(\n",
        "    val_dataset,\n",
        "    batch_size=16,\n",
        "    shuffle=False,\n",
        "    pin_memory=True,\n",
        "    num_workers=2,\n",
        "    drop_last=False\n",
        ")\n",
        "\n",
        "# Print dataloader sizes\n",
        "print(f\"\\nNumber of training batches: {len(train_loader)}\")\n",
        "print(f\"Number of validation batches: {len(val_loader)}\")\n",
        "\n",
        "# Check batch structure\n",
        "print(\"\\n=== Checking Batch Structure ===\")\n",
        "train_batch = next(iter(train_loader))\n",
        "for key, value in train_batch.items():\n",
        "    print(f\"{key} shape: {value.shape}\")\n",
        "\n",
        "# Check actual values in a batch\n",
        "print(\"\\n=== Sample Batch Contents ===\")\n",
        "print(f\"Batch size: {train_batch['input_ids'].size(0)}\")\n",
        "print(f\"Sequence length: {train_batch['input_ids'].size(1)}\")\n",
        "print(f\"Number of labels in batch: {len(train_batch['labels'])}\")\n",
        "print(f\"Labels in this batch: {train_batch['labels'].tolist()}\")\n",
        "\n",
        "\n"
      ]
    },
    {
      "cell_type": "code",
      "execution_count": null,
      "id": "oIl7gtiCbZzo",
      "metadata": {
        "colab": {
          "base_uri": "https://localhost:8080/"
        },
        "id": "oIl7gtiCbZzo",
        "outputId": "ad639f7c-4f3f-44f9-e28b-fb789d296db0"
      },
      "outputs": [
        {
          "name": "stderr",
          "output_type": "stream",
          "text": [
            "<ipython-input-9-a07aef3d7a4b>:1: FutureWarning: `torch.cuda.amp.GradScaler(args...)` is deprecated. Please use `torch.amp.GradScaler('cuda', args...)` instead.\n",
            "  scaler = torch.cuda.amp.GradScaler()\n"
          ]
        }
      ],
      "source": [
        "scaler = torch.cuda.amp.GradScaler()"
      ]
    },
    {
      "cell_type": "code",
      "execution_count": null,
      "id": "yZBnTepsBrUL",
      "metadata": {
        "colab": {
          "base_uri": "https://localhost:8080/"
        },
        "id": "yZBnTepsBrUL",
        "outputId": "138dc7f3-b2b4-4add-eb17-c03f3ac9467f"
      },
      "outputs": [
        {
          "name": "stdout",
          "output_type": "stream",
          "text": [
            "GPU memory available: 15.84 GB\n"
          ]
        }
      ],
      "source": [
        "# Memory cleanup and optimization\n",
        "import gc\n",
        "import torch\n",
        "\n",
        "# Clear memory\n",
        "gc.collect()\n",
        "torch.cuda.empty_cache()\n",
        "\n",
        "# Reset GPU\n",
        "device = torch.device('cuda' if torch.cuda.is_available() else 'cpu')\n",
        "if torch.cuda.is_available():\n",
        "    torch.cuda.reset_peak_memory_stats()\n",
        "    torch.cuda.empty_cache()\n",
        "    print(f\"GPU memory available: {torch.cuda.get_device_properties(0).total_memory/1e9:.2f} GB\")\n",
        "\n"
      ]
    },
    {
      "cell_type": "code",
      "execution_count": null,
      "id": "BXV1fACaBrXZ",
      "metadata": {
        "id": "BXV1fACaBrXZ"
      },
      "outputs": [],
      "source": [
        "# Reduce batch size\n",
        "\n",
        "\n",
        "'''\n",
        "train_loader = DataLoader(\n",
        "    train_dataset,\n",
        "    batch_size=4,  # Reduced to 4\n",
        "    shuffle=True,\n",
        "    pin_memory=True,\n",
        "    num_workers=1,  # Reduced workers\n",
        "    drop_last=True\n",
        ")\n",
        "\n",
        "val_loader = DataLoader(\n",
        "    val_dataset,\n",
        "    batch_size=4,  # Reduced to 4\n",
        "    shuffle=False,\n",
        "    pin_memory=True,\n",
        "    num_workers=1,  # Reduced workers\n",
        "    drop_last=False\n",
        ")\n",
        "\n",
        "'''\n"
      ]
    },
    {
      "cell_type": "code",
      "execution_count": null,
      "id": "Txv0AistVj5x",
      "metadata": {
        "colab": {
          "base_uri": "https://localhost:8080/",
          "height": 118,
          "referenced_widgets": [
            "1e6865faef304874b9ab934b873d4324",
            "74066fa9e6744b0396dfe30db29405b6",
            "bffc5a23fbf54ec1b619dd19560041fb",
            "5214cf00d0344aeca723d5dd0f787869",
            "1864804547f84890ae0923960db3baf2",
            "8993da8cffaa4caea61d043f55d8d50a",
            "3be4e5cd1e35440785c841d18cf9c845",
            "3cbe6722b5d342639a80f81fe2a75f74",
            "d24dac3838b64efb8328aa490125f6ce",
            "6c70eaacf80540e794e1bb3778e3330a",
            "37f8321ffb26493e971fd00489d840c5"
          ]
        },
        "id": "Txv0AistVj5x",
        "outputId": "a695c887-533b-435f-c2d6-7fd75a2e6648"
      },
      "outputs": [
        {
          "name": "stdout",
          "output_type": "stream",
          "text": [
            "\n",
            "=== Initializing Model ===\n"
          ]
        },
        {
          "data": {
            "application/vnd.jupyter.widget-view+json": {
              "model_id": "1e6865faef304874b9ab934b873d4324",
              "version_major": 2,
              "version_minor": 0
            },
            "text/plain": [
              "model.safetensors:   0%|          | 0.00/440M [00:00<?, ?B/s]"
            ]
          },
          "metadata": {},
          "output_type": "display_data"
        },
        {
          "name": "stderr",
          "output_type": "stream",
          "text": [
            "Some weights of BertForSequenceClassification were not initialized from the model checkpoint at bert-base-uncased and are newly initialized: ['classifier.bias', 'classifier.weight']\n",
            "You should probably TRAIN this model on a down-stream task to be able to use it for predictions and inference.\n"
          ]
        }
      ],
      "source": [
        "# Initialize model with gradient checkpointing\n",
        "print(\"\\n=== Initializing Model ===\")\n",
        "model = BertForSequenceClassification.from_pretrained(\n",
        "    'bert-base-uncased',\n",
        "    num_labels=3,\n",
        "    gradient_checkpointing=True\n",
        ")\n",
        "model = model.to(device)\n"
      ]
    },
    {
      "cell_type": "code",
      "execution_count": null,
      "id": "mNZBo7mdZb8l",
      "metadata": {
        "colab": {
          "base_uri": "https://localhost:8080/"
        },
        "id": "mNZBo7mdZb8l",
        "outputId": "86ac9560-3b42-40a4-c92d-3797b81a6dfe"
      },
      "outputs": [
        {
          "name": "stdout",
          "output_type": "stream",
          "text": [
            "\n",
            "=== Initializing Model ===\n"
          ]
        },
        {
          "name": "stderr",
          "output_type": "stream",
          "text": [
            "Some weights of BertForSequenceClassification were not initialized from the model checkpoint at bert-base-uncased and are newly initialized: ['classifier.bias', 'classifier.weight']\n",
            "You should probably TRAIN this model on a down-stream task to be able to use it for predictions and inference.\n"
          ]
        },
        {
          "name": "stdout",
          "output_type": "stream",
          "text": [
            "\n",
            "=== Original Model Architecture ===\n",
            "Layer: bert.embeddings.word_embeddings.weight, Size: torch.Size([30522, 768]), Requires grad: True\n",
            "Layer: bert.embeddings.position_embeddings.weight, Size: torch.Size([512, 768]), Requires grad: True\n",
            "Layer: bert.embeddings.token_type_embeddings.weight, Size: torch.Size([2, 768]), Requires grad: True\n",
            "Layer: bert.embeddings.LayerNorm.weight, Size: torch.Size([768]), Requires grad: True\n",
            "Layer: bert.embeddings.LayerNorm.bias, Size: torch.Size([768]), Requires grad: True\n",
            "Layer: bert.encoder.layer.0.attention.self.query.weight, Size: torch.Size([768, 768]), Requires grad: True\n",
            "Layer: bert.encoder.layer.0.attention.self.query.bias, Size: torch.Size([768]), Requires grad: True\n",
            "Layer: bert.encoder.layer.0.attention.self.key.weight, Size: torch.Size([768, 768]), Requires grad: True\n",
            "Layer: bert.encoder.layer.0.attention.self.key.bias, Size: torch.Size([768]), Requires grad: True\n",
            "Layer: bert.encoder.layer.0.attention.self.value.weight, Size: torch.Size([768, 768]), Requires grad: True\n",
            "Layer: bert.encoder.layer.0.attention.self.value.bias, Size: torch.Size([768]), Requires grad: True\n",
            "Layer: bert.encoder.layer.0.attention.output.dense.weight, Size: torch.Size([768, 768]), Requires grad: True\n",
            "Layer: bert.encoder.layer.0.attention.output.dense.bias, Size: torch.Size([768]), Requires grad: True\n",
            "Layer: bert.encoder.layer.0.attention.output.LayerNorm.weight, Size: torch.Size([768]), Requires grad: True\n",
            "Layer: bert.encoder.layer.0.attention.output.LayerNorm.bias, Size: torch.Size([768]), Requires grad: True\n",
            "Layer: bert.encoder.layer.0.intermediate.dense.weight, Size: torch.Size([3072, 768]), Requires grad: True\n",
            "Layer: bert.encoder.layer.0.intermediate.dense.bias, Size: torch.Size([3072]), Requires grad: True\n",
            "Layer: bert.encoder.layer.0.output.dense.weight, Size: torch.Size([768, 3072]), Requires grad: True\n",
            "Layer: bert.encoder.layer.0.output.dense.bias, Size: torch.Size([768]), Requires grad: True\n",
            "Layer: bert.encoder.layer.0.output.LayerNorm.weight, Size: torch.Size([768]), Requires grad: True\n",
            "Layer: bert.encoder.layer.0.output.LayerNorm.bias, Size: torch.Size([768]), Requires grad: True\n",
            "Layer: bert.encoder.layer.1.attention.self.query.weight, Size: torch.Size([768, 768]), Requires grad: True\n",
            "Layer: bert.encoder.layer.1.attention.self.query.bias, Size: torch.Size([768]), Requires grad: True\n",
            "Layer: bert.encoder.layer.1.attention.self.key.weight, Size: torch.Size([768, 768]), Requires grad: True\n",
            "Layer: bert.encoder.layer.1.attention.self.key.bias, Size: torch.Size([768]), Requires grad: True\n",
            "Layer: bert.encoder.layer.1.attention.self.value.weight, Size: torch.Size([768, 768]), Requires grad: True\n",
            "Layer: bert.encoder.layer.1.attention.self.value.bias, Size: torch.Size([768]), Requires grad: True\n",
            "Layer: bert.encoder.layer.1.attention.output.dense.weight, Size: torch.Size([768, 768]), Requires grad: True\n",
            "Layer: bert.encoder.layer.1.attention.output.dense.bias, Size: torch.Size([768]), Requires grad: True\n",
            "Layer: bert.encoder.layer.1.attention.output.LayerNorm.weight, Size: torch.Size([768]), Requires grad: True\n",
            "Layer: bert.encoder.layer.1.attention.output.LayerNorm.bias, Size: torch.Size([768]), Requires grad: True\n",
            "Layer: bert.encoder.layer.1.intermediate.dense.weight, Size: torch.Size([3072, 768]), Requires grad: True\n",
            "Layer: bert.encoder.layer.1.intermediate.dense.bias, Size: torch.Size([3072]), Requires grad: True\n",
            "Layer: bert.encoder.layer.1.output.dense.weight, Size: torch.Size([768, 3072]), Requires grad: True\n",
            "Layer: bert.encoder.layer.1.output.dense.bias, Size: torch.Size([768]), Requires grad: True\n",
            "Layer: bert.encoder.layer.1.output.LayerNorm.weight, Size: torch.Size([768]), Requires grad: True\n",
            "Layer: bert.encoder.layer.1.output.LayerNorm.bias, Size: torch.Size([768]), Requires grad: True\n",
            "Layer: bert.encoder.layer.2.attention.self.query.weight, Size: torch.Size([768, 768]), Requires grad: True\n",
            "Layer: bert.encoder.layer.2.attention.self.query.bias, Size: torch.Size([768]), Requires grad: True\n",
            "Layer: bert.encoder.layer.2.attention.self.key.weight, Size: torch.Size([768, 768]), Requires grad: True\n",
            "Layer: bert.encoder.layer.2.attention.self.key.bias, Size: torch.Size([768]), Requires grad: True\n",
            "Layer: bert.encoder.layer.2.attention.self.value.weight, Size: torch.Size([768, 768]), Requires grad: True\n",
            "Layer: bert.encoder.layer.2.attention.self.value.bias, Size: torch.Size([768]), Requires grad: True\n",
            "Layer: bert.encoder.layer.2.attention.output.dense.weight, Size: torch.Size([768, 768]), Requires grad: True\n",
            "Layer: bert.encoder.layer.2.attention.output.dense.bias, Size: torch.Size([768]), Requires grad: True\n",
            "Layer: bert.encoder.layer.2.attention.output.LayerNorm.weight, Size: torch.Size([768]), Requires grad: True\n",
            "Layer: bert.encoder.layer.2.attention.output.LayerNorm.bias, Size: torch.Size([768]), Requires grad: True\n",
            "Layer: bert.encoder.layer.2.intermediate.dense.weight, Size: torch.Size([3072, 768]), Requires grad: True\n",
            "Layer: bert.encoder.layer.2.intermediate.dense.bias, Size: torch.Size([3072]), Requires grad: True\n",
            "Layer: bert.encoder.layer.2.output.dense.weight, Size: torch.Size([768, 3072]), Requires grad: True\n",
            "Layer: bert.encoder.layer.2.output.dense.bias, Size: torch.Size([768]), Requires grad: True\n",
            "Layer: bert.encoder.layer.2.output.LayerNorm.weight, Size: torch.Size([768]), Requires grad: True\n",
            "Layer: bert.encoder.layer.2.output.LayerNorm.bias, Size: torch.Size([768]), Requires grad: True\n",
            "Layer: bert.encoder.layer.3.attention.self.query.weight, Size: torch.Size([768, 768]), Requires grad: True\n",
            "Layer: bert.encoder.layer.3.attention.self.query.bias, Size: torch.Size([768]), Requires grad: True\n",
            "Layer: bert.encoder.layer.3.attention.self.key.weight, Size: torch.Size([768, 768]), Requires grad: True\n",
            "Layer: bert.encoder.layer.3.attention.self.key.bias, Size: torch.Size([768]), Requires grad: True\n",
            "Layer: bert.encoder.layer.3.attention.self.value.weight, Size: torch.Size([768, 768]), Requires grad: True\n",
            "Layer: bert.encoder.layer.3.attention.self.value.bias, Size: torch.Size([768]), Requires grad: True\n",
            "Layer: bert.encoder.layer.3.attention.output.dense.weight, Size: torch.Size([768, 768]), Requires grad: True\n",
            "Layer: bert.encoder.layer.3.attention.output.dense.bias, Size: torch.Size([768]), Requires grad: True\n",
            "Layer: bert.encoder.layer.3.attention.output.LayerNorm.weight, Size: torch.Size([768]), Requires grad: True\n",
            "Layer: bert.encoder.layer.3.attention.output.LayerNorm.bias, Size: torch.Size([768]), Requires grad: True\n",
            "Layer: bert.encoder.layer.3.intermediate.dense.weight, Size: torch.Size([3072, 768]), Requires grad: True\n",
            "Layer: bert.encoder.layer.3.intermediate.dense.bias, Size: torch.Size([3072]), Requires grad: True\n",
            "Layer: bert.encoder.layer.3.output.dense.weight, Size: torch.Size([768, 3072]), Requires grad: True\n",
            "Layer: bert.encoder.layer.3.output.dense.bias, Size: torch.Size([768]), Requires grad: True\n",
            "Layer: bert.encoder.layer.3.output.LayerNorm.weight, Size: torch.Size([768]), Requires grad: True\n",
            "Layer: bert.encoder.layer.3.output.LayerNorm.bias, Size: torch.Size([768]), Requires grad: True\n",
            "Layer: bert.encoder.layer.4.attention.self.query.weight, Size: torch.Size([768, 768]), Requires grad: True\n",
            "Layer: bert.encoder.layer.4.attention.self.query.bias, Size: torch.Size([768]), Requires grad: True\n",
            "Layer: bert.encoder.layer.4.attention.self.key.weight, Size: torch.Size([768, 768]), Requires grad: True\n",
            "Layer: bert.encoder.layer.4.attention.self.key.bias, Size: torch.Size([768]), Requires grad: True\n",
            "Layer: bert.encoder.layer.4.attention.self.value.weight, Size: torch.Size([768, 768]), Requires grad: True\n",
            "Layer: bert.encoder.layer.4.attention.self.value.bias, Size: torch.Size([768]), Requires grad: True\n",
            "Layer: bert.encoder.layer.4.attention.output.dense.weight, Size: torch.Size([768, 768]), Requires grad: True\n",
            "Layer: bert.encoder.layer.4.attention.output.dense.bias, Size: torch.Size([768]), Requires grad: True\n",
            "Layer: bert.encoder.layer.4.attention.output.LayerNorm.weight, Size: torch.Size([768]), Requires grad: True\n",
            "Layer: bert.encoder.layer.4.attention.output.LayerNorm.bias, Size: torch.Size([768]), Requires grad: True\n",
            "Layer: bert.encoder.layer.4.intermediate.dense.weight, Size: torch.Size([3072, 768]), Requires grad: True\n",
            "Layer: bert.encoder.layer.4.intermediate.dense.bias, Size: torch.Size([3072]), Requires grad: True\n",
            "Layer: bert.encoder.layer.4.output.dense.weight, Size: torch.Size([768, 3072]), Requires grad: True\n",
            "Layer: bert.encoder.layer.4.output.dense.bias, Size: torch.Size([768]), Requires grad: True\n",
            "Layer: bert.encoder.layer.4.output.LayerNorm.weight, Size: torch.Size([768]), Requires grad: True\n",
            "Layer: bert.encoder.layer.4.output.LayerNorm.bias, Size: torch.Size([768]), Requires grad: True\n",
            "Layer: bert.encoder.layer.5.attention.self.query.weight, Size: torch.Size([768, 768]), Requires grad: True\n",
            "Layer: bert.encoder.layer.5.attention.self.query.bias, Size: torch.Size([768]), Requires grad: True\n",
            "Layer: bert.encoder.layer.5.attention.self.key.weight, Size: torch.Size([768, 768]), Requires grad: True\n",
            "Layer: bert.encoder.layer.5.attention.self.key.bias, Size: torch.Size([768]), Requires grad: True\n",
            "Layer: bert.encoder.layer.5.attention.self.value.weight, Size: torch.Size([768, 768]), Requires grad: True\n",
            "Layer: bert.encoder.layer.5.attention.self.value.bias, Size: torch.Size([768]), Requires grad: True\n",
            "Layer: bert.encoder.layer.5.attention.output.dense.weight, Size: torch.Size([768, 768]), Requires grad: True\n",
            "Layer: bert.encoder.layer.5.attention.output.dense.bias, Size: torch.Size([768]), Requires grad: True\n",
            "Layer: bert.encoder.layer.5.attention.output.LayerNorm.weight, Size: torch.Size([768]), Requires grad: True\n",
            "Layer: bert.encoder.layer.5.attention.output.LayerNorm.bias, Size: torch.Size([768]), Requires grad: True\n",
            "Layer: bert.encoder.layer.5.intermediate.dense.weight, Size: torch.Size([3072, 768]), Requires grad: True\n",
            "Layer: bert.encoder.layer.5.intermediate.dense.bias, Size: torch.Size([3072]), Requires grad: True\n",
            "Layer: bert.encoder.layer.5.output.dense.weight, Size: torch.Size([768, 3072]), Requires grad: True\n",
            "Layer: bert.encoder.layer.5.output.dense.bias, Size: torch.Size([768]), Requires grad: True\n",
            "Layer: bert.encoder.layer.5.output.LayerNorm.weight, Size: torch.Size([768]), Requires grad: True\n",
            "Layer: bert.encoder.layer.5.output.LayerNorm.bias, Size: torch.Size([768]), Requires grad: True\n",
            "Layer: bert.encoder.layer.6.attention.self.query.weight, Size: torch.Size([768, 768]), Requires grad: True\n",
            "Layer: bert.encoder.layer.6.attention.self.query.bias, Size: torch.Size([768]), Requires grad: True\n",
            "Layer: bert.encoder.layer.6.attention.self.key.weight, Size: torch.Size([768, 768]), Requires grad: True\n",
            "Layer: bert.encoder.layer.6.attention.self.key.bias, Size: torch.Size([768]), Requires grad: True\n",
            "Layer: bert.encoder.layer.6.attention.self.value.weight, Size: torch.Size([768, 768]), Requires grad: True\n",
            "Layer: bert.encoder.layer.6.attention.self.value.bias, Size: torch.Size([768]), Requires grad: True\n",
            "Layer: bert.encoder.layer.6.attention.output.dense.weight, Size: torch.Size([768, 768]), Requires grad: True\n",
            "Layer: bert.encoder.layer.6.attention.output.dense.bias, Size: torch.Size([768]), Requires grad: True\n",
            "Layer: bert.encoder.layer.6.attention.output.LayerNorm.weight, Size: torch.Size([768]), Requires grad: True\n",
            "Layer: bert.encoder.layer.6.attention.output.LayerNorm.bias, Size: torch.Size([768]), Requires grad: True\n",
            "Layer: bert.encoder.layer.6.intermediate.dense.weight, Size: torch.Size([3072, 768]), Requires grad: True\n",
            "Layer: bert.encoder.layer.6.intermediate.dense.bias, Size: torch.Size([3072]), Requires grad: True\n",
            "Layer: bert.encoder.layer.6.output.dense.weight, Size: torch.Size([768, 3072]), Requires grad: True\n",
            "Layer: bert.encoder.layer.6.output.dense.bias, Size: torch.Size([768]), Requires grad: True\n",
            "Layer: bert.encoder.layer.6.output.LayerNorm.weight, Size: torch.Size([768]), Requires grad: True\n",
            "Layer: bert.encoder.layer.6.output.LayerNorm.bias, Size: torch.Size([768]), Requires grad: True\n",
            "Layer: bert.encoder.layer.7.attention.self.query.weight, Size: torch.Size([768, 768]), Requires grad: True\n",
            "Layer: bert.encoder.layer.7.attention.self.query.bias, Size: torch.Size([768]), Requires grad: True\n",
            "Layer: bert.encoder.layer.7.attention.self.key.weight, Size: torch.Size([768, 768]), Requires grad: True\n",
            "Layer: bert.encoder.layer.7.attention.self.key.bias, Size: torch.Size([768]), Requires grad: True\n",
            "Layer: bert.encoder.layer.7.attention.self.value.weight, Size: torch.Size([768, 768]), Requires grad: True\n",
            "Layer: bert.encoder.layer.7.attention.self.value.bias, Size: torch.Size([768]), Requires grad: True\n",
            "Layer: bert.encoder.layer.7.attention.output.dense.weight, Size: torch.Size([768, 768]), Requires grad: True\n",
            "Layer: bert.encoder.layer.7.attention.output.dense.bias, Size: torch.Size([768]), Requires grad: True\n",
            "Layer: bert.encoder.layer.7.attention.output.LayerNorm.weight, Size: torch.Size([768]), Requires grad: True\n",
            "Layer: bert.encoder.layer.7.attention.output.LayerNorm.bias, Size: torch.Size([768]), Requires grad: True\n",
            "Layer: bert.encoder.layer.7.intermediate.dense.weight, Size: torch.Size([3072, 768]), Requires grad: True\n",
            "Layer: bert.encoder.layer.7.intermediate.dense.bias, Size: torch.Size([3072]), Requires grad: True\n",
            "Layer: bert.encoder.layer.7.output.dense.weight, Size: torch.Size([768, 3072]), Requires grad: True\n",
            "Layer: bert.encoder.layer.7.output.dense.bias, Size: torch.Size([768]), Requires grad: True\n",
            "Layer: bert.encoder.layer.7.output.LayerNorm.weight, Size: torch.Size([768]), Requires grad: True\n",
            "Layer: bert.encoder.layer.7.output.LayerNorm.bias, Size: torch.Size([768]), Requires grad: True\n",
            "Layer: bert.encoder.layer.8.attention.self.query.weight, Size: torch.Size([768, 768]), Requires grad: True\n",
            "Layer: bert.encoder.layer.8.attention.self.query.bias, Size: torch.Size([768]), Requires grad: True\n",
            "Layer: bert.encoder.layer.8.attention.self.key.weight, Size: torch.Size([768, 768]), Requires grad: True\n",
            "Layer: bert.encoder.layer.8.attention.self.key.bias, Size: torch.Size([768]), Requires grad: True\n",
            "Layer: bert.encoder.layer.8.attention.self.value.weight, Size: torch.Size([768, 768]), Requires grad: True\n",
            "Layer: bert.encoder.layer.8.attention.self.value.bias, Size: torch.Size([768]), Requires grad: True\n",
            "Layer: bert.encoder.layer.8.attention.output.dense.weight, Size: torch.Size([768, 768]), Requires grad: True\n",
            "Layer: bert.encoder.layer.8.attention.output.dense.bias, Size: torch.Size([768]), Requires grad: True\n",
            "Layer: bert.encoder.layer.8.attention.output.LayerNorm.weight, Size: torch.Size([768]), Requires grad: True\n",
            "Layer: bert.encoder.layer.8.attention.output.LayerNorm.bias, Size: torch.Size([768]), Requires grad: True\n",
            "Layer: bert.encoder.layer.8.intermediate.dense.weight, Size: torch.Size([3072, 768]), Requires grad: True\n",
            "Layer: bert.encoder.layer.8.intermediate.dense.bias, Size: torch.Size([3072]), Requires grad: True\n",
            "Layer: bert.encoder.layer.8.output.dense.weight, Size: torch.Size([768, 3072]), Requires grad: True\n",
            "Layer: bert.encoder.layer.8.output.dense.bias, Size: torch.Size([768]), Requires grad: True\n",
            "Layer: bert.encoder.layer.8.output.LayerNorm.weight, Size: torch.Size([768]), Requires grad: True\n",
            "Layer: bert.encoder.layer.8.output.LayerNorm.bias, Size: torch.Size([768]), Requires grad: True\n",
            "Layer: bert.encoder.layer.9.attention.self.query.weight, Size: torch.Size([768, 768]), Requires grad: True\n",
            "Layer: bert.encoder.layer.9.attention.self.query.bias, Size: torch.Size([768]), Requires grad: True\n",
            "Layer: bert.encoder.layer.9.attention.self.key.weight, Size: torch.Size([768, 768]), Requires grad: True\n",
            "Layer: bert.encoder.layer.9.attention.self.key.bias, Size: torch.Size([768]), Requires grad: True\n",
            "Layer: bert.encoder.layer.9.attention.self.value.weight, Size: torch.Size([768, 768]), Requires grad: True\n",
            "Layer: bert.encoder.layer.9.attention.self.value.bias, Size: torch.Size([768]), Requires grad: True\n",
            "Layer: bert.encoder.layer.9.attention.output.dense.weight, Size: torch.Size([768, 768]), Requires grad: True\n",
            "Layer: bert.encoder.layer.9.attention.output.dense.bias, Size: torch.Size([768]), Requires grad: True\n",
            "Layer: bert.encoder.layer.9.attention.output.LayerNorm.weight, Size: torch.Size([768]), Requires grad: True\n",
            "Layer: bert.encoder.layer.9.attention.output.LayerNorm.bias, Size: torch.Size([768]), Requires grad: True\n",
            "Layer: bert.encoder.layer.9.intermediate.dense.weight, Size: torch.Size([3072, 768]), Requires grad: True\n",
            "Layer: bert.encoder.layer.9.intermediate.dense.bias, Size: torch.Size([3072]), Requires grad: True\n",
            "Layer: bert.encoder.layer.9.output.dense.weight, Size: torch.Size([768, 3072]), Requires grad: True\n",
            "Layer: bert.encoder.layer.9.output.dense.bias, Size: torch.Size([768]), Requires grad: True\n",
            "Layer: bert.encoder.layer.9.output.LayerNorm.weight, Size: torch.Size([768]), Requires grad: True\n",
            "Layer: bert.encoder.layer.9.output.LayerNorm.bias, Size: torch.Size([768]), Requires grad: True\n",
            "Layer: bert.encoder.layer.10.attention.self.query.weight, Size: torch.Size([768, 768]), Requires grad: True\n",
            "Layer: bert.encoder.layer.10.attention.self.query.bias, Size: torch.Size([768]), Requires grad: True\n",
            "Layer: bert.encoder.layer.10.attention.self.key.weight, Size: torch.Size([768, 768]), Requires grad: True\n",
            "Layer: bert.encoder.layer.10.attention.self.key.bias, Size: torch.Size([768]), Requires grad: True\n",
            "Layer: bert.encoder.layer.10.attention.self.value.weight, Size: torch.Size([768, 768]), Requires grad: True\n",
            "Layer: bert.encoder.layer.10.attention.self.value.bias, Size: torch.Size([768]), Requires grad: True\n",
            "Layer: bert.encoder.layer.10.attention.output.dense.weight, Size: torch.Size([768, 768]), Requires grad: True\n",
            "Layer: bert.encoder.layer.10.attention.output.dense.bias, Size: torch.Size([768]), Requires grad: True\n",
            "Layer: bert.encoder.layer.10.attention.output.LayerNorm.weight, Size: torch.Size([768]), Requires grad: True\n",
            "Layer: bert.encoder.layer.10.attention.output.LayerNorm.bias, Size: torch.Size([768]), Requires grad: True\n",
            "Layer: bert.encoder.layer.10.intermediate.dense.weight, Size: torch.Size([3072, 768]), Requires grad: True\n",
            "Layer: bert.encoder.layer.10.intermediate.dense.bias, Size: torch.Size([3072]), Requires grad: True\n",
            "Layer: bert.encoder.layer.10.output.dense.weight, Size: torch.Size([768, 3072]), Requires grad: True\n",
            "Layer: bert.encoder.layer.10.output.dense.bias, Size: torch.Size([768]), Requires grad: True\n",
            "Layer: bert.encoder.layer.10.output.LayerNorm.weight, Size: torch.Size([768]), Requires grad: True\n",
            "Layer: bert.encoder.layer.10.output.LayerNorm.bias, Size: torch.Size([768]), Requires grad: True\n",
            "Layer: bert.encoder.layer.11.attention.self.query.weight, Size: torch.Size([768, 768]), Requires grad: True\n",
            "Layer: bert.encoder.layer.11.attention.self.query.bias, Size: torch.Size([768]), Requires grad: True\n",
            "Layer: bert.encoder.layer.11.attention.self.key.weight, Size: torch.Size([768, 768]), Requires grad: True\n",
            "Layer: bert.encoder.layer.11.attention.self.key.bias, Size: torch.Size([768]), Requires grad: True\n",
            "Layer: bert.encoder.layer.11.attention.self.value.weight, Size: torch.Size([768, 768]), Requires grad: True\n",
            "Layer: bert.encoder.layer.11.attention.self.value.bias, Size: torch.Size([768]), Requires grad: True\n",
            "Layer: bert.encoder.layer.11.attention.output.dense.weight, Size: torch.Size([768, 768]), Requires grad: True\n",
            "Layer: bert.encoder.layer.11.attention.output.dense.bias, Size: torch.Size([768]), Requires grad: True\n",
            "Layer: bert.encoder.layer.11.attention.output.LayerNorm.weight, Size: torch.Size([768]), Requires grad: True\n",
            "Layer: bert.encoder.layer.11.attention.output.LayerNorm.bias, Size: torch.Size([768]), Requires grad: True\n",
            "Layer: bert.encoder.layer.11.intermediate.dense.weight, Size: torch.Size([3072, 768]), Requires grad: True\n",
            "Layer: bert.encoder.layer.11.intermediate.dense.bias, Size: torch.Size([3072]), Requires grad: True\n",
            "Layer: bert.encoder.layer.11.output.dense.weight, Size: torch.Size([768, 3072]), Requires grad: True\n",
            "Layer: bert.encoder.layer.11.output.dense.bias, Size: torch.Size([768]), Requires grad: True\n",
            "Layer: bert.encoder.layer.11.output.LayerNorm.weight, Size: torch.Size([768]), Requires grad: True\n",
            "Layer: bert.encoder.layer.11.output.LayerNorm.bias, Size: torch.Size([768]), Requires grad: True\n",
            "Layer: bert.pooler.dense.weight, Size: torch.Size([768, 768]), Requires grad: True\n",
            "Layer: bert.pooler.dense.bias, Size: torch.Size([768]), Requires grad: True\n",
            "Layer: classifier.weight, Size: torch.Size([3, 768]), Requires grad: True\n",
            "Layer: classifier.bias, Size: torch.Size([3]), Requires grad: True\n"
          ]
        }
      ],
      "source": [
        "# Initialize model with gradient checkpointing\n",
        "print(\"\\n=== Initializing Model ===\")\n",
        "model = BertForSequenceClassification.from_pretrained(\n",
        "    'bert-base-uncased',\n",
        "    num_labels=3,\n",
        "    gradient_checkpointing=True\n",
        ")\n",
        "\n",
        "# Print model architecture before freezing\n",
        "print(\"\\n=== Original Model Architecture ===\")\n",
        "for name, param in model.named_parameters():\n",
        "    print(f\"Layer: {name}, Size: {param.size()}, Requires grad: {param.requires_grad}\")\n"
      ]
    },
    {
      "cell_type": "code",
      "execution_count": null,
      "id": "r_u54rlox0O7",
      "metadata": {
        "colab": {
          "background_save": true,
          "base_uri": "https://localhost:8080/"
        },
        "id": "r_u54rlox0O7",
        "outputId": "3f44b197-2120-4eeb-a0ba-2bdda10d1fcb"
      },
      "outputs": [
        {
          "name": "stdout",
          "output_type": "stream",
          "text": [
            "\n",
            "=== Applying Freezing Strategy ===\n",
            "Embeddings, pooler, and first 8 layers frozen\n",
            "Trainable parameters: 28,353,795 (25.9%)\n",
            "Trainable Layer: bert.encoder.layer.8.attention.self.query.weight\n",
            "Trainable Layer: bert.encoder.layer.8.attention.self.query.bias\n",
            "Trainable Layer: bert.encoder.layer.8.attention.self.key.weight\n",
            "Trainable Layer: bert.encoder.layer.8.attention.self.key.bias\n",
            "Trainable Layer: bert.encoder.layer.8.attention.self.value.weight\n",
            "Trainable Layer: bert.encoder.layer.8.attention.self.value.bias\n",
            "Trainable Layer: bert.encoder.layer.8.attention.output.dense.weight\n",
            "Trainable Layer: bert.encoder.layer.8.attention.output.dense.bias\n",
            "Trainable Layer: bert.encoder.layer.8.attention.output.LayerNorm.weight\n",
            "Trainable Layer: bert.encoder.layer.8.attention.output.LayerNorm.bias\n",
            "Trainable Layer: bert.encoder.layer.8.intermediate.dense.weight\n",
            "Trainable Layer: bert.encoder.layer.8.intermediate.dense.bias\n",
            "Trainable Layer: bert.encoder.layer.8.output.dense.weight\n",
            "Trainable Layer: bert.encoder.layer.8.output.dense.bias\n",
            "Trainable Layer: bert.encoder.layer.8.output.LayerNorm.weight\n",
            "Trainable Layer: bert.encoder.layer.8.output.LayerNorm.bias\n",
            "Trainable Layer: bert.encoder.layer.9.attention.self.query.weight\n",
            "Trainable Layer: bert.encoder.layer.9.attention.self.query.bias\n",
            "Trainable Layer: bert.encoder.layer.9.attention.self.key.weight\n",
            "Trainable Layer: bert.encoder.layer.9.attention.self.key.bias\n",
            "Trainable Layer: bert.encoder.layer.9.attention.self.value.weight\n",
            "Trainable Layer: bert.encoder.layer.9.attention.self.value.bias\n",
            "Trainable Layer: bert.encoder.layer.9.attention.output.dense.weight\n",
            "Trainable Layer: bert.encoder.layer.9.attention.output.dense.bias\n",
            "Trainable Layer: bert.encoder.layer.9.attention.output.LayerNorm.weight\n",
            "Trainable Layer: bert.encoder.layer.9.attention.output.LayerNorm.bias\n",
            "Trainable Layer: bert.encoder.layer.9.intermediate.dense.weight\n",
            "Trainable Layer: bert.encoder.layer.9.intermediate.dense.bias\n",
            "Trainable Layer: bert.encoder.layer.9.output.dense.weight\n",
            "Trainable Layer: bert.encoder.layer.9.output.dense.bias\n",
            "Trainable Layer: bert.encoder.layer.9.output.LayerNorm.weight\n",
            "Trainable Layer: bert.encoder.layer.9.output.LayerNorm.bias\n",
            "Trainable Layer: bert.encoder.layer.10.attention.self.query.weight\n",
            "Trainable Layer: bert.encoder.layer.10.attention.self.query.bias\n",
            "Trainable Layer: bert.encoder.layer.10.attention.self.key.weight\n",
            "Trainable Layer: bert.encoder.layer.10.attention.self.key.bias\n",
            "Trainable Layer: bert.encoder.layer.10.attention.self.value.weight\n",
            "Trainable Layer: bert.encoder.layer.10.attention.self.value.bias\n",
            "Trainable Layer: bert.encoder.layer.10.attention.output.dense.weight\n",
            "Trainable Layer: bert.encoder.layer.10.attention.output.dense.bias\n",
            "Trainable Layer: bert.encoder.layer.10.attention.output.LayerNorm.weight\n",
            "Trainable Layer: bert.encoder.layer.10.attention.output.LayerNorm.bias\n",
            "Trainable Layer: bert.encoder.layer.10.intermediate.dense.weight\n",
            "Trainable Layer: bert.encoder.layer.10.intermediate.dense.bias\n",
            "Trainable Layer: bert.encoder.layer.10.output.dense.weight\n",
            "Trainable Layer: bert.encoder.layer.10.output.dense.bias\n",
            "Trainable Layer: bert.encoder.layer.10.output.LayerNorm.weight\n",
            "Trainable Layer: bert.encoder.layer.10.output.LayerNorm.bias\n",
            "Trainable Layer: bert.encoder.layer.11.attention.self.query.weight\n",
            "Trainable Layer: bert.encoder.layer.11.attention.self.query.bias\n",
            "Trainable Layer: bert.encoder.layer.11.attention.self.key.weight\n",
            "Trainable Layer: bert.encoder.layer.11.attention.self.key.bias\n",
            "Trainable Layer: bert.encoder.layer.11.attention.self.value.weight\n",
            "Trainable Layer: bert.encoder.layer.11.attention.self.value.bias\n",
            "Trainable Layer: bert.encoder.layer.11.attention.output.dense.weight\n",
            "Trainable Layer: bert.encoder.layer.11.attention.output.dense.bias\n",
            "Trainable Layer: bert.encoder.layer.11.attention.output.LayerNorm.weight\n",
            "Trainable Layer: bert.encoder.layer.11.attention.output.LayerNorm.bias\n",
            "Trainable Layer: bert.encoder.layer.11.intermediate.dense.weight\n",
            "Trainable Layer: bert.encoder.layer.11.intermediate.dense.bias\n",
            "Trainable Layer: bert.encoder.layer.11.output.dense.weight\n",
            "Trainable Layer: bert.encoder.layer.11.output.dense.bias\n",
            "Trainable Layer: bert.encoder.layer.11.output.LayerNorm.weight\n",
            "Trainable Layer: bert.encoder.layer.11.output.LayerNorm.bias\n",
            "Trainable Layer: classifier.weight\n",
            "Trainable Layer: classifier.bias\n"
          ]
        }
      ],
      "source": [
        "\n",
        "# Freezing layers\n",
        "def freeze_layers(model, num_frozen_layers=8):\n",
        "    print(\"\\n=== Applying Freezing Strategy ===\")\n",
        "    for param in model.bert.embeddings.parameters():\n",
        "        param.requires_grad = False\n",
        "    for i in range(num_frozen_layers):\n",
        "        for param in model.bert.encoder.layer[i].parameters():\n",
        "            param.requires_grad = False\n",
        "    for param in model.bert.pooler.parameters():  # Optional\n",
        "        param.requires_grad = False\n",
        "    print(f\"Embeddings, pooler, and first {num_frozen_layers} layers frozen\")\n",
        "\n",
        "    # Parameter count\n",
        "    total_params = sum(p.numel() for p in model.parameters())\n",
        "    trainable_params = sum(p.numel() for p in model.parameters() if p.requires_grad)\n",
        "    print(f\"Trainable parameters: {trainable_params:,} ({trainable_params / total_params * 100:.1f}%)\")\n",
        "\n",
        "# Apply freezing\n",
        "freeze_layers(model)\n",
        "\n",
        "# Move to device\n",
        "model = model.to(device)\n",
        "\n",
        "# Optimizer for trainable parameters\n",
        "optimizer = AdamW(\n",
        "    [p for p in model.parameters() if p.requires_grad],\n",
        "    lr=1e-5,\n",
        "    weight_decay=0.01\n",
        ")\n",
        "\n",
        "# Print trainable layers for validation\n",
        "for name, param in model.named_parameters():\n",
        "    if param.requires_grad:\n",
        "        print(f\"Trainable Layer: {name}\")\n"
      ]
    },
    {
      "cell_type": "code",
      "execution_count": null,
      "id": "TIzvlkCzBr7A",
      "metadata": {
        "id": "TIzvlkCzBr7A"
      },
      "outputs": [],
      "source": [
        "# frezzing !!!\n",
        "'''\n",
        "# Freeze the lower layers of BERT\n",
        "for param in model.bert.embeddings.parameters():\n",
        "    param.requires_grad = False  # Freeze the embedding layer\n",
        "for layer in model.bert.encoder.layer[:6]:  # Freeze the first 6 layers\n",
        "    for param in layer.parameters():\n",
        "        param.requires_grad = False\n",
        "\n",
        "print(\"\\nFrozen the first 6 layers of BERT\")\n",
        "\n",
        "\n",
        "'''\n"
      ]
    },
    {
      "cell_type": "code",
      "execution_count": null,
      "id": "PmWwt1PA62b1",
      "metadata": {
        "colab": {
          "base_uri": "https://localhost:8080/",
          "height": 349
        },
        "id": "PmWwt1PA62b1",
        "outputId": "14e939bc-acf3-4d05-98c8-0c7bbf1ea44b"
      },
      "outputs": [
        {
          "name": "stdout",
          "output_type": "stream",
          "text": [
            "GPU memory available: 15.84 GB\n",
            "\n",
            "=== Starting Training ===\n",
            "\n",
            "Epoch 1/3\n"
          ]
        },
        {
          "name": "stderr",
          "output_type": "stream",
          "text": [
            "\rTraining:   0%|          | 0/300 [00:00<?, ?it/s]/usr/local/lib/python3.10/dist-packages/torch/utils/checkpoint.py:87: UserWarning: None of the inputs have requires_grad=True. Gradients will be None\n",
            "  warnings.warn(\n",
            "Training:   1%|          | 3/300 [00:01<03:13,  1.54it/s]\n"
          ]
        },
        {
          "ename": "NameError",
          "evalue": "name 'scheduler' is not defined",
          "output_type": "error",
          "traceback": [
            "\u001b[0;31m---------------------------------------------------------------------------\u001b[0m",
            "\u001b[0;31mNameError\u001b[0m                                 Traceback (most recent call last)",
            "\u001b[0;32m<ipython-input-14-28cecbcedb82>\u001b[0m in \u001b[0;36m<cell line: 17>\u001b[0;34m()\u001b[0m\n\u001b[1;32m     36\u001b[0m             \u001b[0mscaler\u001b[0m\u001b[0;34m.\u001b[0m\u001b[0mstep\u001b[0m\u001b[0;34m(\u001b[0m\u001b[0moptimizer\u001b[0m\u001b[0;34m)\u001b[0m\u001b[0;34m\u001b[0m\u001b[0;34m\u001b[0m\u001b[0m\n\u001b[1;32m     37\u001b[0m             \u001b[0mscaler\u001b[0m\u001b[0;34m.\u001b[0m\u001b[0mupdate\u001b[0m\u001b[0;34m(\u001b[0m\u001b[0;34m)\u001b[0m\u001b[0;34m\u001b[0m\u001b[0;34m\u001b[0m\u001b[0m\n\u001b[0;32m---> 38\u001b[0;31m             \u001b[0mscheduler\u001b[0m\u001b[0;34m.\u001b[0m\u001b[0mstep\u001b[0m\u001b[0;34m(\u001b[0m\u001b[0;34m)\u001b[0m\u001b[0;34m\u001b[0m\u001b[0;34m\u001b[0m\u001b[0m\n\u001b[0m\u001b[1;32m     39\u001b[0m             \u001b[0moptimizer\u001b[0m\u001b[0;34m.\u001b[0m\u001b[0mzero_grad\u001b[0m\u001b[0;34m(\u001b[0m\u001b[0;34m)\u001b[0m\u001b[0;34m\u001b[0m\u001b[0;34m\u001b[0m\u001b[0m\n\u001b[1;32m     40\u001b[0m \u001b[0;34m\u001b[0m\u001b[0m\n",
            "\u001b[0;31mNameError\u001b[0m: name 'scheduler' is not defined"
          ]
        }
      ],
      "source": [
        "\n",
        "\n",
        "# Clear memory and reset GPU\n",
        "gc.collect()\n",
        "torch.cuda.empty_cache()\n",
        "device = torch.device('cuda' if torch.cuda.is_available() else 'cpu')\n",
        "if torch.cuda.is_available():\n",
        "    torch.cuda.reset_peak_memory_stats()\n",
        "    print(f\"GPU memory available: {torch.cuda.get_device_properties(0).total_memory/1e9:.2f} GB\")\n",
        "\n",
        "\n",
        "####################################################################################################3\n",
        "# Training loop\n",
        "num_epochs = 3\n",
        "best_val_f1 = 0\n",
        "accumulation_steps = 4\n",
        "\n",
        "print(\"\\n=== Starting Training ===\")\n",
        "for epoch in range(num_epochs):\n",
        "    print(f\"\\nEpoch {epoch + 1}/{num_epochs}\")\n",
        "\n",
        "    # Training phase tttttttttttttttttttttttttttttttttttttttttttttttttttt\n",
        "    model.train()\n",
        "    train_loss = 0\n",
        "    train_true_labels = []\n",
        "    train_pred_labels = []\n",
        "\n",
        "    for batch_idx, batch in enumerate(tqdm(train_loader, desc=\"Training\")):\n",
        "        inputs = {k: v.to(device) for k, v in batch.items()}\n",
        "\n",
        "        with torch.amp.autocast('cuda'):\n",
        "            outputs = model(**inputs)\n",
        "            loss = outputs.loss / accumulation_steps\n",
        "            logits = outputs.logits\n",
        "\n",
        "        scaler.scale(loss).backward()\n",
        "        if (batch_idx + 1) % accumulation_steps == 0:\n",
        "            scaler.step(optimizer)\n",
        "            scaler.update()\n",
        "            scheduler.step()\n",
        "            optimizer.zero_grad()\n",
        "\n",
        "        train_loss += loss.item() * accumulation_steps\n",
        "        predictions = torch.argmax(logits, dim=1)\n",
        "        train_true_labels.extend(inputs['labels'].cpu().numpy())\n",
        "        train_pred_labels.extend(predictions.cpu().numpy())\n",
        "\n",
        "    # Calculate metrics\n",
        "    train_accuracy = accuracy_score(train_true_labels, train_pred_labels)\n",
        "    train_f1 = f1_score(train_true_labels, train_pred_labels, average='weighted')\n",
        "    train_precision = precision_score(train_true_labels, train_pred_labels, average='weighted')\n",
        "    train_recall = recall_score(train_true_labels, train_pred_labels, average='weighted')\n",
        "\n",
        "    # Validation phase  vvvvvvvvvvvvvvvvvvvvvvvvvvvvvvvvvvvvvvvvvvvvvvvvvvvvvvvvv\n",
        "    model.eval()\n",
        "    val_loss = 0\n",
        "    val_true_labels = []\n",
        "    val_pred_labels = []\n",
        "    with torch.no_grad():\n",
        "        for batch in tqdm(val_loader, desc=\"Validation\"):\n",
        "            inputs = {k: v.to(device) for k, v in batch.items()}\n",
        "            outputs = model(**inputs)\n",
        "            val_loss += outputs.loss.item()\n",
        "            predictions = torch.argmax(outputs.logits, dim=1)\n",
        "            val_true_labels.extend(inputs['labels'].cpu().numpy())\n",
        "            val_pred_labels.extend(predictions.cpu().numpy())\n",
        "\n",
        "    # Calculate validation metrics\n",
        "    val_accuracy = accuracy_score(val_true_labels, val_pred_labels)\n",
        "    val_precision = precision_score(val_true_labels, val_pred_labels, average='weighted')\n",
        "    val_recall = recall_score(val_true_labels, val_pred_labels, average='weighted')\n",
        "    val_f1 = f1_score(val_true_labels, val_pred_labels, average='weighted')\n",
        "\n",
        "    # Update metrics dictionary\n",
        "    metrics['train_losses'].append(train_loss / len(train_loader))\n",
        "    metrics['val_losses'].append(val_loss / len(val_loader))\n",
        "    metrics['train_accs'].append(train_accuracy)\n",
        "    metrics['val_accs'].append(val_accuracy)\n",
        "    metrics['train_f1s'].append(train_f1)\n",
        "    metrics['val_f1s'].append(val_f1)\n",
        "    metrics['train_precisions'].append(train_precision)\n",
        "    metrics['val_precisions'].append(val_precision)\n",
        "    metrics['train_recalls'].append(train_recall)\n",
        "    metrics['val_recalls'].append(val_recall)\n",
        "\n",
        "    # Save best model\n",
        "    if val_f1 > best_val_f1:\n",
        "        best_val_f1 = val_f1\n",
        "        torch.save({\n",
        "            'epoch': epoch,\n",
        "            'model_state_dict': model.state_dict(),\n",
        "            'optimizer_state_dict': optimizer.state_dict(),\n",
        "            'scheduler_state_dict': scheduler.state_dict(),\n",
        "            'val_f1': val_f1,\n",
        "            'metrics': metrics\n",
        "        }, 'best_model.pt')\n",
        "        print(f\"\\nSaved new best model with F1 score: {val_f1:.4f}\")\n",
        "\n",
        "\n",
        "        # Save the final model\n",
        "        torch.save({\n",
        "            'epoch': num_epochs,\n",
        "            'model_state_dict': model.state_dict(),\n",
        "            'optimizer_state_dict': optimizer.state_dict(),\n",
        "            'scheduler_state_dict': scheduler.state_dict(),\n",
        "            'metrics': metrics\n",
        "            }, 'final_model.pt')\n",
        "\n",
        "print(\"\\nFinal model saved as 'final_model.pt'\")\n",
        "\n",
        "#######################################################################################\n",
        "\n",
        "# Plotting function\n",
        "def plot_metrics(metrics, metric_name, title):\n",
        "    plt.figure(figsize=(10, 6))\n",
        "    plt.plot(metrics[f'train_{metric_name}'], label=f'Train {metric_name.capitalize()}', marker='o')\n",
        "    plt.plot(metrics[f'val_{metric_name}'], label=f'Validation {metric_name.capitalize()}', marker='o')\n",
        "    plt.title(f'{title} Over Epochs')\n",
        "    plt.xlabel('Epochs')\n",
        "    plt.ylabel(metric_name.capitalize())\n",
        "    plt.legend()\n",
        "    plt.grid(True)\n",
        "    plt.show()\n",
        "\n",
        "\n",
        "# Convert metrics to DataFrame\n",
        "metrics_df = pd.DataFrame(metrics)\n",
        "print(\"\\n=== Metrics Table ===\")\n",
        "print(metrics_df)\n",
        "\n",
        "# Plot key metrics\n",
        "plot_metrics(metrics, 'losses', 'Loss')\n",
        "plot_metrics(metrics, 'accs', 'Accuracy')\n",
        "plot_metrics(metrics, 'f1s', 'F1 Score')\n"
      ]
    },
    {
      "cell_type": "code",
      "execution_count": null,
      "id": "Ocs4-BHAymtj",
      "metadata": {
        "colab": {
          "base_uri": "https://localhost:8080/",
          "height": 1000
        },
        "id": "Ocs4-BHAymtj",
        "outputId": "36d79e8e-ba67-4234-a2c3-db6d3765520a"
      },
      "outputs": [
        {
          "name": "stdout",
          "output_type": "stream",
          "text": [
            "GPU memory available: 15.84 GB\n",
            "\n",
            "=== Starting Training ===\n",
            "\n",
            "Epoch 1/5\n"
          ]
        },
        {
          "name": "stderr",
          "output_type": "stream",
          "text": [
            "\rTraining:   0%|          | 0/300 [00:00<?, ?it/s]/usr/local/lib/python3.10/dist-packages/torch/utils/checkpoint.py:87: UserWarning: None of the inputs have requires_grad=True. Gradients will be None\n",
            "  warnings.warn(\n",
            "Training: 100%|██████████| 300/300 [00:35<00:00,  8.40it/s]\n",
            "Validation: 100%|██████████| 75/75 [00:34<00:00,  2.17it/s]\n",
            "/usr/local/lib/python3.10/dist-packages/sklearn/metrics/_classification.py:1565: UndefinedMetricWarning: Precision is ill-defined and being set to 0.0 in labels with no predicted samples. Use `zero_division` parameter to control this behavior.\n",
            "  _warn_prf(average, modifier, f\"{metric.capitalize()} is\", len(result))\n"
          ]
        },
        {
          "name": "stdout",
          "output_type": "stream",
          "text": [
            "\n",
            "Saved new best model with F1 score: 0.3050\n",
            "\n",
            "Epoch 2/5\n"
          ]
        },
        {
          "name": "stderr",
          "output_type": "stream",
          "text": [
            "Training:   0%|          | 0/300 [00:00<?, ?it/s]/usr/local/lib/python3.10/dist-packages/torch/utils/checkpoint.py:87: UserWarning: None of the inputs have requires_grad=True. Gradients will be None\n",
            "  warnings.warn(\n",
            "Training: 100%|██████████| 300/300 [00:39<00:00,  7.62it/s]\n",
            "Validation: 100%|██████████| 75/75 [00:37<00:00,  2.00it/s]\n",
            "/usr/local/lib/python3.10/dist-packages/sklearn/metrics/_classification.py:1565: UndefinedMetricWarning: Precision is ill-defined and being set to 0.0 in labels with no predicted samples. Use `zero_division` parameter to control this behavior.\n",
            "  _warn_prf(average, modifier, f\"{metric.capitalize()} is\", len(result))\n"
          ]
        },
        {
          "name": "stdout",
          "output_type": "stream",
          "text": [
            "\n",
            "Epoch 3/5\n"
          ]
        },
        {
          "name": "stderr",
          "output_type": "stream",
          "text": [
            "\rTraining:   0%|          | 0/300 [00:00<?, ?it/s]/usr/local/lib/python3.10/dist-packages/torch/utils/checkpoint.py:87: UserWarning: None of the inputs have requires_grad=True. Gradients will be None\n",
            "  warnings.warn(\n",
            "Training: 100%|██████████| 300/300 [00:39<00:00,  7.55it/s]\n",
            "Validation: 100%|██████████| 75/75 [00:36<00:00,  2.03it/s]\n",
            "/usr/local/lib/python3.10/dist-packages/sklearn/metrics/_classification.py:1565: UndefinedMetricWarning: Precision is ill-defined and being set to 0.0 in labels with no predicted samples. Use `zero_division` parameter to control this behavior.\n",
            "  _warn_prf(average, modifier, f\"{metric.capitalize()} is\", len(result))\n"
          ]
        },
        {
          "name": "stdout",
          "output_type": "stream",
          "text": [
            "\n",
            "Epoch 4/5\n"
          ]
        },
        {
          "name": "stderr",
          "output_type": "stream",
          "text": [
            "\rTraining:   0%|          | 0/300 [00:00<?, ?it/s]/usr/local/lib/python3.10/dist-packages/torch/utils/checkpoint.py:87: UserWarning: None of the inputs have requires_grad=True. Gradients will be None\n",
            "  warnings.warn(\n",
            "Training: 100%|██████████| 300/300 [00:39<00:00,  7.52it/s]\n",
            "/usr/local/lib/python3.10/dist-packages/sklearn/metrics/_classification.py:1565: UndefinedMetricWarning: Precision is ill-defined and being set to 0.0 in labels with no predicted samples. Use `zero_division` parameter to control this behavior.\n",
            "  _warn_prf(average, modifier, f\"{metric.capitalize()} is\", len(result))\n",
            "Validation: 100%|██████████| 75/75 [00:36<00:00,  2.05it/s]\n",
            "/usr/local/lib/python3.10/dist-packages/sklearn/metrics/_classification.py:1565: UndefinedMetricWarning: Precision is ill-defined and being set to 0.0 in labels with no predicted samples. Use `zero_division` parameter to control this behavior.\n",
            "  _warn_prf(average, modifier, f\"{metric.capitalize()} is\", len(result))\n"
          ]
        },
        {
          "name": "stdout",
          "output_type": "stream",
          "text": [
            "\n",
            "Epoch 5/5\n"
          ]
        },
        {
          "name": "stderr",
          "output_type": "stream",
          "text": [
            "\rTraining:   0%|          | 0/300 [00:00<?, ?it/s]/usr/local/lib/python3.10/dist-packages/torch/utils/checkpoint.py:87: UserWarning: None of the inputs have requires_grad=True. Gradients will be None\n",
            "  warnings.warn(\n",
            "Training: 100%|██████████| 300/300 [00:39<00:00,  7.51it/s]\n",
            "/usr/local/lib/python3.10/dist-packages/sklearn/metrics/_classification.py:1565: UndefinedMetricWarning: Precision is ill-defined and being set to 0.0 in labels with no predicted samples. Use `zero_division` parameter to control this behavior.\n",
            "  _warn_prf(average, modifier, f\"{metric.capitalize()} is\", len(result))\n",
            "Validation: 100%|██████████| 75/75 [00:36<00:00,  2.04it/s]\n",
            "/usr/local/lib/python3.10/dist-packages/sklearn/metrics/_classification.py:1565: UndefinedMetricWarning: Precision is ill-defined and being set to 0.0 in labels with no predicted samples. Use `zero_division` parameter to control this behavior.\n",
            "  _warn_prf(average, modifier, f\"{metric.capitalize()} is\", len(result))\n"
          ]
        },
        {
          "name": "stdout",
          "output_type": "stream",
          "text": [
            "\n",
            "Saved new best model with F1 score: 0.3052\n",
            "\n",
            "Final model saved as 'final_model.pt'\n"
          ]
        },
        {
          "data": {
            "application/javascript": [
              "\n",
              "    async function download(id, filename, size) {\n",
              "      if (!google.colab.kernel.accessAllowed) {\n",
              "        return;\n",
              "      }\n",
              "      const div = document.createElement('div');\n",
              "      const label = document.createElement('label');\n",
              "      label.textContent = `Downloading \"${filename}\": `;\n",
              "      div.appendChild(label);\n",
              "      const progress = document.createElement('progress');\n",
              "      progress.max = size;\n",
              "      div.appendChild(progress);\n",
              "      document.body.appendChild(div);\n",
              "\n",
              "      const buffers = [];\n",
              "      let downloaded = 0;\n",
              "\n",
              "      const channel = await google.colab.kernel.comms.open(id);\n",
              "      // Send a message to notify the kernel that we're ready.\n",
              "      channel.send({})\n",
              "\n",
              "      for await (const message of channel.messages) {\n",
              "        // Send a message to notify the kernel that we're ready.\n",
              "        channel.send({})\n",
              "        if (message.buffers) {\n",
              "          for (const buffer of message.buffers) {\n",
              "            buffers.push(buffer);\n",
              "            downloaded += buffer.byteLength;\n",
              "            progress.value = downloaded;\n",
              "          }\n",
              "        }\n",
              "      }\n",
              "      const blob = new Blob(buffers, {type: 'application/binary'});\n",
              "      const a = document.createElement('a');\n",
              "      a.href = window.URL.createObjectURL(blob);\n",
              "      a.download = filename;\n",
              "      div.appendChild(a);\n",
              "      a.click();\n",
              "      div.remove();\n",
              "    }\n",
              "  "
            ],
            "text/plain": [
              "<IPython.core.display.Javascript object>"
            ]
          },
          "metadata": {},
          "output_type": "display_data"
        },
        {
          "data": {
            "application/javascript": [
              "download(\"download_6696cf97-4ae4-4446-bf5e-5f772c8bb753\", \"best_model.pt\", 438042445)"
            ],
            "text/plain": [
              "<IPython.core.display.Javascript object>"
            ]
          },
          "metadata": {},
          "output_type": "display_data"
        },
        {
          "data": {
            "application/javascript": [
              "\n",
              "    async function download(id, filename, size) {\n",
              "      if (!google.colab.kernel.accessAllowed) {\n",
              "        return;\n",
              "      }\n",
              "      const div = document.createElement('div');\n",
              "      const label = document.createElement('label');\n",
              "      label.textContent = `Downloading \"${filename}\": `;\n",
              "      div.appendChild(label);\n",
              "      const progress = document.createElement('progress');\n",
              "      progress.max = size;\n",
              "      div.appendChild(progress);\n",
              "      document.body.appendChild(div);\n",
              "\n",
              "      const buffers = [];\n",
              "      let downloaded = 0;\n",
              "\n",
              "      const channel = await google.colab.kernel.comms.open(id);\n",
              "      // Send a message to notify the kernel that we're ready.\n",
              "      channel.send({})\n",
              "\n",
              "      for await (const message of channel.messages) {\n",
              "        // Send a message to notify the kernel that we're ready.\n",
              "        channel.send({})\n",
              "        if (message.buffers) {\n",
              "          for (const buffer of message.buffers) {\n",
              "            buffers.push(buffer);\n",
              "            downloaded += buffer.byteLength;\n",
              "            progress.value = downloaded;\n",
              "          }\n",
              "        }\n",
              "      }\n",
              "      const blob = new Blob(buffers, {type: 'application/binary'});\n",
              "      const a = document.createElement('a');\n",
              "      a.href = window.URL.createObjectURL(blob);\n",
              "      a.download = filename;\n",
              "      div.appendChild(a);\n",
              "      a.click();\n",
              "      div.remove();\n",
              "    }\n",
              "  "
            ],
            "text/plain": [
              "<IPython.core.display.Javascript object>"
            ]
          },
          "metadata": {},
          "output_type": "display_data"
        },
        {
          "data": {
            "application/javascript": [
              "download(\"download_06635d61-068a-4c78-93dc-f30257d7ae7c\", \"final_model.pt\", 438042592)"
            ],
            "text/plain": [
              "<IPython.core.display.Javascript object>"
            ]
          },
          "metadata": {},
          "output_type": "display_data"
        },
        {
          "name": "stdout",
          "output_type": "stream",
          "text": [
            "\n",
            "=== Metrics Table ===\n",
            "   train_losses  val_losses  train_accs  val_accs  train_f1s   val_f1s  \\\n",
            "0      1.037142    1.036187    0.475625  0.474167   0.322632  0.305032   \n",
            "1      1.035203    1.035515    0.472292  0.474167   0.333774  0.305032   \n",
            "2      1.032156    1.033788    0.476875  0.474167   0.334724  0.305032   \n",
            "3      1.034376    1.032570    0.474583  0.474167   0.329291  0.305032   \n",
            "4      1.030627    1.031808    0.473125  0.474167   0.338207  0.305205   \n",
            "\n",
            "   train_precisions  val_precisions  train_recalls  val_recalls  \n",
            "0          0.435201        0.224834       0.475625     0.474167  \n",
            "1          0.404858        0.224834       0.472292     0.474167  \n",
            "2          0.375724        0.224834       0.476875     0.474167  \n",
            "3          0.363536        0.224834       0.474583     0.474167  \n",
            "4          0.368866        0.225022       0.473125     0.474167  \n"
          ]
        },
        {
          "data": {
            "application/javascript": [
              "\n",
              "    async function download(id, filename, size) {\n",
              "      if (!google.colab.kernel.accessAllowed) {\n",
              "        return;\n",
              "      }\n",
              "      const div = document.createElement('div');\n",
              "      const label = document.createElement('label');\n",
              "      label.textContent = `Downloading \"${filename}\": `;\n",
              "      div.appendChild(label);\n",
              "      const progress = document.createElement('progress');\n",
              "      progress.max = size;\n",
              "      div.appendChild(progress);\n",
              "      document.body.appendChild(div);\n",
              "\n",
              "      const buffers = [];\n",
              "      let downloaded = 0;\n",
              "\n",
              "      const channel = await google.colab.kernel.comms.open(id);\n",
              "      // Send a message to notify the kernel that we're ready.\n",
              "      channel.send({})\n",
              "\n",
              "      for await (const message of channel.messages) {\n",
              "        // Send a message to notify the kernel that we're ready.\n",
              "        channel.send({})\n",
              "        if (message.buffers) {\n",
              "          for (const buffer of message.buffers) {\n",
              "            buffers.push(buffer);\n",
              "            downloaded += buffer.byteLength;\n",
              "            progress.value = downloaded;\n",
              "          }\n",
              "        }\n",
              "      }\n",
              "      const blob = new Blob(buffers, {type: 'application/binary'});\n",
              "      const a = document.createElement('a');\n",
              "      a.href = window.URL.createObjectURL(blob);\n",
              "      a.download = filename;\n",
              "      div.appendChild(a);\n",
              "      a.click();\n",
              "      div.remove();\n",
              "    }\n",
              "  "
            ],
            "text/plain": [
              "<IPython.core.display.Javascript object>"
            ]
          },
          "metadata": {},
          "output_type": "display_data"
        },
        {
          "data": {
            "application/javascript": [
              "download(\"download_d92f9e2f-c73d-4975-a919-12b58a7f3391\", \"metrics_table.csv\", 1013)"
            ],
            "text/plain": [
              "<IPython.core.display.Javascript object>"
            ]
          },
          "metadata": {},
          "output_type": "display_data"
        },
        {
          "data": {
            "image/png": "[encoded data removed]",
            "text/plain": [
              "<Figure size 1000x600 with 1 Axes>"
            ]
          },
          "metadata": {},
          "output_type": "display_data"
        },
        {
          "data": {
            "image/png": "[encoded data removed]",
            "text/plain": [
              "<Figure size 1000x600 with 1 Axes>"
            ]
          },
          "metadata": {},
          "output_type": "display_data"
        },
        {
          "data": {
            "image/png": "[encoded data removed]",
            "text/plain": [
              "<Figure size 1000x600 with 1 Axes>"
            ]
          },
          "metadata": {},
          "output_type": "display_data"
        },
        {
          "ename": "FileNotFoundError",
          "evalue": "Cannot find file: /content/loss_plot.png",
          "output_type": "error",
          "traceback": [
            "\u001b[0;31m---------------------------------------------------------------------------\u001b[0m",
            "\u001b[0;31mFileNotFoundError\u001b[0m                         Traceback (most recent call last)",
            "\u001b[0;32m<ipython-input-16-b5fcb242c232>\u001b[0m in \u001b[0;36m<cell line: 173>\u001b[0;34m()\u001b[0m\n\u001b[1;32m    171\u001b[0m \u001b[0;34m\u001b[0m\u001b[0m\n\u001b[1;32m    172\u001b[0m \u001b[0;31m# Download plots\u001b[0m\u001b[0;34m\u001b[0m\u001b[0;34m\u001b[0m\u001b[0m\n\u001b[0;32m--> 173\u001b[0;31m \u001b[0mfiles\u001b[0m\u001b[0;34m.\u001b[0m\u001b[0mdownload\u001b[0m\u001b[0;34m(\u001b[0m\u001b[0;34m'/content/loss_plot.png'\u001b[0m\u001b[0;34m)\u001b[0m\u001b[0;34m\u001b[0m\u001b[0;34m\u001b[0m\u001b[0m\n\u001b[0m\u001b[1;32m    174\u001b[0m \u001b[0mfiles\u001b[0m\u001b[0;34m.\u001b[0m\u001b[0mdownload\u001b[0m\u001b[0;34m(\u001b[0m\u001b[0;34m'/content/accuracy_plot.png'\u001b[0m\u001b[0;34m)\u001b[0m\u001b[0;34m\u001b[0m\u001b[0;34m\u001b[0m\u001b[0m\n\u001b[1;32m    175\u001b[0m \u001b[0mfiles\u001b[0m\u001b[0;34m.\u001b[0m\u001b[0mdownload\u001b[0m\u001b[0;34m(\u001b[0m\u001b[0;34m'/content/f1_plot.png'\u001b[0m\u001b[0;34m)\u001b[0m\u001b[0;34m\u001b[0m\u001b[0;34m\u001b[0m\u001b[0m\n",
            "\u001b[0;32m/usr/local/lib/python3.10/dist-packages/google/colab/files.py\u001b[0m in \u001b[0;36mdownload\u001b[0;34m(filename)\u001b[0m\n\u001b[1;32m    231\u001b[0m   \u001b[0;32mif\u001b[0m \u001b[0;32mnot\u001b[0m \u001b[0m_os\u001b[0m\u001b[0;34m.\u001b[0m\u001b[0mpath\u001b[0m\u001b[0;34m.\u001b[0m\u001b[0mexists\u001b[0m\u001b[0;34m(\u001b[0m\u001b[0mfilename\u001b[0m\u001b[0;34m)\u001b[0m\u001b[0;34m:\u001b[0m\u001b[0;34m\u001b[0m\u001b[0;34m\u001b[0m\u001b[0m\n\u001b[1;32m    232\u001b[0m     \u001b[0mmsg\u001b[0m \u001b[0;34m=\u001b[0m \u001b[0;34m'Cannot find file: {}'\u001b[0m\u001b[0;34m.\u001b[0m\u001b[0mformat\u001b[0m\u001b[0;34m(\u001b[0m\u001b[0mfilename\u001b[0m\u001b[0;34m)\u001b[0m\u001b[0;34m\u001b[0m\u001b[0;34m\u001b[0m\u001b[0m\n\u001b[0;32m--> 233\u001b[0;31m     \u001b[0;32mraise\u001b[0m \u001b[0mFileNotFoundError\u001b[0m\u001b[0;34m(\u001b[0m\u001b[0mmsg\u001b[0m\u001b[0;34m)\u001b[0m  \u001b[0;31m# pylint: disable=undefined-variable\u001b[0m\u001b[0;34m\u001b[0m\u001b[0;34m\u001b[0m\u001b[0m\n\u001b[0m\u001b[1;32m    234\u001b[0m \u001b[0;34m\u001b[0m\u001b[0m\n\u001b[1;32m    235\u001b[0m   \u001b[0mcomm_manager\u001b[0m \u001b[0;34m=\u001b[0m \u001b[0m_IPython\u001b[0m\u001b[0;34m.\u001b[0m\u001b[0mget_ipython\u001b[0m\u001b[0;34m(\u001b[0m\u001b[0;34m)\u001b[0m\u001b[0;34m.\u001b[0m\u001b[0mkernel\u001b[0m\u001b[0;34m.\u001b[0m\u001b[0mcomm_manager\u001b[0m\u001b[0;34m\u001b[0m\u001b[0;34m\u001b[0m\u001b[0m\n",
            "\u001b[0;31mFileNotFoundError\u001b[0m: Cannot find file: /content/loss_plot.png"
          ]
        }
      ],
      "source": [
        "import gc\n",
        "import torch\n",
        "from torch.optim import AdamW\n",
        "from transformers import get_linear_schedule_with_warmup\n",
        "from sklearn.metrics import accuracy_score, precision_score, recall_score, f1_score\n",
        "import pandas as pd\n",
        "import matplotlib.pyplot as plt\n",
        "from tqdm import tqdm\n",
        "\n",
        "# Clear memory and reset GPU\n",
        "gc.collect()\n",
        "torch.cuda.empty_cache()\n",
        "device = torch.device('cuda' if torch.cuda.is_available() else 'cpu')\n",
        "if torch.cuda.is_available():\n",
        "    torch.cuda.reset_peak_memory_stats()\n",
        "    print(f\"GPU memory available: {torch.cuda.get_device_properties(0).total_memory/1e9:.2f} GB\")\n",
        "\n",
        "# Initialize optimizer and learning rate scheduler\n",
        "optimizer = AdamW([p for p in model.parameters() if p.requires_grad], lr=2e-5, weight_decay=0.01)\n",
        "\n",
        "# Define number of steps for scheduler\n",
        "num_training_steps = len(train_loader) * num_epochs\n",
        "num_warmup_steps = num_training_steps // 10\n",
        "\n",
        "# Initialize scheduler\n",
        "scheduler = get_linear_schedule_with_warmup(\n",
        "    optimizer,\n",
        "    num_warmup_steps=num_warmup_steps,\n",
        "    num_training_steps=num_training_steps\n",
        ")\n",
        "\n",
        "# Mixed precision training scaler\n",
        "scaler = torch.amp.GradScaler('cuda')\n",
        "\n",
        "# Training loop\n",
        "num_epochs = 5\n",
        "best_val_f1 = 0\n",
        "metrics = {\n",
        "    'train_losses': [], 'val_losses': [],\n",
        "    'train_accs': [], 'val_accs': [],\n",
        "    'train_f1s': [], 'val_f1s': [],\n",
        "    'train_precisions': [], 'val_precisions': [],\n",
        "    'train_recalls': [], 'val_recalls': []\n",
        "}\n",
        "\n",
        "print(\"\\n=== Starting Training ===\")\n",
        "for epoch in range(num_epochs):\n",
        "    print(f\"\\nEpoch {epoch + 1}/{num_epochs}\")\n",
        "\n",
        "    # Training phase\n",
        "    model.train()\n",
        "    train_loss = 0\n",
        "    train_true_labels = []\n",
        "    train_pred_labels = []\n",
        "\n",
        "    for batch_idx, batch in enumerate(tqdm(train_loader, desc=\"Training\")):\n",
        "        inputs = {k: v.to(device) for k, v in batch.items()}\n",
        "\n",
        "        with torch.amp.autocast('cuda'):\n",
        "            outputs = model(**inputs)\n",
        "            loss = outputs.loss / accumulation_steps\n",
        "            logits = outputs.logits\n",
        "\n",
        "        scaler.scale(loss).backward()\n",
        "        if (batch_idx + 1) % accumulation_steps == 0:\n",
        "            scaler.step(optimizer)\n",
        "            scaler.update()\n",
        "            scheduler.step()\n",
        "            optimizer.zero_grad()\n",
        "\n",
        "        train_loss += loss.item() * accumulation_steps\n",
        "        predictions = torch.argmax(logits, dim=1)\n",
        "        train_true_labels.extend(inputs['labels'].cpu().numpy())\n",
        "        train_pred_labels.extend(predictions.cpu().numpy())\n",
        "\n",
        "    # Calculate training metrics\n",
        "    train_accuracy = accuracy_score(train_true_labels, train_pred_labels)\n",
        "    train_f1 = f1_score(train_true_labels, train_pred_labels, average='weighted')\n",
        "    train_precision = precision_score(train_true_labels, train_pred_labels, average='weighted')\n",
        "    train_recall = recall_score(train_true_labels, train_pred_labels, average='weighted')\n",
        "\n",
        "    # Validation phase\n",
        "    model.eval()\n",
        "    val_loss = 0\n",
        "    val_true_labels = []\n",
        "    val_pred_labels = []\n",
        "    with torch.no_grad():\n",
        "        for batch in tqdm(val_loader, desc=\"Validation\"):\n",
        "            inputs = {k: v.to(device) for k, v in batch.items()}\n",
        "            outputs = model(**inputs)\n",
        "            val_loss += outputs.loss.item()\n",
        "            predictions = torch.argmax(outputs.logits, dim=1)\n",
        "            val_true_labels.extend(inputs['labels'].cpu().numpy())\n",
        "            val_pred_labels.extend(predictions.cpu().numpy())\n",
        "\n",
        "    # Calculate validation metrics\n",
        "    val_accuracy = accuracy_score(val_true_labels, val_pred_labels)\n",
        "    val_precision = precision_score(val_true_labels, val_pred_labels, average='weighted')\n",
        "    val_recall = recall_score(val_true_labels, val_pred_labels, average='weighted')\n",
        "    val_f1 = f1_score(val_true_labels, val_pred_labels, average='weighted')\n",
        "\n",
        "    # Update metrics\n",
        "    metrics['train_losses'].append(train_loss / len(train_loader))\n",
        "    metrics['val_losses'].append(val_loss / len(val_loader))\n",
        "    metrics['train_accs'].append(train_accuracy)\n",
        "    metrics['val_accs'].append(val_accuracy)\n",
        "    metrics['train_f1s'].append(train_f1)\n",
        "    metrics['val_f1s'].append(val_f1)\n",
        "    metrics['train_precisions'].append(train_precision)\n",
        "    metrics['val_precisions'].append(val_precision)\n",
        "    metrics['train_recalls'].append(train_recall)\n",
        "    metrics['val_recalls'].append(val_recall)\n",
        "\n",
        "    # Save best model\n",
        "    if val_f1 > best_val_f1:\n",
        "        best_val_f1 = val_f1\n",
        "        torch.save({\n",
        "            'epoch': epoch,\n",
        "            'model_state_dict': model.state_dict(),\n",
        "            'optimizer_state_dict': optimizer.state_dict(),\n",
        "            'scheduler_state_dict': scheduler.state_dict(),\n",
        "            'val_f1': val_f1,\n",
        "            'metrics': metrics\n",
        "        }, 'best_model.pt')\n",
        "        print(f\"\\nSaved new best model with F1 score: {val_f1:.4f}\")\n",
        "\n",
        "# Save final model\n",
        "torch.save({\n",
        "    'epoch': num_epochs,\n",
        "    'model_state_dict': model.state_dict(),\n",
        "    'optimizer_state_dict': optimizer.state_dict(),\n",
        "    'scheduler_state_dict': scheduler.state_dict(),\n",
        "    'metrics': metrics\n",
        "}, 'final_model.pt')\n",
        "print(\"\\nFinal model saved as 'final_model.pt'\")\n",
        "\n",
        "# Download models\n",
        "\n",
        "from google.colab import files\n",
        "best_model_path = 'best_model.pt'\n",
        "final_model_path = 'final_model.pt'\n",
        "files.download(best_model_path)\n",
        "files.download(final_model_path)\n",
        "\n",
        "\n",
        "\n",
        "# Plot metrics\n",
        "def plot_metrics(metrics, metric_name, title):\n",
        "    plt.figure(figsize=(10, 6))\n",
        "    plt.plot(metrics[f'train_{metric_name}'], label=f'Train {metric_name.capitalize()}', marker='o')\n",
        "    plt.plot(metrics[f'val_{metric_name}'], label=f'Validation {metric_name.capitalize()}', marker='o')\n",
        "    plt.title(f'{title} Over Epochs')\n",
        "    plt.xlabel('Epochs')\n",
        "    plt.ylabel(metric_name.capitalize())\n",
        "    plt.legend()\n",
        "    plt.grid(True)\n",
        "    plt.show()\n",
        "\n",
        "metrics_df = pd.DataFrame(metrics)\n",
        "print(\"\\n=== Metrics Table ===\")\n",
        "print(metrics_df)\n",
        "metrics_csv_path = \"/content/metrics_table.csv\"\n",
        "metrics_df.to_csv(metrics_csv_path, index=False)\n",
        "files.download(metrics_csv_path)\n",
        "\n",
        "\n",
        "\n",
        "plot_metrics(metrics, 'losses', 'Loss')\n",
        "plot_metrics(metrics, 'accs', 'Accuracy')\n",
        "plot_metrics(metrics, 'f1s', 'F1 Score')\n",
        "\n",
        "# Download plots\n",
        "files.download('/content/loss_plot.png')\n",
        "files.download('/content/accuracy_plot.png')\n",
        "files.download('/content/f1_plot.png')\n",
        "\n"
      ]
    },
    {
      "cell_type": "code",
      "execution_count": null,
      "id": "POZ3IAhsvIuJ",
      "metadata": {
        "id": "POZ3IAhsvIuJ"
      },
      "outputs": [],
      "source": []
    },
    {
      "cell_type": "code",
      "execution_count": null,
      "id": "AqAn6IVV9S33",
      "metadata": {
        "id": "AqAn6IVV9S33"
      },
      "outputs": [],
      "source": []
    },
    {
      "cell_type": "code",
      "execution_count": null,
      "id": "u6jnp4PR9S6q",
      "metadata": {
        "id": "u6jnp4PR9S6q"
      },
      "outputs": [],
      "source": []
    },
    {
      "cell_type": "code",
      "execution_count": null,
      "id": "zJDb8WxL9S-N",
      "metadata": {
        "id": "zJDb8WxL9S-N"
      },
      "outputs": [],
      "source": []
    },
    {
      "cell_type": "code",
      "execution_count": null,
      "id": "qIL-rZ2g9TAy",
      "metadata": {
        "id": "qIL-rZ2g9TAy"
      },
      "outputs": [],
      "source": []
    },
    {
      "cell_type": "markdown",
      "id": "UMpKSm4TythD",
      "metadata": {
        "id": "UMpKSm4TythD"
      },
      "source": [
        "\n",
        "# **prediction part**"
      ]
    },
    {
      "cell_type": "code",
      "execution_count": null,
      "id": "tSdKweNiyt2H",
      "metadata": {
        "id": "tSdKweNiyt2H"
      },
      "outputs": [],
      "source": []
    },
    {
      "cell_type": "code",
      "execution_count": null,
      "id": "Tc3q5yIY5p1h",
      "metadata": {
        "colab": {
          "base_uri": "https://localhost:8080/",
          "height": 1000
        },
        "id": "Tc3q5yIY5p1h",
        "outputId": "2c31c8f2-43f3-4d77-c51a-b6ff162bb05e"
      },
      "outputs": [
        {
          "name": "stdout",
          "output_type": "stream",
          "text": [
            "GPU memory available: 15.84 GB\n",
            "\n",
            "=== Loading Dataset ===\n",
            "Downloading...\n",
            "From (original): https://drive.google.com/uc?id=1euaUIL-xNVbhMLK-pqYH_cz75baO4ueC\n",
            "From (redirected): https://drive.google.com/uc?id=1euaUIL-xNVbhMLK-pqYH_cz75baO4ueC&confirm=t&uuid=f5ec6cf5-7e54-438d-b7c4-c2519c8007a6\n",
            "To: /content/unlabeled_data.csv\n",
            "100% 451M/451M [00:02<00:00, 173MB/s]\n",
            "Dataset size: 42367 rows\n",
            "\n",
            "=== Loading Tokenizer ===\n",
            "\n",
            "=== Loading Model ===\n"
          ]
        },
        {
          "name": "stderr",
          "output_type": "stream",
          "text": [
            "<ipython-input-36-087fc11a9117>:81: FutureWarning: You are using `torch.load` with `weights_only=False` (the current default value), which uses the default pickle module implicitly. It is possible to construct malicious pickle data which will execute arbitrary code during unpickling (See https://github.com/pytorch/pytorch/blob/main/SECURITY.md#untrusted-models for more details). In a future release, the default value for `weights_only` will be flipped to `True`. This limits the functions that could be executed during unpickling. Arbitrary objects will no longer be allowed to be loaded via this mode unless they are explicitly allowlisted by the user via `torch.serialization.add_safe_globals`. We recommend you start setting `weights_only=True` for any use case where you don't have full control of the loaded file. Please open an issue on GitHub for any issues related to this experimental feature.\n",
            "  checkpoint = torch.load(checkpoint_path, map_location=device)\n",
            "Some weights of BertForSequenceClassification were not initialized from the model checkpoint at bert-base-uncased and are newly initialized: ['classifier.bias', 'classifier.weight']\n",
            "You should probably TRAIN this model on a down-stream task to be able to use it for predictions and inference.\n"
          ]
        },
        {
          "name": "stdout",
          "output_type": "stream",
          "text": [
            "Model loaded successfully.\n",
            "\n",
            "=== Predicting Labels ===\n"
          ]
        },
        {
          "name": "stderr",
          "output_type": "stream",
          "text": [
            "Predicting Labels:   2%|▏         | 101/5296 [00:20<18:10,  4.76it/s]"
          ]
        },
        {
          "name": "stdout",
          "output_type": "stream",
          "text": [
            "Saved 800 predictions so far.\n"
          ]
        },
        {
          "name": "stderr",
          "output_type": "stream",
          "text": [
            "Predicting Labels:   4%|▍         | 200/5296 [00:41<22:43,  3.74it/s]"
          ]
        },
        {
          "name": "stdout",
          "output_type": "stream",
          "text": [
            "Saved 1600 predictions so far.\n"
          ]
        },
        {
          "name": "stderr",
          "output_type": "stream",
          "text": [
            "Predicting Labels:   6%|▌         | 301/5296 [01:02<22:46,  3.66it/s]"
          ]
        },
        {
          "name": "stdout",
          "output_type": "stream",
          "text": [
            "Saved 2400 predictions so far.\n"
          ]
        },
        {
          "name": "stderr",
          "output_type": "stream",
          "text": [
            "Predicting Labels:   8%|▊         | 401/5296 [01:23<20:49,  3.92it/s]"
          ]
        },
        {
          "name": "stdout",
          "output_type": "stream",
          "text": [
            "Saved 3200 predictions so far.\n"
          ]
        },
        {
          "name": "stderr",
          "output_type": "stream",
          "text": [
            "Predicting Labels:   9%|▉         | 500/5296 [01:45<24:09,  3.31it/s]"
          ]
        },
        {
          "name": "stdout",
          "output_type": "stream",
          "text": [
            "Saved 4000 predictions so far.\n"
          ]
        },
        {
          "name": "stderr",
          "output_type": "stream",
          "text": [
            "Predicting Labels:  11%|█▏        | 600/5296 [02:07<30:34,  2.56it/s]"
          ]
        },
        {
          "name": "stdout",
          "output_type": "stream",
          "text": [
            "Saved 4800 predictions so far.\n"
          ]
        },
        {
          "name": "stderr",
          "output_type": "stream",
          "text": [
            "Predicting Labels:  13%|█▎        | 700/5296 [02:30<31:00,  2.47it/s]"
          ]
        },
        {
          "name": "stdout",
          "output_type": "stream",
          "text": [
            "Saved 5600 predictions so far.\n"
          ]
        },
        {
          "name": "stderr",
          "output_type": "stream",
          "text": [
            "Predicting Labels:  15%|█▌        | 801/5296 [02:52<22:41,  3.30it/s]"
          ]
        },
        {
          "name": "stdout",
          "output_type": "stream",
          "text": [
            "Saved 6400 predictions so far.\n"
          ]
        },
        {
          "name": "stderr",
          "output_type": "stream",
          "text": [
            "Predicting Labels:  17%|█▋        | 901/5296 [03:14<22:55,  3.19it/s]"
          ]
        },
        {
          "name": "stdout",
          "output_type": "stream",
          "text": [
            "Saved 7200 predictions so far.\n"
          ]
        },
        {
          "name": "stderr",
          "output_type": "stream",
          "text": [
            "Predicting Labels:  19%|█▉        | 1000/5296 [03:36<38:04,  1.88it/s]"
          ]
        },
        {
          "name": "stdout",
          "output_type": "stream",
          "text": [
            "Saved 8000 predictions so far.\n"
          ]
        },
        {
          "name": "stderr",
          "output_type": "stream",
          "text": [
            "Predicting Labels:  21%|██        | 1100/5296 [03:58<28:30,  2.45it/s]"
          ]
        },
        {
          "name": "stdout",
          "output_type": "stream",
          "text": [
            "Saved 8800 predictions so far.\n"
          ]
        },
        {
          "name": "stderr",
          "output_type": "stream",
          "text": [
            "Predicting Labels:  23%|██▎       | 1200/5296 [04:20<27:58,  2.44it/s]"
          ]
        },
        {
          "name": "stdout",
          "output_type": "stream",
          "text": [
            "Saved 9600 predictions so far.\n"
          ]
        },
        {
          "name": "stderr",
          "output_type": "stream",
          "text": [
            "Predicting Labels:  25%|██▍       | 1300/5296 [04:43<34:25,  1.94it/s]"
          ]
        },
        {
          "name": "stdout",
          "output_type": "stream",
          "text": [
            "Saved 10400 predictions so far.\n"
          ]
        },
        {
          "name": "stderr",
          "output_type": "stream",
          "text": [
            "Predicting Labels:  26%|██▋       | 1400/5296 [05:05<38:29,  1.69it/s]"
          ]
        },
        {
          "name": "stdout",
          "output_type": "stream",
          "text": [
            "Saved 11200 predictions so far.\n"
          ]
        },
        {
          "name": "stderr",
          "output_type": "stream",
          "text": [
            "Predicting Labels:  28%|██▊       | 1500/5296 [05:28<28:51,  2.19it/s]"
          ]
        },
        {
          "name": "stdout",
          "output_type": "stream",
          "text": [
            "Saved 12000 predictions so far.\n"
          ]
        },
        {
          "name": "stderr",
          "output_type": "stream",
          "text": [
            "Predicting Labels:  30%|███       | 1600/5296 [05:50<29:29,  2.09it/s]"
          ]
        },
        {
          "name": "stdout",
          "output_type": "stream",
          "text": [
            "Saved 12800 predictions so far.\n"
          ]
        },
        {
          "name": "stderr",
          "output_type": "stream",
          "text": [
            "Predicting Labels:  32%|███▏      | 1700/5296 [06:13<43:42,  1.37it/s]"
          ]
        },
        {
          "name": "stdout",
          "output_type": "stream",
          "text": [
            "Saved 13600 predictions so far.\n"
          ]
        },
        {
          "name": "stderr",
          "output_type": "stream",
          "text": [
            "Predicting Labels:  34%|███▍      | 1800/5296 [06:36<29:49,  1.95it/s]"
          ]
        },
        {
          "name": "stdout",
          "output_type": "stream",
          "text": [
            "Saved 14400 predictions so far.\n"
          ]
        },
        {
          "name": "stderr",
          "output_type": "stream",
          "text": [
            "Predicting Labels:  36%|███▌      | 1901/5296 [06:59<24:14,  2.33it/s]"
          ]
        },
        {
          "name": "stdout",
          "output_type": "stream",
          "text": [
            "Saved 15200 predictions so far.\n"
          ]
        },
        {
          "name": "stderr",
          "output_type": "stream",
          "text": [
            "Predicting Labels:  38%|███▊      | 2000/5296 [07:22<45:01,  1.22it/s]"
          ]
        },
        {
          "name": "stdout",
          "output_type": "stream",
          "text": [
            "Saved 16000 predictions so far.\n"
          ]
        },
        {
          "name": "stderr",
          "output_type": "stream",
          "text": [
            "Predicting Labels:  40%|███▉      | 2101/5296 [07:45<24:13,  2.20it/s]"
          ]
        },
        {
          "name": "stdout",
          "output_type": "stream",
          "text": [
            "Saved 16800 predictions so far.\n"
          ]
        },
        {
          "name": "stderr",
          "output_type": "stream",
          "text": [
            "Predicting Labels:  42%|████▏     | 2200/5296 [08:07<29:41,  1.74it/s]"
          ]
        },
        {
          "name": "stdout",
          "output_type": "stream",
          "text": [
            "Saved 17600 predictions so far.\n"
          ]
        },
        {
          "name": "stderr",
          "output_type": "stream",
          "text": [
            "Predicting Labels:  43%|████▎     | 2300/5296 [08:31<45:33,  1.10it/s]"
          ]
        },
        {
          "name": "stdout",
          "output_type": "stream",
          "text": [
            "Saved 18400 predictions so far.\n"
          ]
        },
        {
          "name": "stderr",
          "output_type": "stream",
          "text": [
            "Predicting Labels:  45%|████▌     | 2400/5296 [08:54<29:21,  1.64it/s]"
          ]
        },
        {
          "name": "stdout",
          "output_type": "stream",
          "text": [
            "Saved 19200 predictions so far.\n"
          ]
        },
        {
          "name": "stderr",
          "output_type": "stream",
          "text": [
            "Predicting Labels:  47%|████▋     | 2500/5296 [09:17<29:20,  1.59it/s]"
          ]
        },
        {
          "name": "stdout",
          "output_type": "stream",
          "text": [
            "Saved 20000 predictions so far.\n"
          ]
        },
        {
          "name": "stderr",
          "output_type": "stream",
          "text": [
            "Predicting Labels:  49%|████▉     | 2600/5296 [09:41<45:16,  1.01s/it]"
          ]
        },
        {
          "name": "stdout",
          "output_type": "stream",
          "text": [
            "Saved 20800 predictions so far.\n"
          ]
        },
        {
          "name": "stderr",
          "output_type": "stream",
          "text": [
            "Predicting Labels:  51%|█████     | 2700/5296 [10:04<29:09,  1.48it/s]"
          ]
        },
        {
          "name": "stdout",
          "output_type": "stream",
          "text": [
            "Saved 21600 predictions so far.\n"
          ]
        },
        {
          "name": "stderr",
          "output_type": "stream",
          "text": [
            "Predicting Labels:  53%|█████▎    | 2800/5296 [10:27<28:47,  1.44it/s]"
          ]
        },
        {
          "name": "stdout",
          "output_type": "stream",
          "text": [
            "Saved 22400 predictions so far.\n"
          ]
        },
        {
          "name": "stderr",
          "output_type": "stream",
          "text": [
            "Predicting Labels:  55%|█████▍    | 2900/5296 [10:52<44:10,  1.11s/it]"
          ]
        },
        {
          "name": "stdout",
          "output_type": "stream",
          "text": [
            "Saved 23200 predictions so far.\n"
          ]
        },
        {
          "name": "stderr",
          "output_type": "stream",
          "text": [
            "Predicting Labels:  57%|█████▋    | 3000/5296 [11:15<27:21,  1.40it/s]"
          ]
        },
        {
          "name": "stdout",
          "output_type": "stream",
          "text": [
            "Saved 24000 predictions so far.\n"
          ]
        },
        {
          "name": "stderr",
          "output_type": "stream",
          "text": [
            "Predicting Labels:  59%|█████▊    | 3100/5296 [11:38<26:27,  1.38it/s]"
          ]
        },
        {
          "name": "stdout",
          "output_type": "stream",
          "text": [
            "Saved 24800 predictions so far.\n"
          ]
        },
        {
          "name": "stderr",
          "output_type": "stream",
          "text": [
            "Predicting Labels:  60%|██████    | 3200/5296 [12:03<38:57,  1.12s/it]"
          ]
        },
        {
          "name": "stdout",
          "output_type": "stream",
          "text": [
            "Saved 25600 predictions so far.\n"
          ]
        },
        {
          "name": "stderr",
          "output_type": "stream",
          "text": [
            "Predicting Labels:  62%|██████▏   | 3300/5296 [12:26<24:50,  1.34it/s]"
          ]
        },
        {
          "name": "stdout",
          "output_type": "stream",
          "text": [
            "Saved 26400 predictions so far.\n"
          ]
        },
        {
          "name": "stderr",
          "output_type": "stream",
          "text": [
            "Predicting Labels:  64%|██████▍   | 3400/5296 [12:49<25:04,  1.26it/s]"
          ]
        },
        {
          "name": "stdout",
          "output_type": "stream",
          "text": [
            "Saved 27200 predictions so far.\n"
          ]
        },
        {
          "name": "stderr",
          "output_type": "stream",
          "text": [
            "Predicting Labels:  66%|██████▌   | 3500/5296 [13:14<31:13,  1.04s/it]"
          ]
        },
        {
          "name": "stdout",
          "output_type": "stream",
          "text": [
            "Saved 28000 predictions so far.\n"
          ]
        },
        {
          "name": "stderr",
          "output_type": "stream",
          "text": [
            "Predicting Labels:  68%|██████▊   | 3600/5296 [13:37<22:41,  1.25it/s]"
          ]
        },
        {
          "name": "stdout",
          "output_type": "stream",
          "text": [
            "Saved 28800 predictions so far.\n"
          ]
        },
        {
          "name": "stderr",
          "output_type": "stream",
          "text": [
            "Predicting Labels:  70%|██████▉   | 3700/5296 [14:03<34:44,  1.31s/it]"
          ]
        },
        {
          "name": "stdout",
          "output_type": "stream",
          "text": [
            "Saved 29600 predictions so far.\n"
          ]
        },
        {
          "name": "stderr",
          "output_type": "stream",
          "text": [
            "Predicting Labels:  72%|███████▏  | 3800/5296 [14:26<21:03,  1.18it/s]"
          ]
        },
        {
          "name": "stdout",
          "output_type": "stream",
          "text": [
            "Saved 30400 predictions so far.\n"
          ]
        },
        {
          "name": "stderr",
          "output_type": "stream",
          "text": [
            "Predicting Labels:  74%|███████▎  | 3900/5296 [14:50<19:54,  1.17it/s]"
          ]
        },
        {
          "name": "stdout",
          "output_type": "stream",
          "text": [
            "Saved 31200 predictions so far.\n"
          ]
        },
        {
          "name": "stderr",
          "output_type": "stream",
          "text": [
            "Predicting Labels:  76%|███████▌  | 4000/5296 [15:15<29:14,  1.35s/it]"
          ]
        },
        {
          "name": "stdout",
          "output_type": "stream",
          "text": [
            "Saved 32000 predictions so far.\n"
          ]
        },
        {
          "name": "stderr",
          "output_type": "stream",
          "text": [
            "Predicting Labels:  77%|███████▋  | 4100/5296 [15:39<17:37,  1.13it/s]"
          ]
        },
        {
          "name": "stdout",
          "output_type": "stream",
          "text": [
            "Saved 32800 predictions so far.\n"
          ]
        },
        {
          "name": "stderr",
          "output_type": "stream",
          "text": [
            "Predicting Labels:  79%|███████▉  | 4200/5296 [16:03<16:19,  1.12it/s]"
          ]
        },
        {
          "name": "stdout",
          "output_type": "stream",
          "text": [
            "Saved 33600 predictions so far.\n"
          ]
        },
        {
          "name": "stderr",
          "output_type": "stream",
          "text": [
            "Predicting Labels:  81%|████████  | 4300/5296 [16:28<20:38,  1.24s/it]"
          ]
        },
        {
          "name": "stdout",
          "output_type": "stream",
          "text": [
            "Saved 34400 predictions so far.\n"
          ]
        },
        {
          "name": "stderr",
          "output_type": "stream",
          "text": [
            "Predicting Labels:  83%|████████▎ | 4400/5296 [16:52<13:47,  1.08it/s]"
          ]
        },
        {
          "name": "stdout",
          "output_type": "stream",
          "text": [
            "Saved 35200 predictions so far.\n"
          ]
        },
        {
          "name": "stderr",
          "output_type": "stream",
          "text": [
            "Predicting Labels:  85%|████████▍ | 4500/5296 [17:18<20:05,  1.51s/it]"
          ]
        },
        {
          "name": "stdout",
          "output_type": "stream",
          "text": [
            "Saved 36000 predictions so far.\n"
          ]
        },
        {
          "name": "stderr",
          "output_type": "stream",
          "text": [
            "Predicting Labels:  87%|████████▋ | 4600/5296 [17:42<11:20,  1.02it/s]"
          ]
        },
        {
          "name": "stdout",
          "output_type": "stream",
          "text": [
            "Saved 36800 predictions so far.\n"
          ]
        },
        {
          "name": "stderr",
          "output_type": "stream",
          "text": [
            "Predicting Labels:  89%|████████▊ | 4700/5296 [18:07<12:42,  1.28s/it]"
          ]
        },
        {
          "name": "stdout",
          "output_type": "stream",
          "text": [
            "Saved 37600 predictions so far.\n"
          ]
        },
        {
          "name": "stderr",
          "output_type": "stream",
          "text": [
            "Predicting Labels:  91%|█████████ | 4800/5296 [18:32<10:02,  1.22s/it]"
          ]
        },
        {
          "name": "stdout",
          "output_type": "stream",
          "text": [
            "Saved 38400 predictions so far.\n"
          ]
        },
        {
          "name": "stderr",
          "output_type": "stream",
          "text": [
            "Predicting Labels:  93%|█████████▎| 4900/5296 [18:56<06:45,  1.02s/it]"
          ]
        },
        {
          "name": "stdout",
          "output_type": "stream",
          "text": [
            "Saved 39200 predictions so far.\n"
          ]
        },
        {
          "name": "stderr",
          "output_type": "stream",
          "text": [
            "Predicting Labels:  94%|█████████▍| 5000/5296 [19:23<08:07,  1.65s/it]"
          ]
        },
        {
          "name": "stdout",
          "output_type": "stream",
          "text": [
            "Saved 40000 predictions so far.\n"
          ]
        },
        {
          "name": "stderr",
          "output_type": "stream",
          "text": [
            "Predicting Labels:  96%|█████████▋| 5100/5296 [19:47<03:31,  1.08s/it]"
          ]
        },
        {
          "name": "stdout",
          "output_type": "stream",
          "text": [
            "Saved 40800 predictions so far.\n"
          ]
        },
        {
          "name": "stderr",
          "output_type": "stream",
          "text": [
            "Predicting Labels:  98%|█████████▊| 5200/5296 [20:13<02:15,  1.42s/it]"
          ]
        },
        {
          "name": "stdout",
          "output_type": "stream",
          "text": [
            "Saved 41600 predictions so far.\n"
          ]
        },
        {
          "name": "stderr",
          "output_type": "stream",
          "text": [
            "Predicting Labels: 100%|██████████| 5296/5296 [20:34<00:00,  4.29it/s]\n"
          ]
        },
        {
          "name": "stdout",
          "output_type": "stream",
          "text": [
            "Prediction completed and saved!\n",
            "\n",
            "=== Sample Predictions ===\n",
            "                                                post  \\\n",
            "0  i've become aware of a fascinating conspiracy ...   \n",
            "1  edit: i have been convinced that renewables sh...   \n",
            "2  looking at individual humans, its easy to see ...   \n",
            "3  edit: i reworded the first paragraph of the po...   \n",
            "4  first, i must disclaim im not an economist ; i...   \n",
            "\n",
            "                                             comment  predicted_label  \n",
            "0  answer: we're not allowed to say the real grou...                1  \n",
            "1  the difference is outlined in this report page...                1  \n",
            "2  what i'm more trying to express is that even i...                1  \n",
            "3  if elon uncensors and unbans many accounts or ...                1  \n",
            "4  20 years is a lot of time to expand your labor...                2  \n"
          ]
        },
        {
          "data": {
            "image/png": "[encoded data removed]",
            "text/plain": [
              "<Figure size 800x500 with 1 Axes>"
            ]
          },
          "metadata": {},
          "output_type": "display_data"
        },
        {
          "name": "stdout",
          "output_type": "stream",
          "text": [
            "\n",
            "=== Label Distribution ===\n",
            "predicted_label\n",
            "1    31868\n",
            "0     6202\n",
            "2     4297\n",
            "Name: count, dtype: int64\n"
          ]
        }
      ],
      "source": [
        "import gc\n",
        "import os\n",
        "import torch\n",
        "from torch.utils.data import DataLoader, Dataset\n",
        "from transformers import BertTokenizer, BertForSequenceClassification\n",
        "import pandas as pd\n",
        "from tqdm import tqdm\n",
        "\n",
        "# Clear memory and reset GPU\n",
        "gc.collect()\n",
        "torch.cuda.empty_cache()\n",
        "device = torch.device('cuda' if torch.cuda.is_available() else 'cpu')\n",
        "if torch.cuda.is_available():\n",
        "    torch.cuda.reset_peak_memory_stats()\n",
        "    print(f\"GPU memory available: {torch.cuda.get_device_properties(0).total_memory/1e9:.2f} GB\")\n",
        "\n",
        "# Dataset class with truncation handling\n",
        "class UnlabeledDataset(Dataset):\n",
        "    def __init__(self, posts, comments, tokenizer, max_length=512):\n",
        "        self.posts = posts\n",
        "        self.comments = comments\n",
        "        self.tokenizer = tokenizer\n",
        "        self.max_length = max_length\n",
        "\n",
        "    def __len__(self):\n",
        "        return len(self.posts)\n",
        "\n",
        "    def __getitem__(self, idx):\n",
        "        post = self.posts[idx]\n",
        "        comment = self.comments[idx]\n",
        "\n",
        "        # Truncate if necessary\n",
        "        post = post[:self.max_length // 2]\n",
        "        comment = comment[:self.max_length // 2]\n",
        "\n",
        "        encoding = self.tokenizer(\n",
        "            post,\n",
        "            comment,\n",
        "            truncation=True,\n",
        "            padding='max_length',\n",
        "            max_length=self.max_length,\n",
        "            return_tensors='pt'\n",
        "        )\n",
        "        return {key: val.squeeze(0) for key, val in encoding.items()}\n",
        "\n",
        "# Load the dataset\n",
        "print(\"\\n=== Loading Dataset ===\")\n",
        "!gdown \"https://drive.google.com/uc?id=1euaUIL-xNVbhMLK-pqYH_cz75baO4ueC\"\n",
        "data = pd.read_csv('unlabeled_data.csv')\n",
        "print(f\"Dataset size: {len(data)} rows\")\n",
        "\n",
        "# Check for NaN values\n",
        "#print(\"\\nChecking for NaN values:\")\n",
        "3#print(data.isnull().sum())\n",
        "\n",
        "# Remove rows with NaN values\n",
        "#data = data.dropna(subset=['cleaned_text', 'cleaned_body'])\n",
        "#print(f\"\\nDataset size after removing NaN: {len(data)} rows\")\n",
        "\n",
        "# Prepare data\n",
        "unlabeled_posts = data['cleaned_text'].tolist()\n",
        "unlabeled_comments = data['cleaned_body'].tolist()\n",
        "\n",
        "# Tokenizer initialization\n",
        "print(\"\\n=== Loading Tokenizer ===\")\n",
        "tokenizer = BertTokenizer.from_pretrained('bert-base-uncased')\n",
        "\n",
        "# Prepare the dataset and DataLoader\n",
        "unlabeled_dataset = UnlabeledDataset(unlabeled_posts, unlabeled_comments, tokenizer)\n",
        "unlabeled_loader = DataLoader(\n",
        "    unlabeled_dataset,\n",
        "    batch_size=8,  # Reduce batch size for large datasets\n",
        "    shuffle=False,\n",
        "    pin_memory=True,\n",
        "    num_workers=2\n",
        ")\n",
        "\n",
        "# Load the model\n",
        "print(\"\\n=== Loading Model ===\")\n",
        "checkpoint_path = 'best_model.pt'\n",
        "checkpoint = torch.load(checkpoint_path, map_location=device)\n",
        "model = BertForSequenceClassification.from_pretrained('bert-base-uncased', num_labels=3)\n",
        "model.load_state_dict(checkpoint['model_state_dict'])\n",
        "model.to(device)\n",
        "model.eval()\n",
        "print(\"Model loaded successfully.\")\n",
        "\n",
        "# Initialize for intermediate saving\n",
        "predicted_labels = []\n",
        "start_index = 0\n",
        "\n",
        "# Check if intermediate results exist\n",
        "if os.path.exists('predicted_labels_intermediate.csv'):\n",
        "    intermediate_df = pd.read_csv('predicted_labels_intermediate.csv')\n",
        "    predicted_labels = intermediate_df['predicted_label'].tolist()\n",
        "    start_index = len(predicted_labels)\n",
        "    print(f\"Resuming from {start_index} predictions...\")\n",
        "\n",
        "# Adjust DataLoader to skip completed items\n",
        "unlabeled_dataset = UnlabeledDataset(unlabeled_posts[start_index:], unlabeled_comments[start_index:], tokenizer)\n",
        "unlabeled_loader = DataLoader(unlabeled_dataset, batch_size=8, shuffle=False, pin_memory=True, num_workers=2)\n",
        "\n",
        "# Prediction loop with intermediate saves\n",
        "print(\"\\n=== Predicting Labels ===\")\n",
        "with torch.no_grad():\n",
        "    for batch_idx, batch in enumerate(tqdm(unlabeled_loader, desc=\"Predicting Labels\")):\n",
        "        inputs = {k: v.to(device) for k, v in batch.items()}\n",
        "        outputs = model(**inputs)\n",
        "        predictions = torch.argmax(outputs.logits, dim=1)\n",
        "        predicted_labels.extend(predictions.cpu().numpy())\n",
        "\n",
        "        # Save intermediate results every 100 batches\n",
        "        if (batch_idx + 1) % 100 == 0:\n",
        "            intermediate_df = pd.DataFrame({\n",
        "                'post': unlabeled_posts[:len(predicted_labels)],\n",
        "                'comment': unlabeled_comments[:len(predicted_labels)],\n",
        "                'predicted_label': predicted_labels\n",
        "            })\n",
        "            intermediate_df.to_csv('predicted_labels_intermediate.csv', index=False)\n",
        "            print(f\"Saved {len(predicted_labels)} predictions so far.\")\n",
        "\n",
        "# Save final results\n",
        "predicted_df = pd.DataFrame({\n",
        "    'post': unlabeled_posts,\n",
        "    'comment': unlabeled_comments,\n",
        "    'predicted_label': predicted_labels\n",
        "})\n",
        "predicted_df.to_csv('predicted_labels.csv', index=False)\n",
        "print(\"Prediction completed and saved!\")\n",
        "\n",
        "# Analyze and plot results\n",
        "print(\"\\n=== Sample Predictions ===\")\n",
        "print(predicted_df.head())\n",
        "\n",
        "# Plot label distribution\n",
        "import matplotlib.pyplot as plt\n",
        "label_counts = predicted_df['predicted_label'].value_counts()\n",
        "plt.figure(figsize=(8, 5))\n",
        "label_counts.plot(kind='bar', color=['blue', 'orange', 'green'])\n",
        "plt.title('Predicted Label Distribution')\n",
        "plt.xlabel('Labels')\n",
        "plt.ylabel('Frequency')\n",
        "plt.xticks(rotation=0)\n",
        "plt.grid(axis='y')\n",
        "plt.show()\n",
        "\n",
        "print(\"\\n=== Label Distribution ===\")\n",
        "print(label_counts)\n"
      ]
    }
  ],
  "metadata": {
    "accelerator": "GPU",
    "colab": {
      "gpuType": "T4",
      "provenance": []
    },
    "kernelspec": {
      "display_name": "Python 3",
      "name": "python3"
    },
    "language_info": {
      "codemirror_mode": {
        "name": "ipython",
        "version": 3
      },
      "file_extension": ".py",
      "mimetype": "text/x-python",
      "name": "python",
      "nbconvert_exporter": "python",
      "pygments_lexer": "ipython3",
      "version": "3.12.7"
    },
    "widgets": {
      "application/vnd.jupyter.widget-state+json": {
        "02921970662a412691cd219ffe245575": {
          "model_module": "@jupyter-widgets/base",
          "model_module_version": "1.2.0",
          "model_name": "LayoutModel",
          "state": {
            "_model_module": "@jupyter-widgets/base",
            "_model_module_version": "1.2.0",
            "_model_name": "LayoutModel",
            "_view_count": null,
            "_view_module": "@jupyter-widgets/base",
            "_view_module_version": "1.2.0",
            "_view_name": "LayoutView",
            "align_content": null,
            "align_items": null,
            "align_self": null,
            "border": null,
            "bottom": null,
            "display": null,
            "flex": null,
            "flex_flow": null,
            "grid_area": null,
            "grid_auto_columns": null,
            "grid_auto_flow": null,
            "grid_auto_rows": null,
            "grid_column": null,
            "grid_gap": null,
            "grid_row": null,
            "grid_template_areas": null,
            "grid_template_columns": null,
            "grid_template_rows": null,
            "height": null,
            "justify_content": null,
            "justify_items": null,
            "left": null,
            "margin": null,
            "max_height": null,
            "max_width": null,
            "min_height": null,
            "min_width": null,
            "object_fit": null,
            "object_position": null,
            "order": null,
            "overflow": null,
            "overflow_x": null,
            "overflow_y": null,
            "padding": null,
            "right": null,
            "top": null,
            "visibility": null,
            "width": null
          }
        },
        "065c3021543149aca49cbcae2f82924a": {
          "model_module": "@jupyter-widgets/controls",
          "model_module_version": "1.5.0",
          "model_name": "DescriptionStyleModel",
          "state": {
            "_model_module": "@jupyter-widgets/controls",
            "_model_module_version": "1.5.0",
            "_model_name": "DescriptionStyleModel",
            "_view_count": null,
            "_view_module": "@jupyter-widgets/base",
            "_view_module_version": "1.2.0",
            "_view_name": "StyleView",
            "description_width": ""
          }
        },
        "13f1e095639549c3929b2d71e55c0ed4": {
          "model_module": "@jupyter-widgets/controls",
          "model_module_version": "1.5.0",
          "model_name": "ProgressStyleModel",
          "state": {
            "_model_module": "@jupyter-widgets/controls",
            "_model_module_version": "1.5.0",
            "_model_name": "ProgressStyleModel",
            "_view_count": null,
            "_view_module": "@jupyter-widgets/base",
            "_view_module_version": "1.2.0",
            "_view_name": "StyleView",
            "bar_color": null,
            "description_width": ""
          }
        },
        "1864804547f84890ae0923960db3baf2": {
          "model_module": "@jupyter-widgets/base",
          "model_module_version": "1.2.0",
          "model_name": "LayoutModel",
          "state": {
            "_model_module": "@jupyter-widgets/base",
            "_model_module_version": "1.2.0",
            "_model_name": "LayoutModel",
            "_view_count": null,
            "_view_module": "@jupyter-widgets/base",
            "_view_module_version": "1.2.0",
            "_view_name": "LayoutView",
            "align_content": null,
            "align_items": null,
            "align_self": null,
            "border": null,
            "bottom": null,
            "display": null,
            "flex": null,
            "flex_flow": null,
            "grid_area": null,
            "grid_auto_columns": null,
            "grid_auto_flow": null,
            "grid_auto_rows": null,
            "grid_column": null,
            "grid_gap": null,
            "grid_row": null,
            "grid_template_areas": null,
            "grid_template_columns": null,
            "grid_template_rows": null,
            "height": null,
            "justify_content": null,
            "justify_items": null,
            "left": null,
            "margin": null,
            "max_height": null,
            "max_width": null,
            "min_height": null,
            "min_width": null,
            "object_fit": null,
            "object_position": null,
            "order": null,
            "overflow": null,
            "overflow_x": null,
            "overflow_y": null,
            "padding": null,
            "right": null,
            "top": null,
            "visibility": null,
            "width": null
          }
        },
        "1e6865faef304874b9ab934b873d4324": {
          "model_module": "@jupyter-widgets/controls",
          "model_module_version": "1.5.0",
          "model_name": "HBoxModel",
          "state": {
            "_dom_classes": [],
            "_model_module": "@jupyter-widgets/controls",
            "_model_module_version": "1.5.0",
            "_model_name": "HBoxModel",
            "_view_count": null,
            "_view_module": "@jupyter-widgets/controls",
            "_view_module_version": "1.5.0",
            "_view_name": "HBoxView",
            "box_style": "",
            "children": [
              "IPY_MODEL_74066fa9e6744b0396dfe30db29405b6",
              "IPY_MODEL_bffc5a23fbf54ec1b619dd19560041fb",
              "IPY_MODEL_5214cf00d0344aeca723d5dd0f787869"
            ],
            "layout": "IPY_MODEL_1864804547f84890ae0923960db3baf2"
          }
        },
        "2085549ed0224e1a921f584a035ce668": {
          "model_module": "@jupyter-widgets/controls",
          "model_module_version": "1.5.0",
          "model_name": "HTMLModel",
          "state": {
            "_dom_classes": [],
            "_model_module": "@jupyter-widgets/controls",
            "_model_module_version": "1.5.0",
            "_model_name": "HTMLModel",
            "_view_count": null,
            "_view_module": "@jupyter-widgets/controls",
            "_view_module_version": "1.5.0",
            "_view_name": "HTMLView",
            "description": "",
            "description_tooltip": null,
            "layout": "IPY_MODEL_25c9745023e44a0688636e11c2a9c3c7",
            "placeholder": "​",
            "style": "IPY_MODEL_065c3021543149aca49cbcae2f82924a",
            "value": "tokenizer_config.json: 100%"
          }
        },
        "23be7d7936f343e189ef8158dbc1e757": {
          "model_module": "@jupyter-widgets/controls",
          "model_module_version": "1.5.0",
          "model_name": "HTMLModel",
          "state": {
            "_dom_classes": [],
            "_model_module": "@jupyter-widgets/controls",
            "_model_module_version": "1.5.0",
            "_model_name": "HTMLModel",
            "_view_count": null,
            "_view_module": "@jupyter-widgets/controls",
            "_view_module_version": "1.5.0",
            "_view_name": "HTMLView",
            "description": "",
            "description_tooltip": null,
            "layout": "IPY_MODEL_31e23c10861d46a9b87689455d59620f",
            "placeholder": "​",
            "style": "IPY_MODEL_aa0e0b4b40de43c393018343a14b73ec",
            "value": " 570/570 [00:00&lt;00:00, 37.8kB/s]"
          }
        },
        "23fbc7dbff22468b87c98a28758b4cd0": {
          "model_module": "@jupyter-widgets/base",
          "model_module_version": "1.2.0",
          "model_name": "LayoutModel",
          "state": {
            "_model_module": "@jupyter-widgets/base",
            "_model_module_version": "1.2.0",
            "_model_name": "LayoutModel",
            "_view_count": null,
            "_view_module": "@jupyter-widgets/base",
            "_view_module_version": "1.2.0",
            "_view_name": "LayoutView",
            "align_content": null,
            "align_items": null,
            "align_self": null,
            "border": null,
            "bottom": null,
            "display": null,
            "flex": null,
            "flex_flow": null,
            "grid_area": null,
            "grid_auto_columns": null,
            "grid_auto_flow": null,
            "grid_auto_rows": null,
            "grid_column": null,
            "grid_gap": null,
            "grid_row": null,
            "grid_template_areas": null,
            "grid_template_columns": null,
            "grid_template_rows": null,
            "height": null,
            "justify_content": null,
            "justify_items": null,
            "left": null,
            "margin": null,
            "max_height": null,
            "max_width": null,
            "min_height": null,
            "min_width": null,
            "object_fit": null,
            "object_position": null,
            "order": null,
            "overflow": null,
            "overflow_x": null,
            "overflow_y": null,
            "padding": null,
            "right": null,
            "top": null,
            "visibility": null,
            "width": null
          }
        },
        "25c9745023e44a0688636e11c2a9c3c7": {
          "model_module": "@jupyter-widgets/base",
          "model_module_version": "1.2.0",
          "model_name": "LayoutModel",
          "state": {
            "_model_module": "@jupyter-widgets/base",
            "_model_module_version": "1.2.0",
            "_model_name": "LayoutModel",
            "_view_count": null,
            "_view_module": "@jupyter-widgets/base",
            "_view_module_version": "1.2.0",
            "_view_name": "LayoutView",
            "align_content": null,
            "align_items": null,
            "align_self": null,
            "border": null,
            "bottom": null,
            "display": null,
            "flex": null,
            "flex_flow": null,
            "grid_area": null,
            "grid_auto_columns": null,
            "grid_auto_flow": null,
            "grid_auto_rows": null,
            "grid_column": null,
            "grid_gap": null,
            "grid_row": null,
            "grid_template_areas": null,
            "grid_template_columns": null,
            "grid_template_rows": null,
            "height": null,
            "justify_content": null,
            "justify_items": null,
            "left": null,
            "margin": null,
            "max_height": null,
            "max_width": null,
            "min_height": null,
            "min_width": null,
            "object_fit": null,
            "object_position": null,
            "order": null,
            "overflow": null,
            "overflow_x": null,
            "overflow_y": null,
            "padding": null,
            "right": null,
            "top": null,
            "visibility": null,
            "width": null
          }
        },
        "31e23c10861d46a9b87689455d59620f": {
          "model_module": "@jupyter-widgets/base",
          "model_module_version": "1.2.0",
          "model_name": "LayoutModel",
          "state": {
            "_model_module": "@jupyter-widgets/base",
            "_model_module_version": "1.2.0",
            "_model_name": "LayoutModel",
            "_view_count": null,
            "_view_module": "@jupyter-widgets/base",
            "_view_module_version": "1.2.0",
            "_view_name": "LayoutView",
            "align_content": null,
            "align_items": null,
            "align_self": null,
            "border": null,
            "bottom": null,
            "display": null,
            "flex": null,
            "flex_flow": null,
            "grid_area": null,
            "grid_auto_columns": null,
            "grid_auto_flow": null,
            "grid_auto_rows": null,
            "grid_column": null,
            "grid_gap": null,
            "grid_row": null,
            "grid_template_areas": null,
            "grid_template_columns": null,
            "grid_template_rows": null,
            "height": null,
            "justify_content": null,
            "justify_items": null,
            "left": null,
            "margin": null,
            "max_height": null,
            "max_width": null,
            "min_height": null,
            "min_width": null,
            "object_fit": null,
            "object_position": null,
            "order": null,
            "overflow": null,
            "overflow_x": null,
            "overflow_y": null,
            "padding": null,
            "right": null,
            "top": null,
            "visibility": null,
            "width": null
          }
        },
        "372c12c82a1c4d9da150f6b49ee6116a": {
          "model_module": "@jupyter-widgets/controls",
          "model_module_version": "1.5.0",
          "model_name": "DescriptionStyleModel",
          "state": {
            "_model_module": "@jupyter-widgets/controls",
            "_model_module_version": "1.5.0",
            "_model_name": "DescriptionStyleModel",
            "_view_count": null,
            "_view_module": "@jupyter-widgets/base",
            "_view_module_version": "1.2.0",
            "_view_name": "StyleView",
            "description_width": ""
          }
        },
        "37f8321ffb26493e971fd00489d840c5": {
          "model_module": "@jupyter-widgets/controls",
          "model_module_version": "1.5.0",
          "model_name": "DescriptionStyleModel",
          "state": {
            "_model_module": "@jupyter-widgets/controls",
            "_model_module_version": "1.5.0",
            "_model_name": "DescriptionStyleModel",
            "_view_count": null,
            "_view_module": "@jupyter-widgets/base",
            "_view_module_version": "1.2.0",
            "_view_name": "StyleView",
            "description_width": ""
          }
        },
        "3be4e5cd1e35440785c841d18cf9c845": {
          "model_module": "@jupyter-widgets/controls",
          "model_module_version": "1.5.0",
          "model_name": "DescriptionStyleModel",
          "state": {
            "_model_module": "@jupyter-widgets/controls",
            "_model_module_version": "1.5.0",
            "_model_name": "DescriptionStyleModel",
            "_view_count": null,
            "_view_module": "@jupyter-widgets/base",
            "_view_module_version": "1.2.0",
            "_view_name": "StyleView",
            "description_width": ""
          }
        },
        "3cbe6722b5d342639a80f81fe2a75f74": {
          "model_module": "@jupyter-widgets/base",
          "model_module_version": "1.2.0",
          "model_name": "LayoutModel",
          "state": {
            "_model_module": "@jupyter-widgets/base",
            "_model_module_version": "1.2.0",
            "_model_name": "LayoutModel",
            "_view_count": null,
            "_view_module": "@jupyter-widgets/base",
            "_view_module_version": "1.2.0",
            "_view_name": "LayoutView",
            "align_content": null,
            "align_items": null,
            "align_self": null,
            "border": null,
            "bottom": null,
            "display": null,
            "flex": null,
            "flex_flow": null,
            "grid_area": null,
            "grid_auto_columns": null,
            "grid_auto_flow": null,
            "grid_auto_rows": null,
            "grid_column": null,
            "grid_gap": null,
            "grid_row": null,
            "grid_template_areas": null,
            "grid_template_columns": null,
            "grid_template_rows": null,
            "height": null,
            "justify_content": null,
            "justify_items": null,
            "left": null,
            "margin": null,
            "max_height": null,
            "max_width": null,
            "min_height": null,
            "min_width": null,
            "object_fit": null,
            "object_position": null,
            "order": null,
            "overflow": null,
            "overflow_x": null,
            "overflow_y": null,
            "padding": null,
            "right": null,
            "top": null,
            "visibility": null,
            "width": null
          }
        },
        "3e740ee3aeaf4ba89d4332a4f06f65e1": {
          "model_module": "@jupyter-widgets/controls",
          "model_module_version": "1.5.0",
          "model_name": "HTMLModel",
          "state": {
            "_dom_classes": [],
            "_model_module": "@jupyter-widgets/controls",
            "_model_module_version": "1.5.0",
            "_model_name": "HTMLModel",
            "_view_count": null,
            "_view_module": "@jupyter-widgets/controls",
            "_view_module_version": "1.5.0",
            "_view_name": "HTMLView",
            "description": "",
            "description_tooltip": null,
            "layout": "IPY_MODEL_fbbc1af1b90042f3b335b866ed9e7e59",
            "placeholder": "​",
            "style": "IPY_MODEL_4deba12781624c668440c146cfcacb36",
            "value": " 466k/466k [00:00&lt;00:00, 1.01MB/s]"
          }
        },
        "408ca91f09904972b7a0d141ebf06799": {
          "model_module": "@jupyter-widgets/base",
          "model_module_version": "1.2.0",
          "model_name": "LayoutModel",
          "state": {
            "_model_module": "@jupyter-widgets/base",
            "_model_module_version": "1.2.0",
            "_model_name": "LayoutModel",
            "_view_count": null,
            "_view_module": "@jupyter-widgets/base",
            "_view_module_version": "1.2.0",
            "_view_name": "LayoutView",
            "align_content": null,
            "align_items": null,
            "align_self": null,
            "border": null,
            "bottom": null,
            "display": null,
            "flex": null,
            "flex_flow": null,
            "grid_area": null,
            "grid_auto_columns": null,
            "grid_auto_flow": null,
            "grid_auto_rows": null,
            "grid_column": null,
            "grid_gap": null,
            "grid_row": null,
            "grid_template_areas": null,
            "grid_template_columns": null,
            "grid_template_rows": null,
            "height": null,
            "justify_content": null,
            "justify_items": null,
            "left": null,
            "margin": null,
            "max_height": null,
            "max_width": null,
            "min_height": null,
            "min_width": null,
            "object_fit": null,
            "object_position": null,
            "order": null,
            "overflow": null,
            "overflow_x": null,
            "overflow_y": null,
            "padding": null,
            "right": null,
            "top": null,
            "visibility": null,
            "width": null
          }
        },
        "4241766b8593426288c773c363bd6f94": {
          "model_module": "@jupyter-widgets/controls",
          "model_module_version": "1.5.0",
          "model_name": "FloatProgressModel",
          "state": {
            "_dom_classes": [],
            "_model_module": "@jupyter-widgets/controls",
            "_model_module_version": "1.5.0",
            "_model_name": "FloatProgressModel",
            "_view_count": null,
            "_view_module": "@jupyter-widgets/controls",
            "_view_module_version": "1.5.0",
            "_view_name": "ProgressView",
            "bar_style": "success",
            "description": "",
            "description_tooltip": null,
            "layout": "IPY_MODEL_02921970662a412691cd219ffe245575",
            "max": 48,
            "min": 0,
            "orientation": "horizontal",
            "style": "IPY_MODEL_9b602c3dbb804ab2ad2ffdaac83d3af5",
            "value": 48
          }
        },
        "4deba12781624c668440c146cfcacb36": {
          "model_module": "@jupyter-widgets/controls",
          "model_module_version": "1.5.0",
          "model_name": "DescriptionStyleModel",
          "state": {
            "_model_module": "@jupyter-widgets/controls",
            "_model_module_version": "1.5.0",
            "_model_name": "DescriptionStyleModel",
            "_view_count": null,
            "_view_module": "@jupyter-widgets/base",
            "_view_module_version": "1.2.0",
            "_view_name": "StyleView",
            "description_width": ""
          }
        },
        "5214cf00d0344aeca723d5dd0f787869": {
          "model_module": "@jupyter-widgets/controls",
          "model_module_version": "1.5.0",
          "model_name": "HTMLModel",
          "state": {
            "_dom_classes": [],
            "_model_module": "@jupyter-widgets/controls",
            "_model_module_version": "1.5.0",
            "_model_name": "HTMLModel",
            "_view_count": null,
            "_view_module": "@jupyter-widgets/controls",
            "_view_module_version": "1.5.0",
            "_view_name": "HTMLView",
            "description": "",
            "description_tooltip": null,
            "layout": "IPY_MODEL_6c70eaacf80540e794e1bb3778e3330a",
            "placeholder": "​",
            "style": "IPY_MODEL_37f8321ffb26493e971fd00489d840c5",
            "value": " 440M/440M [00:04&lt;00:00, 89.7MB/s]"
          }
        },
        "67a54010640c437f9bbca08a30793d6a": {
          "model_module": "@jupyter-widgets/controls",
          "model_module_version": "1.5.0",
          "model_name": "ProgressStyleModel",
          "state": {
            "_model_module": "@jupyter-widgets/controls",
            "_model_module_version": "1.5.0",
            "_model_name": "ProgressStyleModel",
            "_view_count": null,
            "_view_module": "@jupyter-widgets/base",
            "_view_module_version": "1.2.0",
            "_view_name": "StyleView",
            "bar_color": null,
            "description_width": ""
          }
        },
        "6c70eaacf80540e794e1bb3778e3330a": {
          "model_module": "@jupyter-widgets/base",
          "model_module_version": "1.2.0",
          "model_name": "LayoutModel",
          "state": {
            "_model_module": "@jupyter-widgets/base",
            "_model_module_version": "1.2.0",
            "_model_name": "LayoutModel",
            "_view_count": null,
            "_view_module": "@jupyter-widgets/base",
            "_view_module_version": "1.2.0",
            "_view_name": "LayoutView",
            "align_content": null,
            "align_items": null,
            "align_self": null,
            "border": null,
            "bottom": null,
            "display": null,
            "flex": null,
            "flex_flow": null,
            "grid_area": null,
            "grid_auto_columns": null,
            "grid_auto_flow": null,
            "grid_auto_rows": null,
            "grid_column": null,
            "grid_gap": null,
            "grid_row": null,
            "grid_template_areas": null,
            "grid_template_columns": null,
            "grid_template_rows": null,
            "height": null,
            "justify_content": null,
            "justify_items": null,
            "left": null,
            "margin": null,
            "max_height": null,
            "max_width": null,
            "min_height": null,
            "min_width": null,
            "object_fit": null,
            "object_position": null,
            "order": null,
            "overflow": null,
            "overflow_x": null,
            "overflow_y": null,
            "padding": null,
            "right": null,
            "top": null,
            "visibility": null,
            "width": null
          }
        },
        "71b9e911673641e7a8105c3ed4b6c7df": {
          "model_module": "@jupyter-widgets/controls",
          "model_module_version": "1.5.0",
          "model_name": "HBoxModel",
          "state": {
            "_dom_classes": [],
            "_model_module": "@jupyter-widgets/controls",
            "_model_module_version": "1.5.0",
            "_model_name": "HBoxModel",
            "_view_count": null,
            "_view_module": "@jupyter-widgets/controls",
            "_view_module_version": "1.5.0",
            "_view_name": "HBoxView",
            "box_style": "",
            "children": [
              "IPY_MODEL_2085549ed0224e1a921f584a035ce668",
              "IPY_MODEL_4241766b8593426288c773c363bd6f94",
              "IPY_MODEL_fc9e2b256bd94ec08043a0fc542da753"
            ],
            "layout": "IPY_MODEL_fd15dac0332c443fa52f8c250de8ca3d"
          }
        },
        "7299b9974b344d5493471be9393f0acc": {
          "model_module": "@jupyter-widgets/controls",
          "model_module_version": "1.5.0",
          "model_name": "FloatProgressModel",
          "state": {
            "_dom_classes": [],
            "_model_module": "@jupyter-widgets/controls",
            "_model_module_version": "1.5.0",
            "_model_name": "FloatProgressModel",
            "_view_count": null,
            "_view_module": "@jupyter-widgets/controls",
            "_view_module_version": "1.5.0",
            "_view_name": "ProgressView",
            "bar_style": "success",
            "description": "",
            "description_tooltip": null,
            "layout": "IPY_MODEL_8def3fa1590e4fa38b7e6f063665b24b",
            "max": 570,
            "min": 0,
            "orientation": "horizontal",
            "style": "IPY_MODEL_13f1e095639549c3929b2d71e55c0ed4",
            "value": 570
          }
        },
        "74066fa9e6744b0396dfe30db29405b6": {
          "model_module": "@jupyter-widgets/controls",
          "model_module_version": "1.5.0",
          "model_name": "HTMLModel",
          "state": {
            "_dom_classes": [],
            "_model_module": "@jupyter-widgets/controls",
            "_model_module_version": "1.5.0",
            "_model_name": "HTMLModel",
            "_view_count": null,
            "_view_module": "@jupyter-widgets/controls",
            "_view_module_version": "1.5.0",
            "_view_name": "HTMLView",
            "description": "",
            "description_tooltip": null,
            "layout": "IPY_MODEL_8993da8cffaa4caea61d043f55d8d50a",
            "placeholder": "​",
            "style": "IPY_MODEL_3be4e5cd1e35440785c841d18cf9c845",
            "value": "model.safetensors: 100%"
          }
        },
        "747006deebf84b948cd24e60420de49e": {
          "model_module": "@jupyter-widgets/controls",
          "model_module_version": "1.5.0",
          "model_name": "HTMLModel",
          "state": {
            "_dom_classes": [],
            "_model_module": "@jupyter-widgets/controls",
            "_model_module_version": "1.5.0",
            "_model_name": "HTMLModel",
            "_view_count": null,
            "_view_module": "@jupyter-widgets/controls",
            "_view_module_version": "1.5.0",
            "_view_name": "HTMLView",
            "description": "",
            "description_tooltip": null,
            "layout": "IPY_MODEL_eb629f75b0ae404ab693bc40ab2d98dc",
            "placeholder": "​",
            "style": "IPY_MODEL_b56c8568ab4a4239a77abfbfe1631a68",
            "value": "config.json: 100%"
          }
        },
        "7902bfce9f734377af69dbdd641cc3a2": {
          "model_module": "@jupyter-widgets/controls",
          "model_module_version": "1.5.0",
          "model_name": "HBoxModel",
          "state": {
            "_dom_classes": [],
            "_model_module": "@jupyter-widgets/controls",
            "_model_module_version": "1.5.0",
            "_model_name": "HBoxModel",
            "_view_count": null,
            "_view_module": "@jupyter-widgets/controls",
            "_view_module_version": "1.5.0",
            "_view_name": "HBoxView",
            "box_style": "",
            "children": [
              "IPY_MODEL_e7a46b983d1d426da517c850aa315618",
              "IPY_MODEL_e9f42738ef094cf2b605931c3e06b1b0",
              "IPY_MODEL_9b8d9a5449c44aaabe612d9ee6b6caf2"
            ],
            "layout": "IPY_MODEL_9225ddee8c9344c8b849481278ea93b9"
          }
        },
        "7acfe6b716ae4e4da253ca224f0da58b": {
          "model_module": "@jupyter-widgets/base",
          "model_module_version": "1.2.0",
          "model_name": "LayoutModel",
          "state": {
            "_model_module": "@jupyter-widgets/base",
            "_model_module_version": "1.2.0",
            "_model_name": "LayoutModel",
            "_view_count": null,
            "_view_module": "@jupyter-widgets/base",
            "_view_module_version": "1.2.0",
            "_view_name": "LayoutView",
            "align_content": null,
            "align_items": null,
            "align_self": null,
            "border": null,
            "bottom": null,
            "display": null,
            "flex": null,
            "flex_flow": null,
            "grid_area": null,
            "grid_auto_columns": null,
            "grid_auto_flow": null,
            "grid_auto_rows": null,
            "grid_column": null,
            "grid_gap": null,
            "grid_row": null,
            "grid_template_areas": null,
            "grid_template_columns": null,
            "grid_template_rows": null,
            "height": null,
            "justify_content": null,
            "justify_items": null,
            "left": null,
            "margin": null,
            "max_height": null,
            "max_width": null,
            "min_height": null,
            "min_width": null,
            "object_fit": null,
            "object_position": null,
            "order": null,
            "overflow": null,
            "overflow_x": null,
            "overflow_y": null,
            "padding": null,
            "right": null,
            "top": null,
            "visibility": null,
            "width": null
          }
        },
        "8620e453d5394c099e1d733bb55b2f81": {
          "model_module": "@jupyter-widgets/base",
          "model_module_version": "1.2.0",
          "model_name": "LayoutModel",
          "state": {
            "_model_module": "@jupyter-widgets/base",
            "_model_module_version": "1.2.0",
            "_model_name": "LayoutModel",
            "_view_count": null,
            "_view_module": "@jupyter-widgets/base",
            "_view_module_version": "1.2.0",
            "_view_name": "LayoutView",
            "align_content": null,
            "align_items": null,
            "align_self": null,
            "border": null,
            "bottom": null,
            "display": null,
            "flex": null,
            "flex_flow": null,
            "grid_area": null,
            "grid_auto_columns": null,
            "grid_auto_flow": null,
            "grid_auto_rows": null,
            "grid_column": null,
            "grid_gap": null,
            "grid_row": null,
            "grid_template_areas": null,
            "grid_template_columns": null,
            "grid_template_rows": null,
            "height": null,
            "justify_content": null,
            "justify_items": null,
            "left": null,
            "margin": null,
            "max_height": null,
            "max_width": null,
            "min_height": null,
            "min_width": null,
            "object_fit": null,
            "object_position": null,
            "order": null,
            "overflow": null,
            "overflow_x": null,
            "overflow_y": null,
            "padding": null,
            "right": null,
            "top": null,
            "visibility": null,
            "width": null
          }
        },
        "8624f38fd61644f3a82db0a3e36ba92f": {
          "model_module": "@jupyter-widgets/base",
          "model_module_version": "1.2.0",
          "model_name": "LayoutModel",
          "state": {
            "_model_module": "@jupyter-widgets/base",
            "_model_module_version": "1.2.0",
            "_model_name": "LayoutModel",
            "_view_count": null,
            "_view_module": "@jupyter-widgets/base",
            "_view_module_version": "1.2.0",
            "_view_name": "LayoutView",
            "align_content": null,
            "align_items": null,
            "align_self": null,
            "border": null,
            "bottom": null,
            "display": null,
            "flex": null,
            "flex_flow": null,
            "grid_area": null,
            "grid_auto_columns": null,
            "grid_auto_flow": null,
            "grid_auto_rows": null,
            "grid_column": null,
            "grid_gap": null,
            "grid_row": null,
            "grid_template_areas": null,
            "grid_template_columns": null,
            "grid_template_rows": null,
            "height": null,
            "justify_content": null,
            "justify_items": null,
            "left": null,
            "margin": null,
            "max_height": null,
            "max_width": null,
            "min_height": null,
            "min_width": null,
            "object_fit": null,
            "object_position": null,
            "order": null,
            "overflow": null,
            "overflow_x": null,
            "overflow_y": null,
            "padding": null,
            "right": null,
            "top": null,
            "visibility": null,
            "width": null
          }
        },
        "8993da8cffaa4caea61d043f55d8d50a": {
          "model_module": "@jupyter-widgets/base",
          "model_module_version": "1.2.0",
          "model_name": "LayoutModel",
          "state": {
            "_model_module": "@jupyter-widgets/base",
            "_model_module_version": "1.2.0",
            "_model_name": "LayoutModel",
            "_view_count": null,
            "_view_module": "@jupyter-widgets/base",
            "_view_module_version": "1.2.0",
            "_view_name": "LayoutView",
            "align_content": null,
            "align_items": null,
            "align_self": null,
            "border": null,
            "bottom": null,
            "display": null,
            "flex": null,
            "flex_flow": null,
            "grid_area": null,
            "grid_auto_columns": null,
            "grid_auto_flow": null,
            "grid_auto_rows": null,
            "grid_column": null,
            "grid_gap": null,
            "grid_row": null,
            "grid_template_areas": null,
            "grid_template_columns": null,
            "grid_template_rows": null,
            "height": null,
            "justify_content": null,
            "justify_items": null,
            "left": null,
            "margin": null,
            "max_height": null,
            "max_width": null,
            "min_height": null,
            "min_width": null,
            "object_fit": null,
            "object_position": null,
            "order": null,
            "overflow": null,
            "overflow_x": null,
            "overflow_y": null,
            "padding": null,
            "right": null,
            "top": null,
            "visibility": null,
            "width": null
          }
        },
        "8def3fa1590e4fa38b7e6f063665b24b": {
          "model_module": "@jupyter-widgets/base",
          "model_module_version": "1.2.0",
          "model_name": "LayoutModel",
          "state": {
            "_model_module": "@jupyter-widgets/base",
            "_model_module_version": "1.2.0",
            "_model_name": "LayoutModel",
            "_view_count": null,
            "_view_module": "@jupyter-widgets/base",
            "_view_module_version": "1.2.0",
            "_view_name": "LayoutView",
            "align_content": null,
            "align_items": null,
            "align_self": null,
            "border": null,
            "bottom": null,
            "display": null,
            "flex": null,
            "flex_flow": null,
            "grid_area": null,
            "grid_auto_columns": null,
            "grid_auto_flow": null,
            "grid_auto_rows": null,
            "grid_column": null,
            "grid_gap": null,
            "grid_row": null,
            "grid_template_areas": null,
            "grid_template_columns": null,
            "grid_template_rows": null,
            "height": null,
            "justify_content": null,
            "justify_items": null,
            "left": null,
            "margin": null,
            "max_height": null,
            "max_width": null,
            "min_height": null,
            "min_width": null,
            "object_fit": null,
            "object_position": null,
            "order": null,
            "overflow": null,
            "overflow_x": null,
            "overflow_y": null,
            "padding": null,
            "right": null,
            "top": null,
            "visibility": null,
            "width": null
          }
        },
        "919f1a0990f04ea4ac9dfa5e6e6be897": {
          "model_module": "@jupyter-widgets/controls",
          "model_module_version": "1.5.0",
          "model_name": "DescriptionStyleModel",
          "state": {
            "_model_module": "@jupyter-widgets/controls",
            "_model_module_version": "1.5.0",
            "_model_name": "DescriptionStyleModel",
            "_view_count": null,
            "_view_module": "@jupyter-widgets/base",
            "_view_module_version": "1.2.0",
            "_view_name": "StyleView",
            "description_width": ""
          }
        },
        "9225ddee8c9344c8b849481278ea93b9": {
          "model_module": "@jupyter-widgets/base",
          "model_module_version": "1.2.0",
          "model_name": "LayoutModel",
          "state": {
            "_model_module": "@jupyter-widgets/base",
            "_model_module_version": "1.2.0",
            "_model_name": "LayoutModel",
            "_view_count": null,
            "_view_module": "@jupyter-widgets/base",
            "_view_module_version": "1.2.0",
            "_view_name": "LayoutView",
            "align_content": null,
            "align_items": null,
            "align_self": null,
            "border": null,
            "bottom": null,
            "display": null,
            "flex": null,
            "flex_flow": null,
            "grid_area": null,
            "grid_auto_columns": null,
            "grid_auto_flow": null,
            "grid_auto_rows": null,
            "grid_column": null,
            "grid_gap": null,
            "grid_row": null,
            "grid_template_areas": null,
            "grid_template_columns": null,
            "grid_template_rows": null,
            "height": null,
            "justify_content": null,
            "justify_items": null,
            "left": null,
            "margin": null,
            "max_height": null,
            "max_width": null,
            "min_height": null,
            "min_width": null,
            "object_fit": null,
            "object_position": null,
            "order": null,
            "overflow": null,
            "overflow_x": null,
            "overflow_y": null,
            "padding": null,
            "right": null,
            "top": null,
            "visibility": null,
            "width": null
          }
        },
        "9b602c3dbb804ab2ad2ffdaac83d3af5": {
          "model_module": "@jupyter-widgets/controls",
          "model_module_version": "1.5.0",
          "model_name": "ProgressStyleModel",
          "state": {
            "_model_module": "@jupyter-widgets/controls",
            "_model_module_version": "1.5.0",
            "_model_name": "ProgressStyleModel",
            "_view_count": null,
            "_view_module": "@jupyter-widgets/base",
            "_view_module_version": "1.2.0",
            "_view_name": "StyleView",
            "bar_color": null,
            "description_width": ""
          }
        },
        "9b8d9a5449c44aaabe612d9ee6b6caf2": {
          "model_module": "@jupyter-widgets/controls",
          "model_module_version": "1.5.0",
          "model_name": "HTMLModel",
          "state": {
            "_dom_classes": [],
            "_model_module": "@jupyter-widgets/controls",
            "_model_module_version": "1.5.0",
            "_model_name": "HTMLModel",
            "_view_count": null,
            "_view_module": "@jupyter-widgets/controls",
            "_view_module_version": "1.5.0",
            "_view_name": "HTMLView",
            "description": "",
            "description_tooltip": null,
            "layout": "IPY_MODEL_8620e453d5394c099e1d733bb55b2f81",
            "placeholder": "​",
            "style": "IPY_MODEL_919f1a0990f04ea4ac9dfa5e6e6be897",
            "value": " 232k/232k [00:00&lt;00:00, 1.10MB/s]"
          }
        },
        "9dd01ec139b44258be3c99c95faa8cf0": {
          "model_module": "@jupyter-widgets/controls",
          "model_module_version": "1.5.0",
          "model_name": "HBoxModel",
          "state": {
            "_dom_classes": [],
            "_model_module": "@jupyter-widgets/controls",
            "_model_module_version": "1.5.0",
            "_model_name": "HBoxModel",
            "_view_count": null,
            "_view_module": "@jupyter-widgets/controls",
            "_view_module_version": "1.5.0",
            "_view_name": "HBoxView",
            "box_style": "",
            "children": [
              "IPY_MODEL_747006deebf84b948cd24e60420de49e",
              "IPY_MODEL_7299b9974b344d5493471be9393f0acc",
              "IPY_MODEL_23be7d7936f343e189ef8158dbc1e757"
            ],
            "layout": "IPY_MODEL_c201241efb1146998f20dd9a2c20e199"
          }
        },
        "aa0e0b4b40de43c393018343a14b73ec": {
          "model_module": "@jupyter-widgets/controls",
          "model_module_version": "1.5.0",
          "model_name": "DescriptionStyleModel",
          "state": {
            "_model_module": "@jupyter-widgets/controls",
            "_model_module_version": "1.5.0",
            "_model_name": "DescriptionStyleModel",
            "_view_count": null,
            "_view_module": "@jupyter-widgets/base",
            "_view_module_version": "1.2.0",
            "_view_name": "StyleView",
            "description_width": ""
          }
        },
        "b56c8568ab4a4239a77abfbfe1631a68": {
          "model_module": "@jupyter-widgets/controls",
          "model_module_version": "1.5.0",
          "model_name": "DescriptionStyleModel",
          "state": {
            "_model_module": "@jupyter-widgets/controls",
            "_model_module_version": "1.5.0",
            "_model_name": "DescriptionStyleModel",
            "_view_count": null,
            "_view_module": "@jupyter-widgets/base",
            "_view_module_version": "1.2.0",
            "_view_name": "StyleView",
            "description_width": ""
          }
        },
        "bc812a126dae4f7c99bccdf0e682daba": {
          "model_module": "@jupyter-widgets/controls",
          "model_module_version": "1.5.0",
          "model_name": "ProgressStyleModel",
          "state": {
            "_model_module": "@jupyter-widgets/controls",
            "_model_module_version": "1.5.0",
            "_model_name": "ProgressStyleModel",
            "_view_count": null,
            "_view_module": "@jupyter-widgets/base",
            "_view_module_version": "1.2.0",
            "_view_name": "StyleView",
            "bar_color": null,
            "description_width": ""
          }
        },
        "bffc5a23fbf54ec1b619dd19560041fb": {
          "model_module": "@jupyter-widgets/controls",
          "model_module_version": "1.5.0",
          "model_name": "FloatProgressModel",
          "state": {
            "_dom_classes": [],
            "_model_module": "@jupyter-widgets/controls",
            "_model_module_version": "1.5.0",
            "_model_name": "FloatProgressModel",
            "_view_count": null,
            "_view_module": "@jupyter-widgets/controls",
            "_view_module_version": "1.5.0",
            "_view_name": "ProgressView",
            "bar_style": "success",
            "description": "",
            "description_tooltip": null,
            "layout": "IPY_MODEL_3cbe6722b5d342639a80f81fe2a75f74",
            "max": 440449768,
            "min": 0,
            "orientation": "horizontal",
            "style": "IPY_MODEL_d24dac3838b64efb8328aa490125f6ce",
            "value": 440449768
          }
        },
        "c201241efb1146998f20dd9a2c20e199": {
          "model_module": "@jupyter-widgets/base",
          "model_module_version": "1.2.0",
          "model_name": "LayoutModel",
          "state": {
            "_model_module": "@jupyter-widgets/base",
            "_model_module_version": "1.2.0",
            "_model_name": "LayoutModel",
            "_view_count": null,
            "_view_module": "@jupyter-widgets/base",
            "_view_module_version": "1.2.0",
            "_view_name": "LayoutView",
            "align_content": null,
            "align_items": null,
            "align_self": null,
            "border": null,
            "bottom": null,
            "display": null,
            "flex": null,
            "flex_flow": null,
            "grid_area": null,
            "grid_auto_columns": null,
            "grid_auto_flow": null,
            "grid_auto_rows": null,
            "grid_column": null,
            "grid_gap": null,
            "grid_row": null,
            "grid_template_areas": null,
            "grid_template_columns": null,
            "grid_template_rows": null,
            "height": null,
            "justify_content": null,
            "justify_items": null,
            "left": null,
            "margin": null,
            "max_height": null,
            "max_width": null,
            "min_height": null,
            "min_width": null,
            "object_fit": null,
            "object_position": null,
            "order": null,
            "overflow": null,
            "overflow_x": null,
            "overflow_y": null,
            "padding": null,
            "right": null,
            "top": null,
            "visibility": null,
            "width": null
          }
        },
        "c835d004f6de4a9685150565487e4f2e": {
          "model_module": "@jupyter-widgets/controls",
          "model_module_version": "1.5.0",
          "model_name": "DescriptionStyleModel",
          "state": {
            "_model_module": "@jupyter-widgets/controls",
            "_model_module_version": "1.5.0",
            "_model_name": "DescriptionStyleModel",
            "_view_count": null,
            "_view_module": "@jupyter-widgets/base",
            "_view_module_version": "1.2.0",
            "_view_name": "StyleView",
            "description_width": ""
          }
        },
        "cda5a66454cc4460865156e6fde2357c": {
          "model_module": "@jupyter-widgets/controls",
          "model_module_version": "1.5.0",
          "model_name": "DescriptionStyleModel",
          "state": {
            "_model_module": "@jupyter-widgets/controls",
            "_model_module_version": "1.5.0",
            "_model_name": "DescriptionStyleModel",
            "_view_count": null,
            "_view_module": "@jupyter-widgets/base",
            "_view_module_version": "1.2.0",
            "_view_name": "StyleView",
            "description_width": ""
          }
        },
        "cfd294d9e7894517b5fd17de53a6b895": {
          "model_module": "@jupyter-widgets/controls",
          "model_module_version": "1.5.0",
          "model_name": "FloatProgressModel",
          "state": {
            "_dom_classes": [],
            "_model_module": "@jupyter-widgets/controls",
            "_model_module_version": "1.5.0",
            "_model_name": "FloatProgressModel",
            "_view_count": null,
            "_view_module": "@jupyter-widgets/controls",
            "_view_module_version": "1.5.0",
            "_view_name": "ProgressView",
            "bar_style": "success",
            "description": "",
            "description_tooltip": null,
            "layout": "IPY_MODEL_7acfe6b716ae4e4da253ca224f0da58b",
            "max": 466062,
            "min": 0,
            "orientation": "horizontal",
            "style": "IPY_MODEL_bc812a126dae4f7c99bccdf0e682daba",
            "value": 466062
          }
        },
        "d24dac3838b64efb8328aa490125f6ce": {
          "model_module": "@jupyter-widgets/controls",
          "model_module_version": "1.5.0",
          "model_name": "ProgressStyleModel",
          "state": {
            "_model_module": "@jupyter-widgets/controls",
            "_model_module_version": "1.5.0",
            "_model_name": "ProgressStyleModel",
            "_view_count": null,
            "_view_module": "@jupyter-widgets/base",
            "_view_module_version": "1.2.0",
            "_view_name": "StyleView",
            "bar_color": null,
            "description_width": ""
          }
        },
        "e7a46b983d1d426da517c850aa315618": {
          "model_module": "@jupyter-widgets/controls",
          "model_module_version": "1.5.0",
          "model_name": "HTMLModel",
          "state": {
            "_dom_classes": [],
            "_model_module": "@jupyter-widgets/controls",
            "_model_module_version": "1.5.0",
            "_model_name": "HTMLModel",
            "_view_count": null,
            "_view_module": "@jupyter-widgets/controls",
            "_view_module_version": "1.5.0",
            "_view_name": "HTMLView",
            "description": "",
            "description_tooltip": null,
            "layout": "IPY_MODEL_408ca91f09904972b7a0d141ebf06799",
            "placeholder": "​",
            "style": "IPY_MODEL_372c12c82a1c4d9da150f6b49ee6116a",
            "value": "vocab.txt: 100%"
          }
        },
        "e9f42738ef094cf2b605931c3e06b1b0": {
          "model_module": "@jupyter-widgets/controls",
          "model_module_version": "1.5.0",
          "model_name": "FloatProgressModel",
          "state": {
            "_dom_classes": [],
            "_model_module": "@jupyter-widgets/controls",
            "_model_module_version": "1.5.0",
            "_model_name": "FloatProgressModel",
            "_view_count": null,
            "_view_module": "@jupyter-widgets/controls",
            "_view_module_version": "1.5.0",
            "_view_name": "ProgressView",
            "bar_style": "success",
            "description": "",
            "description_tooltip": null,
            "layout": "IPY_MODEL_23fbc7dbff22468b87c98a28758b4cd0",
            "max": 231508,
            "min": 0,
            "orientation": "horizontal",
            "style": "IPY_MODEL_67a54010640c437f9bbca08a30793d6a",
            "value": 231508
          }
        },
        "eb629f75b0ae404ab693bc40ab2d98dc": {
          "model_module": "@jupyter-widgets/base",
          "model_module_version": "1.2.0",
          "model_name": "LayoutModel",
          "state": {
            "_model_module": "@jupyter-widgets/base",
            "_model_module_version": "1.2.0",
            "_model_name": "LayoutModel",
            "_view_count": null,
            "_view_module": "@jupyter-widgets/base",
            "_view_module_version": "1.2.0",
            "_view_name": "LayoutView",
            "align_content": null,
            "align_items": null,
            "align_self": null,
            "border": null,
            "bottom": null,
            "display": null,
            "flex": null,
            "flex_flow": null,
            "grid_area": null,
            "grid_auto_columns": null,
            "grid_auto_flow": null,
            "grid_auto_rows": null,
            "grid_column": null,
            "grid_gap": null,
            "grid_row": null,
            "grid_template_areas": null,
            "grid_template_columns": null,
            "grid_template_rows": null,
            "height": null,
            "justify_content": null,
            "justify_items": null,
            "left": null,
            "margin": null,
            "max_height": null,
            "max_width": null,
            "min_height": null,
            "min_width": null,
            "object_fit": null,
            "object_position": null,
            "order": null,
            "overflow": null,
            "overflow_x": null,
            "overflow_y": null,
            "padding": null,
            "right": null,
            "top": null,
            "visibility": null,
            "width": null
          }
        },
        "f50c6fe22abe4ab7ad87a1f6de547f07": {
          "model_module": "@jupyter-widgets/controls",
          "model_module_version": "1.5.0",
          "model_name": "HTMLModel",
          "state": {
            "_dom_classes": [],
            "_model_module": "@jupyter-widgets/controls",
            "_model_module_version": "1.5.0",
            "_model_name": "HTMLModel",
            "_view_count": null,
            "_view_module": "@jupyter-widgets/controls",
            "_view_module_version": "1.5.0",
            "_view_name": "HTMLView",
            "description": "",
            "description_tooltip": null,
            "layout": "IPY_MODEL_8624f38fd61644f3a82db0a3e36ba92f",
            "placeholder": "​",
            "style": "IPY_MODEL_cda5a66454cc4460865156e6fde2357c",
            "value": "tokenizer.json: 100%"
          }
        },
        "f5a211b5fa0a423e954db7952891e8f0": {
          "model_module": "@jupyter-widgets/base",
          "model_module_version": "1.2.0",
          "model_name": "LayoutModel",
          "state": {
            "_model_module": "@jupyter-widgets/base",
            "_model_module_version": "1.2.0",
            "_model_name": "LayoutModel",
            "_view_count": null,
            "_view_module": "@jupyter-widgets/base",
            "_view_module_version": "1.2.0",
            "_view_name": "LayoutView",
            "align_content": null,
            "align_items": null,
            "align_self": null,
            "border": null,
            "bottom": null,
            "display": null,
            "flex": null,
            "flex_flow": null,
            "grid_area": null,
            "grid_auto_columns": null,
            "grid_auto_flow": null,
            "grid_auto_rows": null,
            "grid_column": null,
            "grid_gap": null,
            "grid_row": null,
            "grid_template_areas": null,
            "grid_template_columns": null,
            "grid_template_rows": null,
            "height": null,
            "justify_content": null,
            "justify_items": null,
            "left": null,
            "margin": null,
            "max_height": null,
            "max_width": null,
            "min_height": null,
            "min_width": null,
            "object_fit": null,
            "object_position": null,
            "order": null,
            "overflow": null,
            "overflow_x": null,
            "overflow_y": null,
            "padding": null,
            "right": null,
            "top": null,
            "visibility": null,
            "width": null
          }
        },
        "fbbc1af1b90042f3b335b866ed9e7e59": {
          "model_module": "@jupyter-widgets/base",
          "model_module_version": "1.2.0",
          "model_name": "LayoutModel",
          "state": {
            "_model_module": "@jupyter-widgets/base",
            "_model_module_version": "1.2.0",
            "_model_name": "LayoutModel",
            "_view_count": null,
            "_view_module": "@jupyter-widgets/base",
            "_view_module_version": "1.2.0",
            "_view_name": "LayoutView",
            "align_content": null,
            "align_items": null,
            "align_self": null,
            "border": null,
            "bottom": null,
            "display": null,
            "flex": null,
            "flex_flow": null,
            "grid_area": null,
            "grid_auto_columns": null,
            "grid_auto_flow": null,
            "grid_auto_rows": null,
            "grid_column": null,
            "grid_gap": null,
            "grid_row": null,
            "grid_template_areas": null,
            "grid_template_columns": null,
            "grid_template_rows": null,
            "height": null,
            "justify_content": null,
            "justify_items": null,
            "left": null,
            "margin": null,
            "max_height": null,
            "max_width": null,
            "min_height": null,
            "min_width": null,
            "object_fit": null,
            "object_position": null,
            "order": null,
            "overflow": null,
            "overflow_x": null,
            "overflow_y": null,
            "padding": null,
            "right": null,
            "top": null,
            "visibility": null,
            "width": null
          }
        },
        "fc9e2b256bd94ec08043a0fc542da753": {
          "model_module": "@jupyter-widgets/controls",
          "model_module_version": "1.5.0",
          "model_name": "HTMLModel",
          "state": {
            "_dom_classes": [],
            "_model_module": "@jupyter-widgets/controls",
            "_model_module_version": "1.5.0",
            "_model_name": "HTMLModel",
            "_view_count": null,
            "_view_module": "@jupyter-widgets/controls",
            "_view_module_version": "1.5.0",
            "_view_name": "HTMLView",
            "description": "",
            "description_tooltip": null,
            "layout": "IPY_MODEL_f5a211b5fa0a423e954db7952891e8f0",
            "placeholder": "​",
            "style": "IPY_MODEL_c835d004f6de4a9685150565487e4f2e",
            "value": " 48.0/48.0 [00:00&lt;00:00, 3.27kB/s]"
          }
        },
        "fd15dac0332c443fa52f8c250de8ca3d": {
          "model_module": "@jupyter-widgets/base",
          "model_module_version": "1.2.0",
          "model_name": "LayoutModel",
          "state": {
            "_model_module": "@jupyter-widgets/base",
            "_model_module_version": "1.2.0",
            "_model_name": "LayoutModel",
            "_view_count": null,
            "_view_module": "@jupyter-widgets/base",
            "_view_module_version": "1.2.0",
            "_view_name": "LayoutView",
            "align_content": null,
            "align_items": null,
            "align_self": null,
            "border": null,
            "bottom": null,
            "display": null,
            "flex": null,
            "flex_flow": null,
            "grid_area": null,
            "grid_auto_columns": null,
            "grid_auto_flow": null,
            "grid_auto_rows": null,
            "grid_column": null,
            "grid_gap": null,
            "grid_row": null,
            "grid_template_areas": null,
            "grid_template_columns": null,
            "grid_template_rows": null,
            "height": null,
            "justify_content": null,
            "justify_items": null,
            "left": null,
            "margin": null,
            "max_height": null,
            "max_width": null,
            "min_height": null,
            "min_width": null,
            "object_fit": null,
            "object_position": null,
            "order": null,
            "overflow": null,
            "overflow_x": null,
            "overflow_y": null,
            "padding": null,
            "right": null,
            "top": null,
            "visibility": null,
            "width": null
          }
        },
        "fd573bb411804ccca393f24d5d314727": {
          "model_module": "@jupyter-widgets/controls",
          "model_module_version": "1.5.0",
          "model_name": "HBoxModel",
          "state": {
            "_dom_classes": [],
            "_model_module": "@jupyter-widgets/controls",
            "_model_module_version": "1.5.0",
            "_model_name": "HBoxModel",
            "_view_count": null,
            "_view_module": "@jupyter-widgets/controls",
            "_view_module_version": "1.5.0",
            "_view_name": "HBoxView",
            "box_style": "",
            "children": [
              "IPY_MODEL_f50c6fe22abe4ab7ad87a1f6de547f07",
              "IPY_MODEL_cfd294d9e7894517b5fd17de53a6b895",
              "IPY_MODEL_3e740ee3aeaf4ba89d4332a4f06f65e1"
            ],
            "layout": "IPY_MODEL_fd7ae23947d04334b9bcf8bae347d4bc"
          }
        },
        "fd7ae23947d04334b9bcf8bae347d4bc": {
          "model_module": "@jupyter-widgets/base",
          "model_module_version": "1.2.0",
          "model_name": "LayoutModel",
          "state": {
            "_model_module": "@jupyter-widgets/base",
            "_model_module_version": "1.2.0",
            "_model_name": "LayoutModel",
            "_view_count": null,
            "_view_module": "@jupyter-widgets/base",
            "_view_module_version": "1.2.0",
            "_view_name": "LayoutView",
            "align_content": null,
            "align_items": null,
            "align_self": null,
            "border": null,
            "bottom": null,
            "display": null,
            "flex": null,
            "flex_flow": null,
            "grid_area": null,
            "grid_auto_columns": null,
            "grid_auto_flow": null,
            "grid_auto_rows": null,
            "grid_column": null,
            "grid_gap": null,
            "grid_row": null,
            "grid_template_areas": null,
            "grid_template_columns": null,
            "grid_template_rows": null,
            "height": null,
            "justify_content": null,
            "justify_items": null,
            "left": null,
            "margin": null,
            "max_height": null,
            "max_width": null,
            "min_height": null,
            "min_width": null,
            "object_fit": null,
            "object_position": null,
            "order": null,
            "overflow": null,
            "overflow_x": null,
            "overflow_y": null,
            "padding": null,
            "right": null,
            "top": null,
            "visibility": null,
            "width": null
          }
        }
      }
    }
  },
  "nbformat": 4,
  "nbformat_minor": 5
}