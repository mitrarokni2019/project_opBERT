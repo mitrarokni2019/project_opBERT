{
 "cells": [
  {
   "cell_type": "code",
   "execution_count": 1,
   "metadata": {
    "_cell_guid": "b1076dfc-b9ad-4769-8c92-a6c4dae69d19",
    "_uuid": "8f2839f25d086af736a60e9eeb907d3b93b6e0e5",
    "execution": {
     "iopub.execute_input": "2024-12-09T21:03:27.762566Z",
     "iopub.status.busy": "2024-12-09T21:03:27.762102Z",
     "iopub.status.idle": "2024-12-09T21:03:28.251426Z",
     "shell.execute_reply": "2024-12-09T21:03:28.249821Z",
     "shell.execute_reply.started": "2024-12-09T21:03:27.762506Z"
    },
    "trusted": true
   },
   "outputs": [
    {
     "name": "stdout",
     "output_type": "stream",
     "text": [
      "/kaggle/input/mergeddataset/merged_data.csv\n"
     ]
    }
   ],
   "source": [
    "# This Python 3 environment comes with many helpful analytics libraries installed\n",
    "# It is defined by the kaggle/python Docker image: https://github.com/kaggle/docker-python\n",
    "# For example, here's several helpful packages to load\n",
    "\n",
    "import numpy as np # linear algebra\n",
    "import pandas as pd # data processing, CSV file I/O (e.g. pd.read_csv)\n",
    "\n",
    "# Input data files are available in the read-only \"../input/\" directory\n",
    "# For example, running this (by clicking run or pressing Shift+Enter) will list all files under the input directory\n",
    "\n",
    "import os\n",
    "for dirname, _, filenames in os.walk('/kaggle/input'):\n",
    "    for filename in filenames:\n",
    "        print(os.path.join(dirname, filename))\n",
    "\n",
    "# You can write up to 20GB to the current directory (/kaggle/working/) that gets preserved as output when you create a version using \"Save & Run All\" \n",
    "# You can also write temporary files to /kaggle/temp/, but they won't be saved outside of the current session"
   ]
  },
  {
   "cell_type": "code",
   "execution_count": 2,
   "metadata": {
    "execution": {
     "iopub.execute_input": "2024-12-09T21:03:28.367829Z",
     "iopub.status.busy": "2024-12-09T21:03:28.366763Z",
     "iopub.status.idle": "2024-12-09T21:03:38.973462Z",
     "shell.execute_reply": "2024-12-09T21:03:38.972337Z",
     "shell.execute_reply.started": "2024-12-09T21:03:28.367783Z"
    },
    "trusted": true
   },
   "outputs": [
    {
     "name": "stdout",
     "output_type": "stream",
     "text": [
      "Running on: cpu\n"
     ]
    }
   ],
   "source": [
    "import pandas as pd\n",
    "import torch\n",
    "from sklearn.model_selection import train_test_split\n",
    "from transformers import BertTokenizer, BertForSequenceClassification, AdamW\n",
    "from torch.utils.data import DataLoader, TensorDataset\n",
    "from torch.nn import CrossEntropyLoss\n",
    "from transformers import get_scheduler\n",
    "from tqdm import tqdm\n",
    "\n",
    "# Ensure GPU is enabled\n",
    "device = torch.device(\"cuda\") if torch.cuda.is_available() else torch.device(\"cpu\")\n",
    "print(f\"Running on: {device}\")\n",
    "\n",
    "# 1. Load dataset\n",
    "file_path = \"/kaggle/input/mergeddataset/merged_data.csv\"  # Update this\n",
    "data = pd.read_csv(file_path)\n",
    "\n",
    "# Select a subset of 500 rows for testing\n",
    "#df = data[:500]"
   ]
  },
  {
   "cell_type": "code",
   "execution_count": 3,
   "metadata": {
    "execution": {
     "iopub.execute_input": "2024-12-09T21:03:38.976140Z",
     "iopub.status.busy": "2024-12-09T21:03:38.975728Z",
     "iopub.status.idle": "2024-12-09T21:03:40.951035Z",
     "shell.execute_reply": "2024-12-09T21:03:40.949593Z",
     "shell.execute_reply.started": "2024-12-09T21:03:38.976101Z"
    },
    "trusted": true
   },
   "outputs": [
    {
     "name": "stdout",
     "output_type": "stream",
     "text": [
      "Total comments: 53983\n",
      "Comments with delta: 918\n",
      "Percentage of delta comments: 1.70%\n"
     ]
    }
   ],
   "source": [
    "# defining delta comments \n",
    "\n",
    "import pandas as pd\n",
    "import re\n",
    "\n",
    "# Define the function to check for delta\n",
    "def check_for_delta(comment):\n",
    "    # Patterns to identify delta mentions\n",
    "    delta_patterns = [\n",
    "        r'!delta',                  # Direct delta command\n",
    "        r'delta\\s*awarded',         # Explicit delta award\n",
    "        r'Δ\\s*was\\s*awarded',       # Delta symbol with award language\n",
    "        r'changed\\s*my\\s*view',     # Alternative delta indication\n",
    "        r'you\\'?\\s*changed\\s*my\\s*view',  # Variations of view change\n",
    "        r'changed\\s*my\\s*perspective'     # Another view change variation\n",
    "    ]\n",
    "    \n",
    "    # Ensure comment is a string and do case-insensitive search\n",
    "    if not isinstance(comment, str):\n",
    "        return 0  # Return 0 for non-string comments\n",
    "    \n",
    "    return int(any(re.search(pattern, comment, re.IGNORECASE) for pattern in delta_patterns))\n",
    "\n",
    "# Apply the function to create the has_delta column\n",
    "data['has_delta'] = data['body'].apply(check_for_delta)\n",
    "\n",
    "# Print delta statistics\n",
    "total_comments = len(data)\n",
    "delta_comments = data[data['has_delta'] == 1]\n",
    "num_delta_comments = len(delta_comments)\n",
    "\n",
    "print(f\"Total comments: {total_comments}\")\n",
    "print(f\"Comments with delta: {num_delta_comments}\")\n",
    "print(f\"Percentage of delta comments: {num_delta_comments / total_comments * 100:.2f}%\")\n",
    "\n",
    "# Optional: Save the updated dataset\n",
    "# data.to_csv('/kaggle/input/mydata/merged_data_with_deltas.csv', index=False)\n"
   ]
  },
  {
   "cell_type": "code",
   "execution_count": 4,
   "metadata": {
    "execution": {
     "iopub.execute_input": "2024-12-09T21:03:40.953511Z",
     "iopub.status.busy": "2024-12-09T21:03:40.952916Z",
     "iopub.status.idle": "2024-12-09T21:03:40.963638Z",
     "shell.execute_reply": "2024-12-09T21:03:40.962310Z",
     "shell.execute_reply.started": "2024-12-09T21:03:40.953455Z"
    },
    "trusted": true
   },
   "outputs": [
    {
     "data": {
      "text/plain": [
       "\"!delta\\n\\nThis right here is the summary of what I'm seeing in the various parent groups, including the one and done group. Society is hell bent on not supporting pregnancy women, babies, parents, or families, and making the entire endeavor as unobtainable and expensive as possible.\""
      ]
     },
     "execution_count": 4,
     "metadata": {},
     "output_type": "execute_result"
    }
   ],
   "source": [
    "delta_comments['body'][1246]"
   ]
  },
  {
   "cell_type": "code",
   "execution_count": 5,
   "metadata": {
    "execution": {
     "iopub.execute_input": "2024-12-09T21:03:40.966710Z",
     "iopub.status.busy": "2024-12-09T21:03:40.966270Z",
     "iopub.status.idle": "2024-12-09T21:03:41.028927Z",
     "shell.execute_reply": "2024-12-09T21:03:41.027793Z",
     "shell.execute_reply.started": "2024-12-09T21:03:40.966669Z"
    },
    "trusted": true
   },
   "outputs": [
    {
     "name": "stdout",
     "output_type": "stream",
     "text": [
      "Total initial posts: 331\n",
      "Duplicate posts removed: 0\n",
      "Remaining unique posts: 331\n",
      "Dataset with unique posts saved as 'unique_posts_before_preprocessing.csv'\n"
     ]
    }
   ],
   "source": [
    "# checking for if post are duplicated \n",
    "\n",
    "# Count initial unique posts based on 'link_id'\n",
    "initial_posts = data['link_id'].nunique()\n",
    "\n",
    "# Drop duplicate posts based on 'link_id' and keep the first occurrence\n",
    "data_unique_posts = data.drop_duplicates(subset='link_id', keep='first')\n",
    "\n",
    "# Count the remaining unique posts\n",
    "remaining_posts = data_unique_posts['link_id'].nunique()\n",
    "\n",
    "# Calculate the number of duplicate posts removed\n",
    "duplicate_posts = initial_posts - remaining_posts\n",
    "\n",
    "# Display results\n",
    "print(f\"Total initial posts: {initial_posts}\")\n",
    "print(f\"Duplicate posts removed: {duplicate_posts}\")\n",
    "print(f\"Remaining unique posts: {remaining_posts}\")\n",
    "\n",
    "# Save the cleaned dataset\n",
    "data_unique_posts.to_csv('unique_posts_before_preprocessing.csv', index=False)\n",
    "print(\"Dataset with unique posts saved as 'unique_posts_before_preprocessing.csv'\")\n"
   ]
  },
  {
   "cell_type": "code",
   "execution_count": 6,
   "metadata": {
    "execution": {
     "iopub.execute_input": "2024-12-09T21:03:41.030651Z",
     "iopub.status.busy": "2024-12-09T21:03:41.030299Z",
     "iopub.status.idle": "2024-12-09T21:03:41.052527Z",
     "shell.execute_reply": "2024-12-09T21:03:41.051045Z",
     "shell.execute_reply.started": "2024-12-09T21:03:41.030616Z"
    },
    "trusted": true
   },
   "outputs": [
    {
     "name": "stdout",
     "output_type": "stream",
     "text": [
      "number of comments 53983\n",
      "number of posts 331\n",
      "-------------------------------------------\n",
      "   link_id  num_comments\n",
      "0  10a2an3           209\n",
      "1  10cktde            46\n",
      "2  10djn5r           179\n",
      "3  10i58lq           169\n",
      "4  10li7zz           138\n"
     ]
    }
   ],
   "source": [
    "# checking number of posts and number of commmetns :\n",
    "\n",
    "# Group by 'link_id' (post ID) and count the number of comments\n",
    "post_comment_counts = data.groupby('link_id').size().reset_index(name='num_comments')\n",
    "\n",
    "# Display the result\n",
    "print(\"number of comments\",len(data))\n",
    "print(\"number of posts\",len(post_comment_counts))\n",
    "print(\"-------------------------------------------\")\n",
    "print(post_comment_counts.head())\n",
    "\n",
    "#save dataset of posts and num of commetns \n",
    "#data.to_csv('/kaggle/input/mergeddataset/data1.csv', index=False)\n"
   ]
  },
  {
   "cell_type": "code",
   "execution_count": 7,
   "metadata": {
    "execution": {
     "iopub.execute_input": "2024-12-09T21:03:45.803269Z",
     "iopub.status.busy": "2024-12-09T21:03:45.801849Z",
     "iopub.status.idle": "2024-12-09T21:04:26.105425Z",
     "shell.execute_reply": "2024-12-09T21:04:26.104170Z",
     "shell.execute_reply.started": "2024-12-09T21:03:45.803199Z"
    },
    "trusted": true
   },
   "outputs": [
    {
     "data": {
      "text/html": [
       "<div>\n",
       "<style scoped>\n",
       "    .dataframe tbody tr th:only-of-type {\n",
       "        vertical-align: middle;\n",
       "    }\n",
       "\n",
       "    .dataframe tbody tr th {\n",
       "        vertical-align: top;\n",
       "    }\n",
       "\n",
       "    .dataframe thead th {\n",
       "        text-align: right;\n",
       "    }\n",
       "</style>\n",
       "<table border=\"1\" class=\"dataframe\">\n",
       "  <thead>\n",
       "    <tr style=\"text-align: right;\">\n",
       "      <th></th>\n",
       "      <th>text</th>\n",
       "      <th>cleaned_text</th>\n",
       "      <th>body</th>\n",
       "      <th>cleaned_body</th>\n",
       "    </tr>\n",
       "  </thead>\n",
       "  <tbody>\n",
       "    <tr>\n",
       "      <th>0</th>\n",
       "      <td>When you ask the average conservative why they...</td>\n",
       "      <td>when you ask the average conservative why they...</td>\n",
       "      <td>This post has been locked due to a large numbe...</td>\n",
       "      <td>this post has been locked due to a large numbe...</td>\n",
       "    </tr>\n",
       "    <tr>\n",
       "      <th>1</th>\n",
       "      <td>When you ask the average conservative why they...</td>\n",
       "      <td>when you ask the average conservative why they...</td>\n",
       "      <td>I'll share an anecdote. I'm well read enough t...</td>\n",
       "      <td>i'll share an anecdote. i'm well read enough t...</td>\n",
       "    </tr>\n",
       "    <tr>\n",
       "      <th>2</th>\n",
       "      <td>When you ask the average conservative why they...</td>\n",
       "      <td>when you ask the average conservative why they...</td>\n",
       "      <td>Please forgive not having links. I wrote this ...</td>\n",
       "      <td>please forgive not having links. i wrote this ...</td>\n",
       "    </tr>\n",
       "    <tr>\n",
       "      <th>3</th>\n",
       "      <td>When you ask the average conservative why they...</td>\n",
       "      <td>when you ask the average conservative why they...</td>\n",
       "      <td>You’re not quite thinking about this the right...</td>\n",
       "      <td>youre not quite thinking about this the right ...</td>\n",
       "    </tr>\n",
       "    <tr>\n",
       "      <th>4</th>\n",
       "      <td>When you ask the average conservative why they...</td>\n",
       "      <td>when you ask the average conservative why they...</td>\n",
       "      <td>[https://cei.org/blog/wrong-again-50-years-of-...</td>\n",
       "      <td>how do you tell the difference between actual ...</td>\n",
       "    </tr>\n",
       "  </tbody>\n",
       "</table>\n",
       "</div>"
      ],
      "text/plain": [
       "                                                text  \\\n",
       "0  When you ask the average conservative why they...   \n",
       "1  When you ask the average conservative why they...   \n",
       "2  When you ask the average conservative why they...   \n",
       "3  When you ask the average conservative why they...   \n",
       "4  When you ask the average conservative why they...   \n",
       "\n",
       "                                        cleaned_text  \\\n",
       "0  when you ask the average conservative why they...   \n",
       "1  when you ask the average conservative why they...   \n",
       "2  when you ask the average conservative why they...   \n",
       "3  when you ask the average conservative why they...   \n",
       "4  when you ask the average conservative why they...   \n",
       "\n",
       "                                                body  \\\n",
       "0  This post has been locked due to a large numbe...   \n",
       "1  I'll share an anecdote. I'm well read enough t...   \n",
       "2  Please forgive not having links. I wrote this ...   \n",
       "3  You’re not quite thinking about this the right...   \n",
       "4  [https://cei.org/blog/wrong-again-50-years-of-...   \n",
       "\n",
       "                                        cleaned_body  \n",
       "0  this post has been locked due to a large numbe...  \n",
       "1  i'll share an anecdote. i'm well read enough t...  \n",
       "2  please forgive not having links. i wrote this ...  \n",
       "3  youre not quite thinking about this the right ...  \n",
       "4  how do you tell the difference between actual ...  "
      ]
     },
     "execution_count": 7,
     "metadata": {},
     "output_type": "execute_result"
    }
   ],
   "source": [
    "# this cleanning preprocessing is for bert \n",
    "\n",
    "import pandas as pd\n",
    "import re\n",
    "\n",
    "# Define an extended cleaning function\n",
    "def clean_text(text):\n",
    "    if pd.isnull(text):\n",
    "        return \"\"\n",
    "    \n",
    "    # Convert to lowercase\n",
    "    text = text.lower()\n",
    "    \n",
    "    # Handle common encoding issues\n",
    "    text = text.replace(\"â€™\", \"'\").replace(\"â€œ\", '').replace(\"â€\", '')\n",
    "    text = text.replace(\"â€“\", \"-\").replace(\"â€¦\", \"...\").replace(\"â€\", \"\")\n",
    "    \n",
    "    # Remove URLs\n",
    "    text = re.sub(r\"http\\S+|www\\S+|https\\S+\", '', text, flags=re.MULTILINE)\n",
    "    \n",
    "    # Remove HTML tags\n",
    "    text = re.sub(r\"<.*?>\", '', text)\n",
    "    \n",
    "    # Remove email addresses\n",
    "    text = re.sub(r'\\S+@\\S+', '', text)\n",
    "    \n",
    "    # Remove mentions (e.g., @username)\n",
    "    text = re.sub(r\"@\\w+\", '', text)\n",
    "    \n",
    "    # Remove special characters but retain mathematical symbols, percentages, and numbers\n",
    "    text = re.sub(r\"[^a-zA-Z0-9\\s.,!?%'():;+-/]\", '', text)\n",
    "    \n",
    "    # Normalize multiple spaces\n",
    "    text = re.sub(r\"\\s+\", ' ', text).strip()\n",
    "\n",
    "    # Replace common escape sequences with their intended characters\n",
    "    text = text.replace(\"\\\\'\", \"'\")  # Fix escaped single quotes\n",
    "    text = text.replace('\\\\\"', '')  # Remove escaped double quotes\n",
    "    \n",
    "    # Normalize smart quotes (curly quotes) to standard quotes or remove them\n",
    "    text = text.replace(\"‘\", \"'\").replace(\"’\", \"'\")  # Replace left and right single quotes\n",
    "    text = text.replace(\"“\", '').replace(\"”\", '')  # Remove left and right double quotes\n",
    "    \n",
    "    text = re.sub(r'\\s+', ' ', text)  # Replace multiple spaces with a single space\n",
    "    text = text.strip()  # Remove leading/trailing spaces  \n",
    "    \n",
    "    # Remove extra spaces around quotes\n",
    "    text = re.sub(r\"\\s+'\", \"'\", text)  # Remove space before single quotes\n",
    "    text = re.sub(r\"'\\s+\", \"'\", text)  # Remove space after single quotes\n",
    "    text = re.sub(r'\\s+\"', '', text)  # Remove space before double quotes\n",
    "    text = re.sub(r'\"\\s+', '', text)  # Remove space after double quotes\n",
    "   \n",
    "    return text\n",
    "\n",
    "# Apply cleaning to the `text` and `body` columns\n",
    "data['cleaned_text'] = data['text'].apply(clean_text)\n",
    "data['cleaned_body'] = data['body'].apply(clean_text)\n",
    "\n",
    "# Display a sample of the cleaned data\n",
    "data[['text', 'cleaned_text', 'body', 'cleaned_body']].head()\n",
    "\n",
    "# Optional: Save the updated dataset\n",
    "#df.to_csv('/kaggle/input/mergeddataset/data1.csv', index=False)\n"
   ]
  },
  {
   "cell_type": "code",
   "execution_count": 8,
   "metadata": {
    "execution": {
     "iopub.execute_input": "2024-12-09T21:04:26.109280Z",
     "iopub.status.busy": "2024-12-09T21:04:26.108163Z",
     "iopub.status.idle": "2024-12-09T21:04:41.141938Z",
     "shell.execute_reply": "2024-12-09T21:04:41.140363Z",
     "shell.execute_reply.started": "2024-12-09T21:04:26.109225Z"
    },
    "trusted": true
   },
   "outputs": [
    {
     "name": "stdout",
     "output_type": "stream",
     "text": [
      "Total posts: 331\n",
      "Posts related to climate change: 227\n",
      "Posts not related to climate change: 104\n",
      "Unrelated posts dataset saved as 'unrelated_posts.csv'\n"
     ]
    }
   ],
   "source": [
    "# checking the relevant post for our subject >\n",
    "# Define keywords related to climate change\n",
    "\n",
    "import re\n",
    "\n",
    "\n",
    "keywords = [\n",
    "    \"climate change\", \"global warming\", \"climate crisis\", \"CO2 emissions\",\n",
    "    \"fossil fuels\", \"COP\", \"IPCC\", \"climate action\", \"renewable energy\",\n",
    "    \"carbon footprint\", \"greenhouse gases\", \"sustainability\", \"carbon neutrality\",\n",
    "    \"deforestation\", \"sea level rise\", \"methane emissions\", \"climate adaptation\"\n",
    "]\n",
    "\n",
    "# Create a regex pattern for the keywords\n",
    "keywords_pattern = re.compile(r'\\b(' + '|'.join(map(re.escape, keywords)) + r')\\b', re.IGNORECASE)\n",
    "\n",
    "# Check if the cleaned_text contains any of the keywords\n",
    "data['is_climate_related'] = data['cleaned_text'].apply(\n",
    "    lambda x: bool(keywords_pattern.search(x)) if isinstance(x, str) else False\n",
    ")\n",
    "\n",
    "# Verify the results\n",
    "total_posts = data['link_id'].nunique()\n",
    "related_posts = data[data['is_climate_related']]['link_id'].nunique()\n",
    "unrelated_posts = total_posts - related_posts\n",
    "\n",
    "print(f\"Total posts: {total_posts}\")\n",
    "print(f\"Posts related to climate change: {related_posts}\")\n",
    "print(f\"Posts not related to climate change: {unrelated_posts}\")\n",
    "\n",
    "# Save unrelated posts to a new dataset\n",
    "unrelated_data = data[data['is_climate_related'] == False]\n",
    "unrelated_data.to_csv('unrelated_posts.csv', index=False)\n",
    "\n",
    "print(\"Unrelated posts dataset saved as 'unrelated_posts.csv'\")\n",
    "\n"
   ]
  },
  {
   "cell_type": "code",
   "execution_count": 9,
   "metadata": {
    "execution": {
     "iopub.execute_input": "2024-12-09T21:04:41.144093Z",
     "iopub.status.busy": "2024-12-09T21:04:41.143592Z",
     "iopub.status.idle": "2024-12-09T21:04:41.262472Z",
     "shell.execute_reply": "2024-12-09T21:04:41.260933Z",
     "shell.execute_reply.started": "2024-12-09T21:04:41.144043Z"
    },
    "trusted": true
   },
   "outputs": [
    {
     "name": "stdout",
     "output_type": "stream",
     "text": [
      "Remaining posts: 227\n",
      "Remaining comments: 34390\n"
     ]
    }
   ],
   "source": [
    "# checking how many comments will be remain if we drop irrelevant posts: \n",
    "\n",
    "# Copy the original dataset to a new DataFrame\n",
    "testdata = data.copy()\n",
    "\n",
    "# Filter out unrelated posts\n",
    "testdata = testdata[testdata['is_climate_related']]\n",
    "\n",
    "# Calculate the number of unique posts and comments in the filtered dataset\n",
    "remaining_posts = testdata['link_id'].nunique()\n",
    "remaining_comments = len(testdata)\n",
    "\n",
    "# Display the results\n",
    "print(f\"Remaining posts: {remaining_posts}\")\n",
    "print(f\"Remaining comments: {remaining_comments}\")"
   ]
  },
  {
   "cell_type": "code",
   "execution_count": 10,
   "metadata": {
    "execution": {
     "iopub.execute_input": "2024-12-09T21:04:41.266370Z",
     "iopub.status.busy": "2024-12-09T21:04:41.265921Z",
     "iopub.status.idle": "2024-12-09T21:04:41.274072Z",
     "shell.execute_reply": "2024-12-09T21:04:41.272890Z",
     "shell.execute_reply.started": "2024-12-09T21:04:41.266335Z"
    },
    "trusted": true
   },
   "outputs": [
    {
     "data": {
      "text/plain": [
       "53983"
      ]
     },
     "execution_count": 10,
     "metadata": {},
     "output_type": "execute_result"
    }
   ],
   "source": [
    "len(data)"
   ]
  },
  {
   "cell_type": "code",
   "execution_count": 11,
   "metadata": {
    "execution": {
     "iopub.execute_input": "2024-12-09T21:04:41.276302Z",
     "iopub.status.busy": "2024-12-09T21:04:41.275875Z",
     "iopub.status.idle": "2024-12-09T21:04:41.309293Z",
     "shell.execute_reply": "2024-12-09T21:04:41.307646Z",
     "shell.execute_reply.started": "2024-12-09T21:04:41.276267Z"
    },
    "trusted": true
   },
   "outputs": [
    {
     "data": {
      "text/html": [
       "<div>\n",
       "<style scoped>\n",
       "    .dataframe tbody tr th:only-of-type {\n",
       "        vertical-align: middle;\n",
       "    }\n",
       "\n",
       "    .dataframe tbody tr th {\n",
       "        vertical-align: top;\n",
       "    }\n",
       "\n",
       "    .dataframe thead th {\n",
       "        text-align: right;\n",
       "    }\n",
       "</style>\n",
       "<table border=\"1\" class=\"dataframe\">\n",
       "  <thead>\n",
       "    <tr style=\"text-align: right;\">\n",
       "      <th></th>\n",
       "      <th>comment_id</th>\n",
       "      <th>link_id</th>\n",
       "      <th>subreddit_x</th>\n",
       "      <th>parent_id</th>\n",
       "      <th>redditor_id_x</th>\n",
       "      <th>created_at_x</th>\n",
       "      <th>body</th>\n",
       "      <th>score_x</th>\n",
       "      <th>edited_x</th>\n",
       "      <th>removed_x</th>\n",
       "      <th>...</th>\n",
       "      <th>upvote_ratio</th>\n",
       "      <th>num_comments</th>\n",
       "      <th>edited_y</th>\n",
       "      <th>archived</th>\n",
       "      <th>removed_y</th>\n",
       "      <th>poll</th>\n",
       "      <th>has_delta</th>\n",
       "      <th>cleaned_text</th>\n",
       "      <th>cleaned_body</th>\n",
       "      <th>is_climate_related</th>\n",
       "    </tr>\n",
       "  </thead>\n",
       "  <tbody>\n",
       "    <tr>\n",
       "      <th>0</th>\n",
       "      <td>k3d3suw</td>\n",
       "      <td>16yqq5w</td>\n",
       "      <td>changemyview</td>\n",
       "      <td>t3_16yqq5w</td>\n",
       "      <td>10qxmu</td>\n",
       "      <td>2023-10-04T02:32:48+00:00</td>\n",
       "      <td>This post has been locked due to a large numbe...</td>\n",
       "      <td>{'2024-10-28T14:52:25': 1}</td>\n",
       "      <td>False</td>\n",
       "      <td>NaN</td>\n",
       "      <td>...</td>\n",
       "      <td>{'2024-10-27T12:01:35': 0.8}</td>\n",
       "      <td>{'2024-10-27T12:01:35': 991}</td>\n",
       "      <td>True</td>\n",
       "      <td>True</td>\n",
       "      <td>False</td>\n",
       "      <td>NaN</td>\n",
       "      <td>0</td>\n",
       "      <td>when you ask the average conservative why they...</td>\n",
       "      <td>this post has been locked due to a large numbe...</td>\n",
       "      <td>True</td>\n",
       "    </tr>\n",
       "    <tr>\n",
       "      <th>1</th>\n",
       "      <td>k3anc3z</td>\n",
       "      <td>16yqq5w</td>\n",
       "      <td>changemyview</td>\n",
       "      <td>t3_16yqq5w</td>\n",
       "      <td>deleted</td>\n",
       "      <td>2023-10-03T17:34:08+00:00</td>\n",
       "      <td>I'll share an anecdote. I'm well read enough t...</td>\n",
       "      <td>{'2024-10-28T14:52:26': 12}</td>\n",
       "      <td>True</td>\n",
       "      <td>NaN</td>\n",
       "      <td>...</td>\n",
       "      <td>{'2024-10-27T12:01:35': 0.8}</td>\n",
       "      <td>{'2024-10-27T12:01:35': 991}</td>\n",
       "      <td>True</td>\n",
       "      <td>True</td>\n",
       "      <td>False</td>\n",
       "      <td>NaN</td>\n",
       "      <td>0</td>\n",
       "      <td>when you ask the average conservative why they...</td>\n",
       "      <td>i'll share an anecdote. i'm well read enough t...</td>\n",
       "      <td>True</td>\n",
       "    </tr>\n",
       "    <tr>\n",
       "      <th>2</th>\n",
       "      <td>k3aek0j</td>\n",
       "      <td>16yqq5w</td>\n",
       "      <td>changemyview</td>\n",
       "      <td>t3_16yqq5w</td>\n",
       "      <td>5kww6</td>\n",
       "      <td>2023-10-03T16:40:00+00:00</td>\n",
       "      <td>Please forgive not having links. I wrote this ...</td>\n",
       "      <td>{'2024-10-28T14:52:26': 23}</td>\n",
       "      <td>False</td>\n",
       "      <td>NaN</td>\n",
       "      <td>...</td>\n",
       "      <td>{'2024-10-27T12:01:35': 0.8}</td>\n",
       "      <td>{'2024-10-27T12:01:35': 991}</td>\n",
       "      <td>True</td>\n",
       "      <td>True</td>\n",
       "      <td>False</td>\n",
       "      <td>NaN</td>\n",
       "      <td>0</td>\n",
       "      <td>when you ask the average conservative why they...</td>\n",
       "      <td>please forgive not having links. i wrote this ...</td>\n",
       "      <td>True</td>\n",
       "    </tr>\n",
       "    <tr>\n",
       "      <th>3</th>\n",
       "      <td>k3a4ekd</td>\n",
       "      <td>16yqq5w</td>\n",
       "      <td>changemyview</td>\n",
       "      <td>t3_16yqq5w</td>\n",
       "      <td>4bnx7</td>\n",
       "      <td>2023-10-03T15:32:05+00:00</td>\n",
       "      <td>You’re not quite thinking about this the right...</td>\n",
       "      <td>{'2024-10-28T14:52:26': 67}</td>\n",
       "      <td>True</td>\n",
       "      <td>NaN</td>\n",
       "      <td>...</td>\n",
       "      <td>{'2024-10-27T12:01:35': 0.8}</td>\n",
       "      <td>{'2024-10-27T12:01:35': 991}</td>\n",
       "      <td>True</td>\n",
       "      <td>True</td>\n",
       "      <td>False</td>\n",
       "      <td>NaN</td>\n",
       "      <td>0</td>\n",
       "      <td>when you ask the average conservative why they...</td>\n",
       "      <td>youre not quite thinking about this the right ...</td>\n",
       "      <td>True</td>\n",
       "    </tr>\n",
       "    <tr>\n",
       "      <th>4</th>\n",
       "      <td>k39xcxh</td>\n",
       "      <td>16yqq5w</td>\n",
       "      <td>changemyview</td>\n",
       "      <td>t3_16yqq5w</td>\n",
       "      <td>suspended:barbodelli</td>\n",
       "      <td>2023-10-03T14:38:43+00:00</td>\n",
       "      <td>[https://cei.org/blog/wrong-again-50-years-of-...</td>\n",
       "      <td>{'2024-10-28T14:52:27': 235}</td>\n",
       "      <td>False</td>\n",
       "      <td>NaN</td>\n",
       "      <td>...</td>\n",
       "      <td>{'2024-10-27T12:01:35': 0.8}</td>\n",
       "      <td>{'2024-10-27T12:01:35': 991}</td>\n",
       "      <td>True</td>\n",
       "      <td>True</td>\n",
       "      <td>False</td>\n",
       "      <td>NaN</td>\n",
       "      <td>0</td>\n",
       "      <td>when you ask the average conservative why they...</td>\n",
       "      <td>how do you tell the difference between actual ...</td>\n",
       "      <td>True</td>\n",
       "    </tr>\n",
       "  </tbody>\n",
       "</table>\n",
       "<p>5 rows × 31 columns</p>\n",
       "</div>"
      ],
      "text/plain": [
       "  comment_id  link_id   subreddit_x   parent_id         redditor_id_x  \\\n",
       "0    k3d3suw  16yqq5w  changemyview  t3_16yqq5w                10qxmu   \n",
       "1    k3anc3z  16yqq5w  changemyview  t3_16yqq5w               deleted   \n",
       "2    k3aek0j  16yqq5w  changemyview  t3_16yqq5w                 5kww6   \n",
       "3    k3a4ekd  16yqq5w  changemyview  t3_16yqq5w                 4bnx7   \n",
       "4    k39xcxh  16yqq5w  changemyview  t3_16yqq5w  suspended:barbodelli   \n",
       "\n",
       "                created_at_x  \\\n",
       "0  2023-10-04T02:32:48+00:00   \n",
       "1  2023-10-03T17:34:08+00:00   \n",
       "2  2023-10-03T16:40:00+00:00   \n",
       "3  2023-10-03T15:32:05+00:00   \n",
       "4  2023-10-03T14:38:43+00:00   \n",
       "\n",
       "                                                body  \\\n",
       "0  This post has been locked due to a large numbe...   \n",
       "1  I'll share an anecdote. I'm well read enough t...   \n",
       "2  Please forgive not having links. I wrote this ...   \n",
       "3  You’re not quite thinking about this the right...   \n",
       "4  [https://cei.org/blog/wrong-again-50-years-of-...   \n",
       "\n",
       "                        score_x  edited_x removed_x  ...  \\\n",
       "0    {'2024-10-28T14:52:25': 1}     False       NaN  ...   \n",
       "1   {'2024-10-28T14:52:26': 12}      True       NaN  ...   \n",
       "2   {'2024-10-28T14:52:26': 23}     False       NaN  ...   \n",
       "3   {'2024-10-28T14:52:26': 67}      True       NaN  ...   \n",
       "4  {'2024-10-28T14:52:27': 235}     False       NaN  ...   \n",
       "\n",
       "                   upvote_ratio                  num_comments edited_y  \\\n",
       "0  {'2024-10-27T12:01:35': 0.8}  {'2024-10-27T12:01:35': 991}     True   \n",
       "1  {'2024-10-27T12:01:35': 0.8}  {'2024-10-27T12:01:35': 991}     True   \n",
       "2  {'2024-10-27T12:01:35': 0.8}  {'2024-10-27T12:01:35': 991}     True   \n",
       "3  {'2024-10-27T12:01:35': 0.8}  {'2024-10-27T12:01:35': 991}     True   \n",
       "4  {'2024-10-27T12:01:35': 0.8}  {'2024-10-27T12:01:35': 991}     True   \n",
       "\n",
       "  archived removed_y poll has_delta  \\\n",
       "0     True     False  NaN         0   \n",
       "1     True     False  NaN         0   \n",
       "2     True     False  NaN         0   \n",
       "3     True     False  NaN         0   \n",
       "4     True     False  NaN         0   \n",
       "\n",
       "                                        cleaned_text  \\\n",
       "0  when you ask the average conservative why they...   \n",
       "1  when you ask the average conservative why they...   \n",
       "2  when you ask the average conservative why they...   \n",
       "3  when you ask the average conservative why they...   \n",
       "4  when you ask the average conservative why they...   \n",
       "\n",
       "                                        cleaned_body is_climate_related  \n",
       "0  this post has been locked due to a large numbe...               True  \n",
       "1  i'll share an anecdote. i'm well read enough t...               True  \n",
       "2  please forgive not having links. i wrote this ...               True  \n",
       "3  youre not quite thinking about this the right ...               True  \n",
       "4  how do you tell the difference between actual ...               True  \n",
       "\n",
       "[5 rows x 31 columns]"
      ]
     },
     "execution_count": 11,
     "metadata": {},
     "output_type": "execute_result"
    }
   ],
   "source": [
    "data.head(5)"
   ]
  },
  {
   "cell_type": "code",
   "execution_count": 12,
   "metadata": {
    "execution": {
     "iopub.execute_input": "2024-12-09T21:04:41.311603Z",
     "iopub.status.busy": "2024-12-09T21:04:41.311024Z",
     "iopub.status.idle": "2024-12-09T21:04:41.328098Z",
     "shell.execute_reply": "2024-12-09T21:04:41.326512Z",
     "shell.execute_reply.started": "2024-12-09T21:04:41.311548Z"
    },
    "trusted": true
   },
   "outputs": [
    {
     "name": "stdout",
     "output_type": "stream",
     "text": [
      "number of commens has delta 918\n"
     ]
    }
   ],
   "source": [
    "# Filter for comments with a delta after cleaned_body is added\n",
    "delta_comments = data[data['has_delta'] == 1]\n",
    "print(\"number of commens has delta\",len(delta_comments))\n"
   ]
  },
  {
   "cell_type": "code",
   "execution_count": 13,
   "metadata": {
    "execution": {
     "iopub.execute_input": "2024-12-09T21:04:41.330241Z",
     "iopub.status.busy": "2024-12-09T21:04:41.329750Z",
     "iopub.status.idle": "2024-12-09T21:04:41.346906Z",
     "shell.execute_reply": "2024-12-09T21:04:41.345868Z",
     "shell.execute_reply.started": "2024-12-09T21:04:41.330192Z"
    },
    "trusted": true
   },
   "outputs": [
    {
     "data": {
      "text/plain": [
       "'!delta\\n\\nI liked the way you worded that- it’s not that people are secretly desperately wanted to have children but lack $3k and thus giving them $3k would make them want to give birth- rather that people have all sorts of reasons in their personal scales and adding a little incentive here or there it’s enough to tip the scale for some people.\\n\\nThat said the article you attached did say it increased the birth rate by 4-6% not 60%.'"
      ]
     },
     "execution_count": 13,
     "metadata": {},
     "output_type": "execute_result"
    }
   ],
   "source": [
    "data['body'][1230]"
   ]
  },
  {
   "cell_type": "code",
   "execution_count": 14,
   "metadata": {
    "execution": {
     "iopub.execute_input": "2024-12-09T21:04:41.348727Z",
     "iopub.status.busy": "2024-12-09T21:04:41.348342Z",
     "iopub.status.idle": "2024-12-09T21:04:41.363607Z",
     "shell.execute_reply": "2024-12-09T21:04:41.362282Z",
     "shell.execute_reply.started": "2024-12-09T21:04:41.348695Z"
    },
    "trusted": true
   },
   "outputs": [
    {
     "data": {
      "text/plain": [
       "'!delta i liked the way you worded that- its not that people are secretly desperately wanted to have children but lack 3k and thus giving them 3k would make them want to give birth- rather that people have all sorts of reasons in their personal scales and adding a little incentive here or there its enough to tip the scale for some people. that said the article you attached did say it increased the birth rate by 4-6% not 60%.'"
      ]
     },
     "execution_count": 14,
     "metadata": {},
     "output_type": "execute_result"
    }
   ],
   "source": [
    "data['cleaned_body'][1230]"
   ]
  },
  {
   "cell_type": "code",
   "execution_count": null,
   "metadata": {
    "trusted": true
   },
   "outputs": [],
   "source": [
    "#NOT \n",
    "# this code is for glove and the  other embedding :\n",
    "\n",
    "\n",
    "import re\n",
    "import pandas as pd\n",
    "from contractions import contractions_dict  # You need a dictionary of common contractions\n",
    "\n",
    "# Define a function to expand contractions\n",
    "def expand_contractions(text):\n",
    "    contraction_pattern = re.compile(r'\\b(' + '|'.join(contractions_dict.keys()) + r')\\b')\n",
    "    return contraction_pattern.sub(lambda match: contractions_dict[match.group(0)], text)\n",
    "\n",
    "# Contractions dictionary (You can expand this as needed)\n",
    "contractions_dict = {\n",
    "    \"don't\": \"do not\",\n",
    "    \"you're\": \"you are\",\n",
    "    \"it's\": \"it is\",\n",
    "    \"they're\": \"they are\",\n",
    "    \"we're\": \"we are\",\n",
    "    \"I've\": \"I have\",\n",
    "    \"can't\": \"cannot\",\n",
    "    \"isn't\": \"is not\",\n",
    "    \"didn't\": \"did not\",\n",
    "    \"won't\": \"will not\",\n",
    "    \"wouldn't\": \"would not\",\n",
    "    \"couldn't\": \"could not\",\n",
    "    \"shouldn't\": \"should not\",\n",
    "    \"hasn't\": \"has not\",\n",
    "    \"haven't\": \"have not\",\n",
    "    # Add more contractions here\n",
    "}\n",
    "\n",
    "# Extended cleaning function\n",
    "def clean_text(text):\n",
    "    if pd.isnull(text):\n",
    "        return \"\"\n",
    "    \n",
    "    # Convert to lowercase\n",
    "    text = text.lower()\n",
    "    \n",
    "    # Expand contractions\n",
    "    text = expand_contractions(text)\n",
    "    \n",
    "    # Handle common encoding issues\n",
    "    text = text.replace(\"â€™\", \"'\").replace(\"â€œ\", '').replace(\"â€\", '')\n",
    "    text = text.replace(\"â€“\", \"-\").replace(\"â€¦\", \"...\").replace(\"â€\", \"\")\n",
    "    \n",
    "    # Remove URLs\n",
    "    text = re.sub(r\"http\\S+|www\\S+|https\\S+\", '', text, flags=re.MULTILINE)\n",
    "    \n",
    "    # Remove HTML tags\n",
    "    text = re.sub(r\"<.*?>\", '', text)\n",
    "    \n",
    "    # Remove email addresses\n",
    "    text = re.sub(r'\\S+@\\S+', '', text)\n",
    "    \n",
    "    # Remove mentions (e.g., @username)\n",
    "    text = re.sub(r\"@\\w+\", '', text)\n",
    "    \n",
    "    # Remove special characters but retain mathematical symbols, percentages, and numbers\n",
    "    text = re.sub(r\"[^a-zA-Z0-9\\s.,!?%'():;+-/]\", '', text)\n",
    "    \n",
    "    # Normalize multiple spaces\n",
    "    text = re.sub(r\"\\s+\", ' ', text).strip()\n",
    "\n",
    "    # Replace common escape sequences with their intended characters\n",
    "    text = text.replace(\"\\\\'\", \"'\")  # Fix escaped single quotes\n",
    "    \n",
    "    text = re.sub(r'\\s+', ' ', text)  # Replace multiple spaces with a single space\n",
    "    text = text.strip()  # Remove leading/trailing spaces  \n",
    "    \n",
    "    return text\n",
    "\n",
    "# Apply cleaning to the `text` and `body` columns\n",
    "data['cleaned_text'] = data['text'].apply(clean_text)\n",
    "data['cleaned_body'] = data['body'].apply(clean_text)\n",
    "\n",
    "# Display a sample of the cleaned data\n",
    "data[['text', 'cleaned_text', 'body', 'cleaned_body']].head()\n"
   ]
  },
  {
   "cell_type": "code",
   "execution_count": null,
   "metadata": {
    "trusted": true
   },
   "outputs": [],
   "source": [
    "# Optional: Save the updated dataset\n",
    "# data.to_csv('/kaggle/working/data1.csv', index=False)"
   ]
  },
  {
   "cell_type": "code",
   "execution_count": 15,
   "metadata": {
    "execution": {
     "iopub.execute_input": "2024-12-09T21:04:41.366136Z",
     "iopub.status.busy": "2024-12-09T21:04:41.365638Z",
     "iopub.status.idle": "2024-12-09T21:04:41.451018Z",
     "shell.execute_reply": "2024-12-09T21:04:41.449541Z",
     "shell.execute_reply.started": "2024-12-09T21:04:41.366088Z"
    },
    "trusted": true
   },
   "outputs": [
    {
     "name": "stdout",
     "output_type": "stream",
     "text": [
      "210     Okay, that's a fair point. I really should cla...\n",
      "1230    !delta\\n\\nI liked the way you worded that- it’...\n",
      "1246    !delta\\n\\nThis right here is the summary of wh...\n",
      "1265    >It seems to me like even if you personally do...\n",
      "1278    !delta\\n\\na lot of people see \"work\" as their ...\n",
      "1280    I'm not OP but I have the same opinion so !del...\n",
      "1298    >Nowadays it’s way more common for women over ...\n",
      "1305    !delta\\n\\nI have changed my view to \"a big rea...\n",
      "1322    >My wife and I had two.  If we owned our own h...\n",
      "1482    The person you replied to interpreted your sta...\n",
      "Name: body, dtype: object\n"
     ]
    }
   ],
   "source": [
    "import random\n",
    "\n",
    "# Filter rows where the cleaned_body contains \"!delta\"\n",
    "delta_comments = data[data['cleaned_body'].str.contains(r'\\!delta', case=False, na=False)]\n",
    "\n",
    "print(delta_comments.body.head(10))"
   ]
  },
  {
   "cell_type": "code",
   "execution_count": null,
   "metadata": {
    "trusted": true
   },
   "outputs": [],
   "source": []
  },
  {
   "cell_type": "code",
   "execution_count": null,
   "metadata": {
    "trusted": true
   },
   "outputs": [],
   "source": [
    "# NOT\n",
    "\n",
    "import pandas as pd\n",
    "import re\n",
    "import nltk\n",
    "from nltk.corpus import stopwords\n",
    "nltk.download('stopwords', quiet=True)\n",
    "\n",
    "def clean_reddit_comments(data, text_column='cleaned_body'):\n",
    "    \"\"\"\n",
    "    Clean Reddit comments by:\n",
    "    1. Removing URLs\n",
    "    2. Removing Reddit-specific metadata\n",
    "    3. Removing very short or non-meaningful comments\n",
    "    \n",
    "    Parameters:\n",
    "    -----------\n",
    "    data : pandas.DataFrame\n",
    "        Input DataFrame containing comments\n",
    "    text_column : str, optional\n",
    "        Name of the column containing comment text (default: 'cleaned_body')\n",
    "    \n",
    "    Returns:\n",
    "    --------\n",
    "    pandas.DataFrame\n",
    "        Cleaned DataFrame with filtered comments\n",
    "    \"\"\"\n",
    "    # Download stopwords if not already downloaded\n",
    "    try:\n",
    "        stop_words = set(stopwords.words('english'))\n",
    "    except LookupError:\n",
    "        nltk.download('stopwords', quiet=True)\n",
    "        stop_words = set(stopwords.words('english'))\n",
    "    \n",
    "    # Function to clean individual comments\n",
    "    def clean_comment(comment):\n",
    "        if not isinstance(comment, str):\n",
    "            return None\n",
    "        \n",
    "        # Remove URLs\n",
    "        comment = re.sub(r'http\\S+|www\\.\\S+', '', comment)\n",
    "        \n",
    "        # Remove delta confirmation lines while preserving the actual comment\n",
    "        comment = re.sub(r'^Confirmed:.*?to /u/\\w+\\s*', '', comment, flags=re.IGNORECASE)\n",
    "        \n",
    "        # Remove superscript text\n",
    "        comment = re.sub(r'\\^.*', '', comment)\n",
    "        \n",
    "        # Remove !delta and other Reddit-specific markers\n",
    "        comment = re.sub(r'!delta', '', comment)\n",
    "        \n",
    "        # Remove user mentions\n",
    "        comment = re.sub(r'/u/\\w+', '', comment)\n",
    "        \n",
    "        # Remove special characters and extra whitespace\n",
    "        comment = re.sub(r'[^a-zA-Z\\s]', '', comment)\n",
    "        \n",
    "        # Trim and normalize whitespace\n",
    "        comment = ' '.join(comment.split())\n",
    "        \n",
    "        return comment\n",
    "    \n",
    "    # Create a copy of the dataframe to avoid modifying the original\n",
    "    cleaned_data = data.copy()\n",
    "    \n",
    "    # Apply cleaning to the specified column\n",
    "    cleaned_data['cleaned_comments'] = cleaned_data[text_column].apply(clean_comment)\n",
    "    \n",
    "    # Filter out comments that are too short or empty\n",
    "    def is_meaningful_comment(comment):\n",
    "        if not isinstance(comment, str):\n",
    "            return False\n",
    "        \n",
    "        # Split into words\n",
    "        words = comment.split()\n",
    "        \n",
    "        # Check if comment has meaningful content\n",
    "        return (len(words) >= 3 and \n",
    "                any(len(word) > 2 for word in words))\n",
    "    \n",
    "    # Filter the DataFrame\n",
    "    meaningful_comments = cleaned_data[cleaned_data['cleaned_comments'].apply(is_meaningful_comment)].copy()\n",
    "    \n",
    "    # Optional: Reset index\n",
    "    meaningful_comments.reset_index(drop=True, inplace=True)\n",
    "    \n",
    "    # Diagnostic information\n",
    "    print(f\"Original number of comments: {len(data)}\")\n",
    "    print(f\"Number of cleaned meaningful comments: {len(meaningful_comments)}\")\n",
    "    print(f\"Comments removed: {len(data) - len(meaningful_comments)}\")\n",
    "    \n",
    "    return meaningful_comments\n",
    "\n",
    "# Clean the comments\n",
    "cleaned_data = clean_reddit_comments(data)\n",
    "\n",
    "# Optionally, you might want to save the cleaned data\n",
    "# cleaned_data.to_csv('cleaned_comments.csv', index=False)"
   ]
  },
  {
   "cell_type": "code",
   "execution_count": null,
   "metadata": {
    "trusted": true
   },
   "outputs": [],
   "source": [
    "# NOT : \n",
    "\n",
    "import pandas as pd\n",
    "import re\n",
    "import nltk\n",
    "from nltk.corpus import stopwords\n",
    "nltk.download('stopwords', quiet=True)\n",
    "\n",
    "def clean_and_filter_comments(data):\n",
    "    \"\"\"\n",
    "    Clean and filter comments in the DataFrame:\n",
    "    1. Remove URLs and metadata\n",
    "    2. Remove meaningless comments\n",
    "    3. Remove null/empty rows\n",
    "    \n",
    "    Parameters:\n",
    "    -----------\n",
    "    data : pandas.DataFrame\n",
    "        Input DataFrame containing comments\n",
    "    \n",
    "    Returns:\n",
    "    --------\n",
    "    pandas.DataFrame\n",
    "        Cleaned and filtered DataFrame\n",
    "    \"\"\"\n",
    "    # Print initial state\n",
    "    initial_rows = len(data)\n",
    "    initial_null_rows = data['cleaned_body'].isnull().sum()\n",
    "    \n",
    "    # Download stopwords if not already downloaded\n",
    "    try:\n",
    "        stop_words = set(stopwords.words('english'))\n",
    "    except LookupError:\n",
    "        nltk.download('stopwords', quiet=True)\n",
    "        stop_words = set(stopwords.words('english'))\n",
    "    \n",
    "    # Function to clean individual comments\n",
    "    def clean_comment(comment):\n",
    "        if not isinstance(comment, str):\n",
    "            return None\n",
    "        \n",
    "        # Remove URLs\n",
    "        comment = re.sub(r'http\\S+|www\\.\\S+', '', comment)\n",
    "        \n",
    "        # Remove delta confirmation lines while preserving the actual comment\n",
    "        comment = re.sub(r'^Confirmed:.*?to /u/\\w+\\s*', '', comment, flags=re.IGNORECASE)\n",
    "        \n",
    "        # Remove superscript text\n",
    "        comment = re.sub(r'\\^.*', '', comment)\n",
    "        \n",
    "        # Remove !delta and other Reddit-specific markers\n",
    "        comment = re.sub(r'!delta', '', comment)\n",
    "        \n",
    "        # Remove user mentions\n",
    "        comment = re.sub(r'/u/\\w+', '', comment)\n",
    "        \n",
    "        # Remove special characters and extra whitespace\n",
    "        comment = re.sub(r'[^a-zA-Z\\s]', '', comment)\n",
    "        \n",
    "        # Trim and normalize whitespace\n",
    "        comment = ' '.join(comment.split())\n",
    "        \n",
    "        return comment\n",
    "    \n",
    "    # Clean comments\n",
    "    data['cleaned_body'] = data['cleaned_body'].apply(clean_comment)\n",
    "    \n",
    "    # Check if comment is meaningful\n",
    "    def is_meaningful_comment(comment):\n",
    "        if not isinstance(comment, str):\n",
    "            return False\n",
    "        \n",
    "        # Split into words\n",
    "        words = comment.split()\n",
    "        \n",
    "        # Check if comment has meaningful content\n",
    "        return (len(words) >= 3 and \n",
    "                any(len(word) > 2 for word in words))\n",
    "    \n",
    "    # Create masks\n",
    "    meaningful_mask = data['cleaned_body'].apply(is_meaningful_comment)\n",
    "    null_mask = data['cleaned_body'].isnull()\n",
    "    \n",
    "    # Remove meaningless comments and null rows\n",
    "    data.drop(data[~meaningful_mask | null_mask].index, inplace=True)\n",
    "    \n",
    "    # Reset index\n",
    "    data.reset_index(drop=True, inplace=True)\n",
    "    \n",
    "    # Print detailed results\n",
    "    final_rows = len(data)\n",
    "    print(\"Cleaning Statistics:\")\n",
    "    print(f\"Initial number of rows: {initial_rows}\")\n",
    "    print(f\"Initial null rows in cleaned_body: {initial_null_rows}\")\n",
    "    print(f\"Final number of rows: {final_rows}\")\n",
    "    print(f\"Rows removed: {initial_rows - final_rows}\")\n",
    "    print(f\"Percentage of rows removed: {((initial_rows - final_rows)/initial_rows)*100:.2f}%\")\n",
    "    \n",
    "    return data\n",
    "\n",
    "# Apply the cleaning function to your dataframe\n",
    "clean_and_filter_comments(data)"
   ]
  },
  {
   "cell_type": "code",
   "execution_count": 23,
   "metadata": {
    "execution": {
     "iopub.execute_input": "2024-12-09T21:11:40.554357Z",
     "iopub.status.busy": "2024-12-09T21:11:40.552852Z",
     "iopub.status.idle": "2024-12-09T21:11:44.085589Z",
     "shell.execute_reply": "2024-12-09T21:11:44.084044Z",
     "shell.execute_reply.started": "2024-12-09T21:11:40.554290Z"
    },
    "trusted": true
   },
   "outputs": [
    {
     "name": "stdout",
     "output_type": "stream",
     "text": [
      "Cleaning Statistics:\n",
      "Initial number of rows: 53983\n",
      "Initial null rows in cleaned_body: 0\n",
      "Final number of rows: 51209\n",
      "Rows removed: 2774\n",
      "Percentage of rows removed: 5.14%\n",
      "\n",
      "Cleaning Examples:\n",
      "\n",
      "Original Comment:\n",
      "the other aspect of this is most people here are depicting'flood risk'as a binary - either you've got it or you don't. everyone has flood risk. everyone. some more than others, for certain, but we all have it. furthermore, 100 year flood plains are considered the'high risk'areas. you're not allowed to build there and you can't get insurance if you do. however, it's not like 100 year flood plains are static. people build developments, the landscape changes, more road, buildings, and parking lots (known as'hardscaping') expand the flood plain. these things have to be re-assessed frequently and fema doesn't have the money to do it everywhere. people who don't live in a 100 year flood plain as the previous maps suddenly find themselves in a flood plain years later because someone built up an area near them. on top of that, climate change is making 500 and 1,000 year flood plains happen more frequently. that means people who are'no where near'the flood plain are getting flooded because the flood event was so much worse than before. this stuff is a lot more dynamic than people like to admit.\n",
      "\n",
      "Original Comment:\n",
      "you keep making that claim but haven't actually justified it. your evidence is your feelings which is not rational because all of the data says otherwise.\n",
      "\n",
      "Original Comment:\n",
      "there is another simple explanation. the basic premises are simple and the supporting data is sound. humans pour insane amounts of c02 into atmosphere. we put enough into the atmosphere that it is changing the climate of the planet. glaciers are melting and have melted. the arctic ocean has measuraby less ice over it (max in winter and min in summer). global average temperatures and ocean temperatures have rising. corals are bleaching en masse. we are impacting the climate of our planet and it's mostly negative. secondarily we are harming the planet directly as well. we clear-cut forests of old growth for agriculture. we divide most large areas where wildlife could live with roads. there is a pile of garbage floating in the middle of the pacific bugger than some states. the number of species we have forced to extinction is astounding. we have polluted chemically and nuclearly by accident and on purpose. we harm the planet in a lot of ways. some people see this as less of a problem than others. there is much potential debate to be had on principle values of progress vs preservation. there isn't much debate to be had on how much co2 is emitted and how much that impacts the climate. 98% of climate scientists or whatever agree. the experts are in consensus. that's not herd behavior that's just the facts after the experts settled (most of) their debates. the real debate is on whether we actually care about that impact and how much of a problem will actually manifest. climate scientists can't predict everything. they can only predict the climate. perhaps some liberties have been taken. i sympathize that there is too much level of alarmism. honestly we need to just take better care of the planet for the sake of taking better care of the planet. climate scientists can't predict how some species will adapt to changing climates. they can't really predict how humans will react to the change in climate either. all of their worst fears for some prediction made could come through and we could just weather it out. in fact whatever comes we will weather it. droughts will come. people will be relocated and rivers will be diverted. forest fires will burn. people will be relocated and such. corals will bleach; not all of them will die but the total amount of coral will be reduced. biodiversity will decrease. all of the stuff will happen and we will weather it. there won't be some climate apocalypse. there won't be a day where everything changes. floods fires and droughts do that to individuals but that already happens. it's just going to happen more. we will pay the price day by day and year by year by seeing an increase in frequency and severity of many difficulties and challenges already faced by people. so basically we can pay to invest in a better future, or we can take the easy way now and pay the upkeep for it later. there won't be some climate apocalypse. there will just be an increasing upkeep cost which will eventually result in some geopolitical event. water scarcity or whatever might the basis of conflict but it won't be the climate wars not to us. some future star trek civilization might look back and be able to say that. to us it'll just be war or some cold conflict where the most militarized nations just hang around in the countries with all the water. like already have international occupations by nato all over the world. we peacekeep everywhere. you honestly think securing water sources will look much different if large scale open conflict were avoided... you honestly think there are no conflicts in the world over water sources already?!\n",
      "\n",
      "Original Comment:\n",
      "neither is medicine constrained by simplicity. hence it is better if experts manage it, not laypeople.\n",
      "\n",
      "Original Comment:\n",
      "i simply cant decide how specifically applicable your comments are. i personally have no insight into the american culture regarding secondary education (which i assume is what is likely being discussed here), but its normal in the country im from for high school students to be educated in statistical and scientific writing, and as a graduation requirement were made to complete and defend a research paper (which has to be good enough to publish in order for us to pass). certainly a lot of students who underwent that process struggled with it, but in my graduating class and in the preceding and succeeding classes, not a single student failed out because of it. they were made to learn it, and at least partially, did. i dont know if culturally thats an impossible expectation of american children, so if my lack of understanding is there i apologize.\n"
     ]
    }
   ],
   "source": [
    "# run this one\n",
    "\n",
    "\n",
    "\n",
    "import pandas as pd\n",
    "import re\n",
    "import nltk\n",
    "from nltk.corpus import stopwords\n",
    "nltk.download('stopwords', quiet=True)\n",
    "\n",
    "def clean_and_filter_comments(data):\n",
    "    \"\"\"\n",
    "    Clean and filter comments in the DataFrame with improved preservation:\n",
    "    1. Preserve punctuation and apostrophes\n",
    "    2. Keep percentages and numbers\n",
    "    3. Remove URLs and metadata\n",
    "    4. Remove meaningless comments\n",
    "    5. Remove null/empty rows\n",
    "    \n",
    "    Parameters:\n",
    "    -----------\n",
    "    data : pandas.DataFrame\n",
    "        Input DataFrame containing comments\n",
    "    \n",
    "    Returns:\n",
    "    --------\n",
    "    pandas.DataFrame\n",
    "        Cleaned and filtered DataFrame\n",
    "    \"\"\"\n",
    "    # Print initial state\n",
    "    initial_rows = len(data)\n",
    "    initial_null_rows = data['cleaned_body'].isnull().sum()\n",
    "    \n",
    "    # Download stopwords if not already downloaded\n",
    "    try:\n",
    "        stop_words = set(stopwords.words('english'))\n",
    "    except LookupError:\n",
    "        nltk.download('stopwords', quiet=True)\n",
    "        stop_words = set(stopwords.words('english'))\n",
    "    \n",
    "    # Function to clean individual comments\n",
    "    def clean_comment(comment):\n",
    "        if not isinstance(comment, str):\n",
    "            return None\n",
    "        \n",
    "        # Remove URLs\n",
    "        #comment = re.sub(r'http\\S+|www\\.\\S+', '', comment)\n",
    "        \n",
    "        # Remove delta confirmation lines while preserving the actual comment\n",
    "        #comment = re.sub(r'^Confirmed:.*?to /u/\\w+\\s*', '', comment, flags=re.IGNORECASE)\n",
    "        \n",
    "        # Remove superscript text\n",
    "        #comment = re.sub(r'\\^.*', '', comment)\n",
    "        \n",
    "        # Remove !delta and other Reddit-specific markers\n",
    "        #comment = re.sub(r'!delta', '', comment)\n",
    "        \n",
    "        # Remove user mentions\n",
    "        #comment = re.sub(r'/u/\\w+', '', comment)\n",
    "        \n",
    "        # Remove excessive whitespace while preserving essential punctuation\n",
    "        #comment = re.sub(r'\\s+', ' ', comment.strip())\n",
    "\n",
    "\n",
    "        # Comprehensive pattern removal\n",
    "        patterns_to_remove = [\n",
    "        # URLs and web-related patterns\n",
    "        r'http\\S+|www\\.\\S+',  # URLs\n",
    "        r'\\S+\\.(com|org|net|edu|gov)\\S*',  # Domain patterns\n",
    "        \n",
    "        # Reddit-specific patterns\n",
    "        r'^Confirmed:.*?to /u/\\w+\\s*',  # Delta confirmation lines\n",
    "        r'/u/\\w+',  # User mentions\n",
    "        r'!delta',  # Delta markers\n",
    "        r'!Delta',  # Delta markers\n",
    "            \n",
    "        \n",
    "        # Superscript and complex text patterns\n",
    "        r'\\^.*',  # Superscript text\n",
    "        r'\\(.*?/r/\\w+/wiki/user/\\w+.*?\\)',  # Wiki user links\n",
    "        r'delta\\s*system\\s*explained',  # Delta system explanations\n",
    "        r'deltaboards',  # Deltaboards references\n",
    "        \n",
    "        # Parenthetical numeric patterns\n",
    "        r'\\((\\d+)\\)',  # Numeric content in parentheses\n",
    "        r'^[\\(\\)\\d\\s]+$',  # Lines with only parentheses, digits, spaces\n",
    "        \n",
    "        # Special markdown and formatting\n",
    "        r'\\[.*?\\]',  # Remove markdown link text\n",
    "        r'\\(.*?\\)',  # Remove markdown link URLs\n",
    "        ]\n",
    "    \n",
    "        # Apply all removal patterns\n",
    "        for pattern in patterns_to_remove:\n",
    "            comment = re.sub(pattern, '', comment, flags=re.IGNORECASE)\n",
    "            # Remove excessive whitespace while preserving essential punctuation\n",
    "            comment = re.sub(r'\\s+', ' ', comment.strip())\n",
    "            return comment\n",
    "    \n",
    "    # Clean comments\n",
    "    data['cleaned_body'] = data['cleaned_body'].apply(clean_comment)\n",
    "    \n",
    "    # Check if comment is meaningful\n",
    "    def is_meaningful_comment(comment):\n",
    "        if not isinstance(comment, str):\n",
    "            return False\n",
    "        \n",
    "        # Split into words\n",
    "        words = comment.split()\n",
    "        \n",
    "        # Check if comment has meaningful content\n",
    "        return (len(words) >= 3 and \n",
    "                any(len(word.strip('.,!?%')) > 2 for word in words))\n",
    "    \n",
    "    # Create masks\n",
    "    meaningful_mask = data['cleaned_body'].apply(is_meaningful_comment)\n",
    "    null_mask = data['cleaned_body'].isnull()\n",
    "    \n",
    "    # Remove meaningless comments and null rows\n",
    "    data.drop(data[~meaningful_mask | null_mask].index, inplace=True)\n",
    "    \n",
    "    # Reset index\n",
    "    data.reset_index(drop=True, inplace=True)\n",
    "    \n",
    "    # Print detailed results\n",
    "    final_rows = len(data)\n",
    "    print(\"Cleaning Statistics:\")\n",
    "    print(f\"Initial number of rows: {initial_rows}\")\n",
    "    print(f\"Initial null rows in cleaned_body: {initial_null_rows}\")\n",
    "    print(f\"Final number of rows: {final_rows}\")\n",
    "    print(f\"Rows removed: {initial_rows - final_rows}\")\n",
    "    print(f\"Percentage of rows removed: {((initial_rows - final_rows)/initial_rows)*100:.2f}%\")\n",
    "    \n",
    "    return data\n",
    "\n",
    "# Let's also add a function to show some examples of preserved elements\n",
    "def show_cleaning_examples(data, n=5):\n",
    "    \"\"\"\n",
    "    Show examples of how comments were cleaned\n",
    "    \n",
    "    Parameters:\n",
    "    -----------\n",
    "    data : pandas.DataFrame\n",
    "        Cleaned DataFrame\n",
    "    n : int, optional\n",
    "        Number of examples to show\n",
    "    \"\"\"\n",
    "    print(\"\\nCleaning Examples:\")\n",
    "    sample_indices = data.sample(min(n, len(data))).index\n",
    "    \n",
    "    for idx in sample_indices:\n",
    "        print(\"\\nOriginal Comment:\")\n",
    "        print(data.loc[idx, 'cleaned_body'])\n",
    "\n",
    "# Apply the cleaning function to your dataframe\n",
    "clean_and_filter_comments(data)\n",
    "\n",
    "# Optional: Show some cleaning examples\n",
    "show_cleaning_examples(data)"
   ]
  },
  {
   "cell_type": "code",
   "execution_count": null,
   "metadata": {
    "trusted": true
   },
   "outputs": [],
   "source": [
    "# NOT\n",
    "\n",
    "\n",
    "import pandas as pd\n",
    "import re\n",
    "import nltk\n",
    "from nltk.corpus import stopwords\n",
    "nltk.download('stopwords', quiet=True)\n",
    "\n",
    "def clean_and_filter_comments(data):\n",
    "    \"\"\"\n",
    "    Clean and filter comments in the DataFrame with improved preservation:\n",
    "    1. Preserve punctuation and apostrophes\n",
    "    2. Keep percentages and numbers\n",
    "    3. Remove URLs and metadata\n",
    "    4. Remove meaningless comments\n",
    "    5. Remove null/empty rows\n",
    "    \n",
    "    Parameters:\n",
    "    -----------\n",
    "    data : pandas.DataFrame\n",
    "        Input DataFrame containing comments\n",
    "    \n",
    "    Returns:\n",
    "    --------\n",
    "    pandas.DataFrame\n",
    "        Cleaned and filtered DataFrame\n",
    "    \"\"\"\n",
    "    # Print initial state\n",
    "    initial_rows = len(data)\n",
    "    initial_null_rows = data['cleaned_body'].isnull().sum()\n",
    "    \n",
    "    # Download stopwords if not already downloaded\n",
    "    try:\n",
    "        stop_words = set(stopwords.words('english'))\n",
    "    except LookupError:\n",
    "        nltk.download('stopwords', quiet=True)\n",
    "        stop_words = set(stopwords.words('english'))\n",
    "    \n",
    "    # Function to clean individual comments\n",
    "    def clean_comment(comment):\n",
    "        if not isinstance(comment, str):\n",
    "            return None\n",
    "        \n",
    "        # Comprehensive pattern removal\n",
    "        patterns_to_remove = [\n",
    "            # URLs and web-related patterns\n",
    "            r'http\\S+|www\\.\\S+',  # URLs\n",
    "            r'\\S+\\.(com|org|net|edu|gov)\\S*',  # Domain patterns\n",
    "        \n",
    "            # Reddit-specific patterns\n",
    "            r'^Confirmed:.*?to /u/\\w+\\s*',  # Delta confirmation lines\n",
    "            r'/u/\\w+',  # User mentions\n",
    "            r'!delta',  # Delta markers\n",
    "            r'!Delta',  # Delta markers\n",
    "                \n",
    "            # Superscript and complex text patterns\n",
    "            r'\\^.*',  # Superscript text\n",
    "            r'\\(.*?/r/\\w+/wiki/user/\\w+.*?\\)',  # Wiki user links\n",
    "            r'delta\\s*system\\s*explained',  # Delta system explanations\n",
    "            r'deltaboards',  # Deltaboards references\n",
    "        \n",
    "            # Parenthetical numeric patterns\n",
    "            r'\\((\\d+)\\)',  # Numeric content in parentheses\n",
    "            r'^[\\(\\)\\d\\s]+$',  # Lines with only parentheses, digits, spaces\n",
    "            \n",
    "            # Special markdown and formatting\n",
    "            r'\\[.*?\\]',  # Remove markdown link text\n",
    "            r'\\(.*?\\)',  # Remove markdown link URLs\n",
    "        ]  \n",
    "        \n",
    "        # Apply all removal patterns\n",
    "        for pattern in patterns_to_remove:\n",
    "            comment = re.sub(pattern, '', comment, flags=re.IGNORECASE)\n",
    "        \n",
    "        # Remove excessive whitespace while preserving essential punctuation\n",
    "        comment = re.sub(r'\\s+', ' ', comment.strip())\n",
    "\n",
    "        return comment\n",
    "    \n",
    "    # Clean comments\n",
    "    data['cleaned_body'] = data['cleaned_body'].apply(clean_comment)\n",
    "    \n",
    "    # Check if comment is meaningful\n",
    "    def is_meaningful_comment(comment):\n",
    "        if not isinstance(comment, str):\n",
    "            return False\n",
    "        # Remove comments with non-informative patterns (garbled text)\n",
    "        if re.match(r'^[-.,()\\s]*$', comment) or re.match(r'^[-\\w\\d\\s().,/]+$', comment.strip()):\n",
    "            return False\n",
    "        \n",
    "        # Split into words\n",
    "        words = comment.split()\n",
    "        \n",
    "        # Check if comment has meaningful content\n",
    "        return (len(words) >= 3 and \n",
    "                any(len(word.strip('.,!?%')) > 2 for word in words))\n",
    "        \n",
    "\n",
    "    \n",
    "\n",
    "    \n",
    "    \n",
    "    # Create masks\n",
    "    meaningful_mask = data['cleaned_body'].apply(is_meaningful_comment)\n",
    "    null_mask = data['cleaned_body'].isnull()\n",
    "    \n",
    "    # Remove meaningless comments and null rows\n",
    "    data.drop(data[~meaningful_mask | null_mask].index, inplace=True)\n",
    "    \n",
    "    # Reset index\n",
    "    data.reset_index(drop=True, inplace=True)\n",
    "    \n",
    "    # Print detailed results\n",
    "    final_rows = len(data)\n",
    "    print(\"Cleaning Statistics:\")\n",
    "    print(f\"Initial number of rows: {initial_rows}\")\n",
    "    print(f\"Initial null rows in cleaned_body: {initial_null_rows}\")\n",
    "    print(f\"Final number of rows: {final_rows}\")\n",
    "    print(f\"Rows removed: {initial_rows - final_rows}\")\n",
    "    print(f\"Percentage of rows removed: {((initial_rows - final_rows)/initial_rows)*100:.2f}%\")\n",
    "    \n",
    "    return data\n",
    "\n",
    "# Function to show some examples of preserved elements\n",
    "def show_cleaning_examples(data, n=5):\n",
    "    \"\"\"\n",
    "    Show examples of how comments were cleaned\n",
    "    \n",
    "    Parameters:\n",
    "    -----------\n",
    "    data : pandas.DataFrame\n",
    "        Cleaned DataFrame\n",
    "    n : int, optional\n",
    "        Number of examples to show\n",
    "    \"\"\"\n",
    "    print(\"\\nCleaning Examples:\")\n",
    "    sample_indices = data.sample(min(n, len(data))).index\n",
    "    \n",
    "    for idx in sample_indices:\n",
    "        print(\"\\nOriginal Comment:\")\n",
    "        print(data.loc[idx, 'cleaned_body'])\n",
    "\n",
    "# Apply the cleaning function to your dataframe\n",
    "clean_and_filter_comments(data)\n",
    "\n",
    "# Optional: Show some cleaning examples\n",
    "show_cleaning_examples(data)\n"
   ]
  },
  {
   "cell_type": "code",
   "execution_count": 24,
   "metadata": {
    "execution": {
     "iopub.execute_input": "2024-12-09T21:11:56.155558Z",
     "iopub.status.busy": "2024-12-09T21:11:56.155168Z",
     "iopub.status.idle": "2024-12-09T21:11:56.168096Z",
     "shell.execute_reply": "2024-12-09T21:11:56.166879Z",
     "shell.execute_reply.started": "2024-12-09T21:11:56.155524Z"
    },
    "trusted": true
   },
   "outputs": [
    {
     "name": "stdout",
     "output_type": "stream",
     "text": [
      "Number of comments with delta: 910\n",
      "51209\n"
     ]
    }
   ],
   "source": [
    "# Filter for comments with a delta after cleaned_body is added\n",
    "delta_comments = data[data['has_delta'] == 1]\n",
    "print(f\"Number of comments with delta: {len(delta_comments)}\")\n",
    "\n",
    "# \n",
    "print(len(data))"
   ]
  },
  {
   "cell_type": "code",
   "execution_count": 25,
   "metadata": {
    "execution": {
     "iopub.execute_input": "2024-12-09T21:12:19.842680Z",
     "iopub.status.busy": "2024-12-09T21:12:19.842252Z",
     "iopub.status.idle": "2024-12-09T21:12:19.853622Z",
     "shell.execute_reply": "2024-12-09T21:12:19.852297Z",
     "shell.execute_reply.started": "2024-12-09T21:12:19.842647Z"
    },
    "trusted": true
   },
   "outputs": [
    {
     "data": {
      "text/plain": [
       "202     okay, that's a fair point. i really should cla...\n",
       "1162    !delta i liked the way you worded that- its no...\n",
       "1177    !delta this right here is the summary of what ...\n",
       "1193    it seems to me like even if you personally don...\n",
       "1205    !delta a lot of people see work as their reaso...\n",
       "1207    i'm not op but i have the same opinion so !del...\n",
       "1222    nowadays its way more common for women over 35...\n",
       "1223    confirmed: 1 delta awarded to /u/dollarfrom15c...\n",
       "1229    !delta i have changed my view to a big reason ...\n",
       "1244    my wife and i had two. if we owned our own hom...\n",
       "1263    confirmed: 1 delta awarded to /u/dollarfrom15c...\n",
       "1266    confirmed: 1 delta awarded to /u/exis007 (88(/...\n",
       "1288    confirmed: 1 delta awarded to /u/nylockian (3(...\n",
       "1293    confirmed: 1 delta awarded to /u/nylockian (1(...\n",
       "1325    confirmed: 1 delta awarded to /u/lordkristivas...\n",
       "1394    the person you replied to interpreted your sta...\n",
       "1758    !delta best argument but still kinda disagree....\n",
       "1774    !delta your first argument has legs the other ...\n",
       "2129    confirmed: 1 delta awarded to /u/iaminthefores...\n",
       "2138    !delta you're right. my viewpoints would imple...\n",
       "2139    username checks out lol. !delta it's right. sc...\n",
       "2142    !delta you're right, it's a complex topic. it'...\n",
       "2147    !delta you're right. it's a problem. we have t...\n",
       "2158    climate change is a very general topic with no...\n",
       "2164    !delta it's a complex topic. we have to do mor...\n",
       "2172    !delta you're right. we have to give more info...\n",
       "2176    !delta seems like i didn't know enough about c...\n",
       "2190    confirmed: 1 delta awarded to /u/denyscience (...\n",
       "2193    confirmed: 1 delta awarded to /u/youdamanindah...\n",
       "2197    confirmed: 1 delta awarded to /u/cacafuego (10...\n",
       "Name: cleaned_body, dtype: object"
      ]
     },
     "execution_count": 25,
     "metadata": {},
     "output_type": "execute_result"
    }
   ],
   "source": [
    "delta_comments['cleaned_body'].head(30)"
   ]
  },
  {
   "cell_type": "code",
   "execution_count": 26,
   "metadata": {
    "execution": {
     "iopub.execute_input": "2024-12-09T21:12:20.081115Z",
     "iopub.status.busy": "2024-12-09T21:12:20.080654Z",
     "iopub.status.idle": "2024-12-09T21:12:20.088232Z",
     "shell.execute_reply": "2024-12-09T21:12:20.086774Z",
     "shell.execute_reply.started": "2024-12-09T21:12:20.081071Z"
    },
    "trusted": true
   },
   "outputs": [
    {
     "name": "stdout",
     "output_type": "stream",
     "text": [
      "Please read [the last paragraph](https://earthobservatory.nasa.gov/world-of-change/global-temperatures) and then explain how the temperature data isn't representative of the globe. Keep in mind other research entities have their own temperature records and have independently verified NASA's findings.\n",
      "\n",
      "Did you seriously think you, a random layperson, identified a flaw in the research that no one else noticed, and that flaw only required a rudimentary understanding of random sampling? I have to wonder if this variant of climate denial is just bad Mary Sue fan fiction.\n"
     ]
    }
   ],
   "source": [
    "print(data['body'][2245])"
   ]
  },
  {
   "cell_type": "code",
   "execution_count": 27,
   "metadata": {
    "execution": {
     "iopub.execute_input": "2024-12-09T21:12:22.693139Z",
     "iopub.status.busy": "2024-12-09T21:12:22.692738Z",
     "iopub.status.idle": "2024-12-09T21:12:22.699414Z",
     "shell.execute_reply": "2024-12-09T21:12:22.698151Z",
     "shell.execute_reply.started": "2024-12-09T21:12:22.693107Z"
    },
    "trusted": true
   },
   "outputs": [
    {
     "name": "stdout",
     "output_type": "stream",
     "text": [
      "please read the last paragraph( and then explain how the temperature data isn't representative of the globe. keep in mind other research entities have their own temperature records and have independently verified nasa's findings. did you seriously think you, a random layperson, identified a flaw in the research that no one else noticed, and that flaw only required a rudimentary understanding of random sampling? i have to wonder if this variant of climate denial is just bad mary sue fan fiction.\n"
     ]
    }
   ],
   "source": [
    "print(data['cleaned_body'][2245])"
   ]
  },
  {
   "cell_type": "code",
   "execution_count": 28,
   "metadata": {
    "execution": {
     "iopub.execute_input": "2024-12-09T21:12:23.079791Z",
     "iopub.status.busy": "2024-12-09T21:12:23.079399Z",
     "iopub.status.idle": "2024-12-09T21:12:23.086780Z",
     "shell.execute_reply": "2024-12-09T21:12:23.085138Z",
     "shell.execute_reply.started": "2024-12-09T21:12:23.079760Z"
    },
    "trusted": true
   },
   "outputs": [
    {
     "name": "stdout",
     "output_type": "stream",
     "text": [
      "When you ask the average conservative why they don't seem to take climate change seriously, you often hear something along the lines of \"well, they've all told us that the world would end in 10 years, and it didn't, and since that didn't happen, my trust is now completely broken and I feel entitled not to have to listen to 'experts' anymore.\"\n",
      "\n",
      "It's this bit about \"the experts have said the world will end in 10 years\" that I find highly suspicious, and it is my view that this information likely came from a NON-expert, in a casual context, without citation of actual evidence and research. I think the average conservative just heard one of their friends, someone who isn't a scientist and doesn't have a good grasp of the data or even really know how to explain the science behind climate change, say something like \"dude we gotta stop driving cars or the world will be over in 10 years\" and they just took that and ran with it.\n",
      "\n",
      "Basically I attribute this to shoddy and irresponsible research on the part of conservatives. Did you verify that these claims came from *actual scientists*? Did these claims come from respected institutions or at least a person with decent credentials, someone with a degree better than a BS and hopefully employed with the likes of, say, NOAA? Because I doubt it.\n",
      "\n",
      "When conservatives say they heard these claims, I just straight-up do not believe that they came from a credible source. I've followed what respected scientists and respected institutions have said about climate change for most of my 38 years of life, and never have I heard them say anything along the lines of the strawmen that conservatives regularly state, things like \"the world will LITERALLY END in X years\" or putting world-ending timelines on a scale of something like a couple of decades. The very foundation of your argument is built on a false premise at best and a complete lie at worst.\n",
      "\n",
      "Keep in mind, respected scientists HAVE said things along the lines of \"in 10-20 years, we could reach a *point of no return*\", which is NOT the same as saying \"the world is, at this point in time, literally over and done with\", but it IS saying that we've reached a point where it will no longer be possible to save ourselves. We can reach a \"point of no return\" in a timeline of 10-20 years and still have another 100-200 years until the consequences of that become so severe that people start to die simply because of how inhospitable the planet is, but clearly that's saying something very different, right?\n",
      "\n",
      "Conservatives, convince me that you've ever actually been told this doom-and-gloom from a RESPECTED source and I'll take this seriously. But it is currently my view that anyone parroting this line of \"oh but they've told us the WORLD WILL END IN 10-20 YEARS\" is just parroting bullshit that was never said by an expert and is ultimately just a strawman you've conjured up to excuse yourselves from having to take climate change seriously. CMV.\n"
     ]
    }
   ],
   "source": [
    "print(data['text'][3])\n"
   ]
  },
  {
   "cell_type": "code",
   "execution_count": 29,
   "metadata": {
    "execution": {
     "iopub.execute_input": "2024-12-09T21:12:25.709871Z",
     "iopub.status.busy": "2024-12-09T21:12:25.709389Z",
     "iopub.status.idle": "2024-12-09T21:12:25.716063Z",
     "shell.execute_reply": "2024-12-09T21:12:25.714780Z",
     "shell.execute_reply.started": "2024-12-09T21:12:25.709826Z"
    },
    "trusted": true
   },
   "outputs": [
    {
     "name": "stdout",
     "output_type": "stream",
     "text": [
      "I've seen the argument of veganism that the meat industry is extremely polluting, however it always seemed like a poor argument. The polluting nature of the meat industry is not an argument against the meat industry itself but rather against the industry's nature of exploitative expansion. \n",
      "\n",
      "The fact that meat is produced for the purpose of profit maximization and not for planned human consumption is the key difference between humans consuming meat in prehistoric or early times vs. now. This implies that the problem is not the human tendency of eating meat itself, but rather the way it is being produced and expanding. \n",
      "\n",
      "It feels very similar to the whole Reduce, Reuse, Recycle thing. Individual actions of recycling harmful waste does nearly nothing unless the source of said harmful waste isn't mass produced in a planned and advanced manner. \n",
      "\n",
      "Instead of controlling this profit based production of animal products, corporations will try to push the narrative of veganism down the throats of the populace to give them the illusion of a vegan world, which seems nearly impossible to achieve when considering the basic facets and evolution of human diet. This allows them to wash their hands of their responsibility. \n",
      "\n",
      "TL:DR; Corporations try to push a vegan utopia to wash their hands of responsibility and place blame on the consumers who simply eat a naturally formed diet of theirs. \n"
     ]
    }
   ],
   "source": [
    "print(data['text'][652])"
   ]
  },
  {
   "cell_type": "code",
   "execution_count": 30,
   "metadata": {
    "execution": {
     "iopub.execute_input": "2024-12-09T21:12:27.001580Z",
     "iopub.status.busy": "2024-12-09T21:12:27.001133Z",
     "iopub.status.idle": "2024-12-09T21:12:27.007911Z",
     "shell.execute_reply": "2024-12-09T21:12:27.006546Z",
     "shell.execute_reply.started": "2024-12-09T21:12:27.001544Z"
    },
    "trusted": true
   },
   "outputs": [
    {
     "name": "stdout",
     "output_type": "stream",
     "text": [
      "i only say americans because i am one and dont know enough about the culture outside america enough to make judgements. climate change will cause terrible environmental changes that will cause millions to die/suffer from flooding, food shortages, etc. this will come to head in the coming decades. this is a fact. to solve climate change we need to emit less co2 in the atmosphere. we can do that in america: 1. eliminating single use plastics: -buying food at refillerys -using glass and aluminum drinks -companies will be fined/stoped for using wasteful plastic packaging -right to repair will be law 2. banning the use private vehicles: -every has to take the bus, train, or bike (unless they have great reason not to) -the rich cant use private planes -banning new gas vehicles 3. nationalizing, regulating, rationing public utilities: -utilities will be free but rationed depending on need -coal and natural gas power plants will only be used if renewables cant (edit: im obviously down for nuclear) -anyone using too much ultilities will be fined/stopped -helping other countries under americas influence do the same -banning single family detached housing -banning new housing too far outside a urban center doing this in america by itself will mitigate climate change greatly but most americans are too self-involved to give up cars and single family houses. edit: -banning new single family detached housing -for private vehicles small scale electric recreation vehicles are allowed edit 2: wow, this post got a lot of attention. most people got caught up in the car thing. i specifically said unless you have a great reason. i didnt say we are rounding up everyones cars and destroying them. just the idea of using public transportation made many people visceral angry. (i also dont appreciate the insults in my messages) that proved my point, many people wouldnt change for the good of society. these measures if taken seriously would have to be done in like 10 year timeline. but for them to be done at all some people will have to sacrifice their time and comfort. most people rather say climate change isnt real or china is the problem. before we criticize other countries lets look at our selves. i understand we need regulations to fully do these things but why would regulations come if it looks like nobody cares. also not all these things have to be done right away at one time. long story short the sentiment i got from everyone is: fuck you, im not changing it makes my life harder instead of those solutions are drastic but im going to start making changes so we start a movement that starts mitigating the worse effects of climate change and pollution. and that was my problem p.s. many people also mentioned we need to limit our use of meat, i agree.\n"
     ]
    }
   ],
   "source": [
    "print(data['cleaned_text'][2000])"
   ]
  },
  {
   "cell_type": "code",
   "execution_count": 31,
   "metadata": {
    "execution": {
     "iopub.execute_input": "2024-12-09T21:12:29.048585Z",
     "iopub.status.busy": "2024-12-09T21:12:29.047099Z",
     "iopub.status.idle": "2024-12-09T21:12:29.152252Z",
     "shell.execute_reply": "2024-12-09T21:12:29.151114Z",
     "shell.execute_reply.started": "2024-12-09T21:12:29.048538Z"
    },
    "trusted": true
   },
   "outputs": [
    {
     "name": "stdout",
     "output_type": "stream",
     "text": [
      "[nltk_data] Downloading package punkt to /usr/share/nltk_data...\n",
      "[nltk_data]   Package punkt is already up-to-date!\n"
     ]
    }
   ],
   "source": [
    "import nltk\n",
    "nltk.download('punkt')\n",
    "from nltk.tokenize import sent_tokenize\n"
   ]
  },
  {
   "cell_type": "code",
   "execution_count": 32,
   "metadata": {
    "execution": {
     "iopub.execute_input": "2024-12-09T21:12:37.700043Z",
     "iopub.status.busy": "2024-12-09T21:12:37.698824Z",
     "iopub.status.idle": "2024-12-09T21:14:10.587030Z",
     "shell.execute_reply": "2024-12-09T21:14:10.585948Z",
     "shell.execute_reply.started": "2024-12-09T21:12:37.699952Z"
    },
    "trusted": true
   },
   "outputs": [
    {
     "name": "stdout",
     "output_type": "stream",
     "text": [
      "                                        cleaned_body  \\\n",
      "0  this post has been locked due to a large numbe...   \n",
      "1  i'll share an anecdote. i'm well read enough t...   \n",
      "2  please forgive not having links. i wrote this ...   \n",
      "3  youre not quite thinking about this the right ...   \n",
      "4  how do you tell the difference between actual ...   \n",
      "\n",
      "   num_sentences_cleaned_body  \n",
      "0                           1  \n",
      "1                          15  \n",
      "2                          21  \n",
      "3                          15  \n",
      "4                           1  \n",
      "                                        cleaned_text  \\\n",
      "0  when you ask the average conservative why they...   \n",
      "1  when you ask the average conservative why they...   \n",
      "2  when you ask the average conservative why they...   \n",
      "3  when you ask the average conservative why they...   \n",
      "4  when you ask the average conservative why they...   \n",
      "\n",
      "   num_sentences_cleaned_text  \n",
      "0                          15  \n",
      "1                          15  \n",
      "2                          15  \n",
      "3                          15  \n",
      "4                          15  \n",
      "                                                body  num_sentences_body\n",
      "0  This post has been locked due to a large numbe...                   1\n",
      "1  I'll share an anecdote. I'm well read enough t...                  17\n",
      "2  Please forgive not having links. I wrote this ...                  14\n",
      "3  You’re not quite thinking about this the right...                  15\n",
      "4  [https://cei.org/blog/wrong-again-50-years-of-...                   1\n"
     ]
    }
   ],
   "source": [
    "from nltk.tokenize import sent_tokenize\n",
    "\n",
    "# Function to count sentences\n",
    "def count_sentences(text):\n",
    "    if pd.isna(text):  # Handle missing values\n",
    "        return 0\n",
    "    return len(sent_tokenize(text))\n",
    "\n",
    "# Add num_sentences_body and num_sentences_text columns\n",
    "data['num_sentences_cleaned_body'] = data['cleaned_body'].apply(count_sentences)\n",
    "data['num_sentences_cleaned_text'] = data['cleaned_text'].apply(count_sentences)\n",
    "\n",
    "data['num_sentences_body'] = data['body'].apply(count_sentences)\n",
    "data['num_sentences_text'] = data['text'].apply(count_sentences)\n",
    "\n",
    "# Verify the result\n",
    "print(data[['cleaned_body', 'num_sentences_cleaned_body']].head())\n",
    "print(data[['cleaned_text', 'num_sentences_cleaned_text']].head())\n",
    "\n",
    "\n",
    "# Verify the result for body\n",
    "print(data[['body', 'num_sentences_body']].head())"
   ]
  },
  {
   "cell_type": "code",
   "execution_count": 33,
   "metadata": {
    "execution": {
     "iopub.execute_input": "2024-12-09T21:14:10.589843Z",
     "iopub.status.busy": "2024-12-09T21:14:10.589362Z",
     "iopub.status.idle": "2024-12-09T21:14:10.606664Z",
     "shell.execute_reply": "2024-12-09T21:14:10.605479Z",
     "shell.execute_reply.started": "2024-12-09T21:14:10.589796Z"
    },
    "trusted": true
   },
   "outputs": [
    {
     "name": "stdout",
     "output_type": "stream",
     "text": [
      "Maximum number of sentences: 113\n",
      "------------------------------\n",
      "Maximum number of sentences: 115\n"
     ]
    }
   ],
   "source": [
    "# Find the maximum number of sentences\n",
    "max_sentences_cleaned_body = max(data['num_sentences_cleaned_body'])\n",
    "max_sentec_body= max(data['num_sentences_body'])\n",
    "\n",
    "# Print the maximum number of sentences\n",
    "print(f\"Maximum number of sentences: {max_sentences_cleaned_body}\")\n",
    "print(\"------------------------------\")\n",
    "print(f\"Maximum number of sentences: {max_sentec_body}\")\n"
   ]
  },
  {
   "cell_type": "code",
   "execution_count": 34,
   "metadata": {
    "execution": {
     "iopub.execute_input": "2024-12-09T21:14:10.608220Z",
     "iopub.status.busy": "2024-12-09T21:14:10.607862Z",
     "iopub.status.idle": "2024-12-09T21:14:10.618509Z",
     "shell.execute_reply": "2024-12-09T21:14:10.617372Z",
     "shell.execute_reply.started": "2024-12-09T21:14:10.608166Z"
    },
    "trusted": true
   },
   "outputs": [
    {
     "name": "stdout",
     "output_type": "stream",
     "text": [
      "Comments with the maximum number of sentences:\n",
      "                                                    body  num_sentences_body\n",
      "13610  > The most conservative analyses of species ex...                 115\n"
     ]
    }
   ],
   "source": [
    "# Get the row(s) where the maximum number of sentences occur\n",
    "max_sentence_rows = data[data['num_sentences_body'] == max_sentec_body]\n",
    "\n",
    "\n",
    "# Print the corresponding comments\n",
    "print(\"Comments with the maximum number of sentences:\")\n",
    "print(max_sentence_rows[['body', 'num_sentences_body']])"
   ]
  },
  {
   "cell_type": "code",
   "execution_count": 35,
   "metadata": {
    "execution": {
     "iopub.execute_input": "2024-12-09T21:14:10.620833Z",
     "iopub.status.busy": "2024-12-09T21:14:10.620532Z",
     "iopub.status.idle": "2024-12-09T21:14:10.629899Z",
     "shell.execute_reply": "2024-12-09T21:14:10.628788Z",
     "shell.execute_reply.started": "2024-12-09T21:14:10.620805Z"
    },
    "trusted": true
   },
   "outputs": [
    {
     "name": "stdout",
     "output_type": "stream",
     "text": [
      "the most conservative analyses of species extinction find an extinction rate of 100x background level. some of them are as high as 1000 background level. you can go review the methods for evaluating biocapacity and propose better measures. like all trends, we measure them with data. good luck finding data with positive implications for our ecology. this would be useful if this was historically constant - it isn't. there have been several mass extinction events. not only that, there have been several significant extinction events that didn't rate'mass'status. you are not understanding variability at all. ce ages and geological history occur over tens of thousands of years, not a few decades. the mere rate of increase is evident of a catastrophic event like a comet hitting earth. there is an expected rate of extinctions, that's why our measures compart current extinctions rates to background extinction rates. furthermore, this is just further evidence to my point. you have to compare what damage we've done in just a few years to tens of thousands of years of damage to even stake your claim. there is no reason to believe change is'gradual'. you are making the assumption that there is a steady rate of change and that simply is not true. changes happen slowly and abruptly - for many different reasons. you are arguing for a'static'earth based on recent and recent is really generous, information. if by all the time you mean slowly tens of thousands of years. actually, no. i mean all time scales and at all size scales. habitats change frequently. the stupid simplest example i can give is a hay field/meadow allowed to revert to woodland. takes years to happen - not thousands of years. you have this mistaken concept that there is'one earth'that should be a specific way. that just does not match history, geological history, nor reality. so you are claiming that the notion that resources are finite within an ecosystem is bunk? that's all biocapacity is. it is a measure of how many resources earth has, has quickly natural resources replenish, and how quickly we use them. a positive biocapacity means we use resources slower than earth replenishes them. you are welcome to dispute the laws of physics. the assumptions put into your concept are'bunk'. resources may be finite, but trying to claim a specific'capacity'is nothing but a politically motivated idea for what you think should be the case. i can cite the paper that listed the carrying capacity of the earth at a billion-billion people based on thermodynamics. what you are trying to refer to is'carrying capacity'and there is not a good means to define that for humans since we can readily transport resources across vast distances and we can actively modify an environment to suit us. restoration of habitats. repopulation of species. decarbonization. restoration to what? why is that the'correct'habtitat? seriously. why is a specific choice better than another? decarbonization tells me what i need to know about your'politics'. fun fact - co2 levels are lower now than they have been the planets geologic history. why is it needed to'lower'them? explain to me why exactly this value you want is more correct than a previous level in the planets history? you should be able to do this if you are demanding it. quite the opposite. the problem is that our position in the ecosystem is unbalanced because we have broken free of the state of nature. the planet is the way it is. we either work within the physical limitations of that system or not. we have chosen not to. this is a total line of bull. we are part of nature and completely incapable of'breaking nature'. everything we do is'natural'. good, bad, otherwise, we are part of the planets ecosystems. yes, but we won't. humans have proven to be one of the most adaptable animal yet to exist on the planet. probably the most adaptable if you limit the list to larger creatures. there is little reason to believe we wouldnt survive. no way. it would have been catastrophic for europe and caused immense damage to humanity. plants and then animals would relatively quickly reclaim those places as we saw in the containment zone. where human activity ceases, ecological recovery occurs. i don't think you understand just how dangerous the event was and what could have happended should that reactor have melted down through the containment and exploded when it hit groundwater. as for recovery - if you include dna damage - sure. but if it actually went to the'worst case'possible, it would have been a mass extinction event for much of the world. a. says the one who is disputing the laws of physics. b. you are literally disputing facts. chernobyl ecosystems'remarkably healthy what does it mean to your credibility when you dispute demonstrable facts without evidence? saying something does not make it true. as for remarkably healthy - sure. never mind the dna damage and the fact humans won't be able to live there for tens of thousands of years. that eating anything grown there is injesting poison. yea - i am the one who is denying physics........ people do all the time. parents have children. children care for their parents. people pay taxes. people live and thrive in systems that limit their quality of life. you are just not willing to make sacrifices for the future of your species and all species. you are entitled to take that position, you should just be open about it. no - people don't give up quality of life all the time. having children is seen as improving quality of thier lives. you are nuts if you think people are going to merely accept your demands. you don't even need to take my word for it. see how far the'green'movement has gotten worldwide with its pet projects. if it is a quality if life issue - it doesn't happen. capitalism had caused the greatest loss of species in all of human existence, a rate of loss comparable to when a meteor destroyed the dinosaurs. we literally call this the sixth extinction. the 5th was the cretaceous-tertiary extinction. you cannot attribute that to captitalism when some of the worst ecological offenders are communist countries. although - they did result in something like 100 million dead humans last century so that could be twisted into some warped idea of good thing if you are a eco-zealot. what do you think the quality of life is on a planet with dead oceans, little arable land, and a global center that indefinitely exceeds the wet bulb temperature? i don't care what ideology underlies the drive for sustainability. it's just clear that the need of capitalism for unlimited growth is the cause of the problem. capitalism and sustainability are simply incompatible. a society cannot grow indefinitely when resources are limited. it must achieve a state of balance with its ecosystem. every collapse of a civilization was caused by this simple oversight. ours will inevitably follow if we do not learn from history or science. i've heard it all before. deadlines that come an go without any it every happening. chicken little - the sky is not falling. we are not on the verge of all dying off. if you want the best solution to solving complex large scale problems - it has been capitalism. a system that works on the underlying human nature. that is what will succeed. your desire to fight human nature is a fools errand - proven time and again to fail in the real world. i notice how you never acknowledge this. you don't have a viable option to suggest. you just want to rail against the as of yet - best form of economic system yet developed. do yourself a favor - get a little context and stop believing the zealots who are preaching doom/gloom and the end of the world. you'll be much happier in the long run.\n"
     ]
    }
   ],
   "source": [
    "print(data['cleaned_body'][13610])"
   ]
  },
  {
   "cell_type": "code",
   "execution_count": 36,
   "metadata": {
    "execution": {
     "iopub.execute_input": "2024-12-09T21:14:10.631805Z",
     "iopub.status.busy": "2024-12-09T21:14:10.631330Z",
     "iopub.status.idle": "2024-12-09T21:14:10.646476Z",
     "shell.execute_reply": "2024-12-09T21:14:10.645367Z",
     "shell.execute_reply.started": "2024-12-09T21:14:10.631759Z"
    },
    "trusted": true
   },
   "outputs": [
    {
     "name": "stdout",
     "output_type": "stream",
     "text": [
      "> The most conservative analyses of species extinction find an extinction rate of 100x background level. Some of them are as high as 1000 background level. You can go review the methods for evaluating biocapacity and propose better measures. Like all trends, we measure them with data. Good luck finding data with positive implications for our ecology.\n",
      "\n",
      "This would be useful if this was historically constant - it isn't. There have been several mass extinction events. Not only that, there have been several significant extinction events that didn't rate 'mass' status.\n",
      "\n",
      "You are not understanding variability at all.\n",
      "\n",
      ">ce ages and geological history occur over tens of thousands of years, not a few decades. The mere rate of increase is evident of a catastrophic event like a comet hitting Earth. There is an expected rate of extinctions, that's why our measures compart current extinctions rates to background extinction rates. Furthermore, this is just further evidence to my point. You have to compare what damage we've done in just a few years to tens of thousands of years of damage to even stake your claim.\n",
      "\n",
      "There is no reason to believe change is 'gradual'. You are making the assumption that there is a steady rate of change and that simply is not true. Changes happen slowly and abruptly - for many different reasons. You are arguing for a 'static' earth based on recent and recent is really generous, information. \n",
      "\n",
      ">If by \"all the time\" you mean \"slowly tens of thousands of years.\"\n",
      "\n",
      "Actually, no. I mean all time scales and at all size scales. Habitats change frequently. The stupid simplest example I can give is a hay field/meadow allowed to revert to woodland. Takes years to happen - not thousands of years. You have this mistaken concept that there is 'one earth' that should be a specific way. \n",
      "\n",
      "That just does not match history, geological history, nor reality.\n",
      "\n",
      ">So you are claiming that the notion that resources are finite within an ecosystem is bunk? That's all biocapacity is. It is a measure of how many resources Earth has, has quickly natural resources replenish, and how quickly we use them. A positive biocapacity means we use resources slower than Earth replenishes them. You are welcome to dispute the laws of physics.\n",
      "\n",
      "The assumptions put into your concept are 'bunk'. Resources may be finite, but trying to claim a specific 'capacity' is nothing but a politically motivated idea for what you think should be the case. I can cite the paper that listed the carrying capacity of the earth at a billion-billion people based on thermodynamics. \n",
      "\n",
      "What you are trying to refer to is 'carrying capacity' and there is not a good means to define that for humans since we can readily transport resources across vast distances and we can actively modify an environment to suit us. \n",
      "\n",
      ">Restoration of habitats. Repopulation of species. Decarbonization.\n",
      "\n",
      "Restoration to what? Why is that the 'correct' habtitat? Seriously. Why is a specific choice better than another?\n",
      "\n",
      "Decarbonization tells me what I need to know about your 'politics'. Fun fact - CO2 levels are lower now than they have been the planets geologic history. Why is it needed to 'lower' them? Explain to me why exactly this value you want is more correct than a previous level in the planets history?\n",
      "\n",
      "You should be able to do this if you are demanding it.\n",
      "\n",
      ">Quite the opposite. The problem is that our position in the ecosystem is unbalanced because we have broken free of the state of nature. The planet is the way it is. We either work within the physical limitations of that system or not. We have chosen not to.\n",
      "\n",
      "This is a total line of bull. We are PART of nature and completely incapable of 'breaking nature'. Everything we do is 'natural'. Good, bad, otherwise, we are part of the planets ecosystems.\n",
      "\n",
      ">Yes, but we won't.\n",
      "\n",
      "Humans have proven to be one of the most adaptable animal yet to exist on the planet. Probably the most adaptable if you limit the list to larger creatures. There is little reason to believe we wouldnt survive.\n",
      "\n",
      ">No way. It would have been catastrophic for Europe and caused immense damage to humanity. Plants and then animals would relatively quickly reclaim those places as we saw in the containment zone. Where human activity ceases, ecological recovery occurs.\n",
      "\n",
      "I don't think you understand just how dangerous the event was and what could have happended should that reactor have melted down through the containment and exploded when it hit groundwater. \n",
      "\n",
      "As for recovery - if you include DNA damage - sure. But if it actually went to the 'worst case' possible, it would have been a mass extinction event for much of the world. \n",
      "\n",
      ">A. Says the one who is disputing the laws of physics.\n",
      ">\n",
      ">B. You are literally disputing facts. Chernobyl ecosystems 'remarkably healthy What does it mean to your credibility when you dispute demonstrable facts without evidence?\n",
      "\n",
      "Saying something does not make it true. As for remarkably healthy - sure. Never mind the DNA damage and the fact humans won't be able to live there for tens of thousands of years. That eating anything grown there is injesting poison. \n",
      "\n",
      "Yea - I am the one who is denying physics........\n",
      "\n",
      ">People do all the time. Parents have children. Children care for their parents. People pay taxes. People live and thrive in systems that limit their quality of life. You are just not willing to make sacrifices for the future of your species and all species. You are entitled to take that position, you should just be open about it.\n",
      "\n",
      "No - people don't give up quality of life all the time. Having children is seen as improving quality of thier lives.\n",
      "\n",
      "You are nuts if you think people are going to merely accept your demands. You don't even need to take my word for it. See how far the 'Green' movement has gotten worldwide with its pet projects. If it is a quality if life issue - it doesn't happen.\n",
      "\n",
      ">Capitalism had caused the greatest loss of species in all of human existence, a rate of loss comparable to when a meteor destroyed the dinosaurs. We literally call this The Sixth Extinction. The 5th was the Cretaceous-Tertiary extinction.\n",
      "\n",
      "You cannot attribute that to Captitalism when some of the worst ecological offenders are communist countries.\n",
      "\n",
      "Although - they did result in something like 100 million dead humans last century so that could be twisted into some warped idea of good thing if you are a eco-zealot. \n",
      "\n",
      ">What do you think the quality of life is on a planet with dead oceans, little arable land, and a global center that indefinitely exceeds the wet bulb temperature? I don't care what ideology underlies the drive for sustainability. It's just clear that the need of capitalism for unlimited growth is the cause of the problem. Capitalism and sustainability are simply incompatible. A society cannot grow indefinitely when resources are limited. It must achieve a state of balance with its ecosystem. Every collapse of a civilization was caused by this simple oversight. Ours will inevitably follow if we do not learn from history or science.\n",
      "\n",
      "I've heard it all before. Deadlines that come an go without any it every happening. Chicken little - the Sky is NOT falling. We are not on the verge of all dying off. If you want the best solution to solving complex large scale problems - it has been capitalism. A system that works on the underlying human nature. That is what will succeed.\n",
      "\n",
      "Your desire to fight human nature is a fools errand - proven time and again to fail in the real world. \n",
      "\n",
      "I notice how you never acknowledge this. You don't have a viable option to suggest. You just want to rail against the as of yet - best form of economic system yet developed. \n",
      "\n",
      "Do yourself a favor - get a little context and stop believing the zealots who are preaching doom/gloom and the end of the world. You'll be much happier in the long run.\n"
     ]
    }
   ],
   "source": [
    "print(data['body'][13610])"
   ]
  },
  {
   "cell_type": "code",
   "execution_count": 37,
   "metadata": {
    "execution": {
     "iopub.execute_input": "2024-12-09T21:14:46.747620Z",
     "iopub.status.busy": "2024-12-09T21:14:46.747214Z",
     "iopub.status.idle": "2024-12-09T21:14:57.229257Z",
     "shell.execute_reply": "2024-12-09T21:14:57.228075Z",
     "shell.execute_reply.started": "2024-12-09T21:14:46.747586Z"
    },
    "trusted": true
   },
   "outputs": [
    {
     "name": "stdout",
     "output_type": "stream",
     "text": [
      "Dataset saved to /kaggle/working/updated_data_new.csv\n"
     ]
    }
   ],
   "source": [
    "# save the dataset \n",
    "# Save the DataFrame to a CSV file\n",
    "output_path = \"/kaggle/working/updated_data_new.csv\"  # Specify the path and filename\n",
    "data.to_csv(output_path, index=False)\n",
    "\n",
    "print(f\"Dataset saved to {output_path}\")\n"
   ]
  },
  {
   "cell_type": "code",
   "execution_count": 38,
   "metadata": {
    "execution": {
     "iopub.execute_input": "2024-12-09T21:14:57.231876Z",
     "iopub.status.busy": "2024-12-09T21:14:57.231327Z",
     "iopub.status.idle": "2024-12-09T21:14:57.256020Z",
     "shell.execute_reply": "2024-12-09T21:14:57.254993Z",
     "shell.execute_reply.started": "2024-12-09T21:14:57.231812Z"
    },
    "trusted": true
   },
   "outputs": [
    {
     "name": "stdout",
     "output_type": "stream",
     "text": [
      "number of posts 331\n",
      "   link_id  num_comments\n",
      "0  10a2an3           201\n",
      "1  10cktde            45\n",
      "2  10djn5r           163\n",
      "3  10i58lq           168\n",
      "4  10li7zz           137\n"
     ]
    }
   ],
   "source": [
    "# Group by 'link_id' (post ID) and count the number of comments\n",
    "post_comment_counts = data.groupby('link_id').size().reset_index(name='num_comments')\n",
    "\n",
    "# Display the result\n",
    "print(\"number of posts\",len(post_comment_counts))\n",
    "print(post_comment_counts.head())\n",
    "\n"
   ]
  },
  {
   "cell_type": "code",
   "execution_count": 39,
   "metadata": {
    "execution": {
     "iopub.execute_input": "2024-12-09T21:15:09.252775Z",
     "iopub.status.busy": "2024-12-09T21:15:09.252366Z",
     "iopub.status.idle": "2024-12-09T21:15:09.261384Z",
     "shell.execute_reply": "2024-12-09T21:15:09.259883Z",
     "shell.execute_reply.started": "2024-12-09T21:15:09.252741Z"
    },
    "trusted": true
   },
   "outputs": [
    {
     "name": "stdout",
     "output_type": "stream",
     "text": [
      "Post-comment counts saved to /kaggle/working/postcomment_counts_new.csv\n"
     ]
    }
   ],
   "source": [
    "# Optionally, save the result to a CSV file\n",
    "output_path = \"/kaggle/working/postcomment_counts_new.csv\"\n",
    "post_comment_counts.to_csv(output_path, index=False)\n",
    "print(f\"Post-comment counts saved to {output_path}\")"
   ]
  }
 ],
 "metadata": {
  "kaggle": {
   "accelerator": "none",
   "dataSources": [
    {
     "datasetId": 6249766,
     "sourceId": 10127418,
     "sourceType": "datasetVersion"
    }
   ],
   "dockerImageVersionId": 30804,
   "isGpuEnabled": false,
   "isInternetEnabled": true,
   "language": "python",
   "sourceType": "notebook"
  },
  "kernelspec": {
   "display_name": "Python 3",
   "language": "python",
   "name": "python3"
  },
  "language_info": {
   "codemirror_mode": {
    "name": "ipython",
    "version": 3
   },
   "file_extension": ".py",
   "mimetype": "text/x-python",
   "name": "python",
   "nbconvert_exporter": "python",
   "pygments_lexer": "ipython3",
   "version": "3.10.14"
  }
 },
 "nbformat": 4,
 "nbformat_minor": 4
}
