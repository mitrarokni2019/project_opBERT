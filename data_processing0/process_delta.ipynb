{
 "cells": [
  {
   "cell_type": "code",
   "execution_count": 1,
   "metadata": {},
   "outputs": [],
   "source": [
    "import pandas as pd\n",
    "import json\n",
    "\n",
    "submissions1 = pd.read_csv(\"../data/submission.csv\")\n",
    "comments1 = pd.read_csv(\"../data/comment.csv\",index_col=False)\n",
    "\n",
    "submissions2 = pd.read_csv(\"../data/submission_rows.csv\")\n",
    "comments2 = pd.read_csv(\"../data/comment_rows.csv\",index_col=False)"
   ]
  },
  {
   "cell_type": "code",
   "execution_count": 2,
   "metadata": {},
   "outputs": [
    {
     "name": "stdout",
     "output_type": "stream",
     "text": [
      "Number of rows in submissions1: 332\n",
      "Number of rows in submissions2: 211\n",
      "Number of rows in comments1: 53983\n",
      "Number of rows in comments2: 55573\n"
     ]
    }
   ],
   "source": [
    "print(\"Number of rows in submissions1:\", submissions1.shape[0])\n",
    "print(\"Number of rows in submissions2:\", submissions2.shape[0])\n",
    "print(\"Number of rows in comments1:\", comments1.shape[0])\n",
    "print(\"Number of rows in comments2:\", comments2.shape[0])"
   ]
  },
  {
   "cell_type": "code",
   "execution_count": 3,
   "metadata": {
    "vscode": {
     "languageId": "javascript"
    }
   },
   "outputs": [
    {
     "name": "stdout",
     "output_type": "stream",
     "text": [
      "Number of rows in merged submissions: 474\n"
     ]
    }
   ],
   "source": [
    "submissions = pd.concat([submissions1, submissions2]).drop_duplicates([\"submission_id\",\"redditor_id\"]).reset_index(drop=True)\n",
    "print(\"Number of rows in merged submissions:\", submissions.shape[0])"
   ]
  },
  {
   "cell_type": "code",
   "execution_count": 4,
   "metadata": {
    "vscode": {
     "languageId": "javascript"
    }
   },
   "outputs": [
    {
     "name": "stdout",
     "output_type": "stream",
     "text": [
      "Number of rows in merged submissions: 88792\n"
     ]
    }
   ],
   "source": [
    "comments = pd.concat([comments1, comments2]).drop_duplicates([\"comment_id\",\"redditor_id\"]).reset_index(drop=True)\n",
    "print(\"Number of rows in merged submissions:\", comments.shape[0])\n",
    "comments['parent_id_clean'] = comments['parent_id'].str.split('_').str[1]"
   ]
  },
  {
   "cell_type": "code",
   "execution_count": 5,
   "metadata": {},
   "outputs": [
    {
     "name": "stdout",
     "output_type": "stream",
     "text": [
      "Number of DeltaBot comments awarding delta: 794\n"
     ]
    },
    {
     "data": {
      "text/html": [
       "<div>\n",
       "<style scoped>\n",
       "    .dataframe tbody tr th:only-of-type {\n",
       "        vertical-align: middle;\n",
       "    }\n",
       "\n",
       "    .dataframe tbody tr th {\n",
       "        vertical-align: top;\n",
       "    }\n",
       "\n",
       "    .dataframe thead th {\n",
       "        text-align: right;\n",
       "    }\n",
       "</style>\n",
       "<table border=\"1\" class=\"dataframe\">\n",
       "  <thead>\n",
       "    <tr style=\"text-align: right;\">\n",
       "      <th></th>\n",
       "      <th>comment_id</th>\n",
       "      <th>link_id</th>\n",
       "      <th>subreddit</th>\n",
       "      <th>parent_id</th>\n",
       "      <th>redditor_id</th>\n",
       "      <th>created_at</th>\n",
       "      <th>body</th>\n",
       "      <th>score</th>\n",
       "      <th>edited</th>\n",
       "      <th>removed</th>\n",
       "      <th>parent_id_clean</th>\n",
       "    </tr>\n",
       "  </thead>\n",
       "  <tbody>\n",
       "    <tr>\n",
       "      <th>1299</th>\n",
       "      <td>jb0aany</td>\n",
       "      <td>11iw30k</td>\n",
       "      <td>changemyview</td>\n",
       "      <td>t1_jb0a96g</td>\n",
       "      <td>ap4fp</td>\n",
       "      <td>2023-03-05T14:17:01+00:00</td>\n",
       "      <td>Confirmed: 1 delta awarded to /u/dollarfrom15c...</td>\n",
       "      <td>{'2024-10-28T21:06:44': 2}</td>\n",
       "      <td>False</td>\n",
       "      <td>NaN</td>\n",
       "      <td>jb0a96g</td>\n",
       "    </tr>\n",
       "    <tr>\n",
       "      <th>1343</th>\n",
       "      <td>jb157kh</td>\n",
       "      <td>11iw30k</td>\n",
       "      <td>changemyview</td>\n",
       "      <td>t1_jb1554e</td>\n",
       "      <td>ap4fp</td>\n",
       "      <td>2023-03-05T18:19:51+00:00</td>\n",
       "      <td>Confirmed: 1 delta awarded to /u/dollarfrom15c...</td>\n",
       "      <td>{'2024-10-28T21:06:44': 3}</td>\n",
       "      <td>False</td>\n",
       "      <td>NaN</td>\n",
       "      <td>jb1554e</td>\n",
       "    </tr>\n",
       "    <tr>\n",
       "      <th>1346</th>\n",
       "      <td>jb18kzc</td>\n",
       "      <td>11iw30k</td>\n",
       "      <td>changemyview</td>\n",
       "      <td>t1_jb18ha3</td>\n",
       "      <td>ap4fp</td>\n",
       "      <td>2023-03-05T18:41:58+00:00</td>\n",
       "      <td>Confirmed: 1 delta awarded to /u/Exis007 ([88∆...</td>\n",
       "      <td>{'2024-10-28T21:06:45': 0}</td>\n",
       "      <td>False</td>\n",
       "      <td>NaN</td>\n",
       "      <td>jb18ha3</td>\n",
       "    </tr>\n",
       "    <tr>\n",
       "      <th>1368</th>\n",
       "      <td>jb16ef7</td>\n",
       "      <td>11iw30k</td>\n",
       "      <td>changemyview</td>\n",
       "      <td>t1_jb16b2o</td>\n",
       "      <td>ap4fp</td>\n",
       "      <td>2023-03-05T18:27:42+00:00</td>\n",
       "      <td>Confirmed: 1 delta awarded to /u/nylockian ([3...</td>\n",
       "      <td>{'2024-10-28T21:06:55': 1}</td>\n",
       "      <td>False</td>\n",
       "      <td>NaN</td>\n",
       "      <td>jb16b2o</td>\n",
       "    </tr>\n",
       "    <tr>\n",
       "      <th>1373</th>\n",
       "      <td>jb0kxco</td>\n",
       "      <td>11iw30k</td>\n",
       "      <td>changemyview</td>\n",
       "      <td>t1_jb0kvfz</td>\n",
       "      <td>ap4fp</td>\n",
       "      <td>2023-03-05T15:51:38+00:00</td>\n",
       "      <td>Confirmed: 1 delta awarded to /u/nylockian ([1...</td>\n",
       "      <td>{'2024-10-28T21:06:57': 0}</td>\n",
       "      <td>False</td>\n",
       "      <td>NaN</td>\n",
       "      <td>jb0kvfz</td>\n",
       "    </tr>\n",
       "  </tbody>\n",
       "</table>\n",
       "</div>"
      ],
      "text/plain": [
       "     comment_id  link_id     subreddit   parent_id redditor_id  \\\n",
       "1299    jb0aany  11iw30k  changemyview  t1_jb0a96g       ap4fp   \n",
       "1343    jb157kh  11iw30k  changemyview  t1_jb1554e       ap4fp   \n",
       "1346    jb18kzc  11iw30k  changemyview  t1_jb18ha3       ap4fp   \n",
       "1368    jb16ef7  11iw30k  changemyview  t1_jb16b2o       ap4fp   \n",
       "1373    jb0kxco  11iw30k  changemyview  t1_jb0kvfz       ap4fp   \n",
       "\n",
       "                     created_at  \\\n",
       "1299  2023-03-05T14:17:01+00:00   \n",
       "1343  2023-03-05T18:19:51+00:00   \n",
       "1346  2023-03-05T18:41:58+00:00   \n",
       "1368  2023-03-05T18:27:42+00:00   \n",
       "1373  2023-03-05T15:51:38+00:00   \n",
       "\n",
       "                                                   body  \\\n",
       "1299  Confirmed: 1 delta awarded to /u/dollarfrom15c...   \n",
       "1343  Confirmed: 1 delta awarded to /u/dollarfrom15c...   \n",
       "1346  Confirmed: 1 delta awarded to /u/Exis007 ([88∆...   \n",
       "1368  Confirmed: 1 delta awarded to /u/nylockian ([3...   \n",
       "1373  Confirmed: 1 delta awarded to /u/nylockian ([1...   \n",
       "\n",
       "                           score  edited removed parent_id_clean  \n",
       "1299  {'2024-10-28T21:06:44': 2}   False     NaN         jb0a96g  \n",
       "1343  {'2024-10-28T21:06:44': 3}   False     NaN         jb1554e  \n",
       "1346  {'2024-10-28T21:06:45': 0}   False     NaN         jb18ha3  \n",
       "1368  {'2024-10-28T21:06:55': 1}   False     NaN         jb16b2o  \n",
       "1373  {'2024-10-28T21:06:57': 0}   False     NaN         jb0kvfz  "
      ]
     },
     "execution_count": 5,
     "metadata": {},
     "output_type": "execute_result"
    }
   ],
   "source": [
    "bot_comments = comments[comments['body'].str.contains(\"Confirmed: 1 delta awarded\", case=False, na=False)]\n",
    "print(\"Number of DeltaBot comments awarding delta:\", bot_comments.shape[0])\n",
    "bot_comments.head()"
   ]
  },
  {
   "cell_type": "code",
   "execution_count": 6,
   "metadata": {},
   "outputs": [
    {
     "name": "stdout",
     "output_type": "stream",
     "text": [
      "Saved file to: ../data/bot_comments.csv\n"
     ]
    }
   ],
   "source": [
    "output_file = \"../data/bot_comments.csv\"\n",
    "bot_comments.to_csv(output_file, index=False)\n",
    "print(\"Saved file to:\", output_file)"
   ]
  },
  {
   "cell_type": "code",
   "execution_count": 7,
   "metadata": {},
   "outputs": [
    {
     "name": "stdout",
     "output_type": "stream",
     "text": [
      "Number of OP comments awarding delta: 793\n"
     ]
    }
   ],
   "source": [
    "op_delta_comments = comments[comments['comment_id'].isin(bot_comments['parent_id_clean'])]\n",
    "print(\"Number of OP comments awarding delta:\", op_delta_comments.shape[0])\n",
    "#opd=op_delta_comments.merge(bot_comments,how=\"outer\",left_on=\"comment_id\",right_on=\"parent_id_clean\")"
   ]
  },
  {
   "cell_type": "code",
   "execution_count": 8,
   "metadata": {},
   "outputs": [
    {
     "name": "stdout",
     "output_type": "stream",
     "text": [
      "Number d: 157\n"
     ]
    },
    {
     "data": {
      "text/html": [
       "<div>\n",
       "<style scoped>\n",
       "    .dataframe tbody tr th:only-of-type {\n",
       "        vertical-align: middle;\n",
       "    }\n",
       "\n",
       "    .dataframe tbody tr th {\n",
       "        vertical-align: top;\n",
       "    }\n",
       "\n",
       "    .dataframe thead th {\n",
       "        text-align: right;\n",
       "    }\n",
       "</style>\n",
       "<table border=\"1\" class=\"dataframe\">\n",
       "  <thead>\n",
       "    <tr style=\"text-align: right;\">\n",
       "      <th></th>\n",
       "      <th>comment_id</th>\n",
       "      <th>link_id</th>\n",
       "      <th>subreddit</th>\n",
       "      <th>parent_id</th>\n",
       "      <th>redditor_id</th>\n",
       "      <th>created_at</th>\n",
       "      <th>body</th>\n",
       "      <th>score</th>\n",
       "      <th>edited</th>\n",
       "      <th>removed</th>\n",
       "      <th>parent_id_clean</th>\n",
       "    </tr>\n",
       "  </thead>\n",
       "  <tbody>\n",
       "    <tr>\n",
       "      <th>84087</th>\n",
       "      <td>hi625b1</td>\n",
       "      <td>qgamyj</td>\n",
       "      <td>changemyview</td>\n",
       "      <td>t1_hi4yvfe</td>\n",
       "      <td>3piy84ie</td>\n",
       "      <td>2021-10-26 23:34:12+00</td>\n",
       "      <td>!delta\\n\\nYou make a good point that excuses w...</td>\n",
       "      <td>{\"2024-11-01T19:49:50\":2}</td>\n",
       "      <td>False</td>\n",
       "      <td>NaN</td>\n",
       "      <td>hi4yvfe</td>\n",
       "    </tr>\n",
       "    <tr>\n",
       "      <th>84095</th>\n",
       "      <td>hi67gox</td>\n",
       "      <td>qgamyj</td>\n",
       "      <td>changemyview</td>\n",
       "      <td>t1_hi5nv87</td>\n",
       "      <td>3piy84ie</td>\n",
       "      <td>2021-10-27 00:11:39+00</td>\n",
       "      <td>!delta\\n\\nYou've shown me that there's a lot m...</td>\n",
       "      <td>{\"2024-11-01T19:49:54\":1}</td>\n",
       "      <td>False</td>\n",
       "      <td>NaN</td>\n",
       "      <td>hi5nv87</td>\n",
       "    </tr>\n",
       "    <tr>\n",
       "      <th>86055</th>\n",
       "      <td>ekcmf43</td>\n",
       "      <td>bamauu</td>\n",
       "      <td>changemyview</td>\n",
       "      <td>t1_ekclaz8</td>\n",
       "      <td>i5rnqjm</td>\n",
       "      <td>2019-04-08 01:24:42+00</td>\n",
       "      <td>!delta\\n\\nThanks for writing back.\\n\\nAny tips...</td>\n",
       "      <td>{\"2024-11-01T20:07:08\":1}</td>\n",
       "      <td>False</td>\n",
       "      <td>NaN</td>\n",
       "      <td>ekclaz8</td>\n",
       "    </tr>\n",
       "    <tr>\n",
       "      <th>87125</th>\n",
       "      <td>dye5u7w</td>\n",
       "      <td>8grirz</td>\n",
       "      <td>changemyview</td>\n",
       "      <td>t1_dye3uzr</td>\n",
       "      <td>ov4fv</td>\n",
       "      <td>2018-05-03 19:43:36+00</td>\n",
       "      <td>Fantastic sources. !delta\\n\\nWhat do you think...</td>\n",
       "      <td>{\"2024-11-01T20:22:49\":7}</td>\n",
       "      <td>False</td>\n",
       "      <td>NaN</td>\n",
       "      <td>dye3uzr</td>\n",
       "    </tr>\n",
       "    <tr>\n",
       "      <th>87285</th>\n",
       "      <td>hjxm12x</td>\n",
       "      <td>qps0qw</td>\n",
       "      <td>changemyview</td>\n",
       "      <td>t1_hjw76pu</td>\n",
       "      <td>9mhwv</td>\n",
       "      <td>2021-11-09 14:32:46+00</td>\n",
       "      <td>!delta\\n\\nI will concede that, thanks to your ...</td>\n",
       "      <td>{\"2024-11-01T20:24:24\":2}</td>\n",
       "      <td>False</td>\n",
       "      <td>NaN</td>\n",
       "      <td>hjw76pu</td>\n",
       "    </tr>\n",
       "  </tbody>\n",
       "</table>\n",
       "</div>"
      ],
      "text/plain": [
       "      comment_id link_id     subreddit   parent_id redditor_id  \\\n",
       "84087    hi625b1  qgamyj  changemyview  t1_hi4yvfe    3piy84ie   \n",
       "84095    hi67gox  qgamyj  changemyview  t1_hi5nv87    3piy84ie   \n",
       "86055    ekcmf43  bamauu  changemyview  t1_ekclaz8     i5rnqjm   \n",
       "87125    dye5u7w  8grirz  changemyview  t1_dye3uzr       ov4fv   \n",
       "87285    hjxm12x  qps0qw  changemyview  t1_hjw76pu       9mhwv   \n",
       "\n",
       "                   created_at  \\\n",
       "84087  2021-10-26 23:34:12+00   \n",
       "84095  2021-10-27 00:11:39+00   \n",
       "86055  2019-04-08 01:24:42+00   \n",
       "87125  2018-05-03 19:43:36+00   \n",
       "87285  2021-11-09 14:32:46+00   \n",
       "\n",
       "                                                    body  \\\n",
       "84087  !delta\\n\\nYou make a good point that excuses w...   \n",
       "84095  !delta\\n\\nYou've shown me that there's a lot m...   \n",
       "86055  !delta\\n\\nThanks for writing back.\\n\\nAny tips...   \n",
       "87125  Fantastic sources. !delta\\n\\nWhat do you think...   \n",
       "87285  !delta\\n\\nI will concede that, thanks to your ...   \n",
       "\n",
       "                           score  edited removed parent_id_clean  \n",
       "84087  {\"2024-11-01T19:49:50\":2}   False     NaN         hi4yvfe  \n",
       "84095  {\"2024-11-01T19:49:54\":1}   False     NaN         hi5nv87  \n",
       "86055  {\"2024-11-01T20:07:08\":1}   False     NaN         ekclaz8  \n",
       "87125  {\"2024-11-01T20:22:49\":7}   False     NaN         dye3uzr  \n",
       "87285  {\"2024-11-01T20:24:24\":2}   False     NaN         hjw76pu  "
      ]
     },
     "execution_count": 8,
     "metadata": {},
     "output_type": "execute_result"
    }
   ],
   "source": [
    "d_comments = comments[comments['body'].str.contains(\"!delta\\n\\n\", case=False, na=False)]\n",
    "print(\"Number d:\", d_comments.shape[0])\n",
    "d_comments.tail()"
   ]
  },
  {
   "cell_type": "code",
   "execution_count": 9,
   "metadata": {},
   "outputs": [
    {
     "name": "stdout",
     "output_type": "stream",
     "text": [
      "Saved file to: ../data/op_delta_comments.csv\n"
     ]
    }
   ],
   "source": [
    "output_file = \"../data/op_delta_comments.csv\"\n",
    "op_delta_comments.to_csv(output_file, index=False)\n",
    "print(\"Saved file to:\", output_file)"
   ]
  },
  {
   "cell_type": "code",
   "execution_count": 10,
   "metadata": {},
   "outputs": [
    {
     "name": "stdout",
     "output_type": "stream",
     "text": [
      "Number of comments awarded delta: 768\n"
     ]
    },
    {
     "name": "stderr",
     "output_type": "stream",
     "text": [
      "/var/folders/z_/3vpzgjpj4dv90c8dxq0x3ww80000gn/T/ipykernel_96467/1085101165.py:2: SettingWithCopyWarning: \n",
      "A value is trying to be set on a copy of a slice from a DataFrame.\n",
      "Try using .loc[row_indexer,col_indexer] = value instead\n",
      "\n",
      "See the caveats in the documentation: https://pandas.pydata.org/pandas-docs/stable/user_guide/indexing.html#returning-a-view-versus-a-copy\n",
      "  delta_comments['parent_id_clean'] = delta_comments['parent_id'].str.split('_').str[1]\n"
     ]
    }
   ],
   "source": [
    "delta_comments = comments[comments['comment_id'].isin(op_delta_comments['parent_id_clean'])]\n",
    "delta_comments['parent_id_clean'] = delta_comments['parent_id'].str.split('_').str[1]\n",
    "print(\"Number of comments awarded delta:\", delta_comments.shape[0])"
   ]
  },
  {
   "cell_type": "code",
   "execution_count": 11,
   "metadata": {},
   "outputs": [
    {
     "name": "stdout",
     "output_type": "stream",
     "text": [
      "Saved file to: ../data/delta_comments.csv\n"
     ]
    }
   ],
   "source": [
    "output_file = \"../data/delta_comments.csv\"\n",
    "delta_comments.to_csv(output_file, index=False)\n",
    "print(\"Saved file to:\", output_file)"
   ]
  },
  {
   "cell_type": "code",
   "execution_count": 12,
   "metadata": {},
   "outputs": [
    {
     "name": "stdout",
     "output_type": "stream",
     "text": [
      "Saved file to: ../data/comments_with_has_delta_column.csv\n"
     ]
    }
   ],
   "source": [
    "# Create binary has_delta in comments table\n",
    "comments['has_delta'] = comments['comment_id'].isin(delta_comments['comment_id']).astype(int)\n",
    "output_file = \"../data/comments_with_has_delta_column.csv\"\n",
    "comments.to_csv(output_file, index=False)\n",
    "print(\"Saved file to:\", output_file)"
   ]
  },
  {
   "cell_type": "code",
   "execution_count": 13,
   "metadata": {},
   "outputs": [
    {
     "name": "stdout",
     "output_type": "stream",
     "text": [
      "Number of comments with has_delta=1: 768\n"
     ]
    }
   ],
   "source": [
    "#double check\n",
    "count_has_delta = comments[comments['has_delta'] == 1].shape[0]\n",
    "print(\"Number of comments with has_delta=1:\", count_has_delta)"
   ]
  },
  {
   "cell_type": "code",
   "execution_count": 14,
   "metadata": {},
   "outputs": [
    {
     "name": "stdout",
     "output_type": "stream",
     "text": [
      "Saved file to: ../data/submissions_with_has_delta_column.csv\n"
     ]
    }
   ],
   "source": [
    "# Create binary has_delta in submissions table\n",
    "submissions[\"has_delta\"] = submissions[\"flair\"].apply(lambda x: 1 if json.loads(x)['link'] == \"Delta(s) from OP\" else 0)\n",
    "output_file = \"../data/submissions_with_has_delta_column.csv\"\n",
    "submissions.to_csv(output_file, index=False)\n",
    "print(\"Saved file to:\", output_file)"
   ]
  },
  {
   "cell_type": "code",
   "execution_count": 44,
   "metadata": {},
   "outputs": [
    {
     "name": "stdout",
     "output_type": "stream",
     "text": [
      "Number of submissions with delta(s) awarded: 243\n"
     ]
    }
   ],
   "source": [
    "submissions_with_deltas = submissions[submissions['has_delta'] == 1]\n",
    "count_submissions_with_delta = submissions_with_deltas.shape[0]\n",
    "print(\"Number of submissions with delta(s) awarded:\", count_submissions_with_delta)\n"
   ]
  },
  {
   "cell_type": "code",
   "execution_count": 49,
   "metadata": {},
   "outputs": [
    {
     "name": "stdout",
     "output_type": "stream",
     "text": [
      "Number of filtered submissions: 236\n"
     ]
    },
    {
     "data": {
      "text/html": [
       "<div>\n",
       "<style scoped>\n",
       "    .dataframe tbody tr th:only-of-type {\n",
       "        vertical-align: middle;\n",
       "    }\n",
       "\n",
       "    .dataframe tbody tr th {\n",
       "        vertical-align: top;\n",
       "    }\n",
       "\n",
       "    .dataframe thead th {\n",
       "        text-align: right;\n",
       "    }\n",
       "</style>\n",
       "<table border=\"1\" class=\"dataframe\">\n",
       "  <thead>\n",
       "    <tr style=\"text-align: right;\">\n",
       "      <th></th>\n",
       "      <th>submission_id</th>\n",
       "      <th>redditor_id</th>\n",
       "      <th>created_at</th>\n",
       "      <th>title</th>\n",
       "      <th>text</th>\n",
       "      <th>subreddit</th>\n",
       "      <th>permalink</th>\n",
       "      <th>attachment</th>\n",
       "      <th>flair</th>\n",
       "      <th>awards</th>\n",
       "      <th>score</th>\n",
       "      <th>upvote_ratio</th>\n",
       "      <th>num_comments</th>\n",
       "      <th>edited</th>\n",
       "      <th>archived</th>\n",
       "      <th>removed</th>\n",
       "      <th>poll</th>\n",
       "      <th>has_delta</th>\n",
       "    </tr>\n",
       "  </thead>\n",
       "  <tbody>\n",
       "    <tr>\n",
       "      <th>0</th>\n",
       "      <td>16yqq5w</td>\n",
       "      <td>e19ujn874</td>\n",
       "      <td>2023-10-03T14:34:24+00:00</td>\n",
       "      <td>CMV: Conservative apathy towards climate chang...</td>\n",
       "      <td>When you ask the average conservative why they...</td>\n",
       "      <td>changemyview</td>\n",
       "      <td>https://www.reddit.com/r/changemyview/comments...</td>\n",
       "      <td>NaN</td>\n",
       "      <td>{\"link\": \"Delta(s) from OP\", \"author\": \"7∆\"}</td>\n",
       "      <td>{\"list\": null, \"total_awards_count\": 0, \"total...</td>\n",
       "      <td>{\"2024-10-27T12:01:35\": 1318}</td>\n",
       "      <td>{\"2024-10-27T12:01:35\": 0.8}</td>\n",
       "      <td>{\"2024-10-27T12:01:35\": 991}</td>\n",
       "      <td>True</td>\n",
       "      <td>True</td>\n",
       "      <td>False</td>\n",
       "      <td>NaN</td>\n",
       "      <td>1</td>\n",
       "    </tr>\n",
       "    <tr>\n",
       "      <th>2</th>\n",
       "      <td>11iw30k</td>\n",
       "      <td>1a95yjyf</td>\n",
       "      <td>2023-03-05T13:33:28+00:00</td>\n",
       "      <td>CMV: the reason why people aren’t having kids ...</td>\n",
       "      <td>Time and time again I read a new article about...</td>\n",
       "      <td>changemyview</td>\n",
       "      <td>https://www.reddit.com/r/changemyview/comments...</td>\n",
       "      <td>NaN</td>\n",
       "      <td>{\"link\": \"Delta(s) from OP\", \"author\": null}</td>\n",
       "      <td>{\"list\": null, \"total_awards_count\": 0, \"total...</td>\n",
       "      <td>{\"2024-10-27T12:03:45\": 2108}</td>\n",
       "      <td>{\"2024-10-27T12:03:45\": 0.78}</td>\n",
       "      <td>{\"2024-10-27T12:03:45\": 632}</td>\n",
       "      <td>False</td>\n",
       "      <td>True</td>\n",
       "      <td>False</td>\n",
       "      <td>NaN</td>\n",
       "      <td>1</td>\n",
       "    </tr>\n",
       "    <tr>\n",
       "      <th>3</th>\n",
       "      <td>18qvnpf</td>\n",
       "      <td>7umpg385</td>\n",
       "      <td>2023-12-26T01:55:50+00:00</td>\n",
       "      <td>CMV: Most Americans don’t care enough about cl...</td>\n",
       "      <td>I only say Americans because I am one and don’...</td>\n",
       "      <td>changemyview</td>\n",
       "      <td>https://www.reddit.com/r/changemyview/comments...</td>\n",
       "      <td>NaN</td>\n",
       "      <td>{\"link\": \"Delta(s) from OP\", \"author\": null}</td>\n",
       "      <td>{\"list\": null, \"total_awards_count\": 0, \"total...</td>\n",
       "      <td>{\"2024-10-27T12:01:55\": 396}</td>\n",
       "      <td>{\"2024-10-27T12:01:55\": 0.65}</td>\n",
       "      <td>{\"2024-10-27T12:01:55\": 834}</td>\n",
       "      <td>True</td>\n",
       "      <td>True</td>\n",
       "      <td>False</td>\n",
       "      <td>NaN</td>\n",
       "      <td>1</td>\n",
       "    </tr>\n",
       "    <tr>\n",
       "      <th>4</th>\n",
       "      <td>1fodkwe</td>\n",
       "      <td>pbcmpax4</td>\n",
       "      <td>2024-09-24T16:16:53+00:00</td>\n",
       "      <td>CMV: Climate change denial or approval should ...</td>\n",
       "      <td>I\"m talking here from an European perspective....</td>\n",
       "      <td>changemyview</td>\n",
       "      <td>https://www.reddit.com/r/changemyview/comments...</td>\n",
       "      <td>NaN</td>\n",
       "      <td>{\"link\": \"Delta(s) from OP\", \"author\": null}</td>\n",
       "      <td>{\"list\": null, \"total_awards_count\": 0, \"total...</td>\n",
       "      <td>{\"2024-10-27T12:02:04\": 0}</td>\n",
       "      <td>{\"2024-10-27T12:02:04\": 0.23}</td>\n",
       "      <td>{\"2024-10-27T12:02:04\": 290}</td>\n",
       "      <td>False</td>\n",
       "      <td>False</td>\n",
       "      <td>False</td>\n",
       "      <td>NaN</td>\n",
       "      <td>1</td>\n",
       "    </tr>\n",
       "    <tr>\n",
       "      <th>6</th>\n",
       "      <td>14z908l</td>\n",
       "      <td>56eh3pnr</td>\n",
       "      <td>2023-07-14T08:56:08+00:00</td>\n",
       "      <td>CMV: Climate change is real but blocking roads...</td>\n",
       "      <td>I think a lot of people have seen climate chan...</td>\n",
       "      <td>changemyview</td>\n",
       "      <td>https://www.reddit.com/r/changemyview/comments...</td>\n",
       "      <td>NaN</td>\n",
       "      <td>{\"link\": \"Delta(s) from OP\", \"author\": null}</td>\n",
       "      <td>{\"list\": null, \"total_awards_count\": 0, \"total...</td>\n",
       "      <td>{\"2024-10-27T12:02:14\": 269}</td>\n",
       "      <td>{\"2024-10-27T12:02:14\": 0.7}</td>\n",
       "      <td>{\"2024-10-27T12:02:14\": 452}</td>\n",
       "      <td>False</td>\n",
       "      <td>True</td>\n",
       "      <td>False</td>\n",
       "      <td>NaN</td>\n",
       "      <td>1</td>\n",
       "    </tr>\n",
       "  </tbody>\n",
       "</table>\n",
       "</div>"
      ],
      "text/plain": [
       "  submission_id redditor_id                 created_at  \\\n",
       "0       16yqq5w   e19ujn874  2023-10-03T14:34:24+00:00   \n",
       "2       11iw30k    1a95yjyf  2023-03-05T13:33:28+00:00   \n",
       "3       18qvnpf    7umpg385  2023-12-26T01:55:50+00:00   \n",
       "4       1fodkwe    pbcmpax4  2024-09-24T16:16:53+00:00   \n",
       "6       14z908l    56eh3pnr  2023-07-14T08:56:08+00:00   \n",
       "\n",
       "                                               title  \\\n",
       "0  CMV: Conservative apathy towards climate chang...   \n",
       "2  CMV: the reason why people aren’t having kids ...   \n",
       "3  CMV: Most Americans don’t care enough about cl...   \n",
       "4  CMV: Climate change denial or approval should ...   \n",
       "6  CMV: Climate change is real but blocking roads...   \n",
       "\n",
       "                                                text     subreddit  \\\n",
       "0  When you ask the average conservative why they...  changemyview   \n",
       "2  Time and time again I read a new article about...  changemyview   \n",
       "3  I only say Americans because I am one and don’...  changemyview   \n",
       "4  I\"m talking here from an European perspective....  changemyview   \n",
       "6  I think a lot of people have seen climate chan...  changemyview   \n",
       "\n",
       "                                           permalink  attachment  \\\n",
       "0  https://www.reddit.com/r/changemyview/comments...         NaN   \n",
       "2  https://www.reddit.com/r/changemyview/comments...         NaN   \n",
       "3  https://www.reddit.com/r/changemyview/comments...         NaN   \n",
       "4  https://www.reddit.com/r/changemyview/comments...         NaN   \n",
       "6  https://www.reddit.com/r/changemyview/comments...         NaN   \n",
       "\n",
       "                                          flair  \\\n",
       "0  {\"link\": \"Delta(s) from OP\", \"author\": \"7∆\"}   \n",
       "2  {\"link\": \"Delta(s) from OP\", \"author\": null}   \n",
       "3  {\"link\": \"Delta(s) from OP\", \"author\": null}   \n",
       "4  {\"link\": \"Delta(s) from OP\", \"author\": null}   \n",
       "6  {\"link\": \"Delta(s) from OP\", \"author\": null}   \n",
       "\n",
       "                                              awards  \\\n",
       "0  {\"list\": null, \"total_awards_count\": 0, \"total...   \n",
       "2  {\"list\": null, \"total_awards_count\": 0, \"total...   \n",
       "3  {\"list\": null, \"total_awards_count\": 0, \"total...   \n",
       "4  {\"list\": null, \"total_awards_count\": 0, \"total...   \n",
       "6  {\"list\": null, \"total_awards_count\": 0, \"total...   \n",
       "\n",
       "                           score                   upvote_ratio  \\\n",
       "0  {\"2024-10-27T12:01:35\": 1318}   {\"2024-10-27T12:01:35\": 0.8}   \n",
       "2  {\"2024-10-27T12:03:45\": 2108}  {\"2024-10-27T12:03:45\": 0.78}   \n",
       "3   {\"2024-10-27T12:01:55\": 396}  {\"2024-10-27T12:01:55\": 0.65}   \n",
       "4     {\"2024-10-27T12:02:04\": 0}  {\"2024-10-27T12:02:04\": 0.23}   \n",
       "6   {\"2024-10-27T12:02:14\": 269}   {\"2024-10-27T12:02:14\": 0.7}   \n",
       "\n",
       "                   num_comments  edited  archived  removed  poll  has_delta  \n",
       "0  {\"2024-10-27T12:01:35\": 991}    True      True    False   NaN          1  \n",
       "2  {\"2024-10-27T12:03:45\": 632}   False      True    False   NaN          1  \n",
       "3  {\"2024-10-27T12:01:55\": 834}    True      True    False   NaN          1  \n",
       "4  {\"2024-10-27T12:02:04\": 290}   False     False    False   NaN          1  \n",
       "6  {\"2024-10-27T12:02:14\": 452}   False      True    False   NaN          1  "
      ]
     },
     "execution_count": 49,
     "metadata": {},
     "output_type": "execute_result"
    }
   ],
   "source": [
    "keywords = [\n",
    "    \"climate\", \"environment\", \"environmental\", \"green energy\", \"global warming\", \"greenhouse gases\", \"fossil fuels\", \n",
    "    \"renewable\", \"net zero\", \"environmentally\", \"sustainable\", \"environmentalism\", \"carbon\", \"vegan\",\n",
    "    \"footprint\", \"COP\", \"IPCC\", \"plastics\", \"degradable\", \"biodegradable\",\n",
    "    \"compostable\", \"greenwashing\", \"green jobs\", \"nature-friendly\", \"overconsumption\"\n",
    "]\n",
    "\n",
    "pattern = '|'.join(keywords)\n",
    "submissions_with_deltas = submissions_with_deltas[submissions_with_deltas['text'].str.contains(pattern, case=False, na=False)]\n",
    "print(\"Number of filtered submissions:\", submissions_with_deltas.shape[0])\n",
    "submissions_with_deltas.head()"
   ]
  },
  {
   "cell_type": "code",
   "execution_count": 50,
   "metadata": {},
   "outputs": [
    {
     "name": "stdout",
     "output_type": "stream",
     "text": [
      "Saved file to: ../data/submissions_with_deltas.csv\n"
     ]
    }
   ],
   "source": [
    "output_file = \"../data/submissions_with_deltas.csv\"\n",
    "submissions_with_deltas.to_csv(output_file, index=False)\n",
    "print(\"Saved file to:\", output_file)"
   ]
  },
  {
   "cell_type": "code",
   "execution_count": 51,
   "metadata": {},
   "outputs": [
    {
     "name": "stdout",
     "output_type": "stream",
     "text": [
      "Number of comments associated with submissions where OP awarded delta(s): 48087\n",
      "Saved file to: ../data/comments_from_submissions_with_deltas.csv\n"
     ]
    }
   ],
   "source": [
    "comments_from_submissions_with_deltas = comments[comments['link_id'].isin(submissions_with_deltas['submission_id'])]\n",
    "print(\"Number of comments associated with submissions where OP awarded delta(s):\", comments_from_submissions_with_deltas.shape[0])\n",
    "comments_from_submissions_with_deltas.head()\n",
    "output_file = \"../data/comments_from_submissions_with_deltas.csv\"\n",
    "comments_from_submissions_with_deltas.to_csv(output_file, index=False)\n",
    "print(\"Saved file to:\", output_file)"
   ]
  },
  {
   "cell_type": "code",
   "execution_count": 52,
   "metadata": {},
   "outputs": [
    {
     "name": "stdout",
     "output_type": "stream",
     "text": [
      "Number of comments from submissions with deltas that were awarded delta: 562\n"
     ]
    }
   ],
   "source": [
    "delta_count_in_comments_from_submissions = comments_from_submissions_with_deltas[comments_from_submissions_with_deltas['has_delta'] == 1].shape[0]\n",
    "print(\"Number of comments from submissions with deltas that were awarded delta:\", delta_count_in_comments_from_submissions)"
   ]
  }
 ],
 "metadata": {
  "kernelspec": {
   "display_name": "base",
   "language": "python",
   "name": "python3"
  },
  "language_info": {
   "codemirror_mode": {
    "name": "ipython",
    "version": 3
   },
   "file_extension": ".py",
   "mimetype": "text/x-python",
   "name": "python",
   "nbconvert_exporter": "python",
   "pygments_lexer": "ipython3",
   "version": "3.10.13"
  }
 },
 "nbformat": 4,
 "nbformat_minor": 2
}
